{
 "cells": [
  {
   "cell_type": "code",
   "execution_count": 1,
   "metadata": {
    "collapsed": false
   },
   "outputs": [
    {
     "data": {
      "text/plain": [
       "<mnist> loading only 8000 examples\t\n",
       "<mnist> done\t\n"
      ]
     },
     "execution_count": 1,
     "metadata": {},
     "output_type": "execute_result"
    },
    {
     "data": {
      "text/plain": [
       "--------------------------------\t\n",
       " loaded dataset \"train\"\t\n",
       "inputs\t 8000\n",
       " 1024\n",
       "[torch.LongStorage of size 2]\n",
       "\n",
       "targets\t 8000\n",
       "[torch.LongStorage of size 1]\n",
       "\n",
       "--------------------------------\t\n"
      ]
     },
     "execution_count": 1,
     "metadata": {},
     "output_type": "execute_result"
    },
    {
     "data": {
      "text/plain": [
       "<mnist> done\t\n"
      ]
     },
     "execution_count": 1,
     "metadata": {},
     "output_type": "execute_result"
    },
    {
     "data": {
      "text/plain": [
       "--------------------------------\t\n",
       " loaded dataset \"test\"\t\n",
       "inputs\t 10000\n",
       "  1024\n",
       "[torch.LongStorage of size 2]\n",
       "\n",
       "targets\t 10000\n",
       "[torch.LongStorage of size 1]\n",
       "\n",
       "--------------------------------\t\n"
      ]
     },
     "execution_count": 1,
     "metadata": {},
     "output_type": "execute_result"
    },
    {
     "data": {
      "text/plain": [
       "10\t\n",
       "1\t\n"
      ]
     },
     "execution_count": 1,
     "metadata": {},
     "output_type": "execute_result"
    },
    {
     "data": {
      "text/plain": [
       "minibatches processed:     10, loss = 18637.686830\t\n"
      ]
     },
     "execution_count": 1,
     "metadata": {},
     "output_type": "execute_result"
    },
    {
     "data": {
      "text/plain": [
       "minibatches processed:     20, loss = 1197.890536\t\n"
      ]
     },
     "execution_count": 1,
     "metadata": {},
     "output_type": "execute_result"
    },
    {
     "data": {
      "text/plain": [
       "minibatches processed:     30, loss = 2673.040349\t\n"
      ]
     },
     "execution_count": 1,
     "metadata": {},
     "output_type": "execute_result"
    },
    {
     "data": {
      "text/plain": [
       "minibatches processed:     40, loss = 1580.095193\t\n"
      ]
     },
     "execution_count": 1,
     "metadata": {},
     "output_type": "execute_result"
    },
    {
     "data": {
      "text/plain": [
       "minibatches processed:     50, loss = 1544.178437\t\n"
      ]
     },
     "execution_count": 1,
     "metadata": {},
     "output_type": "execute_result"
    },
    {
     "data": {
      "text/plain": [
       "minibatches processed:     60, loss = 2725.252494\t\n"
      ]
     },
     "execution_count": 1,
     "metadata": {},
     "output_type": "execute_result"
    },
    {
     "data": {
      "text/plain": [
       "minibatches processed:     70, loss = 2562.405501\t\n"
      ]
     },
     "execution_count": 1,
     "metadata": {},
     "output_type": "execute_result"
    },
    {
     "data": {
      "text/plain": [
       "minibatches processed:     80, loss = 2999.016556\t\n"
      ]
     },
     "execution_count": 1,
     "metadata": {},
     "output_type": "execute_result"
    },
    {
     "data": {
      "text/plain": [
       "minibatches processed:     90, loss = 4000.508009\t\n"
      ]
     },
     "execution_count": 1,
     "metadata": {},
     "output_type": "execute_result"
    },
    {
     "data": {
      "text/plain": [
       "minibatches processed:    100, loss = 1640.099601\t\n"
      ]
     },
     "execution_count": 1,
     "metadata": {},
     "output_type": "execute_result"
    },
    {
     "data": {
      "text/plain": [
       "minibatches processed:    110, loss = 3591.793226\t\n"
      ]
     },
     "execution_count": 1,
     "metadata": {},
     "output_type": "execute_result"
    },
    {
     "data": {
      "text/plain": [
       "minibatches processed:    120, loss = 5104.355401\t\n"
      ]
     },
     "execution_count": 1,
     "metadata": {},
     "output_type": "execute_result"
    },
    {
     "data": {
      "text/plain": [
       "minibatches processed:    130, loss = 2025.724121\t\n"
      ]
     },
     "execution_count": 1,
     "metadata": {},
     "output_type": "execute_result"
    },
    {
     "data": {
      "text/plain": [
       "minibatches processed:    140, loss = 4129.725431\t\n"
      ]
     },
     "execution_count": 1,
     "metadata": {},
     "output_type": "execute_result"
    },
    {
     "data": {
      "text/plain": [
       "minibatches processed:    150, loss = 3083.249304\t\n"
      ]
     },
     "execution_count": 1,
     "metadata": {},
     "output_type": "execute_result"
    },
    {
     "data": {
      "text/plain": [
       "minibatches processed:    160, loss = 1778.064072\t\n"
      ]
     },
     "execution_count": 1,
     "metadata": {},
     "output_type": "execute_result"
    },
    {
     "data": {
      "text/plain": [
       "minibatches processed:    170, loss = 3469.608857\t\n"
      ]
     },
     "execution_count": 1,
     "metadata": {},
     "output_type": "execute_result"
    },
    {
     "data": {
      "text/plain": [
       "minibatches processed:    180, loss = 2821.958241\t\n"
      ]
     },
     "execution_count": 1,
     "metadata": {},
     "output_type": "execute_result"
    },
    {
     "data": {
      "text/plain": [
       "minibatches processed:    190, loss = 1301.971760\t\n"
      ]
     },
     "execution_count": 1,
     "metadata": {},
     "output_type": "execute_result"
    },
    {
     "data": {
      "text/plain": [
       "minibatches processed:    200, loss = 1954.507804\t\n"
      ]
     },
     "execution_count": 1,
     "metadata": {},
     "output_type": "execute_result"
    },
    {
     "data": {
      "text/plain": [
       "minibatches processed:    210, loss = 1520.214161\t\n"
      ]
     },
     "execution_count": 1,
     "metadata": {},
     "output_type": "execute_result"
    },
    {
     "data": {
      "text/plain": [
       "minibatches processed:    220, loss = 1619.686990\t\n"
      ]
     },
     "execution_count": 1,
     "metadata": {},
     "output_type": "execute_result"
    },
    {
     "data": {
      "text/plain": [
       "minibatches processed:    230, loss = 1542.321124\t\n"
      ]
     },
     "execution_count": 1,
     "metadata": {},
     "output_type": "execute_result"
    },
    {
     "data": {
      "text/plain": [
       "minibatches processed:    240, loss = 3552.770369\t\n"
      ]
     },
     "execution_count": 1,
     "metadata": {},
     "output_type": "execute_result"
    },
    {
     "data": {
      "text/plain": [
       "minibatches processed:    250, loss = 3273.120457\t\n"
      ]
     },
     "execution_count": 1,
     "metadata": {},
     "output_type": "execute_result"
    },
    {
     "data": {
      "text/plain": [
       "minibatches processed:    260, loss = 947.610213\t\n"
      ]
     },
     "execution_count": 1,
     "metadata": {},
     "output_type": "execute_result"
    },
    {
     "data": {
      "text/plain": [
       "minibatches processed:    270, loss = 1518.981850\t\n"
      ]
     },
     "execution_count": 1,
     "metadata": {},
     "output_type": "execute_result"
    },
    {
     "data": {
      "text/plain": [
       "minibatches processed:    280, loss = 5390.339943\t\n"
      ]
     },
     "execution_count": 1,
     "metadata": {},
     "output_type": "execute_result"
    },
    {
     "data": {
      "text/plain": [
       "minibatches processed:    290, loss = 2007.822824\t\n"
      ]
     },
     "execution_count": 1,
     "metadata": {},
     "output_type": "execute_result"
    },
    {
     "data": {
      "text/plain": [
       "minibatches processed:    300, loss = 2208.006614\t\n"
      ]
     },
     "execution_count": 1,
     "metadata": {},
     "output_type": "execute_result"
    },
    {
     "data": {
      "text/plain": [
       "minibatches processed:    310, loss = 1484.122360\t\n"
      ]
     },
     "execution_count": 1,
     "metadata": {},
     "output_type": "execute_result"
    },
    {
     "data": {
      "text/plain": [
       "minibatches processed:    320, loss = 891.493785\t\n"
      ]
     },
     "execution_count": 1,
     "metadata": {},
     "output_type": "execute_result"
    },
    {
     "data": {
      "text/plain": [
       "torch.LongTensor\t\n",
       " 10000\n",
       "[torch.LongStorage of size 1]\n",
       "\n",
       "0\t\n"
      ]
     },
     "execution_count": 1,
     "metadata": {},
     "output_type": "execute_result"
    },
    {
     "data": {
      "text/plain": [
       "0\t\n",
       "0\t\n"
      ]
     },
     "execution_count": 1,
     "metadata": {},
     "output_type": "execute_result"
    },
    {
     "data": {
      "text/plain": [
       "0\t\n"
      ]
     },
     "execution_count": 1,
     "metadata": {},
     "output_type": "execute_result"
    },
    {
     "data": {
      "text/plain": [
       "0\t\n"
      ]
     },
     "execution_count": 1,
     "metadata": {},
     "output_type": "execute_result"
    },
    {
     "data": {
      "text/plain": [
       "0\t"
      ]
     },
     "execution_count": 1,
     "metadata": {},
     "output_type": "execute_result"
    },
    {
     "data": {
      "text/plain": [
       "\n"
      ]
     },
     "execution_count": 1,
     "metadata": {},
     "output_type": "execute_result"
    },
    {
     "data": {
      "text/plain": [
       "0\t\n",
       "0\t\n",
       "0\t\n"
      ]
     },
     "execution_count": 1,
     "metadata": {},
     "output_type": "execute_result"
    },
    {
     "data": {
      "text/plain": [
       "0\t\n"
      ]
     },
     "execution_count": 1,
     "metadata": {},
     "output_type": "execute_result"
    },
    {
     "data": {
      "text/plain": [
       "0\t\n"
      ]
     },
     "execution_count": 1,
     "metadata": {},
     "output_type": "execute_result"
    },
    {
     "data": {
      "text/plain": [
       "0\t\n",
       "0\t\n",
       "0\t\n",
       "0\t\n",
       "0\t\n",
       "0\t\n",
       "0\t\n"
      ]
     },
     "execution_count": 1,
     "metadata": {},
     "output_type": "execute_result"
    },
    {
     "data": {
      "text/plain": [
       "0\t\n",
       "0\t\n",
       "0\t\n"
      ]
     },
     "execution_count": 1,
     "metadata": {},
     "output_type": "execute_result"
    },
    {
     "data": {
      "text/plain": [
       "0\t\n"
      ]
     },
     "execution_count": 1,
     "metadata": {},
     "output_type": "execute_result"
    },
    {
     "data": {
      "text/plain": [
       "0\t\n",
       "0\t\n",
       "0\t\n",
       "0\t\n"
      ]
     },
     "execution_count": 1,
     "metadata": {},
     "output_type": "execute_result"
    },
    {
     "data": {
      "text/plain": [
       "0\t\n"
      ]
     },
     "execution_count": 1,
     "metadata": {},
     "output_type": "execute_result"
    },
    {
     "data": {
      "text/plain": [
       "0\t\n",
       "0\t\n"
      ]
     },
     "execution_count": 1,
     "metadata": {},
     "output_type": "execute_result"
    },
    {
     "data": {
      "text/plain": [
       "0\t\n",
       "0\t\n",
       "0\t\n",
       "\n"
      ]
     },
     "execution_count": 1,
     "metadata": {},
     "output_type": "execute_result"
    }
   ],
   "source": [
    "dofile('digitClassifier.lua')"
   ]
  },
  {
   "cell_type": "code",
   "execution_count": 2,
   "metadata": {
    "collapsed": false
   },
   "outputs": [
    {
     "data": {
      "text/plain": [
       "<mnist> loading only 8000 examples\t\n",
       "<mnist> done\t\n"
      ]
     },
     "execution_count": 2,
     "metadata": {},
     "output_type": "execute_result"
    },
    {
     "data": {
      "text/plain": [
       "--------------------------------\t\n",
       " loaded dataset \"train\"\t\n",
       "inputs\t 8000\n",
       " 1024\n",
       "[torch.LongStorage of size 2]\n",
       "\n",
       "targets\t 8000\n",
       "[torch.LongStorage of size 1]\n",
       "\n",
       "--------------------------------\t\n"
      ]
     },
     "execution_count": 2,
     "metadata": {},
     "output_type": "execute_result"
    },
    {
     "data": {
      "text/plain": [
       "<mnist> done\t\n"
      ]
     },
     "execution_count": 2,
     "metadata": {},
     "output_type": "execute_result"
    },
    {
     "data": {
      "text/plain": [
       "--------------------------------\t\n",
       " loaded dataset \"test\"\t\n",
       "inputs\t 10000\n",
       "  1024\n",
       "[torch.LongStorage of size 2]\n",
       "\n",
       "targets\t 10000\n",
       "[torch.LongStorage of size 1]\n",
       "\n",
       "--------------------------------\t\n",
       "10\t\n",
       "1\t\n"
      ]
     },
     "execution_count": 2,
     "metadata": {},
     "output_type": "execute_result"
    },
    {
     "data": {
      "text/plain": [
       "minibatches processed:     10, loss = 18637.686830\t\n"
      ]
     },
     "execution_count": 2,
     "metadata": {},
     "output_type": "execute_result"
    },
    {
     "data": {
      "text/plain": [
       "minibatches processed:     20, loss = 1197.890536\t\n"
      ]
     },
     "execution_count": 2,
     "metadata": {},
     "output_type": "execute_result"
    },
    {
     "data": {
      "text/plain": [
       "minibatches processed:     30, loss = 2673.040349\t\n"
      ]
     },
     "execution_count": 2,
     "metadata": {},
     "output_type": "execute_result"
    },
    {
     "data": {
      "text/plain": [
       "minibatches processed:     40, loss = 1580.095193\t\n"
      ]
     },
     "execution_count": 2,
     "metadata": {},
     "output_type": "execute_result"
    },
    {
     "data": {
      "text/plain": [
       "minibatches processed:     50, loss = 1544.178437\t\n"
      ]
     },
     "execution_count": 2,
     "metadata": {},
     "output_type": "execute_result"
    },
    {
     "data": {
      "text/plain": [
       "minibatches processed:     60, loss = 2725.252494\t\n"
      ]
     },
     "execution_count": 2,
     "metadata": {},
     "output_type": "execute_result"
    },
    {
     "data": {
      "text/plain": [
       "minibatches processed:     70, loss = 2562.405501\t\n"
      ]
     },
     "execution_count": 2,
     "metadata": {},
     "output_type": "execute_result"
    },
    {
     "data": {
      "text/plain": [
       "minibatches processed:     80, loss = 2999.016556\t\n"
      ]
     },
     "execution_count": 2,
     "metadata": {},
     "output_type": "execute_result"
    },
    {
     "data": {
      "text/plain": [
       "minibatches processed:     90, loss = 4000.508009\t\n"
      ]
     },
     "execution_count": 2,
     "metadata": {},
     "output_type": "execute_result"
    },
    {
     "data": {
      "text/plain": [
       "minibatches processed:    100, loss = 1640.099601\t\n"
      ]
     },
     "execution_count": 2,
     "metadata": {},
     "output_type": "execute_result"
    },
    {
     "data": {
      "text/plain": [
       "minibatches processed:    110, loss = 3591.793226\t\n"
      ]
     },
     "execution_count": 2,
     "metadata": {},
     "output_type": "execute_result"
    },
    {
     "data": {
      "text/plain": [
       "minibatches processed:    120, loss = 5104.355401\t\n"
      ]
     },
     "execution_count": 2,
     "metadata": {},
     "output_type": "execute_result"
    },
    {
     "data": {
      "text/plain": [
       "minibatches processed:    130, loss = 2025.724121\t\n"
      ]
     },
     "execution_count": 2,
     "metadata": {},
     "output_type": "execute_result"
    },
    {
     "data": {
      "text/plain": [
       "minibatches processed:    140, loss = 4129.725431\t\n"
      ]
     },
     "execution_count": 2,
     "metadata": {},
     "output_type": "execute_result"
    },
    {
     "data": {
      "text/plain": [
       "minibatches processed:    150, loss = 3083.249304\t\n"
      ]
     },
     "execution_count": 2,
     "metadata": {},
     "output_type": "execute_result"
    },
    {
     "data": {
      "text/plain": [
       "minibatches processed:    160, loss = 1778.064072\t\n"
      ]
     },
     "execution_count": 2,
     "metadata": {},
     "output_type": "execute_result"
    },
    {
     "data": {
      "text/plain": [
       "minibatches processed:    170, loss = 3469.608857\t\n"
      ]
     },
     "execution_count": 2,
     "metadata": {},
     "output_type": "execute_result"
    },
    {
     "data": {
      "text/plain": [
       "minibatches processed:    180, loss = 2821.958241\t\n"
      ]
     },
     "execution_count": 2,
     "metadata": {},
     "output_type": "execute_result"
    },
    {
     "data": {
      "text/plain": [
       "minibatches processed:    190, loss = 1301.971760\t\n"
      ]
     },
     "execution_count": 2,
     "metadata": {},
     "output_type": "execute_result"
    },
    {
     "data": {
      "text/plain": [
       "minibatches processed:    200, loss = 1954.507804\t\n"
      ]
     },
     "execution_count": 2,
     "metadata": {},
     "output_type": "execute_result"
    },
    {
     "data": {
      "text/plain": [
       "minibatches processed:    210, loss = 1520.214161\t\n"
      ]
     },
     "execution_count": 2,
     "metadata": {},
     "output_type": "execute_result"
    },
    {
     "data": {
      "text/plain": [
       "minibatches processed:    220, loss = 1619.686990\t\n"
      ]
     },
     "execution_count": 2,
     "metadata": {},
     "output_type": "execute_result"
    },
    {
     "data": {
      "text/plain": [
       "minibatches processed:    230, loss = 1542.321124\t\n"
      ]
     },
     "execution_count": 2,
     "metadata": {},
     "output_type": "execute_result"
    },
    {
     "data": {
      "text/plain": [
       "minibatches processed:    240, loss = 3552.770369\t\n"
      ]
     },
     "execution_count": 2,
     "metadata": {},
     "output_type": "execute_result"
    },
    {
     "data": {
      "text/plain": [
       "minibatches processed:    250, loss = 3273.120457\t\n"
      ]
     },
     "execution_count": 2,
     "metadata": {},
     "output_type": "execute_result"
    },
    {
     "data": {
      "text/plain": [
       "minibatches processed:    260, loss = 947.610213\t\n"
      ]
     },
     "execution_count": 2,
     "metadata": {},
     "output_type": "execute_result"
    },
    {
     "data": {
      "text/plain": [
       "minibatches processed:    270, loss = 1518.981850\t\n"
      ]
     },
     "execution_count": 2,
     "metadata": {},
     "output_type": "execute_result"
    },
    {
     "data": {
      "text/plain": [
       "minibatches processed:    280, loss = 5390.339943\t\n"
      ]
     },
     "execution_count": 2,
     "metadata": {},
     "output_type": "execute_result"
    },
    {
     "data": {
      "text/plain": [
       "minibatches processed:    290, loss = 2007.822824\t\n"
      ]
     },
     "execution_count": 2,
     "metadata": {},
     "output_type": "execute_result"
    },
    {
     "data": {
      "text/plain": [
       "minibatches processed:    300, loss = 2208.006614\t\n"
      ]
     },
     "execution_count": 2,
     "metadata": {},
     "output_type": "execute_result"
    },
    {
     "data": {
      "text/plain": [
       "minibatches processed:    310, loss = 1484.122360\t\n"
      ]
     },
     "execution_count": 2,
     "metadata": {},
     "output_type": "execute_result"
    },
    {
     "data": {
      "text/plain": [
       "minibatches processed:    320, loss = 891.493785\t\n"
      ]
     },
     "execution_count": 2,
     "metadata": {},
     "output_type": "execute_result"
    },
    {
     "data": {
      "text/plain": [
       "32\t\n"
      ]
     },
     "execution_count": 2,
     "metadata": {},
     "output_type": "execute_result"
    },
    {
     "data": {
      "text/plain": [
       "0\t\n",
       "0\t\n",
       "0\t\n",
       "0\t\n"
      ]
     },
     "execution_count": 2,
     "metadata": {},
     "output_type": "execute_result"
    },
    {
     "data": {
      "text/plain": [
       "0\t\n",
       "0\t\n",
       "0\t\n"
      ]
     },
     "execution_count": 2,
     "metadata": {},
     "output_type": "execute_result"
    },
    {
     "data": {
      "text/plain": [
       "0\t\n",
       "0\t\n",
       "0\t\n"
      ]
     },
     "execution_count": 2,
     "metadata": {},
     "output_type": "execute_result"
    },
    {
     "data": {
      "text/plain": [
       "0\t\n",
       "0\t\n",
       "0\t\n"
      ]
     },
     "execution_count": 2,
     "metadata": {},
     "output_type": "execute_result"
    },
    {
     "data": {
      "text/plain": [
       "0\t\n",
       "0\t\n"
      ]
     },
     "execution_count": 2,
     "metadata": {},
     "output_type": "execute_result"
    },
    {
     "data": {
      "text/plain": [
       "0\t\n"
      ]
     },
     "execution_count": 2,
     "metadata": {},
     "output_type": "execute_result"
    },
    {
     "data": {
      "text/plain": [
       "0\t\n",
       "0\t\n"
      ]
     },
     "execution_count": 2,
     "metadata": {},
     "output_type": "execute_result"
    },
    {
     "data": {
      "text/plain": [
       "0\t\n",
       "0\t\n"
      ]
     },
     "execution_count": 2,
     "metadata": {},
     "output_type": "execute_result"
    },
    {
     "data": {
      "text/plain": [
       "0\t\n",
       "0\t\n"
      ]
     },
     "execution_count": 2,
     "metadata": {},
     "output_type": "execute_result"
    },
    {
     "data": {
      "text/plain": [
       "0\t\n",
       "0\t\n",
       "0\t\n"
      ]
     },
     "execution_count": 2,
     "metadata": {},
     "output_type": "execute_result"
    },
    {
     "data": {
      "text/plain": [
       "0\t\n",
       "0\t\n",
       "0\t\n"
      ]
     },
     "execution_count": 2,
     "metadata": {},
     "output_type": "execute_result"
    },
    {
     "data": {
      "text/plain": [
       "0\t\n",
       "0\t\n",
       "0\t\n"
      ]
     },
     "execution_count": 2,
     "metadata": {},
     "output_type": "execute_result"
    },
    {
     "data": {
      "text/plain": [
       "0\t\n",
       "\n"
      ]
     },
     "execution_count": 2,
     "metadata": {},
     "output_type": "execute_result"
    }
   ],
   "source": [
    "dofile('digitClassifier.lua')"
   ]
  },
  {
   "cell_type": "code",
   "execution_count": 3,
   "metadata": {
    "collapsed": false
   },
   "outputs": [
    {
     "data": {
      "text/plain": [
       "<mnist> loading only 8000 examples\t\n",
       "<mnist> done\t\n"
      ]
     },
     "execution_count": 3,
     "metadata": {},
     "output_type": "execute_result"
    },
    {
     "data": {
      "text/plain": [
       "--------------------------------\t\n",
       " loaded dataset \"train\"\t\n",
       "inputs\t 8000\n",
       " 1024\n",
       "[torch.LongStorage of size 2]\n",
       "\n",
       "targets\t 8000\n",
       "[torch.LongStorage of size 1]\n",
       "\n",
       "--------------------------------\t\n"
      ]
     },
     "execution_count": 3,
     "metadata": {},
     "output_type": "execute_result"
    },
    {
     "data": {
      "text/plain": [
       "<mnist> done\t\n"
      ]
     },
     "execution_count": 3,
     "metadata": {},
     "output_type": "execute_result"
    },
    {
     "data": {
      "text/plain": [
       "--------------------------------\t\n",
       " loaded dataset \"test\"\t\n",
       "inputs\t 10000\n",
       "  1024\n",
       "[torch.LongStorage of size 2]\n",
       "\n",
       "targets\t 10000\n",
       "[torch.LongStorage of size 1]\n",
       "\n",
       "--------------------------------\t\n",
       "10\t\n",
       "1\t\n"
      ]
     },
     "execution_count": 3,
     "metadata": {},
     "output_type": "execute_result"
    },
    {
     "data": {
      "text/plain": [
       "minibatches processed:     10, loss = 18637.686830\t\n"
      ]
     },
     "execution_count": 3,
     "metadata": {},
     "output_type": "execute_result"
    },
    {
     "data": {
      "text/plain": [
       "minibatches processed:     20, loss = 1197.890536\t\n"
      ]
     },
     "execution_count": 3,
     "metadata": {},
     "output_type": "execute_result"
    },
    {
     "data": {
      "text/plain": [
       "minibatches processed:     30, loss = 2673.040349\t\n"
      ]
     },
     "execution_count": 3,
     "metadata": {},
     "output_type": "execute_result"
    },
    {
     "data": {
      "text/plain": [
       "minibatches processed:     40, loss = 1580.095193\t\n"
      ]
     },
     "execution_count": 3,
     "metadata": {},
     "output_type": "execute_result"
    },
    {
     "data": {
      "text/plain": [
       "minibatches processed:     50, loss = 1544.178437\t\n"
      ]
     },
     "execution_count": 3,
     "metadata": {},
     "output_type": "execute_result"
    },
    {
     "data": {
      "text/plain": [
       "minibatches processed:     60, loss = 2725.252494\t\n"
      ]
     },
     "execution_count": 3,
     "metadata": {},
     "output_type": "execute_result"
    },
    {
     "data": {
      "text/plain": [
       "minibatches processed:     70, loss = 2562.405501\t\n"
      ]
     },
     "execution_count": 3,
     "metadata": {},
     "output_type": "execute_result"
    },
    {
     "data": {
      "text/plain": [
       "minibatches processed:     80, loss = 2999.016556\t\n"
      ]
     },
     "execution_count": 3,
     "metadata": {},
     "output_type": "execute_result"
    },
    {
     "data": {
      "text/plain": [
       "minibatches processed:     90, loss = 4000.508009\t\n"
      ]
     },
     "execution_count": 3,
     "metadata": {},
     "output_type": "execute_result"
    },
    {
     "data": {
      "text/plain": [
       "minibatches processed:    100, loss = 1640.099601\t\n"
      ]
     },
     "execution_count": 3,
     "metadata": {},
     "output_type": "execute_result"
    },
    {
     "data": {
      "text/plain": [
       "minibatches processed:    110, loss = 3591.793226\t\n"
      ]
     },
     "execution_count": 3,
     "metadata": {},
     "output_type": "execute_result"
    },
    {
     "data": {
      "text/plain": [
       "minibatches processed:    120, loss = 5104.355401\t\n"
      ]
     },
     "execution_count": 3,
     "metadata": {},
     "output_type": "execute_result"
    },
    {
     "data": {
      "text/plain": [
       "minibatches processed:    130, loss = 2025.724121\t\n"
      ]
     },
     "execution_count": 3,
     "metadata": {},
     "output_type": "execute_result"
    },
    {
     "data": {
      "text/plain": [
       "minibatches processed:    140, loss = 4129.725431\t\n"
      ]
     },
     "execution_count": 3,
     "metadata": {},
     "output_type": "execute_result"
    },
    {
     "data": {
      "text/plain": [
       "minibatches processed:    150, loss = 3083.249304\t\n"
      ]
     },
     "execution_count": 3,
     "metadata": {},
     "output_type": "execute_result"
    },
    {
     "data": {
      "text/plain": [
       "minibatches processed:    160, loss = 1778.064072\t\n"
      ]
     },
     "execution_count": 3,
     "metadata": {},
     "output_type": "execute_result"
    },
    {
     "data": {
      "text/plain": [
       "minibatches processed:    170, loss = 3469.608857\t\n"
      ]
     },
     "execution_count": 3,
     "metadata": {},
     "output_type": "execute_result"
    },
    {
     "data": {
      "text/plain": [
       "minibatches processed:    180, loss = 2821.958241\t\n"
      ]
     },
     "execution_count": 3,
     "metadata": {},
     "output_type": "execute_result"
    },
    {
     "data": {
      "text/plain": [
       "minibatches processed:    190, loss = 1301.971760\t\n"
      ]
     },
     "execution_count": 3,
     "metadata": {},
     "output_type": "execute_result"
    },
    {
     "data": {
      "text/plain": [
       "minibatches processed:    200, loss = 1954.507804\t\n"
      ]
     },
     "execution_count": 3,
     "metadata": {},
     "output_type": "execute_result"
    },
    {
     "data": {
      "text/plain": [
       "minibatches processed:    210, loss = 1520.214161\t\n"
      ]
     },
     "execution_count": 3,
     "metadata": {},
     "output_type": "execute_result"
    },
    {
     "data": {
      "text/plain": [
       "minibatches processed:    220, loss = 1619.686990\t\n"
      ]
     },
     "execution_count": 3,
     "metadata": {},
     "output_type": "execute_result"
    },
    {
     "data": {
      "text/plain": [
       "minibatches processed:    230, loss = 1542.321124\t\n"
      ]
     },
     "execution_count": 3,
     "metadata": {},
     "output_type": "execute_result"
    },
    {
     "data": {
      "text/plain": [
       "minibatches processed:    240, loss = 3552.770369\t\n"
      ]
     },
     "execution_count": 3,
     "metadata": {},
     "output_type": "execute_result"
    },
    {
     "data": {
      "text/plain": [
       "minibatches processed:    250, loss = 3273.120457\t\n"
      ]
     },
     "execution_count": 3,
     "metadata": {},
     "output_type": "execute_result"
    },
    {
     "data": {
      "text/plain": [
       "minibatches processed:    260, loss = 947.610213\t\n"
      ]
     },
     "execution_count": 3,
     "metadata": {},
     "output_type": "execute_result"
    },
    {
     "data": {
      "text/plain": [
       "minibatches processed:    270, loss = 1518.981850\t\n"
      ]
     },
     "execution_count": 3,
     "metadata": {},
     "output_type": "execute_result"
    },
    {
     "data": {
      "text/plain": [
       "minibatches processed:    280, loss = 5390.339943\t\n"
      ]
     },
     "execution_count": 3,
     "metadata": {},
     "output_type": "execute_result"
    },
    {
     "data": {
      "text/plain": [
       "minibatches processed:    290, loss = 2007.822824\t\n"
      ]
     },
     "execution_count": 3,
     "metadata": {},
     "output_type": "execute_result"
    },
    {
     "data": {
      "text/plain": [
       "minibatches processed:    300, loss = 2208.006614\t\n"
      ]
     },
     "execution_count": 3,
     "metadata": {},
     "output_type": "execute_result"
    },
    {
     "data": {
      "text/plain": [
       "minibatches processed:    310, loss = 1484.122360\t\n"
      ]
     },
     "execution_count": 3,
     "metadata": {},
     "output_type": "execute_result"
    },
    {
     "data": {
      "text/plain": [
       "minibatches processed:    320, loss = 891.493785\t\n"
      ]
     },
     "execution_count": 3,
     "metadata": {},
     "output_type": "execute_result"
    },
    {
     "data": {
      "text/plain": [
       "32\t\n"
      ]
     },
     "execution_count": 3,
     "metadata": {},
     "output_type": "execute_result"
    },
    {
     "data": {
      "text/plain": [
       "0\t\n",
       "0\t\n",
       "0\t\n",
       "0\t\n",
       "0\t\n",
       "0\t\n",
       "0\t\n",
       "0\t\n",
       "0\t\n",
       "0\t\n",
       "0\t\n",
       "0\t\n",
       "0\t\n",
       "0\t\n",
       "0\t\n",
       "0\t\n",
       "0\t\n",
       "0\t\n",
       "0\t\n",
       "0\t\n"
      ]
     },
     "execution_count": 3,
     "metadata": {},
     "output_type": "execute_result"
    },
    {
     "data": {
      "text/plain": [
       "0\t\n",
       "0\t\n",
       "0\t\n",
       "0\t\n",
       "0\t\n"
      ]
     },
     "execution_count": 3,
     "metadata": {},
     "output_type": "execute_result"
    },
    {
     "data": {
      "text/plain": [
       "0\t\n",
       "0\t\n",
       "0\t\n",
       "0\t\n",
       "0\t\n",
       "0\t\n",
       "0\t\n",
       "\n"
      ]
     },
     "execution_count": 3,
     "metadata": {},
     "output_type": "execute_result"
    }
   ],
   "source": [
    "dofile('digitClassifier.lua')"
   ]
  },
  {
   "cell_type": "code",
   "execution_count": 4,
   "metadata": {
    "collapsed": false
   },
   "outputs": [
    {
     "data": {
      "text/plain": [
       "<mnist> loading only 8000 examples\t\n"
      ]
     },
     "execution_count": 4,
     "metadata": {},
     "output_type": "execute_result"
    },
    {
     "data": {
      "text/plain": [
       "<mnist> done\t\n"
      ]
     },
     "execution_count": 4,
     "metadata": {},
     "output_type": "execute_result"
    },
    {
     "data": {
      "text/plain": [
       "--------------------------------\t\n",
       " loaded dataset \"train\"\t\n",
       "inputs\t 8000\n",
       " 1024\n",
       "[torch.LongStorage of size 2]\n",
       "\n",
       "targets\t 8000\n",
       "[torch.LongStorage of size 1]\n",
       "\n",
       "--------------------------------\t\n"
      ]
     },
     "execution_count": 4,
     "metadata": {},
     "output_type": "execute_result"
    },
    {
     "data": {
      "text/plain": [
       "<mnist> done\t\n"
      ]
     },
     "execution_count": 4,
     "metadata": {},
     "output_type": "execute_result"
    },
    {
     "data": {
      "text/plain": [
       "--------------------------------\t\n",
       " loaded dataset \"test\"\t\n",
       "inputs\t 10000\n",
       "  1024\n",
       "[torch.LongStorage of size 2]\n",
       "\n",
       "targets\t 10000\n",
       "[torch.LongStorage of size 1]\n",
       "\n",
       "--------------------------------\t\n",
       "10\t\n",
       "1\t\n"
      ]
     },
     "execution_count": 4,
     "metadata": {},
     "output_type": "execute_result"
    },
    {
     "data": {
      "text/plain": [
       "minibatches processed:     10, loss = 18637.686830\t\n"
      ]
     },
     "execution_count": 4,
     "metadata": {},
     "output_type": "execute_result"
    },
    {
     "data": {
      "text/plain": [
       "minibatches processed:     20, loss = 1197.890536\t\n"
      ]
     },
     "execution_count": 4,
     "metadata": {},
     "output_type": "execute_result"
    },
    {
     "data": {
      "text/plain": [
       "minibatches processed:     30, loss = 2673.040349\t\n"
      ]
     },
     "execution_count": 4,
     "metadata": {},
     "output_type": "execute_result"
    },
    {
     "data": {
      "text/plain": [
       "minibatches processed:     40, loss = 1580.095193\t\n"
      ]
     },
     "execution_count": 4,
     "metadata": {},
     "output_type": "execute_result"
    },
    {
     "data": {
      "text/plain": [
       "minibatches processed:     50, loss = 1544.178437\t\n"
      ]
     },
     "execution_count": 4,
     "metadata": {},
     "output_type": "execute_result"
    },
    {
     "data": {
      "text/plain": [
       "minibatches processed:     60, loss = 2725.252494\t\n"
      ]
     },
     "execution_count": 4,
     "metadata": {},
     "output_type": "execute_result"
    },
    {
     "data": {
      "text/plain": [
       "minibatches processed:     70, loss = 2562.405501\t\n"
      ]
     },
     "execution_count": 4,
     "metadata": {},
     "output_type": "execute_result"
    },
    {
     "data": {
      "text/plain": [
       "minibatches processed:     80, loss = 2999.016556\t\n"
      ]
     },
     "execution_count": 4,
     "metadata": {},
     "output_type": "execute_result"
    },
    {
     "data": {
      "text/plain": [
       "minibatches processed:     90, loss = 4000.508009\t\n"
      ]
     },
     "execution_count": 4,
     "metadata": {},
     "output_type": "execute_result"
    },
    {
     "data": {
      "text/plain": [
       "minibatches processed:    100, loss = 1640.099601\t\n"
      ]
     },
     "execution_count": 4,
     "metadata": {},
     "output_type": "execute_result"
    },
    {
     "data": {
      "text/plain": [
       "minibatches processed:    110, loss = 3591.793226\t\n"
      ]
     },
     "execution_count": 4,
     "metadata": {},
     "output_type": "execute_result"
    },
    {
     "data": {
      "text/plain": [
       "minibatches processed:    120, loss = 5104.355401\t\n"
      ]
     },
     "execution_count": 4,
     "metadata": {},
     "output_type": "execute_result"
    },
    {
     "data": {
      "text/plain": [
       "minibatches processed:    130, loss = 2025.724121\t\n"
      ]
     },
     "execution_count": 4,
     "metadata": {},
     "output_type": "execute_result"
    },
    {
     "data": {
      "text/plain": [
       "minibatches processed:    140, loss = 4129.725431\t\n"
      ]
     },
     "execution_count": 4,
     "metadata": {},
     "output_type": "execute_result"
    },
    {
     "data": {
      "text/plain": [
       "minibatches processed:    150, loss = 3083.249304\t\n"
      ]
     },
     "execution_count": 4,
     "metadata": {},
     "output_type": "execute_result"
    },
    {
     "data": {
      "text/plain": [
       "minibatches processed:    160, loss = 1778.064072\t\n"
      ]
     },
     "execution_count": 4,
     "metadata": {},
     "output_type": "execute_result"
    },
    {
     "data": {
      "text/plain": [
       "minibatches processed:    170, loss = 3469.608857\t\n"
      ]
     },
     "execution_count": 4,
     "metadata": {},
     "output_type": "execute_result"
    },
    {
     "data": {
      "text/plain": [
       "minibatches processed:    180, loss = 2821.958241\t\n"
      ]
     },
     "execution_count": 4,
     "metadata": {},
     "output_type": "execute_result"
    },
    {
     "data": {
      "text/plain": [
       "minibatches processed:    190, loss = 1301.971760\t\n"
      ]
     },
     "execution_count": 4,
     "metadata": {},
     "output_type": "execute_result"
    },
    {
     "data": {
      "text/plain": [
       "minibatches processed:    200, loss = 1954.507804\t\n"
      ]
     },
     "execution_count": 4,
     "metadata": {},
     "output_type": "execute_result"
    },
    {
     "data": {
      "text/plain": [
       "minibatches processed:    210, loss = 1520.214161\t\n"
      ]
     },
     "execution_count": 4,
     "metadata": {},
     "output_type": "execute_result"
    },
    {
     "data": {
      "text/plain": [
       "minibatches processed:    220, loss = 1619.686990\t\n"
      ]
     },
     "execution_count": 4,
     "metadata": {},
     "output_type": "execute_result"
    },
    {
     "data": {
      "text/plain": [
       "minibatches processed:    230, loss = 1542.321124\t\n"
      ]
     },
     "execution_count": 4,
     "metadata": {},
     "output_type": "execute_result"
    },
    {
     "data": {
      "text/plain": [
       "minibatches processed:    240, loss = 3552.770369\t\n"
      ]
     },
     "execution_count": 4,
     "metadata": {},
     "output_type": "execute_result"
    },
    {
     "data": {
      "text/plain": [
       "minibatches processed:    250, loss = 3273.120457\t\n"
      ]
     },
     "execution_count": 4,
     "metadata": {},
     "output_type": "execute_result"
    },
    {
     "data": {
      "text/plain": [
       "minibatches processed:    260, loss = 947.610213\t\n"
      ]
     },
     "execution_count": 4,
     "metadata": {},
     "output_type": "execute_result"
    },
    {
     "data": {
      "text/plain": [
       "minibatches processed:    270, loss = 1518.981850\t\n"
      ]
     },
     "execution_count": 4,
     "metadata": {},
     "output_type": "execute_result"
    },
    {
     "data": {
      "text/plain": [
       "minibatches processed:    280, loss = 5390.339943\t\n"
      ]
     },
     "execution_count": 4,
     "metadata": {},
     "output_type": "execute_result"
    },
    {
     "data": {
      "text/plain": [
       "minibatches processed:    290, loss = 2007.822824\t\n"
      ]
     },
     "execution_count": 4,
     "metadata": {},
     "output_type": "execute_result"
    },
    {
     "data": {
      "text/plain": [
       "minibatches processed:    300, loss = 2208.006614\t\n"
      ]
     },
     "execution_count": 4,
     "metadata": {},
     "output_type": "execute_result"
    },
    {
     "data": {
      "text/plain": [
       "minibatches processed:    310, loss = 1484.122360\t\n"
      ]
     },
     "execution_count": 4,
     "metadata": {},
     "output_type": "execute_result"
    },
    {
     "data": {
      "text/plain": [
       "minibatches processed:    320, loss = 891.493785\t\n"
      ]
     },
     "execution_count": 4,
     "metadata": {},
     "output_type": "execute_result"
    },
    {
     "data": {
      "text/plain": [
       "32\t\n",
       "gasp\t\n"
      ]
     },
     "execution_count": 4,
     "metadata": {},
     "output_type": "execute_result"
    },
    {
     "data": {
      "text/plain": [
       "0\t\n",
       "0\t\n",
       "0\t\n",
       "0\t\n",
       "0\t\n",
       "0\t\n",
       "0\t\n"
      ]
     },
     "execution_count": 4,
     "metadata": {},
     "output_type": "execute_result"
    },
    {
     "data": {
      "text/plain": [
       "0\t\n",
       "0\t\n",
       "0\t\n",
       "0\t\n",
       "0\t\n"
      ]
     },
     "execution_count": 4,
     "metadata": {},
     "output_type": "execute_result"
    },
    {
     "data": {
      "text/plain": [
       "0\t\n",
       "0\t\n",
       "0\t\n",
       "0\t\n"
      ]
     },
     "execution_count": 4,
     "metadata": {},
     "output_type": "execute_result"
    },
    {
     "data": {
      "text/plain": [
       "0\t\n",
       "0\t\n"
      ]
     },
     "execution_count": 4,
     "metadata": {},
     "output_type": "execute_result"
    },
    {
     "data": {
      "text/plain": [
       "0\t\n",
       "0\t\n"
      ]
     },
     "execution_count": 4,
     "metadata": {},
     "output_type": "execute_result"
    },
    {
     "data": {
      "text/plain": [
       "0\t\n",
       "0\t\n",
       "0\t\n",
       "0\t\n"
      ]
     },
     "execution_count": 4,
     "metadata": {},
     "output_type": "execute_result"
    },
    {
     "data": {
      "text/plain": [
       "0\t\n",
       "0\t\n",
       "0\t\n",
       "0\t\n",
       "0\t\n",
       "0\t\n",
       "0\t\n"
      ]
     },
     "execution_count": 4,
     "metadata": {},
     "output_type": "execute_result"
    },
    {
     "data": {
      "text/plain": [
       "0\t\n",
       "\n"
      ]
     },
     "execution_count": 4,
     "metadata": {},
     "output_type": "execute_result"
    }
   ],
   "source": [
    "dofile('digitClassifier.lua')"
   ]
  },
  {
   "cell_type": "code",
   "execution_count": 5,
   "metadata": {
    "collapsed": false
   },
   "outputs": [
    {
     "data": {
      "text/plain": [
       "<mnist> loading only 8000 examples\t\n",
       "<mnist> done\t\n"
      ]
     },
     "execution_count": 5,
     "metadata": {},
     "output_type": "execute_result"
    },
    {
     "data": {
      "text/plain": [
       "--------------------------------\t\n",
       " loaded dataset \"train\"\t\n",
       "inputs\t 8000\n",
       " 1024\n",
       "[torch.LongStorage of size 2]\n",
       "\n",
       "targets\t 8000\n",
       "[torch.LongStorage of size 1]\n",
       "\n",
       "--------------------------------\t\n"
      ]
     },
     "execution_count": 5,
     "metadata": {},
     "output_type": "execute_result"
    },
    {
     "data": {
      "text/plain": [
       "<mnist> done\t\n"
      ]
     },
     "execution_count": 5,
     "metadata": {},
     "output_type": "execute_result"
    },
    {
     "data": {
      "text/plain": [
       "--------------------------------\t\n",
       " loaded dataset \"test\"\t\n",
       "inputs\t 10000\n",
       "  1024\n",
       "[torch.LongStorage of size 2]\n",
       "\n",
       "targets\t 10000\n",
       "[torch.LongStorage of size 1]\n",
       "\n",
       "--------------------------------\t\n",
       "10\t\n",
       "1\t\n"
      ]
     },
     "execution_count": 5,
     "metadata": {},
     "output_type": "execute_result"
    },
    {
     "data": {
      "text/plain": [
       "minibatches processed:     10, loss = 18637.686830\t\n"
      ]
     },
     "execution_count": 5,
     "metadata": {},
     "output_type": "execute_result"
    },
    {
     "data": {
      "text/plain": [
       "minibatches processed:     20, loss = 1197.890536\t\n"
      ]
     },
     "execution_count": 5,
     "metadata": {},
     "output_type": "execute_result"
    },
    {
     "data": {
      "text/plain": [
       "minibatches processed:     30, loss = 2673.040349\t\n"
      ]
     },
     "execution_count": 5,
     "metadata": {},
     "output_type": "execute_result"
    },
    {
     "data": {
      "text/plain": [
       "minibatches processed:     40, loss = 1580.095193\t\n"
      ]
     },
     "execution_count": 5,
     "metadata": {},
     "output_type": "execute_result"
    },
    {
     "data": {
      "text/plain": [
       "minibatches processed:     50, loss = 1544.178437\t\n"
      ]
     },
     "execution_count": 5,
     "metadata": {},
     "output_type": "execute_result"
    },
    {
     "data": {
      "text/plain": [
       "minibatches processed:     60, loss = 2725.252494\t\n"
      ]
     },
     "execution_count": 5,
     "metadata": {},
     "output_type": "execute_result"
    },
    {
     "data": {
      "text/plain": [
       "minibatches processed:     70, loss = 2562.405501\t\n"
      ]
     },
     "execution_count": 5,
     "metadata": {},
     "output_type": "execute_result"
    },
    {
     "data": {
      "text/plain": [
       "minibatches processed:     80, loss = 2999.016556\t\n"
      ]
     },
     "execution_count": 5,
     "metadata": {},
     "output_type": "execute_result"
    },
    {
     "data": {
      "text/plain": [
       "minibatches processed:     90, loss = 4000.508009\t\n"
      ]
     },
     "execution_count": 5,
     "metadata": {},
     "output_type": "execute_result"
    },
    {
     "data": {
      "text/plain": [
       "minibatches processed:    100, loss = 1640.099601\t\n"
      ]
     },
     "execution_count": 5,
     "metadata": {},
     "output_type": "execute_result"
    },
    {
     "data": {
      "text/plain": [
       "minibatches processed:    110, loss = 3591.793226\t\n"
      ]
     },
     "execution_count": 5,
     "metadata": {},
     "output_type": "execute_result"
    },
    {
     "data": {
      "text/plain": [
       "minibatches processed:    120, loss = 5104.355401\t\n"
      ]
     },
     "execution_count": 5,
     "metadata": {},
     "output_type": "execute_result"
    },
    {
     "data": {
      "text/plain": [
       "minibatches processed:    130, loss = 2025.724121\t\n"
      ]
     },
     "execution_count": 5,
     "metadata": {},
     "output_type": "execute_result"
    },
    {
     "data": {
      "text/plain": [
       "minibatches processed:    140, loss = 4129.725431\t\n"
      ]
     },
     "execution_count": 5,
     "metadata": {},
     "output_type": "execute_result"
    },
    {
     "data": {
      "text/plain": [
       "minibatches processed:    150, loss = 3083.249304\t\n"
      ]
     },
     "execution_count": 5,
     "metadata": {},
     "output_type": "execute_result"
    },
    {
     "data": {
      "text/plain": [
       "minibatches processed:    160, loss = 1778.064072\t\n"
      ]
     },
     "execution_count": 5,
     "metadata": {},
     "output_type": "execute_result"
    },
    {
     "data": {
      "text/plain": [
       "minibatches processed:    170, loss = 3469.608857\t\n"
      ]
     },
     "execution_count": 5,
     "metadata": {},
     "output_type": "execute_result"
    },
    {
     "data": {
      "text/plain": [
       "minibatches processed:    180, loss = 2821.958241\t\n"
      ]
     },
     "execution_count": 5,
     "metadata": {},
     "output_type": "execute_result"
    },
    {
     "data": {
      "text/plain": [
       "minibatches processed:    190, loss = 1301.971760\t\n"
      ]
     },
     "execution_count": 5,
     "metadata": {},
     "output_type": "execute_result"
    },
    {
     "data": {
      "text/plain": [
       "minibatches processed:    200, loss = 1954.507804\t\n"
      ]
     },
     "execution_count": 5,
     "metadata": {},
     "output_type": "execute_result"
    },
    {
     "data": {
      "text/plain": [
       "minibatches processed:    210, loss = 1520.214161\t\n"
      ]
     },
     "execution_count": 5,
     "metadata": {},
     "output_type": "execute_result"
    },
    {
     "data": {
      "text/plain": [
       "minibatches processed:    220, loss = 1619.686990\t\n"
      ]
     },
     "execution_count": 5,
     "metadata": {},
     "output_type": "execute_result"
    },
    {
     "data": {
      "text/plain": [
       "minibatches processed:    230, loss = 1542.321124\t\n"
      ]
     },
     "execution_count": 5,
     "metadata": {},
     "output_type": "execute_result"
    },
    {
     "data": {
      "text/plain": [
       "minibatches processed:    240, loss = 3552.770369\t\n"
      ]
     },
     "execution_count": 5,
     "metadata": {},
     "output_type": "execute_result"
    },
    {
     "data": {
      "text/plain": [
       "minibatches processed:    250, loss = 3273.120457\t\n"
      ]
     },
     "execution_count": 5,
     "metadata": {},
     "output_type": "execute_result"
    },
    {
     "data": {
      "text/plain": [
       "minibatches processed:    260, loss = 947.610213\t\n"
      ]
     },
     "execution_count": 5,
     "metadata": {},
     "output_type": "execute_result"
    },
    {
     "data": {
      "text/plain": [
       "minibatches processed:    270, loss = 1518.981850\t\n"
      ]
     },
     "execution_count": 5,
     "metadata": {},
     "output_type": "execute_result"
    },
    {
     "data": {
      "text/plain": [
       "minibatches processed:    280, loss = 5390.339943\t\n"
      ]
     },
     "execution_count": 5,
     "metadata": {},
     "output_type": "execute_result"
    },
    {
     "data": {
      "text/plain": [
       "minibatches processed:    290, loss = 2007.822824\t\n"
      ]
     },
     "execution_count": 5,
     "metadata": {},
     "output_type": "execute_result"
    },
    {
     "data": {
      "text/plain": [
       "minibatches processed:    300, loss = 2208.006614\t\n"
      ]
     },
     "execution_count": 5,
     "metadata": {},
     "output_type": "execute_result"
    },
    {
     "data": {
      "text/plain": [
       "minibatches processed:    310, loss = 1484.122360\t\n"
      ]
     },
     "execution_count": 5,
     "metadata": {},
     "output_type": "execute_result"
    },
    {
     "data": {
      "text/plain": [
       "minibatches processed:    320, loss = 891.493785\t\n"
      ]
     },
     "execution_count": 5,
     "metadata": {},
     "output_type": "execute_result"
    },
    {
     "data": {
      "text/plain": [
       "torch.DoubleTensor\t\n",
       "0\t\n",
       "torch.DoubleTensor\t\n",
       "0\t\n",
       "torch.DoubleTensor\t\n",
       "0\t\n",
       "torch.DoubleTensor\t\n",
       "0\t\n",
       "torch.DoubleTensor\t\n"
      ]
     },
     "execution_count": 5,
     "metadata": {},
     "output_type": "execute_result"
    },
    {
     "data": {
      "text/plain": [
       "0\t\n",
       "torch.DoubleTensor\t\n",
       "0\t\n",
       "torch.DoubleTensor\t\n",
       "0\t\n",
       "torch.DoubleTensor\t\n"
      ]
     },
     "execution_count": 5,
     "metadata": {},
     "output_type": "execute_result"
    },
    {
     "data": {
      "text/plain": [
       "0\t\n",
       "torch.DoubleTensor\t\n",
       "0\t\n",
       "torch.DoubleTensor\t\n",
       "0\t"
      ]
     },
     "execution_count": 5,
     "metadata": {},
     "output_type": "execute_result"
    },
    {
     "data": {
      "text/plain": [
       "\n",
       "torch.DoubleTensor\t\n",
       "0\t\n"
      ]
     },
     "execution_count": 5,
     "metadata": {},
     "output_type": "execute_result"
    },
    {
     "data": {
      "text/plain": [
       "torch.DoubleTensor\t\n",
       "0\t\n",
       "torch.DoubleTensor\t\n",
       "0\t\n",
       "torch.DoubleTensor\t\n",
       "0\t\n",
       "torch.DoubleTensor\t\n",
       "0\t\n"
      ]
     },
     "execution_count": 5,
     "metadata": {},
     "output_type": "execute_result"
    },
    {
     "data": {
      "text/plain": [
       "torch.DoubleTensor\t\n",
       "0\t\n",
       "torch.DoubleTensor\t\n",
       "0\t\n",
       "torch.DoubleTensor\t\n",
       "0\t\n",
       "torch.DoubleTensor\t\n"
      ]
     },
     "execution_count": 5,
     "metadata": {},
     "output_type": "execute_result"
    },
    {
     "data": {
      "text/plain": [
       "0\t\n",
       "torch.DoubleTensor\t\n",
       "0\t\n",
       "torch.DoubleTensor\t\n",
       "0\t\n",
       "torch.DoubleTensor\t\n",
       "0\t\n",
       "torch.DoubleTensor\t\n"
      ]
     },
     "execution_count": 5,
     "metadata": {},
     "output_type": "execute_result"
    },
    {
     "data": {
      "text/plain": [
       "0\t\n",
       "torch.DoubleTensor\t\n",
       "0\t\n",
       "torch.DoubleTensor\t\n",
       "0\t\n",
       "torch.DoubleTensor\t\n"
      ]
     },
     "execution_count": 5,
     "metadata": {},
     "output_type": "execute_result"
    },
    {
     "data": {
      "text/plain": [
       "0\t\n",
       "torch.DoubleTensor\t\n"
      ]
     },
     "execution_count": 5,
     "metadata": {},
     "output_type": "execute_result"
    },
    {
     "data": {
      "text/plain": [
       "0\t\n",
       "torch.DoubleTensor\t\n",
       "0\t\n",
       "torch.DoubleTensor\t\n",
       "0\t\n",
       "torch.DoubleTensor\t\n",
       "0\t\n",
       "torch.DoubleTensor\t\n"
      ]
     },
     "execution_count": 5,
     "metadata": {},
     "output_type": "execute_result"
    },
    {
     "data": {
      "text/plain": [
       "0\t\n",
       "torch.DoubleTensor\t\n",
       "0\t\n",
       "\n"
      ]
     },
     "execution_count": 5,
     "metadata": {},
     "output_type": "execute_result"
    }
   ],
   "source": [
    "dofile('digitClassifier.lua')"
   ]
  },
  {
   "cell_type": "code",
   "execution_count": 6,
   "metadata": {
    "collapsed": false
   },
   "outputs": [
    {
     "data": {
      "text/plain": [
       "<mnist> loading only 8000 examples\t\n",
       "<mnist> done\t\n"
      ]
     },
     "execution_count": 6,
     "metadata": {},
     "output_type": "execute_result"
    },
    {
     "data": {
      "text/plain": [
       "--------------------------------\t\n",
       " loaded dataset \"train\"\t\n",
       "inputs\t 8000\n",
       " 1024\n",
       "[torch.LongStorage of size 2]\n",
       "\n",
       "targets\t 8000\n",
       "[torch.LongStorage of size 1]\n",
       "\n",
       "--------------------------------\t\n"
      ]
     },
     "execution_count": 6,
     "metadata": {},
     "output_type": "execute_result"
    },
    {
     "data": {
      "text/plain": [
       "<mnist> done\t\n"
      ]
     },
     "execution_count": 6,
     "metadata": {},
     "output_type": "execute_result"
    },
    {
     "data": {
      "text/plain": [
       "--------------------------------\t\n",
       " loaded dataset \"test\"\t\n",
       "inputs\t 10000\n",
       "  1024\n",
       "[torch.LongStorage of size 2]\n",
       "\n",
       "targets\t 10000\n",
       "[torch.LongStorage of size 1]\n",
       "\n",
       "--------------------------------\t\n",
       "10\t\n",
       "1\t\n"
      ]
     },
     "execution_count": 6,
     "metadata": {},
     "output_type": "execute_result"
    },
    {
     "data": {
      "text/plain": [
       "minibatches processed:     10, loss = 18637.686830\t\n"
      ]
     },
     "execution_count": 6,
     "metadata": {},
     "output_type": "execute_result"
    },
    {
     "data": {
      "text/plain": [
       "minibatches processed:     20, loss = 1197.890536\t\n"
      ]
     },
     "execution_count": 6,
     "metadata": {},
     "output_type": "execute_result"
    },
    {
     "data": {
      "text/plain": [
       "minibatches processed:     30, loss = 2673.040349\t\n"
      ]
     },
     "execution_count": 6,
     "metadata": {},
     "output_type": "execute_result"
    },
    {
     "data": {
      "text/plain": [
       "minibatches processed:     40, loss = 1580.095193\t\n"
      ]
     },
     "execution_count": 6,
     "metadata": {},
     "output_type": "execute_result"
    },
    {
     "data": {
      "text/plain": [
       "minibatches processed:     50, loss = 1544.178437\t\n"
      ]
     },
     "execution_count": 6,
     "metadata": {},
     "output_type": "execute_result"
    },
    {
     "data": {
      "text/plain": [
       "minibatches processed:     60, loss = 2725.252494\t\n"
      ]
     },
     "execution_count": 6,
     "metadata": {},
     "output_type": "execute_result"
    },
    {
     "data": {
      "text/plain": [
       "minibatches processed:     70, loss = 2562.405501\t\n"
      ]
     },
     "execution_count": 6,
     "metadata": {},
     "output_type": "execute_result"
    },
    {
     "data": {
      "text/plain": [
       "minibatches processed:     80, loss = 2999.016556\t\n"
      ]
     },
     "execution_count": 6,
     "metadata": {},
     "output_type": "execute_result"
    },
    {
     "data": {
      "text/plain": [
       "minibatches processed:     90, loss = 4000.508009\t\n"
      ]
     },
     "execution_count": 6,
     "metadata": {},
     "output_type": "execute_result"
    },
    {
     "data": {
      "text/plain": [
       "minibatches processed:    100, loss = 1640.099601\t\n"
      ]
     },
     "execution_count": 6,
     "metadata": {},
     "output_type": "execute_result"
    },
    {
     "data": {
      "text/plain": [
       "minibatches processed:    110, loss = 3591.793226\t\n"
      ]
     },
     "execution_count": 6,
     "metadata": {},
     "output_type": "execute_result"
    },
    {
     "data": {
      "text/plain": [
       "minibatches processed:    120, loss = 5104.355401\t\n"
      ]
     },
     "execution_count": 6,
     "metadata": {},
     "output_type": "execute_result"
    },
    {
     "data": {
      "text/plain": [
       "minibatches processed:    130, loss = 2025.724121\t\n"
      ]
     },
     "execution_count": 6,
     "metadata": {},
     "output_type": "execute_result"
    },
    {
     "data": {
      "text/plain": [
       "minibatches processed:    140, loss = 4129.725431\t\n"
      ]
     },
     "execution_count": 6,
     "metadata": {},
     "output_type": "execute_result"
    },
    {
     "data": {
      "text/plain": [
       "minibatches processed:    150, loss = 3083.249304\t\n"
      ]
     },
     "execution_count": 6,
     "metadata": {},
     "output_type": "execute_result"
    },
    {
     "data": {
      "text/plain": [
       "minibatches processed:    160, loss = 1778.064072\t\n"
      ]
     },
     "execution_count": 6,
     "metadata": {},
     "output_type": "execute_result"
    },
    {
     "data": {
      "text/plain": [
       "minibatches processed:    170, loss = 3469.608857\t\n"
      ]
     },
     "execution_count": 6,
     "metadata": {},
     "output_type": "execute_result"
    },
    {
     "data": {
      "text/plain": [
       "minibatches processed:    180, loss = 2821.958241\t\n"
      ]
     },
     "execution_count": 6,
     "metadata": {},
     "output_type": "execute_result"
    },
    {
     "data": {
      "text/plain": [
       "minibatches processed:    190, loss = 1301.971760\t\n"
      ]
     },
     "execution_count": 6,
     "metadata": {},
     "output_type": "execute_result"
    },
    {
     "data": {
      "text/plain": [
       "minibatches processed:    200, loss = 1954.507804\t\n"
      ]
     },
     "execution_count": 6,
     "metadata": {},
     "output_type": "execute_result"
    },
    {
     "data": {
      "text/plain": [
       "minibatches processed:    210, loss = 1520.214161\t\n"
      ]
     },
     "execution_count": 6,
     "metadata": {},
     "output_type": "execute_result"
    },
    {
     "data": {
      "text/plain": [
       "minibatches processed:    220, loss = 1619.686990\t\n"
      ]
     },
     "execution_count": 6,
     "metadata": {},
     "output_type": "execute_result"
    },
    {
     "data": {
      "text/plain": [
       "minibatches processed:    230, loss = 1542.321124\t\n"
      ]
     },
     "execution_count": 6,
     "metadata": {},
     "output_type": "execute_result"
    },
    {
     "data": {
      "text/plain": [
       "minibatches processed:    240, loss = 3552.770369\t\n"
      ]
     },
     "execution_count": 6,
     "metadata": {},
     "output_type": "execute_result"
    },
    {
     "data": {
      "text/plain": [
       "minibatches processed:    250, loss = 3273.120457\t\n"
      ]
     },
     "execution_count": 6,
     "metadata": {},
     "output_type": "execute_result"
    },
    {
     "data": {
      "text/plain": [
       "minibatches processed:    260, loss = 947.610213\t\n"
      ]
     },
     "execution_count": 6,
     "metadata": {},
     "output_type": "execute_result"
    },
    {
     "data": {
      "text/plain": [
       "minibatches processed:    270, loss = 1518.981850\t\n"
      ]
     },
     "execution_count": 6,
     "metadata": {},
     "output_type": "execute_result"
    },
    {
     "data": {
      "text/plain": [
       "minibatches processed:    280, loss = 5390.339943\t\n"
      ]
     },
     "execution_count": 6,
     "metadata": {},
     "output_type": "execute_result"
    },
    {
     "data": {
      "text/plain": [
       "minibatches processed:    290, loss = 2007.822824\t\n"
      ]
     },
     "execution_count": 6,
     "metadata": {},
     "output_type": "execute_result"
    },
    {
     "data": {
      "text/plain": [
       "minibatches processed:    300, loss = 2208.006614\t\n"
      ]
     },
     "execution_count": 6,
     "metadata": {},
     "output_type": "execute_result"
    },
    {
     "data": {
      "text/plain": [
       "minibatches processed:    310, loss = 1484.122360\t\n"
      ]
     },
     "execution_count": 6,
     "metadata": {},
     "output_type": "execute_result"
    },
    {
     "data": {
      "text/plain": [
       "minibatches processed:    320, loss = 891.493785\t\n"
      ]
     },
     "execution_count": 6,
     "metadata": {},
     "output_type": "execute_result"
    },
    {
     "data": {
      "text/plain": [
       "   0\n",
       "   0\n",
       "   0\n",
       "   0\n",
       "   0\n",
       "   0\n",
       "   0\n",
       "   0\n",
       "   0\n",
       "   0\n",
       "   0\n",
       "   0\n",
       "   0\n",
       "   0\n",
       "   0\n",
       "   0\n",
       "   0\n",
       "   0\n",
       "   0\n",
       "   0\n",
       "   0\n",
       "   0\n",
       "   0\n",
       "   0\n",
       "   0\n",
       "   0\n",
       "   0\n",
       "   0\n",
       "   0\n",
       "   0\n",
       "   0\n",
       "   0\n",
       "   0\n",
       "   0\n",
       "   0\n",
       "   0\n",
       "   0\n",
       "   0\n",
       "   0\n",
       "   0\n",
       "   0\n",
       "   0\n",
       "   0\n",
       "   0\n",
       "   0\n",
       "   0\n",
       "   0\n",
       "   0\n",
       "   0\n",
       "   0\n",
       "   0\n",
       "   0\n",
       "   0\n",
       "   0\n",
       "   0\n",
       "   0\n",
       "   0\n",
       "   0\n",
       "   0\n",
       "   0\n",
       "   0\n",
       "   0\n",
       "   0\n",
       "   0\n",
       "   0\n",
       "   0\n",
       "   0\n",
       "   0\n",
       "   0\n",
       "   0\n",
       "   0\n",
       "   0\n",
       "   0\n",
       "   0\n",
       "   0\n",
       "   0\n",
       "   0\n",
       "   0\n",
       "   0\n",
       "   0\n",
       "   0\n",
       "   0\n",
       "   0\n",
       "   0\n",
       "   0\n",
       "   0\n",
       "   0\n",
       "   0\n",
       "   0\n",
       "   0\n",
       "   0\n",
       "   0\n",
       "   0\n",
       "   0\n",
       "   0\n",
       "   0\n",
       "   0\n",
       "   0\n",
       "   0\n",
       "   0\n",
       "   0\n",
       "   0\n",
       "   0\n",
       "   0\n",
       "   0\n",
       "   0\n",
       "   0\n",
       "   0\n",
       "   0\n",
       "   0\n",
       "   0\n",
       "   0\n",
       "   0\n",
       "   0\n",
       "   0\n",
       "   0\n",
       "   0\n",
       "   0\n",
       "   0\n",
       "   0\n",
       "   0\n",
       "   0\n",
       "   0\n",
       "   0\n",
       "   0\n",
       "   0\n",
       "   0\n",
       "   0\n",
       "   0\n",
       "   0\n",
       "   0\n",
       "   0\n",
       "   0\n",
       "   0\n",
       "   0\n",
       "   0\n",
       "   0\n",
       "   0\n",
       "   0\n",
       "   0\n",
       "   0\n",
       "   0\n",
       "   0\n",
       "   0\n",
       "   0\n",
       "   0\n",
       "   0\n",
       "   0\n",
       "   0\n",
       "   0\n",
       "   0\n",
       "   0\n",
       "   0\n",
       "   0\n",
       "   0\n",
       "   0\n",
       "   0\n",
       "   0\n",
       "   0\n",
       "   0\n",
       "   0\n",
       "   0\n",
       "   0\n",
       "   0\n",
       "   0\n",
       "   0\n",
       "   0\n",
       "   0\n",
       "   0\n",
       "   0\n",
       "   0\n",
       "   0\n",
       "   0\n",
       "   0\n",
       "   0\n",
       "   0\n",
       "   0\n",
       "   0\n",
       "   0\n",
       "   0\n",
       "   0\n",
       "   0\n",
       "   0\n",
       "   0\n",
       "   0\n",
       "   0\n",
       "   0\n",
       "   0\n",
       "   0\n",
       "   0\n",
       "   0\n",
       "   0\n",
       "   0\n",
       "   0\n",
       "   0\n",
       "   0\n",
       "   0\n",
       "   0\n",
       "   0\n",
       "   0\n",
       "   0\n",
       "  23\n",
       " 254\n",
       " 254\n",
       " 254\n",
       " 254\n",
       " 172\n",
       "  96\n",
       "  15\n",
       "   0\n",
       "   0\n",
       "   0\n",
       "   0\n",
       "   0\n",
       "   0\n",
       "   0\n",
       "   0\n",
       "   0\n",
       "   0\n",
       "   0\n",
       "   0\n",
       "   0\n",
       "   0\n",
       "   0\n",
       "   0\n",
       "   0\n",
       "   0\n",
       "   0\n",
       "   0\n",
       "   0\n",
       "   0\n",
       "   0\n",
       "   0\n",
       "  23\n",
       " 253\n",
       " 253\n",
       " 253\n",
       " 253\n",
       " 253\n",
       " 253\n",
       " 139\n",
       "   0\n",
       "   0\n",
       "   0\n",
       "   0\n",
       "   0\n",
       "   0\n",
       "   0\n",
       "   0\n",
       "   0\n",
       "   0\n",
       "   0\n",
       "   0\n",
       "   0\n",
       "   0\n",
       "   0\n",
       "   0\n",
       "   0\n",
       "   0\n",
       "   0\n",
       "   0\n",
       "   0\n",
       "   0\n",
       "   0\n",
       "   0\n",
       "  14\n",
       " 154\n",
       " 232\n",
       " 253\n",
       " 253\n",
       " 253\n",
       " 253\n",
       " 249\n",
       " 108\n",
       "   0\n",
       "   0\n",
       "   0\n",
       "   0\n",
       "   0\n",
       "   0\n",
       "   0\n",
       "   0\n",
       "   0\n",
       "   0\n",
       "   0\n",
       "   0\n",
       "   0\n",
       "   0\n",
       "   0\n",
       "   0\n",
       "   0\n",
       "   0\n",
       "   0\n",
       "   0\n",
       "   0\n",
       "   0\n",
       "   0\n",
       "   0\n",
       "   0\n",
       "   8\n",
       "  10\n",
       "  10\n",
       "  10\n",
       " 164\n",
       " 254\n",
       " 193\n",
       "   4\n",
       "   0\n",
       "   0\n",
       "   0\n",
       "   0\n",
       "   0\n",
       "   0\n",
       "   0\n",
       "   0\n",
       "   0\n",
       "   0\n",
       "   0\n",
       "   0\n",
       "   0\n",
       "   0\n",
       "   0\n",
       "   0\n",
       "   0\n",
       "   0\n",
       "   0\n",
       "   0\n",
       "   0\n",
       "   0\n",
       "   0\n",
       "   0\n",
       "   0\n",
       "   0\n",
       "   0\n",
       "   0\n",
       " 183\n",
       " 254\n",
       " 253\n",
       "  44\n",
       "   0\n",
       "   0\n",
       "   0\n",
       "   0\n",
       "   0\n",
       "   0\n",
       "   0\n",
       "   0\n",
       "   0\n",
       "   0\n",
       "   0\n",
       "   0\n",
       "   0\n",
       "   0\n",
       "   0\n",
       "   0\n",
       "   0\n",
       "   0\n",
       "   0\n",
       "   0\n",
       "   0\n",
       "   0\n",
       "   0\n",
       "   0\n",
       "   0\n",
       "   0\n",
       "   0\n",
       " 100\n",
       " 247\n",
       " 254\n",
       " 230\n",
       "  29\n",
       "   0\n",
       "   0\n",
       "   0\n",
       "   0\n",
       "   0\n",
       "   0\n",
       "   0\n",
       "   0\n",
       "   0\n",
       "   0\n",
       "   0\n",
       "   0\n",
       "   0\n",
       "   0\n",
       "   0\n",
       "   0\n",
       "   0\n",
       "   0\n",
       "   0\n",
       "   0\n",
       "   0\n",
       "   0\n",
       "   0\n",
       "   0\n",
       "   0\n",
       "   6\n",
       "  99\n",
       " 248\n",
       " 253\n",
       " 253\n",
       " 130\n",
       "   0\n",
       "   0\n",
       "   0\n",
       "   0\n",
       "   0\n",
       "   0\n",
       "   0\n",
       "   0\n",
       "   0\n",
       "   0\n",
       "   0\n",
       "   0\n",
       "   0\n",
       "   0\n",
       "   0\n",
       "   0\n",
       "   0\n",
       "   0\n",
       "   0\n",
       "   0\n",
       "   0\n",
       "   0\n",
       "   0\n",
       "   0\n",
       "   0\n",
       "   0\n",
       " 122\n",
       " 253\n",
       " 253\n",
       " 253\n",
       " 242\n",
       " 127\n",
       "  27\n",
       "   0\n",
       "   0\n",
       "   0\n",
       "   0\n",
       "   0\n",
       "   0\n",
       "   0\n",
       "   0\n",
       "   0\n",
       "   0\n",
       "   0\n",
       "   0\n",
       "   0\n",
       "   0\n",
       "   0\n",
       "   0\n",
       "   0\n",
       "   0\n",
       "   0\n",
       "   0\n",
       "   0\n",
       "   0\n",
       "   0\n",
       "   0\n",
       "   0\n",
       " 170\n",
       " 253\n",
       " 253\n",
       " 253\n",
       " 254\n",
       " 253\n",
       " 228\n",
       "  42\n",
       "   0\n",
       "   0\n",
       "   0\n",
       "   0\n",
       "   0\n",
       "   0\n",
       "   0\n",
       "   0\n",
       "   0\n",
       "   0\n",
       "   0\n",
       "   0\n",
       "   0\n",
       "   0\n",
       "   0\n",
       "   0\n",
       "   0\n",
       "   0\n",
       "   0\n",
       "   0\n",
       "   0\n",
       "   0\n",
       "   0\n",
       "   0\n",
       "  69\n",
       " 210\n",
       " 253\n",
       " 253\n",
       " 254\n",
       " 253\n",
       " 253\n",
       " 227\n",
       "  39\n",
       "   0\n",
       "   0\n",
       "   0\n",
       "   0\n",
       "   0\n",
       "   0\n",
       "   0\n",
       "   0\n",
       "   0\n",
       "   0\n",
       "   0\n",
       "   0\n",
       "   0\n",
       "   0\n",
       "   0\n",
       "   0\n",
       "   0\n",
       "   0\n",
       "   0\n",
       "   0\n",
       "   0\n",
       "   0\n",
       "   0\n",
       "   0\n",
       "   0\n",
       "   0\n",
       "   0\n",
       "  15\n",
       " 111\n",
       " 215\n",
       " 254\n",
       " 150\n",
       "   0\n",
       "   0\n",
       "   0\n",
       "   0\n",
       "   0\n",
       "   0\n",
       "   0\n",
       "   0\n",
       "   0\n",
       "   0\n",
       "   0\n",
       "   0\n",
       "   0\n",
       "   0\n",
       "   0\n",
       "   0\n",
       "   0\n",
       "   0\n",
       "   0\n",
       "   0\n",
       "   0\n",
       "   0\n",
       "   0\n",
       "   0\n",
       "   0\n",
       "   0\n",
       "   0\n",
       "   0\n",
       "   0\n",
       "  31\n",
       " 246\n",
       " 237\n",
       "  38\n",
       "   0\n",
       "   0\n",
       "   0\n",
       "   0\n",
       "   0\n",
       "   0\n",
       "   0\n",
       "   0\n",
       "   0\n",
       "   0\n",
       "   0\n",
       "   0\n",
       "   0\n",
       "   0\n",
       "   0\n",
       "   0\n",
       "   0\n",
       "   0\n",
       "   0\n",
       "   0\n",
       "   0\n",
       "   0\n",
       "   0\n",
       "   0\n",
       "   0\n",
       "   0\n",
       "   0\n",
       "   0\n",
       "   0\n",
       " 243\n",
       " 253\n",
       " 146\n",
       "   0\n",
       "   0\n",
       "   0\n",
       "   0\n",
       "   0\n",
       "   0\n",
       "   0\n",
       "   0\n",
       "   0\n",
       "   0\n",
       "   0\n",
       "   0\n",
       "   0\n",
       "   0\n",
       "   0\n",
       "   0\n",
       "   0\n",
       "   0\n",
       "   0\n",
       "   0\n",
       "   0\n",
       "   0\n",
       "   0\n",
       "   0\n",
       "   0\n",
       "   0\n",
       "   0\n",
       "   0\n",
       "   0\n",
       " 243\n",
       " 253\n",
       " 165\n",
       "   0\n",
       "   0\n",
       "   0\n",
       "   0\n",
       "   0\n",
       "   0\n",
       "   0\n",
       "   0\n",
       "   0\n",
       "   0\n",
       "   0\n",
       "   0\n",
       "   0\n",
       "   0\n",
       "   0\n",
       "   0\n",
       "   0\n",
       "   0\n",
       "   0\n",
       "   0\n",
       "   0\n",
       "   0\n",
       "   0\n",
       "   0\n",
       "   0\n",
       "   0\n",
       "   0\n",
       "   0\n",
       "   0\n",
       " 243\n",
       " 253\n",
       " 140\n",
       "   0\n",
       "   0\n",
       "   0\n",
       "   0\n",
       "   0\n",
       "   0\n",
       "   0\n",
       "   0\n",
       "   0\n",
       "   0\n",
       "   0\n",
       "   0\n",
       "   0\n",
       "   0\n",
       "   0\n",
       "   0\n",
       "   0\n",
       "   0\n",
       "   0\n",
       "   0\n",
       "   0\n",
       "   0\n",
       "   0\n",
       "   0\n",
       "   0\n",
       "   0\n",
       "   0\n",
       "   0\n",
       " 118\n",
       " 251\n",
       " 253\n",
       "  55\n",
       "   0\n",
       "   0\n",
       "   0\n",
       "   0\n",
       "   0\n",
       "   0\n",
       "   0\n",
       "   0\n",
       "   0\n",
       "   0\n",
       "   0\n",
       "   0\n",
       "   0\n",
       "   0\n",
       "   0\n",
       "   0\n",
       "   0\n",
       "   0\n",
       "   0\n",
       "   0\n",
       "   0\n",
       "   9\n",
       "  60\n",
       "  12\n",
       "  12\n",
       "  12\n",
       "  75\n",
       " 151\n",
       " 250\n",
       " 253\n",
       " 222\n",
       "  29\n",
       "   0\n",
       "   0\n",
       "   0\n",
       "   0\n",
       "   0\n",
       "   0\n",
       "   0\n",
       "   0\n",
       "   0\n",
       "   0\n",
       "   0\n",
       "   0\n",
       "   0\n",
       "   0\n",
       "   0\n",
       "   0\n",
       "   0\n",
       "   0\n",
       "   0\n",
       "   0\n",
       "   0\n",
       " 199\n",
       " 253\n",
       " 253\n",
       " 253\n",
       " 253\n",
       " 255\n",
       " 253\n",
       " 253\n",
       " 250\n",
       "  73\n",
       "   0\n",
       "   0\n",
       "   0\n",
       "   0\n",
       "   0\n",
       "   0\n",
       "   0\n",
       "   0\n",
       "   0\n",
       "   0\n",
       "   0\n",
       "   0\n",
       "   0\n",
       "   0\n",
       "   0\n",
       "   0\n",
       "   0\n",
       "   0\n",
       "   0\n",
       "   0\n",
       "   0\n",
       "   0\n",
       " 165\n",
       " 253\n",
       " 253\n",
       " 253\n",
       " 253\n",
       " 254\n",
       " 253\n",
       " 253\n",
       " 116\n",
       "   0\n",
       "   0\n",
       "   0\n",
       "   0\n",
       "   0\n",
       "   0\n",
       "   0\n",
       "   0\n",
       "   0\n",
       "   0\n",
       "   0\n",
       "   0\n",
       "   0\n",
       "   0\n",
       "   0\n",
       "   0\n",
       "   0\n",
       "   0\n",
       "   0\n",
       "   0\n",
       "   0\n",
       "   0\n",
       "   0\n",
       "  12\n",
       " 133\n",
       " 162\n",
       " 253\n",
       " 157\n",
       " 143\n",
       " 114\n",
       "  33\n",
       " "
      ]
     },
     "execution_count": 6,
     "metadata": {},
     "output_type": "execute_result"
    },
    {
     "data": {
      "text/plain": [
       "  2\n",
       "   0\n",
       "   0\n",
       "   0\n",
       "   0\n",
       "   0\n",
       "   0\n",
       "   0\n",
       "   0\n",
       "   0\n",
       "   0\n",
       "   0\n",
       "   0\n",
       "   0\n",
       "   0\n",
       "   0\n",
       "   0\n",
       "   0\n",
       "   0\n",
       "   0\n",
       "   0\n",
       "   0\n",
       "   0\n",
       "   0\n",
       "   0\n",
       "   0\n",
       "   0\n",
       "   0\n",
       "   0\n",
       "   0\n",
       "   0\n",
       "   0\n",
       "   0\n",
       "   0\n",
       "   0\n",
       "   0\n",
       "   0\n",
       "   0\n",
       "   0\n",
       "   0\n",
       "   0\n",
       "   0\n",
       "   0\n",
       "   0\n",
       "   0\n",
       "   0\n",
       "   0\n",
       "   0\n",
       "   0\n",
       "   0\n",
       "   0\n",
       "   0\n",
       "   0\n",
       "   0\n",
       "   0\n",
       "   0\n",
       "   0\n",
       "   0\n",
       "   0\n",
       "   0\n",
       "   0\n",
       "   0\n",
       "   0\n",
       "   0\n",
       "   0\n",
       "   0\n",
       "   0\n",
       "   0\n",
       "   0\n",
       "   0\n",
       "   0\n",
       "   0\n",
       "   0\n",
       "   0\n",
       "   0\n",
       "   0\n",
       "   0\n",
       "   0\n",
       "   0\n",
       "   0\n",
       "   0\n",
       "   0\n",
       "   0\n",
       "   0\n",
       "   0\n",
       "   0\n",
       "   0\n",
       "   0\n",
       "   0\n",
       "   0\n",
       "   0\n",
       "   0\n",
       "   0\n",
       "   0\n",
       "   0\n",
       "   0\n",
       "   0\n",
       "   0\n",
       "   0\n",
       "   0\n",
       "   0\n",
       "   0\n",
       "   0\n",
       "   0\n",
       "   0\n",
       "   0\n",
       "   0\n",
       "   0\n",
       "   0\n",
       "   0\n",
       "   0\n",
       "   0\n",
       "   0\n",
       "   0\n",
       "   0\n",
       "   0\n",
       "   0\n",
       "   0\n",
       "   0\n",
       "   0\n",
       "   0\n",
       "   0\n",
       "   0\n",
       "   0\n",
       "   0\n",
       "   0\n",
       "   0\n",
       "   0\n",
       "   0\n",
       "   0\n",
       "   0\n",
       "   0\n",
       "   0\n",
       "   0\n",
       "   0\n",
       "   0\n",
       "   0\n",
       "   0\n",
       "   0\n",
       "   0\n",
       "   0\n",
       "   0\n",
       "   0\n",
       "   0\n",
       "   0\n",
       "   0\n",
       "   0\n",
       "   0\n",
       "   0\n",
       "   0\n",
       "   0\n",
       "   0\n",
       "   0\n",
       "   0\n",
       "   0\n",
       "   0\n",
       "   0\n",
       "   0\n",
       "   0\n",
       "   0\n",
       "   0\n",
       "   0\n",
       "   0\n",
       "   0\n",
       "   0\n",
       "   0\n",
       "   0\n",
       "   0\n",
       "   0\n",
       "   0\n",
       "   0\n",
       "   0\n",
       "   0\n",
       "   0\n",
       "   0\n",
       "   0\n",
       "   0\n",
       "   0\n",
       "   0\n",
       "   0\n",
       "   0\n",
       "   0\n",
       "   0\n",
       "   0\n",
       "   0\n",
       "   0\n",
       "   0\n",
       "   0\n",
       "   0\n",
       "   0\n",
       "   0\n",
       "   0\n",
       "   0\n",
       "   0\n",
       "   0\n",
       "   0\n",
       "   0\n",
       "   0\n",
       "   0\n",
       "   0\n",
       "   0\n",
       "   0\n",
       "   0\n",
       "   0\n",
       "   0\n",
       "[torch.DoubleTensor of size 1024]\n",
       "\n",
       "0\t\n"
      ]
     },
     "execution_count": 6,
     "metadata": {},
     "output_type": "execute_result"
    },
    {
     "data": {
      "text/plain": [
       "   0\n",
       "   0\n",
       "   0\n",
       "   0\n",
       "   0\n",
       "   0\n",
       "   0\n",
       "   0\n",
       "   0\n",
       "   0\n",
       "   0\n",
       "   0\n",
       "   0\n",
       "   0\n",
       "   0\n",
       "   0\n",
       "   0\n",
       "   0\n",
       "   0\n",
       "   0\n",
       "   0\n",
       "   0\n",
       "   0\n",
       "   0\n",
       "   0\n",
       "   0\n",
       "   0\n",
       "   0\n",
       "   0\n",
       "   0\n",
       "   0\n",
       "   0\n",
       "   0\n",
       "   0\n",
       "   0\n",
       "   0\n",
       "   0\n",
       "   0\n",
       "   0\n",
       "   0\n",
       "   0\n",
       "   0\n",
       "   0\n",
       "   0\n",
       "   0\n",
       "   0\n",
       "   0\n",
       "   0\n",
       "   0\n",
       "   0\n",
       "   0\n",
       "   0\n",
       "   0\n",
       "   0\n",
       "   0\n",
       "   0\n",
       "   0\n",
       "   0\n",
       "   0\n",
       "   0\n",
       "   0\n",
       "   0\n",
       "   0\n",
       "   0\n",
       "   0\n",
       "   0\n",
       "   0\n",
       "   0\n",
       "   0\n",
       "   0\n",
       "   0\n",
       "   0\n",
       "   0\n",
       "   0\n",
       "   0\n",
       "   0\n",
       "   0\n",
       "   0\n",
       "   0\n",
       "   0\n",
       "   0\n",
       "   0\n",
       "   0\n",
       "   0\n",
       "   0\n",
       "   0\n",
       "   0\n",
       "   0\n",
       "   0\n",
       "   0\n",
       "   0\n",
       "   0\n",
       "   0\n",
       "   0\n",
       "   0\n",
       "   0\n",
       "   0\n",
       "   0\n",
       "   0\n",
       "   0\n",
       "   0\n",
       "   0\n",
       "   0\n",
       "   0\n",
       "   0\n",
       "   0\n",
       "   0\n",
       "   0\n",
       "   0\n",
       "   0\n",
       "   0\n",
       "   0\n",
       "   0\n",
       "   0\n",
       "   0\n",
       "   0\n",
       "   0\n",
       "   0\n",
       "   0\n",
       "   0\n",
       "   0\n",
       "   0\n",
       "   0\n",
       "   0\n",
       "   0\n",
       "   0\n",
       "   0\n",
       "   0\n",
       "   0\n",
       "   0\n",
       "   0\n",
       "   0\n",
       "   0\n",
       "   0\n",
       "   0\n",
       "   0\n",
       "   0\n",
       "   0\n",
       "   0\n",
       "   0\n",
       "   0\n",
       "   0\n",
       "   0\n",
       "   0\n",
       "   0\n",
       "   0\n",
       "   0\n",
       "   0\n",
       "   0\n",
       "   0\n",
       "   0\n",
       "   0\n",
       "   0\n",
       "   0\n",
       "   0\n",
       "   0\n",
       "   0\n",
       "   0\n",
       "   0\n",
       "   0\n",
       "   0\n",
       "   0\n",
       "   0\n",
       "   0\n",
       "   0\n",
       "   0\n",
       "   0\n",
       "   0\n",
       "   0\n",
       "   0\n",
       "   0\n",
       "   0\n",
       "   0\n",
       "   0\n",
       "   0\n",
       "   0\n",
       "   0\n",
       "   0\n",
       "   0\n",
       "   0\n",
       "   0\n",
       "   0\n",
       "   0\n",
       "   0\n",
       "   0\n",
       "   0\n",
       "   0\n",
       "   0\n",
       "   0\n",
       "   0\n",
       "   0\n",
       "   0\n",
       "   0\n",
       "   0\n",
       "   0\n",
       "   0\n",
       "   0\n",
       "   0\n",
       "   0\n",
       "   0\n",
       "   0\n",
       "  23\n",
       " 254\n",
       " 254\n",
       " 254\n",
       " 254\n",
       " 172\n",
       "  96\n",
       "  15\n",
       "   0\n",
       "   0\n",
       "   0\n",
       "   0\n",
       "   0\n",
       "   0\n",
       "   0\n",
       "   0\n",
       "   0\n",
       "   0\n",
       "   0\n",
       "   0\n",
       "   0\n",
       "   0\n",
       "   0\n",
       "   0\n",
       "   0\n",
       "   0\n",
       "   0\n",
       "   0\n",
       "   0\n",
       "   0\n",
       "   0\n",
       "   0\n",
       "  23\n",
       " 253\n",
       " 253\n",
       " 253\n",
       " 253\n",
       " 253\n",
       " 253\n",
       " 139\n",
       "   0\n",
       "   0\n",
       "   0\n",
       "   0\n",
       "   0\n",
       "   0\n",
       "   0\n",
       "   0\n",
       "   0\n",
       "   0\n",
       "   0\n",
       "   0\n",
       "   0\n",
       "   0\n",
       "   0\n",
       "   0\n",
       "   0\n",
       "   0\n",
       "   0\n",
       "   0\n",
       "   0\n",
       "   0\n",
       "   0\n",
       "   0\n",
       "  14\n",
       " 154\n",
       " 232\n",
       " 253\n",
       " 253\n",
       " 253\n",
       " 253\n",
       " 249\n",
       " 108\n",
       "   0\n",
       "   0\n",
       "   0\n",
       "   0\n",
       "   0\n",
       "   0\n",
       "   0\n",
       "   0\n",
       "   0\n",
       "   0\n",
       "   0\n",
       "   0\n",
       "   0\n",
       "   0\n",
       "   0\n",
       "   0\n",
       "   0\n",
       "   0\n",
       "   0\n",
       "   0\n",
       "   0\n",
       "   0\n",
       "   0\n",
       "   0\n",
       "   0\n",
       "   8\n",
       "  10\n",
       "  10\n",
       "  10\n",
       " 164\n",
       " 254\n",
       " 193\n",
       "   4\n",
       "   0\n",
       "   0\n",
       "   0\n",
       "   0\n",
       "   0\n",
       "   0\n",
       "   0\n",
       "   0\n",
       "   0\n",
       "   0\n",
       "   0\n",
       "   0\n",
       "   0\n",
       "   0\n",
       "   0\n",
       "   0\n",
       "   0\n",
       "   0\n",
       "   0\n",
       "   0\n",
       "   0\n",
       "   0\n",
       "   0\n",
       "   0\n",
       "   0\n",
       "   0\n",
       "   0\n",
       "   0\n",
       " 183\n",
       " 254\n",
       " 253\n",
       "  44\n",
       "   0\n",
       "   0\n",
       "   0\n",
       "   0\n",
       "   0\n",
       "   0\n",
       "   0\n",
       "   0\n",
       "   0\n",
       "   0\n",
       "   0\n",
       "   0\n",
       "   0\n",
       "   0\n",
       "   0\n",
       "   0\n",
       "   0\n",
       "   0\n",
       "   0\n",
       "   0\n",
       "   0\n",
       "   0\n",
       "   0\n",
       "   0\n",
       "   0\n",
       "   0\n",
       "   0\n",
       " 100\n",
       " 247\n",
       " 254\n",
       " 230\n",
       "  29\n",
       "   0\n",
       "   0\n",
       "   0\n",
       "   0\n",
       "   0\n",
       "   0\n",
       "   0\n",
       "   0\n",
       "   0\n",
       "   0\n",
       "   0\n",
       "   0\n",
       "   0\n",
       "   0\n",
       "   0\n",
       "   0\n",
       "   0\n",
       "   0\n",
       "   0\n",
       "   0\n",
       "   0\n",
       "   0\n",
       "   0\n",
       "   0\n",
       "   0\n",
       "   6\n",
       "  99\n",
       " 248\n",
       " 253\n",
       " 253\n",
       " 130\n",
       "   0\n",
       "   0\n",
       "   0\n",
       "   0\n",
       "   0\n",
       "   0\n",
       "   0\n",
       "   0\n",
       "   0\n",
       "   0\n",
       "   0\n",
       "   0\n",
       "   0\n",
       "   0\n",
       "   0\n",
       "   0\n",
       "   0\n",
       "   0\n",
       "   0\n",
       "   0\n",
       "   0\n",
       "   0\n",
       "   0\n",
       "   0\n",
       "   0\n",
       "   0\n",
       " 122\n",
       " 253\n",
       " 253\n",
       " 253\n",
       " 242\n",
       " 127\n",
       "  27\n",
       "   0\n",
       "   0\n",
       "   0\n",
       "   0\n",
       "   0\n",
       "   0\n",
       "   0\n",
       "   0\n",
       "   0\n",
       "   0\n",
       "   0\n",
       "   0\n",
       "   0\n",
       "   0\n",
       "   0\n",
       "   0\n",
       "   0\n",
       "   0\n",
       "   0\n",
       "   0\n",
       "   0\n",
       "   0\n",
       "   0\n",
       "   0\n",
       "   0\n",
       " 170\n",
       " 253\n",
       " 253\n",
       " 253\n",
       " 254\n",
       " 253\n",
       " 228\n",
       "  42\n",
       "   0\n",
       "   0\n",
       "   0\n",
       "   0\n",
       "   0\n",
       "   0\n",
       "   0\n",
       "   0\n",
       "   0\n",
       "   0\n",
       "   0\n",
       "   0\n",
       "   0\n",
       "   0\n",
       "   0\n",
       "   0\n",
       "   0\n",
       "   0\n",
       "   0\n",
       "   0\n",
       "   0\n",
       "   0\n",
       "   0\n",
       "   0\n",
       "  69\n",
       " 210\n",
       " 253\n",
       " 253\n",
       " 254\n",
       " 253\n",
       " 253\n",
       " 227\n",
       "  39\n",
       "   0\n",
       "   0\n",
       "   0\n",
       "   0\n",
       "   0\n",
       "   0\n",
       "   0\n",
       "   0\n",
       "   0\n",
       "   0\n",
       "   0\n",
       "   0\n",
       "   0\n",
       "   0\n",
       "   0\n",
       "   0\n",
       "   0\n",
       "   0\n",
       "   0\n",
       "   0\n",
       "   0\n",
       "   0\n",
       "   0\n",
       "   0\n",
       "   0\n",
       "   0\n",
       "   0\n",
       "  15\n",
       " 111\n",
       " 215\n",
       " 254\n",
       " 150\n",
       "   0\n",
       "   0\n",
       "   0\n",
       "   0\n",
       "   0\n",
       "   0\n",
       "   0\n",
       "   0\n",
       "   0\n",
       "   0\n",
       "   0\n",
       "   0\n",
       "   0\n",
       "   0\n",
       "   0\n",
       "   0\n",
       "   0\n",
       "   0\n",
       "   0\n",
       "   0\n",
       "   0\n",
       "   0\n",
       "   0\n",
       "   0\n",
       "   0\n",
       "   0\n",
       "   0\n",
       "   0\n",
       "   0\n",
       "  31\n",
       " 246\n",
       " 237\n",
       "  38\n",
       "   0\n",
       "   0\n",
       "   0\n",
       "   0\n",
       "   0\n",
       "   0\n",
       "   0\n",
       "   0\n",
       "   0\n",
       "   0\n",
       "   0\n",
       "   0\n",
       "   0\n",
       "   0\n",
       "   0\n",
       "   0\n",
       "   0\n",
       "   0\n",
       "   0\n",
       "   0\n",
       "   0\n",
       "   0\n",
       "   0\n",
       "   0\n",
       "   0\n",
       "   0\n",
       "   0\n",
       "   0\n",
       "   0\n",
       " 243\n",
       " 253\n",
       " 146\n",
       "   0\n",
       "   0\n",
       "   0\n",
       "   0\n",
       "   0\n",
       "   0\n",
       "   0\n",
       "   0\n",
       "   0\n",
       "   0\n",
       "   0\n",
       "   0\n",
       "   0\n",
       "   0\n",
       "   0\n",
       "   0\n",
       "   0\n",
       "   0\n",
       "   0\n",
       "   0\n",
       "   0\n",
       "   0\n",
       "   0\n",
       "   0\n",
       "   0\n",
       "   0\n",
       "   0\n",
       "   0\n",
       "   0\n",
       " 243\n",
       " 253\n",
       " 165\n",
       "   0\n",
       "   0\n",
       "   0\n",
       "   0\n",
       "   0\n",
       "   0\n",
       "   0\n",
       "   0\n",
       "   0\n",
       "   0\n",
       "   0\n",
       "   0\n",
       "   0\n",
       "   0\n",
       "   0\n",
       "   0\n",
       "   0\n",
       "   0\n",
       "   0\n",
       "   0\n",
       "   0\n",
       "   0\n",
       "   0\n",
       "   0\n",
       "   0\n",
       "   0\n",
       "   0\n",
       "   0\n",
       "   0\n",
       " 243\n",
       " 253\n",
       " 140\n",
       "   0\n",
       "   0\n",
       "   0\n",
       "   0\n",
       "   0\n",
       "   0\n",
       "   0\n",
       "   0\n",
       "   0\n",
       "   0\n",
       "   0\n",
       "   0\n",
       "   0\n",
       "   0\n",
       "   0\n",
       "   0\n",
       "   0\n",
       "   0\n",
       "   0\n",
       "   0\n",
       "   0\n",
       "   0\n",
       "   0\n",
       "   0\n",
       "   0\n",
       "   0\n",
       "   0\n",
       "   0\n",
       " 118\n",
       " 251\n",
       " 253\n",
       "  55\n",
       "   0\n",
       "   0\n",
       "   0\n",
       "   0\n",
       "   0\n",
       "   0\n",
       "   0\n",
       "   0\n",
       "   0\n",
       "   0\n",
       "   0\n",
       "   0\n",
       "   0\n",
       "   0\n",
       "   0\n",
       "   0\n",
       "   0\n",
       "   0\n",
       "   0\n",
       "   0\n",
       "   0\n",
       "   9\n",
       "  60\n",
       "  12\n",
       "  12\n",
       "  12\n",
       "  75\n",
       " 151\n",
       " 250\n",
       " 253\n",
       " 222\n",
       "  29\n",
       "   0\n",
       "   0\n",
       "   0\n",
       "   0\n",
       "   0\n",
       "   0\n",
       "   0\n",
       "   0\n",
       "   0\n",
       "   0\n",
       "   0\n",
       "   0\n",
       "   0\n",
       "   0\n",
       "   0\n",
       "   0\n",
       "   0\n",
       "   0\n",
       "   0\n",
       "   0\n",
       "   0\n",
       " 199\n",
       " 253\n",
       " 253\n",
       " 253\n",
       " 253\n",
       " 255\n",
       " 253\n",
       " 253\n",
       " 250\n",
       "  73\n",
       "   0\n",
       "   0\n",
       "   0\n",
       "   0\n",
       "   0\n",
       "   0\n",
       "   0\n",
       "   0\n",
       "   0\n",
       "   0\n",
       "   0\n",
       "   0\n",
       "   0\n",
       "   0\n",
       "   0\n",
       "   0\n",
       "   0\n",
       "   0\n",
       "   0\n",
       "   0\n",
       "   0\n",
       "   0\n",
       " 165\n",
       " 253\n",
       " 253\n",
       " 253\n",
       " 253\n",
       " 254\n",
       " 253\n",
       " 253\n",
       " 116\n",
       "   0\n",
       "   0\n",
       "   0\n",
       "   0\n",
       "   0\n",
       "   0\n",
       "   0\n",
       "   0\n",
       "   0\n",
       "   0\n",
       "   0\n",
       "   0\n",
       "   0\n",
       "   0\n",
       "   0\n",
       "   0\n",
       "   0\n",
       "   0\n",
       "   0\n",
       "   0\n",
       "   0\n",
       "   0\n",
       "   0\n",
       "  12\n",
       " 133\n",
       " 162\n",
       " 253\n",
       " 157\n",
       " 143\n",
       " 114\n",
       "  33\n",
       " "
      ]
     },
     "execution_count": 6,
     "metadata": {},
     "output_type": "execute_result"
    },
    {
     "data": {
      "text/plain": [
       "  2\n",
       "   0\n",
       "   0\n",
       "   0\n",
       "   0\n",
       "   0\n",
       "   0\n",
       "   0\n",
       "   0\n",
       "   0\n",
       "   0\n",
       "   0\n",
       "   0\n",
       "   0\n",
       "   0\n",
       "   0\n",
       "   0\n",
       "   0\n",
       "   0\n",
       "   0\n",
       "   0\n",
       "   0\n",
       "   0\n",
       "   0\n",
       "   0\n",
       "   0\n",
       "   0\n",
       "   0\n",
       "   0\n",
       "   0\n",
       "   0\n",
       "   0\n",
       "   0\n",
       "   0\n",
       "   0\n",
       "   0\n",
       "   0\n",
       "   0\n",
       "   0\n",
       "   0\n",
       "   0\n",
       "   0\n",
       "   0\n",
       "   0\n",
       "   0\n",
       "   0\n",
       "   0\n",
       "   0\n",
       "   0\n",
       "   0\n",
       "   0\n",
       "   0\n",
       "   0\n",
       "   0\n",
       "   0\n",
       "   0\n",
       "   0\n",
       "   0\n",
       "   0\n",
       "   0\n",
       "   0\n",
       "   0\n",
       "   0\n",
       "   0\n",
       "   0\n",
       "   0\n",
       "   0\n",
       "   0\n",
       "   0\n",
       "   0\n",
       "   0\n",
       "   0\n",
       "   0\n",
       "   0\n",
       "   0\n",
       "   0\n",
       "   0\n",
       "   0\n",
       "   0\n",
       "   0\n",
       "   0\n",
       "   0\n",
       "   0\n",
       "   0\n",
       "   0\n",
       "   0\n",
       "   0\n",
       "   0\n",
       "   0\n",
       "   0\n",
       "   0\n",
       "   0\n",
       "   0\n",
       "   0\n",
       "   0\n",
       "   0\n",
       "   0\n",
       "   0\n",
       "   0\n",
       "   0\n",
       "   0\n",
       "   0\n",
       "   0\n",
       "   0\n",
       "   0\n",
       "   0\n",
       "   0\n",
       "   0\n",
       "   0\n",
       "   0\n",
       "   0\n",
       "   0\n",
       "   0\n",
       "   0\n",
       "   0\n",
       "   0\n",
       "   0\n",
       "   0\n",
       "   0\n",
       "   0\n",
       "   0\n",
       "   0\n",
       "   0\n",
       "   0\n",
       "   0\n",
       "   0\n",
       "   0\n",
       "   0\n",
       "   0\n",
       "   0\n",
       "   0\n",
       "   0\n",
       "   0\n",
       "   0\n",
       "   0\n",
       "   0\n",
       "   0\n",
       "   0\n",
       "   0\n",
       "   0\n",
       "   0\n",
       "   0\n",
       "   0\n",
       "   0\n",
       "   0\n",
       "   0\n",
       "   0\n",
       "   0\n",
       "   0\n",
       "   0\n",
       "   0\n",
       "   0\n",
       "   0\n",
       "   0\n",
       "   0\n",
       "   0\n",
       "   0\n",
       "   0\n",
       "   0\n",
       "   0\n",
       "   0\n",
       "   0\n",
       "   0\n",
       "   0\n",
       "   0\n",
       "   0\n",
       "   0\n",
       "   0\n",
       "   0\n",
       "   0\n",
       "   0\n",
       "   0\n",
       "   0\n",
       "   0\n",
       "   0\n",
       "   0\n",
       "   0\n",
       "   0\n",
       "   0\n",
       "   0\n",
       "   0\n",
       "   0\n",
       "   0\n",
       "   0\n",
       "   0\n",
       "   0\n",
       "   0\n",
       "   0\n",
       "   0\n",
       "   0\n",
       "   0\n",
       "   0\n",
       "   0\n",
       "   0\n",
       "   0\n",
       "   0\n",
       "   0\n",
       "   0\n",
       "   0\n",
       "   0\n",
       "   0\n",
       "   0\n",
       "   0\n",
       "   0\n",
       "   0\n",
       "[torch.DoubleTensor of size 1024]\n",
       "\n",
       "0\t\n"
      ]
     },
     "execution_count": 6,
     "metadata": {},
     "output_type": "execute_result"
    },
    {
     "data": {
      "text/plain": [
       "   0\n",
       "   0\n",
       "   0\n",
       "   0\n",
       "   0\n",
       "   0\n",
       "   0\n",
       "   0\n",
       "   0\n",
       "   0\n",
       "   0\n",
       "   0\n",
       "   0\n",
       "   0\n",
       "   0\n",
       "   0\n",
       "   0\n",
       "   0\n",
       "   0\n",
       "   0\n",
       "   0\n",
       "   0\n",
       "   0\n",
       "   0\n",
       "   0\n",
       "   0\n",
       "   0\n",
       "   0\n",
       "   0\n",
       "   0\n",
       "   0\n",
       "   0\n",
       "   0\n",
       "   0\n",
       "   0\n",
       "   0\n",
       "   0\n",
       "   0\n",
       "   0\n",
       "   0\n",
       "   0\n",
       "   0\n",
       "   0\n",
       "   0\n",
       "   0\n",
       "   0\n",
       "   0\n",
       "   0\n",
       "   0\n",
       "   0\n",
       "   0\n",
       "   0\n",
       "   0\n",
       "   0\n",
       "   0\n",
       "   0\n",
       "   0\n",
       "   0\n",
       "   0\n",
       "   0\n",
       "   0\n",
       "   0\n",
       "   0\n",
       "   0\n",
       "   0\n",
       "   0\n",
       "   0\n",
       "   0\n",
       "   0\n",
       "   0\n",
       "   0\n",
       "   0\n",
       "   0\n",
       "   0\n",
       "   0\n",
       "   0\n",
       "   0\n",
       "   0\n",
       "   0\n",
       "   0\n",
       "   0\n",
       "   0\n",
       "   0\n",
       "   0\n",
       "   0\n",
       "   0\n",
       "   0\n",
       "   0\n",
       "   0\n",
       "   0\n",
       "   0\n",
       "   0\n",
       "   0\n",
       "   0\n",
       "   0\n",
       "   0\n",
       "   0\n",
       "   0\n",
       "   0\n",
       "   0\n",
       "   0\n",
       "   0\n",
       "   0\n",
       "   0\n",
       "   0\n",
       "   0\n",
       "   0\n",
       "   0\n",
       "   0\n",
       "   0\n",
       "   0\n",
       "   0\n",
       "   0\n",
       "   0\n",
       "   0\n",
       "   0\n",
       "   0\n",
       "   0\n",
       "   0\n",
       "   0\n",
       "   0\n",
       "   0\n",
       "   0\n",
       "   0\n",
       "   0\n",
       "   0\n",
       "   0\n",
       "   0\n",
       "   0\n",
       "   0\n",
       "   0\n",
       "   0\n",
       "   0\n",
       "   0\n",
       "   0\n",
       "   0\n",
       "   0\n",
       "   0\n",
       "   0\n",
       "   0\n",
       "   0\n",
       "   0\n",
       "   0\n",
       "   0\n",
       "   0\n",
       "   0\n",
       "   0\n",
       "   0\n",
       "   0\n",
       "   0\n",
       "   0\n",
       "   0\n",
       "   0\n",
       "   0\n",
       "   0\n",
       "   0\n",
       "   0\n",
       "   0\n",
       "   0\n",
       "   0\n",
       "   0\n",
       "   0\n",
       "   0\n",
       "   0\n",
       "   0\n",
       "   0\n",
       "   0\n",
       "   0\n",
       "   0\n",
       "   0\n",
       "   0\n",
       "   0\n",
       "   0\n",
       "   0\n",
       "   0\n",
       "   0\n",
       "   0\n",
       "   0\n",
       "   0\n",
       "   0\n",
       "   0\n",
       "   0\n",
       "   0\n",
       "   0\n",
       "   0\n",
       "   0\n",
       "   0\n",
       "   0\n",
       "   0\n",
       "   0\n",
       "   0\n",
       "   0\n",
       "   0\n",
       "   0\n",
       "   0\n",
       "   0\n",
       "   0\n",
       "   0\n",
       "   0\n",
       "   0\n",
       "   0\n",
       "  23\n",
       " 254\n",
       " 254\n",
       " 254\n",
       " 254\n",
       " 172\n",
       "  96\n",
       "  15\n",
       "   0\n",
       "   0\n",
       "   0\n",
       "   0\n",
       "   0\n",
       "   0\n",
       "   0\n",
       "   0\n",
       "   0\n",
       "   0\n",
       "   0\n",
       "   0\n",
       "   0\n",
       "   0\n",
       "   0\n",
       "   0\n",
       "   0\n",
       "   0\n",
       "   0\n",
       "   0\n",
       "   0\n",
       "   0\n",
       "   0\n",
       "   0\n",
       "  23\n",
       " 253\n",
       " 253\n",
       " 253\n",
       " 253\n",
       " 253\n",
       " 253\n",
       " 139\n",
       "   0\n",
       "   0\n",
       "   0\n",
       "   0\n",
       "   0\n",
       "   0\n",
       "   0\n",
       "   0\n",
       "   0\n",
       "   0\n",
       "   0\n",
       "   0\n",
       "   0\n",
       "   0\n",
       "   0\n",
       "   0\n",
       "   0\n",
       "   0\n",
       "   0\n",
       "   0\n",
       "   0\n",
       "   0\n",
       "   0\n",
       "   0\n",
       "  14\n",
       " 154\n",
       " 232\n",
       " 253\n",
       " 253\n",
       " 253\n",
       " 253\n",
       " 249\n",
       " 108\n",
       "   0\n",
       "   0\n",
       "   0\n",
       "   0\n",
       "   0\n",
       "   0\n",
       "   0\n",
       "   0\n",
       "   0\n",
       "   0\n",
       "   0\n",
       "   0\n",
       "   0\n",
       "   0\n",
       "   0\n",
       "   0\n",
       "   0\n",
       "   0\n",
       "   0\n",
       "   0\n",
       "   0\n",
       "   0\n",
       "   0\n",
       "   0\n",
       "   0\n",
       "   8\n",
       "  10\n",
       "  10\n",
       "  10\n",
       " 164\n",
       " 254\n",
       " 193\n",
       "   4\n",
       "   0\n",
       "   0\n",
       "   0\n",
       "   0\n",
       "   0\n",
       "   0\n",
       "   0\n",
       "   0\n",
       "   0\n",
       "   0\n",
       "   0\n",
       "   0\n",
       "   0\n",
       "   0\n",
       "   0\n",
       "   0\n",
       "   0\n",
       "   0\n",
       "   0\n",
       "   0\n",
       "   0\n",
       "   0\n",
       "   0\n",
       "   0\n",
       "   0\n",
       "   0\n",
       "   0\n",
       "   0\n",
       " 183\n",
       " 254\n",
       " 253\n",
       "  44\n",
       "   0\n",
       "   0\n",
       "   0\n",
       "   0\n",
       "   0\n",
       "   0\n",
       "   0\n",
       "   0\n",
       "   0\n",
       "   0\n",
       "   0\n",
       "   0\n",
       "   0\n",
       "   0\n",
       "   0\n",
       "   0\n",
       "   0\n",
       "   0\n",
       "   0\n",
       "   0\n",
       "   0\n",
       "   0\n",
       "   0\n",
       "   0\n",
       "   0\n",
       "   0\n",
       "   0\n",
       " 100\n",
       " 247\n",
       " 254\n",
       " 230\n",
       "  29\n",
       "   0\n",
       "   0\n",
       "   0\n",
       "   0\n",
       "   0\n",
       "   0\n",
       "   0\n",
       "   0\n",
       "   0\n",
       "   0\n",
       "   0\n",
       "   0\n",
       "   0\n",
       "   0\n",
       "   0\n",
       "   0\n",
       "   0\n",
       "   0\n",
       "   0\n",
       "   0\n",
       "   0\n",
       "   0\n",
       "   0\n",
       "   0\n",
       "   0\n",
       "   6\n",
       "  99\n",
       " 248\n",
       " 253\n",
       " 253\n",
       " 130\n",
       "   0\n",
       "   0\n",
       "   0\n",
       "   0\n",
       "   0\n",
       "   0\n",
       "   0\n",
       "   0\n",
       "   0\n",
       "   0\n",
       "   0\n",
       "   0\n",
       "   0\n",
       "   0\n",
       "   0\n",
       "   0\n",
       "   0\n",
       "   0\n",
       "   0\n",
       "   0\n",
       "   0\n",
       "   0\n",
       "   0\n",
       "   0\n",
       "   0\n",
       "   0\n",
       " 122\n",
       " 253\n",
       " 253\n",
       " 253\n",
       " 242\n",
       " 127\n",
       "  27\n",
       "   0\n",
       "   0\n",
       "   0\n",
       "   0\n",
       "   0\n",
       "   0\n",
       "   0\n",
       "   0\n",
       "   0\n",
       "   0\n",
       "   0\n",
       "   0\n",
       "   0\n",
       "   0\n",
       "   0\n",
       "   0\n",
       "   0\n",
       "   0\n",
       "   0\n",
       "   0\n",
       "   0\n",
       "   0\n",
       "   0\n",
       "   0\n",
       "   0\n",
       " 170\n",
       " 253\n",
       " 253\n",
       " 253\n",
       " 254\n",
       " 253\n",
       " 228\n",
       "  42\n",
       "   0\n",
       "   0\n",
       "   0\n",
       "   0\n",
       "   0\n",
       "   0\n",
       "   0\n",
       "   0\n",
       "   0\n",
       "   0\n",
       "   0\n",
       "   0\n",
       "   0\n",
       "   0\n",
       "   0\n",
       "   0\n",
       "   0\n",
       "   0\n",
       "   0\n",
       "   0\n",
       "   0\n",
       "   0\n",
       "   0\n",
       "   0\n",
       "  69\n",
       " 210\n",
       " 253\n",
       " 253\n",
       " 254\n",
       " 253\n",
       " 253\n",
       " 227\n",
       "  39\n",
       "   0\n",
       "   0\n",
       "   0\n",
       "   0\n",
       "   0\n",
       "   0\n",
       "   0\n",
       "   0\n",
       "   0\n",
       "   0\n",
       "   0\n",
       "   0\n",
       "   0\n",
       "   0\n",
       "   0\n",
       "   0\n",
       "   0\n",
       "   0\n",
       "   0\n",
       "   0\n",
       "   0\n",
       "   0\n",
       "   0\n",
       "   0\n",
       "   0\n",
       "   0\n",
       "   0\n",
       "  15\n",
       " 111\n",
       " 215\n",
       " 254\n",
       " 150\n",
       "   0\n",
       "   0\n",
       "   0\n",
       "   0\n",
       "   0\n",
       "   0\n",
       "   0\n",
       "   0\n",
       "   0\n",
       "   0\n",
       "   0\n",
       "   0\n",
       "   0\n",
       "   0\n",
       "   0\n",
       "   0\n",
       "   0\n",
       "   0\n",
       "   0\n",
       "   0\n",
       "   0\n",
       "   0\n",
       "   0\n",
       "   0\n",
       "   0\n",
       "   0\n",
       "   0\n",
       "   0\n",
       "   0\n",
       "  31\n",
       " 246\n",
       " 237\n",
       "  38\n",
       "   0\n",
       "   0\n",
       "   0\n",
       "   0\n",
       "   0\n",
       "   0\n",
       "   0\n",
       "   0\n",
       "   0\n",
       "   0\n",
       "   0\n",
       "   0\n",
       "   0\n",
       "   0\n",
       "   0\n",
       "   0\n",
       "   0\n",
       "   0\n",
       "   0\n",
       "   0\n",
       "   0\n",
       "   0\n",
       "   0\n",
       "   0\n",
       "   0\n",
       "   0\n",
       "   0\n",
       "   0\n",
       "   0\n",
       " 243\n",
       " 253\n",
       " 146\n",
       "   0\n",
       "   0\n",
       "   0\n",
       "   0\n",
       "   0\n",
       "   0\n",
       "   0\n",
       "   0\n",
       "   0\n",
       "   0\n",
       "   0\n",
       "   0\n",
       "   0\n",
       "   0\n",
       "   0\n",
       "   0\n",
       "   0\n",
       "   0\n",
       "   0\n",
       "   0\n",
       "   0\n",
       "   0\n",
       "   0\n",
       "   0\n",
       "   0\n",
       "   0\n",
       "   0\n",
       "   0\n",
       "   0\n",
       " 243\n",
       " 253\n",
       " 165\n",
       "   0\n",
       "   0\n",
       "   0\n",
       "   0\n",
       "   0\n",
       "   0\n",
       "   0\n",
       "   0\n",
       "   0\n",
       "   0\n",
       "   0\n",
       "   0\n",
       "   0\n",
       "   0\n",
       "   0\n",
       "   0\n",
       "   0\n",
       "   0\n",
       "   0\n",
       "   0\n",
       "   0\n",
       "   0\n",
       "   0\n",
       "   0\n",
       "   0\n",
       "   0\n",
       "   0\n",
       "   0\n",
       "   0\n",
       " 243\n",
       " 253\n",
       " 140\n",
       "   0\n",
       "   0\n",
       "   0\n",
       "   0\n",
       "   0\n",
       "   0\n",
       "   0\n",
       "   0\n",
       "   0\n",
       "   0\n",
       "   0\n",
       "   0\n",
       "   0\n",
       "   0\n",
       "   0\n",
       "   0\n",
       "   0\n",
       "   0\n",
       "   0\n",
       "   0\n",
       "   0\n",
       "   0\n",
       "   0\n",
       "   0\n",
       "   0\n",
       "   0\n",
       "   0\n",
       "   0\n",
       " 118\n",
       " 251\n",
       " 253\n",
       "  55\n",
       "   0\n",
       "   0\n",
       "   0\n",
       "   0\n",
       "   0\n",
       "   0\n",
       "   0\n",
       "   0\n",
       "   0\n",
       "   0\n",
       "   0\n",
       "   0\n",
       "   0\n",
       "   0\n",
       "   0\n",
       "   0\n",
       "   0\n",
       "   0\n",
       "   0\n",
       "   0\n",
       "   0\n",
       "   9\n",
       "  60\n",
       "  12\n",
       "  12\n",
       "  12\n",
       "  75\n",
       " 151\n",
       " 250\n",
       " 253\n",
       " 222\n",
       "  29\n",
       "   0\n",
       "   0\n",
       "   0\n",
       "   0\n",
       "   0\n",
       "   0\n",
       "   0\n",
       "   0\n",
       "   0\n",
       "   0\n",
       "   0\n",
       "   0\n",
       "   0\n",
       "   0\n",
       "   0\n",
       "   0\n",
       "   0\n",
       "   0\n",
       "   0\n",
       "   0\n",
       "   0\n",
       " 199\n",
       " 253\n",
       " 253\n",
       " 253\n",
       " 253\n",
       " 255\n",
       " 253\n",
       " 253\n",
       " 250\n",
       "  73\n",
       "   0\n",
       "   0\n",
       "   0\n",
       "   0\n",
       "   0\n",
       "   0\n",
       "   0\n",
       "   0\n",
       "   0\n",
       "   0\n",
       "   0\n",
       "   0\n",
       "   0\n",
       "   0\n",
       "   0\n",
       "   0\n",
       "   0\n",
       "   0\n",
       "   0\n",
       "   0\n",
       "   0\n",
       "   0\n",
       " 165\n",
       " 253\n",
       " 253\n",
       " 253\n",
       " 253\n",
       " 254\n",
       " 253\n",
       " 253\n",
       " 116\n",
       "   0\n",
       "   0\n",
       "   0\n",
       "   0\n",
       "   0\n",
       "   0\n",
       "   0\n",
       "   0\n",
       "   0\n",
       "   0\n",
       "   0\n",
       "   0\n",
       "   0\n",
       "   0\n",
       "   0\n",
       "   0\n",
       "   0\n",
       "   0\n",
       "   0\n",
       "   0\n",
       "   0\n",
       "   0\n",
       "   0\n",
       "  12\n",
       " 133\n",
       " 162\n",
       " 253\n",
       " 157\n",
       " 143\n",
       " 114\n",
       "  33\n",
       " "
      ]
     },
     "execution_count": 6,
     "metadata": {},
     "output_type": "execute_result"
    },
    {
     "data": {
      "text/plain": [
       "  2\n",
       "   0\n",
       "   0\n",
       "   0\n",
       "   0\n",
       "   0\n",
       "   0\n",
       "   0\n",
       "   0\n",
       "   0\n",
       "   0\n",
       "   0\n",
       "   0\n",
       "   0\n",
       "   0\n",
       "   0\n",
       "   0\n",
       "   0\n",
       "   0\n",
       "   0\n",
       "   0\n",
       "   0\n",
       "   0\n",
       "   0\n",
       "   0\n",
       "   0\n",
       "   0\n",
       "   0\n",
       "   0\n",
       "   0\n",
       "   0\n",
       "   0\n",
       "   0\n",
       "   0\n",
       "   0\n",
       "   0\n",
       "   0\n",
       "   0\n",
       "   0\n",
       "   0\n",
       "   0\n",
       "   0\n",
       "   0\n",
       "   0\n",
       "   0\n",
       "   0\n",
       "   0\n",
       "   0\n",
       "   0\n",
       "   0\n",
       "   0\n",
       "   0\n",
       "   0\n",
       "   0\n",
       "   0\n",
       "   0\n",
       "   0\n",
       "   0\n",
       "   0\n",
       "   0\n",
       "   0\n",
       "   0\n",
       "   0\n",
       "   0\n",
       "   0\n",
       "   0\n",
       "   0\n",
       "   0\n",
       "   0\n",
       "   0\n",
       "   0\n",
       "   0\n",
       "   0\n",
       "   0\n",
       "   0\n",
       "   0\n",
       "   0\n",
       "   0\n",
       "   0\n",
       "   0\n",
       "   0\n",
       "   0\n",
       "   0\n",
       "   0\n",
       "   0\n",
       "   0\n",
       "   0\n",
       "   0\n",
       "   0\n",
       "   0\n",
       "   0\n",
       "   0\n",
       "   0\n",
       "   0\n",
       "   0\n",
       "   0\n",
       "   0\n",
       "   0\n",
       "   0\n",
       "   0\n",
       "   0\n",
       "   0\n",
       "   0\n",
       "   0\n",
       "   0\n",
       "   0\n",
       "   0\n",
       "   0\n",
       "   0\n",
       "   0\n",
       "   0\n",
       "   0\n",
       "   0\n",
       "   0\n",
       "   0\n",
       "   0\n",
       "   0\n",
       "   0\n",
       "   0\n",
       "   0\n",
       "   0\n",
       "   0\n",
       "   0\n",
       "   0\n",
       "   0\n",
       "   0\n",
       "   0\n",
       "   0\n",
       "   0\n",
       "   0\n",
       "   0\n",
       "   0\n",
       "   0\n",
       "   0\n",
       "   0\n",
       "   0\n",
       "   0\n",
       "   0\n",
       "   0\n",
       "   0\n",
       "   0\n",
       "   0\n",
       "   0\n",
       "   0\n",
       "   0\n",
       "   0\n",
       "   0\n",
       "   0\n",
       "   0\n",
       "   0\n",
       "   0\n",
       "   0\n",
       "   0\n",
       "   0\n",
       "   0\n",
       "   0\n",
       "   0\n",
       "   0\n",
       "   0\n",
       "   0\n",
       "   0\n",
       "   0\n",
       "   0\n",
       "   0\n",
       "   0\n",
       "   0\n",
       "   0\n",
       "   0\n",
       "   0\n",
       "   0\n",
       "   0\n",
       "   0\n",
       "   0\n",
       "   0\n",
       "   0\n",
       "   0\n",
       "   0\n",
       "   0\n",
       "   0\n",
       "   0\n",
       "   0\n",
       "   0\n",
       "   0\n",
       "   0\n",
       "   0\n",
       "   0\n",
       "   0\n",
       "   0\n",
       "   0\n",
       "   0\n",
       "   0\n",
       "   0\n",
       "   0\n",
       "   0\n",
       "   0\n",
       "   0\n",
       "   0\n",
       "   0\n",
       "   0\n",
       "   0\n",
       "   0\n",
       "   0\n",
       "   0\n",
       "   0\n",
       "   0\n",
       "[torch.DoubleTensor of size 1024]\n",
       "\n",
       "0\t\n",
       "   0\n",
       "   0\n",
       "   0\n",
       "   0\n",
       "   0\n",
       "   0\n",
       "   0\n",
       "   0\n",
       "   0\n",
       "   0\n",
       "   0\n",
       "   0\n",
       "   0\n",
       "   0\n",
       "   0\n",
       "   0\n",
       "   0\n",
       "   0\n",
       "   0\n",
       "   0\n",
       "   0\n",
       "   0\n",
       "   0\n",
       "   0\n",
       "   0\n",
       "   0\n",
       "   0\n",
       "   0\n",
       "   0\n",
       "   0\n",
       "   0\n",
       "   0\n",
       "   0\n",
       "   0\n",
       "   0\n",
       "   0\n",
       "   0\n",
       "   0\n",
       "   0\n",
       "   0\n",
       "   0\n",
       "   0\n",
       "   0\n",
       "   0\n",
       "   0\n",
       "   0\n",
       "   0\n",
       "   0\n",
       "   0\n",
       "   0\n",
       "   0\n",
       "   0\n",
       "   0\n",
       "   0\n",
       "   0\n",
       "   0\n",
       "   0\n",
       "   0\n",
       "   0\n",
       "   0\n",
       "   0\n",
       "   0\n",
       "   0\n",
       "   0\n",
       "   0\n",
       "   0\n",
       "   0\n",
       "   0\n",
       "   0\n",
       "   0\n",
       "   0\n",
       "   0\n",
       "   0\n",
       "   0\n",
       "   0\n",
       "   0\n",
       "   0\n",
       "   0\n",
       "   0\n",
       "   0\n",
       "   0\n",
       "   0\n",
       "   0\n",
       "   0\n",
       "   0\n",
       "   0\n",
       "   0\n",
       "   0\n",
       "   0\n",
       "   0\n",
       "   0\n",
       "   0\n",
       "   0\n",
       "   0\n",
       "   0\n",
       "   0\n",
       "   0\n",
       "   0\n",
       "   0\n",
       "   0\n",
       "   0\n",
       "   0\n",
       "   0\n",
       "   0\n",
       "   0\n",
       "   0\n",
       "   0\n",
       "   0\n",
       "   0\n",
       "   0\n",
       "   0\n",
       "   0\n",
       "   0\n",
       "   0\n",
       "   0\n",
       "   0\n",
       "   0\n",
       "   0\n",
       "   0\n",
       "   0\n",
       "   0\n",
       "   0\n",
       "   0\n",
       "   0\n",
       "   0\n",
       "   0\n",
       "   0\n",
       "   0\n",
       "   0\n",
       "   0\n",
       "   0\n",
       "   0\n",
       "   0\n",
       "   0\n",
       "   0\n",
       "   0\n",
       "   0\n",
       "   0\n",
       "   0\n",
       "   0\n",
       "   0\n",
       "   0\n",
       "   0\n",
       "   0\n",
       "   0\n",
       "   0\n",
       "   0\n",
       "   0\n",
       "   0\n",
       "   0\n",
       "   0\n",
       "   0\n",
       "   0\n",
       "   0\n",
       "   0\n",
       "   0\n",
       "   0\n",
       "   0\n",
       "   0\n",
       "   0\n",
       "   0\n",
       "   0\n",
       "   0\n",
       "   0\n",
       "   0\n",
       "   0\n",
       "   0\n",
       "   0\n",
       "   0\n",
       "   0\n",
       "   0\n",
       "   0\n",
       "   0\n",
       "   0\n",
       "   0\n",
       "   0\n",
       "   0\n",
       "   0\n",
       "   0\n",
       "   0\n",
       "   0\n",
       "   0\n",
       "   0\n",
       "   0\n",
       "   0\n",
       "   0\n",
       "   0\n",
       "   0\n",
       "   0\n",
       "   0\n",
       "   0\n",
       "   0\n",
       "   0\n",
       "   0\n",
       "   0\n",
       "   0\n",
       "   0\n",
       "   0\n",
       "   0\n",
       "   0\n",
       "   0\n",
       "  23\n",
       " 254\n",
       " 254\n",
       " 254\n",
       " 254\n",
       " 172\n",
       "  96\n",
       "  15\n",
       "   0\n",
       "   0\n",
       "   0\n",
       "   0\n",
       "   0\n",
       "   0\n",
       "   0\n",
       "   0\n",
       "   0\n",
       "   0\n",
       "   0\n",
       "   0\n",
       "   0\n",
       "   0\n",
       "   0\n",
       "   0\n",
       "   0\n",
       "   0\n",
       "   0\n",
       "   0\n",
       "   0\n",
       "   0\n",
       "   0\n",
       "   0\n",
       "  23\n",
       " 253\n",
       " 253\n",
       " 253\n",
       " 253\n",
       " 253\n",
       " 253\n",
       " 139\n",
       "   0\n",
       "   0\n",
       "   0\n",
       "   0\n",
       "   0\n",
       "   0\n",
       "   0\n",
       "   0\n",
       "   0\n",
       "   0\n",
       "   0\n",
       "   0\n",
       "   0\n",
       "   0\n",
       "   0\n",
       "   0\n",
       "   0\n",
       "   0\n",
       "   0\n",
       "   0\n",
       "   0\n",
       "   0\n",
       "   0\n",
       "   0\n",
       "  14\n",
       " 154\n",
       " 232\n",
       " 253\n",
       " 253\n",
       " 253\n",
       " 253\n",
       " 249\n",
       " 108\n",
       "   0\n",
       "   0\n",
       "   0\n",
       "   0\n",
       "   0\n",
       "   0\n",
       "   0\n",
       "   0\n",
       "   0\n",
       "   0\n",
       "   0\n",
       "   0\n",
       "   0\n",
       "   0\n",
       "   0\n",
       "   0\n",
       "   0\n",
       "   0\n",
       "   0\n",
       "   0\n",
       "   0\n",
       "   0\n",
       "   0\n",
       "   0\n",
       "   0\n",
       "   8\n",
       "  10\n",
       "  10\n",
       "  10\n",
       " 164\n",
       " 254\n",
       " 193\n",
       "   4\n",
       "   0\n",
       "   0\n",
       "   0\n",
       "   0\n",
       "   0\n",
       "   0\n",
       "   0\n",
       "   0\n",
       "   0\n",
       "   0\n",
       "   0\n",
       "   0\n",
       "   0\n",
       "   0\n",
       "   0\n",
       "   0\n",
       "   0\n",
       "   0\n",
       "   0\n",
       "   0\n",
       "   0\n",
       "   0\n",
       "   0\n",
       "   0\n",
       "   0\n",
       "   0\n",
       "   0\n",
       "   0\n",
       " 183\n",
       " 254\n",
       " 253\n",
       "  44\n",
       "   0\n",
       "   0\n",
       "   0\n",
       "   0\n",
       "   0\n",
       "   0\n",
       "   0\n",
       "   0\n",
       "   0\n",
       "   0\n",
       "   0\n",
       "   0\n",
       "   0\n",
       "   0\n",
       "   0\n",
       "   0\n",
       "   0\n",
       "   0\n",
       "   0\n",
       "   0\n",
       "   0\n",
       "   0\n",
       "   0\n",
       "   0\n",
       "   0\n",
       "   0\n",
       "   0\n",
       " 100\n",
       " 247\n",
       " 254\n",
       " 230\n",
       "  29\n",
       "   0\n",
       "   0\n",
       "   0\n",
       "   0\n",
       "   0\n",
       "   0\n",
       "   0\n",
       "   0\n",
       "   0\n",
       "   0\n",
       "   0\n",
       "   0\n",
       "   0\n",
       "   0\n",
       "   0\n",
       "   0\n",
       "   0\n",
       "   0\n",
       "   0\n",
       "   0\n",
       "   0\n",
       "   0\n",
       "   0\n",
       "   0\n",
       "   0\n",
       "   6\n",
       "  99\n",
       " 248\n",
       " 253\n",
       " 253\n",
       " 130\n",
       "   0\n",
       "   0\n",
       "   0\n",
       "   0\n",
       "   0\n",
       "   0\n",
       "   0\n",
       "   0\n",
       "   0\n",
       "   0\n",
       "   0\n",
       "   0\n",
       "   0\n",
       "   0\n",
       "   0\n",
       "   0\n",
       "   0\n",
       "   0\n",
       "   0\n",
       "   0\n",
       "   0\n",
       "   0\n",
       "   0\n",
       "   0\n",
       "   0\n",
       "   0\n",
       " 122\n",
       " 253\n",
       " 253\n",
       " 253\n",
       " 242\n",
       " 127\n",
       "  27\n",
       "   0\n",
       "   0\n",
       "   0\n",
       "   0\n",
       "   0\n",
       "   0\n",
       "   0\n",
       "   0\n",
       "   0\n",
       "   0\n",
       "   0\n",
       "   0\n",
       "   0\n",
       "   0\n",
       "   0\n",
       "   0\n",
       "   0\n",
       "   0\n",
       "   0\n",
       "   0\n",
       "   0\n",
       "   0\n",
       "   0\n",
       "   0\n",
       "   0\n",
       " 170\n",
       " 253\n",
       " 253\n",
       " 253\n",
       " 254\n",
       " 253\n",
       " 228\n",
       "  42\n",
       "   0\n",
       "   0\n",
       "   0\n",
       "   0\n",
       "   0\n",
       "   0\n",
       "   0\n",
       "   0\n",
       "   0\n",
       "   0\n",
       "   0\n",
       "   0\n",
       "   0\n",
       "   0\n",
       "   0\n",
       "   0\n",
       "   0\n",
       "   0\n",
       "   0\n",
       "   0\n",
       "   0\n",
       "   0\n",
       "   0\n",
       "   0\n",
       "  69\n",
       " 210\n",
       " 253\n",
       " 253\n",
       " 254\n",
       " 253\n",
       " 253\n",
       " 227\n",
       "  39\n",
       "   0\n",
       "   0\n",
       "   0\n",
       "   0\n",
       "   0\n",
       "   0\n",
       "   0\n",
       "   0\n",
       "   0\n",
       "   0\n",
       "   0\n",
       "   0\n",
       "   0\n",
       "   0\n",
       "   0\n",
       "   0\n",
       "   0\n",
       "   0\n",
       "   0\n",
       "   0\n",
       "   0\n",
       "   0\n",
       "   0\n",
       "   0\n",
       "   0\n",
       "   0\n",
       "   0\n",
       "  15\n",
       " 111\n",
       " 215\n",
       " 254\n",
       " 150\n",
       "   0\n",
       "   0\n",
       "   0\n",
       "   0\n",
       "   0\n",
       "   0\n",
       "   0\n",
       "   0\n",
       "   0\n",
       "   0\n",
       "   0\n",
       "   0\n",
       "   0\n",
       "   0\n",
       "   0\n",
       "   0\n",
       "   0\n",
       "   0\n",
       "   0\n",
       "   0\n",
       "   0\n",
       "   0\n",
       "   0\n",
       "   0\n",
       "   0\n",
       "   0\n",
       "   0\n",
       "   0\n",
       "   0\n",
       "  31\n",
       " 246\n",
       " 237\n",
       "  38\n",
       "   0\n",
       "   0\n",
       "   0\n",
       "   0\n",
       "   0\n",
       "   0\n",
       "   0\n",
       "   0\n",
       "   0\n",
       "   0\n",
       "   0\n",
       "   0\n",
       "   0\n",
       "   0\n",
       "   0\n",
       "   0\n",
       "   0\n",
       "   0\n",
       "   0\n",
       "   0\n",
       "   0\n",
       "   0\n",
       "   0\n",
       "   0\n",
       "   0\n",
       "   0\n",
       "   0\n",
       "   0\n",
       "   0\n",
       " 243\n",
       " 253\n",
       " 146\n",
       "   0\n",
       "   0\n",
       "   0\n",
       "   0\n",
       "   0\n",
       "   0\n",
       "   0\n",
       "   0\n",
       "   0"
      ]
     },
     "execution_count": 6,
     "metadata": {},
     "output_type": "execute_result"
    },
    {
     "data": {
      "text/plain": [
       "\n",
       "   0\n",
       "   0\n",
       "   0\n",
       "   0\n",
       "   0\n",
       "   0\n",
       "   0\n",
       "   0\n",
       "   0\n",
       "   0\n",
       "   0\n",
       "   0\n",
       "   0\n",
       "   0\n",
       "   0\n",
       "   0\n",
       "   0\n",
       "   0\n",
       "   0\n",
       "   0\n",
       " 243\n",
       " 253\n",
       " 165\n",
       "   0\n",
       "   0\n",
       "   0\n",
       "   0\n",
       "   0\n",
       "   0\n",
       "   0\n",
       "   0\n",
       "   0\n",
       "   0\n",
       "   0\n",
       "   0\n",
       "   0\n",
       "   0\n",
       "   0\n",
       "   0\n",
       "   0\n",
       "   0\n",
       "   0\n",
       "   0\n",
       "   0\n",
       "   0\n",
       "   0\n",
       "   0\n",
       "   0\n",
       "   0\n",
       "   0\n",
       "   0\n",
       "   0\n",
       " 243\n",
       " 253\n",
       " 140\n",
       "   0\n",
       "   0\n",
       "   0\n",
       "   0\n",
       "   0\n",
       "   0\n",
       "   0\n",
       "   0\n",
       "   0\n",
       "   0\n",
       "   0\n",
       "   0\n",
       "   0\n",
       "   0\n",
       "   0\n",
       "   0\n",
       "   0\n",
       "   0\n",
       "   0\n",
       "   0\n",
       "   0\n",
       "   0\n",
       "   0\n",
       "   0\n",
       "   0\n",
       "   0\n",
       "   0\n",
       "   0\n",
       " 118\n",
       " 251\n",
       " 253\n",
       "  55\n",
       "   0\n",
       "   0\n",
       "   0\n",
       "   0\n",
       "   0\n",
       "   0\n",
       "   0\n",
       "   0\n",
       "   0\n",
       "   0\n",
       "   0\n",
       "   0\n",
       "   0\n",
       "   0\n",
       "   0\n",
       "   0\n",
       "   0\n",
       "   0\n",
       "   0\n",
       "   0\n",
       "   0\n",
       "   9\n",
       "  60\n",
       "  12\n",
       "  12\n",
       "  12\n",
       "  75\n",
       " 151\n",
       " 250\n",
       " 253\n",
       " 222\n",
       "  29\n",
       "   0\n",
       "   0\n",
       "   0\n",
       "   0\n",
       "   0\n",
       "   0\n",
       "   0\n",
       "   0\n",
       "   0\n",
       "   0\n",
       "   0\n",
       "   0\n",
       "   0\n",
       "   0\n",
       "   0\n",
       "   0\n",
       "   0\n",
       "   0\n",
       "   0\n",
       "   0\n",
       "   0\n",
       " 199\n",
       " 253\n",
       " 253\n",
       " 253\n",
       " 253\n",
       " 255\n",
       " 253\n",
       " 253\n",
       " 250\n",
       "  73\n",
       "   0\n",
       "   0\n",
       "   0\n",
       "   0\n",
       "   0\n",
       "   0\n",
       "   0\n",
       "   0\n",
       "   0\n",
       "   0\n",
       "   0\n",
       "   0\n",
       "   0\n",
       "   0\n",
       "   0\n",
       "   0\n",
       "   0\n",
       "   0\n",
       "   0\n",
       "   0\n",
       "   0\n",
       "   0\n",
       " 165\n",
       " 253\n",
       " 253\n",
       " 253\n",
       " 253\n",
       " 254\n",
       " 253\n",
       " 253\n",
       " 116\n",
       "   0\n",
       "   0\n",
       "   0\n",
       "   0\n",
       "   0\n",
       "   0\n",
       "   0\n",
       "   0\n",
       "   0\n",
       "   0\n",
       "   0\n",
       "   0\n",
       "   0\n",
       "   0\n",
       "   0\n",
       "   0\n",
       "   0\n",
       "   0\n",
       "   0\n",
       "   0\n",
       "   0\n",
       "   0\n",
       "   0\n",
       "  12\n",
       " 133\n",
       " 162\n",
       " 253\n",
       " 157\n",
       " 143\n",
       " 114\n",
       "  33\n",
       "   2\n",
       "   0\n",
       "   0\n",
       "   0\n",
       "   0\n",
       "   0\n",
       "   0\n",
       "   0\n",
       "   0\n",
       "   0\n",
       "   0\n",
       "   0\n",
       "   0\n",
       "   0\n",
       "   0\n",
       "   0\n",
       "   0\n",
       "   0\n",
       "   0\n",
       "   0\n",
       "   0\n",
       "   0\n",
       "   0\n",
       "   0\n",
       "   0\n",
       "   0\n",
       "   0\n",
       "   0\n",
       "   0\n",
       "   0\n",
       "   0\n",
       "   0\n",
       "   0\n",
       "   0\n",
       "   0\n",
       "   0\n",
       "   0\n",
       "   0\n",
       "   0\n",
       "   0\n",
       "   0\n",
       "   0\n",
       "   0\n",
       "   0\n",
       "   0\n",
       "   0\n",
       "   0\n",
       "   0\n",
       "   0\n",
       "   0\n",
       "   0\n",
       "   0\n",
       "   0\n",
       "   0\n",
       "   0\n",
       "   0\n",
       "   0\n",
       "   0\n",
       "   0\n",
       "   0\n",
       "   0\n",
       "   0\n",
       "   0\n",
       "   0\n",
       "   0\n",
       "   0\n",
       "   0\n",
       "   0\n",
       "   0\n",
       "   0\n",
       "   0\n",
       "   0\n",
       "   0\n",
       "   0\n",
       "   0\n",
       "   0\n",
       "   0\n",
       "   0\n",
       "   0\n",
       "   0\n",
       "   0\n",
       "   0\n",
       "   0\n",
       "   0\n",
       "   0\n",
       "   0\n",
       "   0\n",
       "   0\n",
       "   0\n",
       "   0\n",
       "   0\n",
       "   0\n",
       "   0\n",
       "   0\n",
       "   0\n",
       "   0\n",
       "   0\n",
       "   0\n",
       "   0\n",
       "   0\n",
       "   0\n",
       "   0\n",
       "   0\n",
       "   0\n",
       "   0\n",
       "   0\n",
       "   0\n",
       "   0\n",
       "   0\n",
       "   0\n",
       "   0\n",
       "   0\n",
       "   0\n",
       "   0\n",
       "   0\n",
       "   0\n",
       "   0\n",
       "   0\n",
       "   0\n",
       "   0\n",
       "   0\n",
       "   0\n",
       "   0\n",
       "   0\n",
       "   0\n",
       "   0\n",
       "   0\n",
       "   0\n",
       "   0\n",
       "   0\n",
       "   0\n",
       "   0\n",
       "   0\n",
       "   0\n",
       "   0\n",
       "   0\n",
       "   0\n",
       "   0\n",
       "   0\n",
       "   0\n",
       "   0\n",
       "   0\n",
       "   0\n",
       "   0\n",
       "   0\n",
       "   0\n",
       "   0\n",
       "   0\n",
       "   0\n",
       "   0\n",
       "   0\n",
       "   0\n",
       "   0\n",
       "   0\n",
       "   0\n",
       "   0\n",
       "   0\n",
       "   0\n",
       "   0\n",
       "   0\n",
       "   0\n",
       "   0\n",
       "   0\n",
       "   0\n",
       "   0\n",
       "   0\n",
       "   0\n",
       "   0\n",
       "   0\n",
       "   0\n",
       "   0\n",
       "   0\n",
       "   0\n",
       "   0\n",
       "   0\n",
       "   0\n",
       "   0\n",
       "   0\n",
       "   0\n",
       "   0\n",
       "   0\n",
       "   0\n",
       "   0\n",
       "   0\n",
       "   0\n",
       "   0\n",
       "   0\n",
       "   0\n",
       "   0\n",
       "   0\n",
       "   0\n",
       "   0\n",
       "   0\n",
       "   0\n",
       "   0\n",
       "   0\n",
       "   0\n",
       "   0\n",
       "   0\n",
       "   0\n",
       "   0\n",
       "   0\n",
       "   0\n",
       "   0\n",
       "   0\n",
       "[torch.DoubleTensor of size 1024]\n",
       "\n",
       "0\t\n"
      ]
     },
     "execution_count": 6,
     "metadata": {},
     "output_type": "execute_result"
    },
    {
     "data": {
      "text/plain": [
       "   0\n",
       "   0\n",
       "   0\n",
       "   0\n",
       "   0\n",
       "   0\n",
       "   0\n",
       "   0\n",
       "   0\n",
       "   0\n",
       "   0\n",
       "   0\n",
       "   0\n",
       "   0\n",
       "   0\n",
       "   0\n",
       "   0\n",
       "   0\n",
       "   0\n",
       "   0\n",
       "   0\n",
       "   0\n",
       "   0\n",
       "   0\n",
       "   0\n",
       "   0\n",
       "   0\n",
       "   0\n",
       "   0\n",
       "   0\n",
       "   0\n",
       "   0\n",
       "   0\n",
       "   0\n",
       "   0\n",
       "   0\n",
       "   0\n",
       "   0\n",
       "   0\n",
       "   0\n",
       "   0\n",
       "   0\n",
       "   0\n",
       "   0\n",
       "   0\n",
       "   0\n",
       "   0\n",
       "   0\n",
       "   0\n",
       "   0\n",
       "   0\n",
       "   0\n",
       "   0\n",
       "   0\n",
       "   0\n",
       "   0\n",
       "   0\n",
       "   0\n",
       "   0\n",
       "   0\n",
       "   0\n",
       "   0\n",
       "   0\n",
       "   0\n",
       "   0\n",
       "   0\n",
       "   0\n",
       "   0\n",
       "   0\n",
       "   0\n",
       "   0\n",
       "   0\n",
       "   0\n",
       "   0\n",
       "   0\n",
       "   0\n",
       "   0\n",
       "   0\n",
       "   0\n",
       "   0\n",
       "   0\n",
       "   0\n",
       "   0\n",
       "   0\n",
       "   0\n",
       "   0\n",
       "   0\n",
       "   0\n",
       "   0\n",
       "   0\n",
       "   0\n",
       "   0\n",
       "   0\n",
       "   0\n",
       "   0\n",
       "   0\n",
       "   0\n",
       "   0\n",
       "   0\n",
       "   0\n",
       "   0\n",
       "   0\n",
       "   0\n",
       "   0\n",
       "   0\n",
       "   0\n",
       "   0\n",
       "   0\n",
       "   0\n",
       "   0\n",
       "   0\n",
       "   0\n",
       "   0\n",
       "   0\n",
       "   0\n",
       "   0\n",
       "   0\n",
       "   0\n",
       "   0\n",
       "   0\n",
       "   0\n",
       "   0\n",
       "   0\n",
       "   0\n",
       "   0\n",
       "   0\n",
       "   0\n",
       "   0\n",
       "   0\n",
       "   0\n",
       "   0\n",
       "   0\n",
       "   0\n",
       "   0\n",
       "   0\n",
       "   0\n",
       "   0\n",
       "   0\n",
       "   0\n",
       "   0\n",
       "   0\n",
       "   0\n",
       "   0\n",
       "   0\n",
       "   0\n",
       "   0\n",
       "   0\n",
       "   0\n",
       "   0\n",
       "   0\n",
       "   0\n",
       "   0\n",
       "   0\n",
       "   0\n",
       "   0\n",
       "   0\n",
       "   0\n",
       "   0\n",
       "   0\n",
       "   0\n",
       "   0\n",
       "   0\n",
       "   0\n",
       "   0\n",
       "   0\n",
       "   0\n",
       "   0\n",
       "   0\n",
       "   0\n",
       "   0\n",
       "   0\n",
       "   0\n",
       "   0\n",
       "   0\n",
       "   0\n",
       "   0\n",
       "   0\n",
       "   0\n",
       "   0\n",
       "   0\n",
       "   0\n",
       "   0\n",
       "   0\n",
       "   0\n",
       "   0\n",
       "   0\n",
       "   0\n",
       "   0\n",
       "   0\n",
       "   0\n",
       "   0\n",
       "   0\n",
       "   0\n",
       "   0\n",
       "   0\n",
       "   0\n",
       "   0\n",
       "   0\n",
       "   0\n",
       "   0\n",
       "   0\n",
       "  23\n",
       " 254\n",
       " 254\n",
       " 254\n",
       " 254\n",
       " 172\n",
       "  96\n",
       "  15\n",
       "   0\n",
       "   0\n",
       "   0\n",
       "   0\n",
       "   0\n",
       "   0\n",
       "   0\n",
       "   0\n",
       "   0\n",
       "   0\n",
       "   0\n",
       "   0\n",
       "   0\n",
       "   0\n",
       "   0\n",
       "   0\n",
       "   0\n",
       "   0\n",
       "   0\n",
       "   0\n",
       "   0\n",
       "   0\n",
       "   0\n",
       "   0\n",
       "  23\n",
       " 253\n",
       " 253\n",
       " 253\n",
       " 253\n",
       " 253\n",
       " 253\n",
       " 139\n",
       "   0\n",
       "   0\n",
       "   0\n",
       "   0\n",
       "   0\n",
       "   0\n",
       "   0\n",
       "   0\n",
       "   0\n",
       "   0\n",
       "   0\n",
       "   0\n",
       "   0\n",
       "   0\n",
       "   0\n",
       "   0\n",
       "   0\n",
       "   0\n",
       "   0\n",
       "   0\n",
       "   0\n",
       "   0\n",
       "   0\n",
       "   0\n",
       "  14\n",
       " 154\n",
       " 232\n",
       " 253\n",
       " 253\n",
       " 253\n",
       " 253\n",
       " 249\n",
       " 108\n",
       "   0\n",
       "   0\n",
       "   0\n",
       "   0\n",
       "   0\n",
       "   0\n",
       "   0\n",
       "   0\n",
       "   0\n",
       "   0\n",
       "   0\n",
       "   0\n",
       "   0\n",
       "   0\n",
       "   0\n",
       "   0\n",
       "   0\n",
       "   0\n",
       "   0\n",
       "   0\n",
       "   0\n",
       "   0\n",
       "   0\n",
       "   0\n",
       "   0\n",
       "   8\n",
       "  10\n",
       "  10\n",
       "  10\n",
       " 164\n",
       " 254\n",
       " 193\n",
       "   4\n",
       "   0\n",
       "   0\n",
       "   0\n",
       "   0\n",
       "   0\n",
       "   0\n",
       "   0\n",
       "   0\n",
       "   0\n",
       "   0\n",
       "   0\n",
       "   0\n",
       "   0\n",
       "   0\n",
       "   0\n",
       "   0\n",
       "   0\n",
       "   0\n",
       "   0\n",
       "   0\n",
       "   0\n",
       "   0\n",
       "   0\n",
       "   0\n",
       "   0\n",
       "   0\n",
       "   0\n",
       "   0\n",
       " 183\n",
       " 254\n",
       " 253\n",
       "  44\n",
       "   0\n",
       "   0\n",
       "   0\n",
       "   0\n",
       "   0\n",
       "   0\n",
       "   0\n",
       "   0\n",
       "   0\n",
       "   0\n",
       "   0\n",
       "   0\n",
       "   0\n",
       "   0\n",
       "   0\n",
       "   0\n",
       "   0\n",
       "   0\n",
       "   0\n",
       "   0\n",
       "   0\n",
       "   0\n",
       "   0\n",
       "   0\n",
       "   0\n",
       "   0\n",
       "   0\n",
       " 100\n",
       " 247\n",
       " 254\n",
       " 230\n",
       "  29\n",
       "   0\n",
       "   0\n",
       "   0\n",
       "   0\n",
       "   0\n",
       "   0\n",
       "   0\n",
       "   0\n",
       "   0\n",
       "   0\n",
       "   0\n",
       "   0\n",
       "   0\n",
       "   0\n",
       "   0\n",
       "   0\n",
       "   0\n",
       "   0\n",
       "   0\n",
       "   0\n",
       "   0\n",
       "   0\n",
       "   0\n",
       "   0\n",
       "   0\n",
       "   6\n",
       "  99\n",
       " 248\n",
       " 253\n",
       " 253\n",
       " 130\n",
       "   0\n",
       "   0\n",
       "   0\n",
       "   0\n",
       "   0\n",
       "   0\n",
       "   0\n",
       "   0\n",
       "   0\n",
       "   0\n",
       "   0\n",
       "   0\n",
       "   0\n",
       "   0\n",
       "   0\n",
       "   0\n",
       "   0\n",
       "   0\n",
       "   0\n",
       "   0\n",
       "   0\n",
       "   0\n",
       "   0\n",
       "   0\n",
       "   0\n",
       "   0\n",
       " 122\n",
       " 253\n",
       " 253\n",
       " 253\n",
       " 242\n",
       " 127\n",
       "  27\n",
       "   0\n",
       "   0\n",
       "   0\n",
       "   0\n",
       "   0\n",
       "   0\n",
       "   0\n",
       "   0\n",
       "   0\n",
       "   0\n",
       "   0\n",
       "   0\n",
       "   0\n",
       "   0\n",
       "   0\n",
       "   0\n",
       "   0\n",
       "   0\n",
       "   0\n",
       "   0\n",
       "   0\n",
       "   0\n",
       "   0\n",
       "   0\n",
       "   0\n",
       " 170\n",
       " 253\n",
       " 253\n",
       " 253\n",
       " 254\n",
       " 253\n",
       " 228\n",
       "  42\n",
       "   0\n",
       "   0\n",
       "   0\n",
       "   0\n",
       "   0\n",
       "   0\n",
       "   0\n",
       "   0\n",
       "   0\n",
       "   0\n",
       "   0\n",
       "   0\n",
       "   0\n",
       "   0\n",
       "   0\n",
       "   0\n",
       "   0\n",
       "   0\n",
       "   0\n",
       "   0\n",
       "   0\n",
       "   0\n",
       "   0\n",
       "   0\n",
       "  69\n",
       " 210\n",
       " 253\n",
       " 253\n",
       " 254\n",
       " 253\n",
       " 253\n",
       " 227\n",
       "  39\n",
       "   0\n",
       "   0\n",
       "   0\n",
       "   0\n",
       "   0\n",
       "   0\n",
       "   0\n",
       "   0\n",
       "   0\n",
       "   0\n",
       "   0\n",
       "   0\n",
       "   0\n",
       "   0\n",
       "   0\n",
       "   0\n",
       "   0\n",
       "   0\n",
       "   0\n",
       "   0\n",
       "   0\n",
       "   0\n",
       "   0\n",
       "   0\n",
       "   0\n",
       "   0\n",
       "   0\n",
       "  15\n",
       " 111\n",
       " 215\n",
       " 254\n",
       " 150\n",
       "   0\n",
       "   0\n",
       "   0\n",
       "   0\n",
       "   0\n",
       "   0\n",
       "   0\n",
       "   0\n",
       "   0\n",
       "   0\n",
       "   0\n",
       "   0\n",
       "   0\n",
       "   0\n",
       "   0\n",
       "   0\n",
       "   0\n",
       "   0\n",
       "   0\n",
       "   0\n",
       "   0\n",
       "   0\n",
       "   0\n",
       "   0\n",
       "   0\n",
       "   0\n",
       "   0\n",
       "   0\n",
       "   0\n",
       "  31\n",
       " 246\n",
       " 237\n",
       "  38\n",
       "   0\n",
       "   0\n",
       "   0\n",
       "   0\n",
       "   0\n",
       "   0\n",
       "   0\n",
       "   0\n",
       "   0\n",
       "   0\n",
       "   0\n",
       "   0\n",
       "   0\n",
       "   0\n",
       "   0\n",
       "   0\n",
       "   0\n",
       "   0\n",
       "   0\n",
       "   0\n",
       "   0\n",
       "   0\n",
       "   0\n",
       "   0\n",
       "   0\n",
       "   0\n",
       "   0\n",
       "   0\n",
       "   0\n",
       " 243\n",
       " 253\n",
       " 146\n",
       "   0\n",
       "   0\n",
       "   0\n",
       "   0\n",
       "   0\n",
       "   0\n",
       "   0\n",
       "   0\n",
       "   0\n",
       "   0\n",
       "   0\n",
       "   0\n",
       "   0\n",
       "   0\n",
       "   0\n",
       "   0\n",
       "   0\n",
       "   0\n",
       "   0\n",
       "   0\n",
       "   0\n",
       "   0\n",
       "   0\n",
       "   0\n",
       "   0\n",
       "   0\n",
       "   0\n",
       "   0\n",
       "   0\n",
       " 243\n",
       " 253\n",
       " 165\n",
       "   0\n",
       "   0\n",
       "   0\n",
       "   0\n",
       "   0\n",
       "   0\n",
       "   0\n",
       "   0\n",
       "   0\n",
       "   0\n",
       "   0\n",
       "   0\n",
       "   0\n",
       "   0\n",
       "   0\n",
       "   0\n",
       "   0\n",
       "   0\n",
       "   0\n",
       "   0\n",
       "   0\n",
       "   0\n",
       "   0\n",
       "   0\n",
       "   0\n",
       "   0\n",
       "   0\n",
       "   0\n",
       "   0\n",
       " 243\n",
       " 253\n",
       " 140\n",
       "   0\n",
       "   0\n",
       "   0\n",
       "   0\n",
       "   0\n",
       "   0\n",
       "   0\n",
       "   0\n",
       "   0\n",
       "   0\n",
       "   0\n",
       "   0\n",
       "   0\n",
       "   0\n",
       "   0\n",
       "   0\n",
       "   0\n",
       "   0\n",
       "   0\n",
       "   0\n",
       "   0\n",
       "   0\n",
       "   0\n",
       "   0\n",
       "   0\n",
       "   0\n",
       "   0\n",
       "   0\n",
       " 118\n",
       " 251\n",
       " 253\n",
       "  55\n",
       "   0\n",
       "   0\n",
       "   0\n",
       "   0\n",
       "   0\n",
       "   0\n",
       "   0\n",
       "   0\n",
       "   0\n",
       "   0\n",
       "   0\n",
       "   0\n",
       "   0\n",
       "   0\n",
       "   0\n",
       "   0\n",
       "   0\n",
       "   0\n",
       "   0\n",
       "   0\n",
       "   0\n",
       "   9\n",
       "  60\n",
       "  12\n",
       "  12\n",
       "  12\n",
       "  75\n",
       " 151\n",
       " 250\n",
       " 253\n",
       " 222\n",
       "  29\n",
       "   0\n",
       "   0\n",
       "   0\n",
       "   0\n",
       "   0\n",
       "   0\n",
       "   0\n",
       "   0\n",
       "   0\n",
       "   0\n",
       "   0\n",
       "   0\n",
       "   0\n",
       "   0\n",
       "   0\n",
       "   0\n",
       "   0\n",
       "   0\n",
       "   0\n",
       "   0\n",
       "   0\n",
       " 199\n",
       " 253\n",
       " 253\n",
       " 253\n",
       " 253\n",
       " 255\n",
       " 253\n",
       " 253\n",
       " 250\n",
       "  73\n",
       "   0\n",
       "   0\n",
       "   0\n",
       "   0\n",
       "   0\n",
       "   0\n",
       "   0\n",
       "   0\n",
       "   0\n",
       "   0\n",
       "   0\n",
       "   0\n",
       "   0\n",
       "   0\n",
       "   0\n",
       "   0\n",
       "   0\n",
       "   0\n",
       "   0\n",
       "   0\n",
       "   0\n",
       "   0\n",
       " 165\n",
       " 253\n",
       " 253\n",
       " 253\n",
       " 253\n",
       " 254\n",
       " 253\n",
       " 253\n",
       " 116\n",
       "   0\n",
       "   0\n",
       "   0\n",
       "   0\n",
       "   0\n",
       "   0\n",
       "   0\n",
       "   0\n",
       "   0\n",
       "   0\n",
       "   0\n",
       "   0\n",
       "   0\n",
       "   0\n",
       "   0\n",
       "   0\n",
       "   0\n",
       "   0\n",
       "   0\n",
       "   0\n",
       "   0\n",
       "   0\n",
       "   0\n",
       "  12\n",
       " 133\n",
       " 162\n",
       " 253\n",
       " 157\n",
       " 143\n",
       " 114\n",
       "  33\n",
       " "
      ]
     },
     "execution_count": 6,
     "metadata": {},
     "output_type": "execute_result"
    },
    {
     "data": {
      "text/plain": [
       "  2\n",
       "   0\n",
       "   0\n",
       "   0\n",
       "   0\n",
       "   0\n",
       "   0\n",
       "   0\n",
       "   0\n",
       "   0\n",
       "   0\n",
       "   0\n",
       "   0\n",
       "   0\n",
       "   0\n",
       "   0\n",
       "   0\n",
       "   0\n",
       "   0\n",
       "   0\n",
       "   0\n",
       "   0\n",
       "   0\n",
       "   0\n",
       "   0\n",
       "   0\n",
       "   0\n",
       "   0\n",
       "   0\n",
       "   0\n",
       "   0\n",
       "   0\n",
       "   0\n",
       "   0\n",
       "   0\n",
       "   0\n",
       "   0\n",
       "   0\n",
       "   0\n",
       "   0\n",
       "   0\n",
       "   0\n",
       "   0\n",
       "   0\n",
       "   0\n",
       "   0\n",
       "   0\n",
       "   0\n",
       "   0\n",
       "   0\n",
       "   0\n",
       "   0\n",
       "   0\n",
       "   0\n",
       "   0\n",
       "   0\n",
       "   0\n",
       "   0\n",
       "   0\n",
       "   0\n",
       "   0\n",
       "   0\n",
       "   0\n",
       "   0\n",
       "   0\n",
       "   0\n",
       "   0\n",
       "   0\n",
       "   0\n",
       "   0\n",
       "   0\n",
       "   0\n",
       "   0\n",
       "   0\n",
       "   0\n",
       "   0\n",
       "   0\n",
       "   0\n",
       "   0\n",
       "   0\n",
       "   0\n",
       "   0\n",
       "   0\n",
       "   0\n",
       "   0\n",
       "   0\n",
       "   0\n",
       "   0\n",
       "   0\n",
       "   0\n",
       "   0\n",
       "   0\n",
       "   0\n",
       "   0\n",
       "   0\n",
       "   0\n",
       "   0\n",
       "   0\n",
       "   0\n",
       "   0\n",
       "   0\n",
       "   0\n",
       "   0\n",
       "   0\n",
       "   0\n",
       "   0\n",
       "   0\n",
       "   0\n",
       "   0\n",
       "   0\n",
       "   0\n",
       "   0\n",
       "   0\n",
       "   0\n",
       "   0\n",
       "   0\n",
       "   0\n",
       "   0\n",
       "   0\n",
       "   0\n",
       "   0\n",
       "   0\n",
       "   0\n",
       "   0\n",
       "   0\n",
       "   0\n",
       "   0\n",
       "   0\n",
       "   0\n",
       "   0\n",
       "   0\n",
       "   0\n",
       "   0\n",
       "   0\n",
       "   0\n",
       "   0\n",
       "   0\n",
       "   0\n",
       "   0\n",
       "   0\n",
       "   0\n",
       "   0\n",
       "   0\n",
       "   0\n",
       "   0\n",
       "   0\n",
       "   0\n",
       "   0\n",
       "   0\n",
       "   0\n",
       "   0\n",
       "   0\n",
       "   0\n",
       "   0\n",
       "   0\n",
       "   0\n",
       "   0\n",
       "   0\n",
       "   0\n",
       "   0\n",
       "   0\n",
       "   0\n",
       "   0\n",
       "   0\n",
       "   0\n",
       "   0\n",
       "   0\n",
       "   0\n",
       "   0\n",
       "   0\n",
       "   0\n",
       "   0\n",
       "   0\n",
       "   0\n",
       "   0\n",
       "   0\n",
       "   0\n",
       "   0\n",
       "   0\n",
       "   0\n",
       "   0\n",
       "   0\n",
       "   0\n",
       "   0\n",
       "   0\n",
       "   0\n",
       "   0\n",
       "   0\n",
       "   0\n",
       "   0\n",
       "   0\n",
       "   0\n",
       "   0\n",
       "   0\n",
       "   0\n",
       "   0\n",
       "   0\n",
       "   0\n",
       "   0\n",
       "   0\n",
       "   0\n",
       "   0\n",
       "   0\n",
       "   0\n",
       "   0\n",
       "[torch.DoubleTensor of size 1024]\n",
       "\n",
       "0\t\n",
       "   0\n",
       "   0\n",
       "   0\n",
       "   0\n",
       "   0\n",
       "   0\n",
       "   0\n",
       "   0\n",
       "   0\n",
       "   0\n",
       "   0\n",
       "   0\n",
       "   0\n",
       "   0\n",
       "   0\n",
       "   0\n",
       "   0\n",
       "   0\n",
       "   0\n",
       "   0\n",
       "   0\n",
       "   0\n",
       "   0\n",
       "   0\n",
       "   0\n",
       "   0\n",
       "   0\n",
       "   0\n",
       "   0\n",
       "   0\n",
       "   0\n",
       "   0\n",
       "   0\n",
       "   0\n",
       "   0\n",
       "   0\n",
       "   0\n",
       "   0\n",
       "   0\n",
       "   0\n",
       "   0\n",
       "   0\n",
       "   0\n",
       "   0\n",
       "   0\n",
       "   0\n",
       "   0\n",
       "   0\n",
       "   0\n",
       "   0\n",
       "   0\n",
       "   0\n",
       "   0\n",
       "   0\n",
       "   0\n",
       "   0\n",
       "   0\n",
       "   0\n",
       "   0\n",
       "   0\n",
       "   0\n",
       "   0\n",
       "   0\n",
       "   0\n",
       "   0\n",
       "   0\n",
       "   0\n",
       "   0\n",
       "   0\n",
       "   0\n",
       "   0\n",
       "   0\n",
       "   0\n",
       "   0\n",
       "   0\n",
       "   0\n",
       "   0\n",
       "   0\n",
       "   0\n",
       "   0\n",
       "   0\n",
       "   0\n",
       "   0\n",
       "   0\n",
       "   0\n",
       "   0\n",
       "   0\n",
       "   0\n",
       "   0\n",
       "   0\n",
       "   0\n",
       "   0\n",
       "   0\n",
       "   0\n",
       "   0\n",
       "   0\n",
       "   0\n",
       "   0\n",
       "   0\n",
       "   0\n",
       "   0\n",
       "   0\n",
       "   0\n",
       "   0\n",
       "   0\n",
       "   0\n",
       "   0\n",
       "   0\n",
       "   0\n",
       "   0\n",
       "   0\n",
       "   0\n",
       "   0\n",
       "   0\n",
       "   0\n",
       "   0\n",
       "   0\n",
       "   0\n",
       "   0\n",
       "   0\n",
       "   0\n",
       "   0\n",
       "   0\n",
       "   0\n",
       "   0\n",
       "   0\n",
       "   0\n",
       "   0\n",
       "   0\n",
       "   0\n",
       "   0\n",
       "   0\n",
       "   0\n",
       "   0\n",
       "   0\n",
       "   0\n",
       "   0\n",
       "   0\n",
       "   0\n",
       "   0\n",
       "   0\n",
       "   0\n",
       "   0\n",
       "   0\n",
       "   0\n",
       "   0\n",
       "   0\n",
       "   0\n",
       "   0\n",
       "   0\n",
       "   0\n",
       "   0\n",
       "   0\n",
       "   0\n",
       "   0\n",
       "   0\n",
       "   0\n",
       "   0\n",
       "   0\n",
       "   0\n",
       "   0\n",
       "   0\n",
       "   0\n",
       "   0\n",
       "   0\n",
       "   0\n",
       "   0\n",
       "   0\n",
       "   0\n",
       "   0\n",
       "   0\n",
       "   0\n",
       "   0\n",
       "   0\n",
       "   0\n",
       "   0\n",
       "   0\n",
       "   0\n",
       "   0\n",
       "   0\n",
       "   0\n",
       "   0\n",
       "   0\n",
       "   0\n",
       "   0\n",
       "   0\n",
       "   0\n",
       "   0\n",
       "   0\n",
       "   0\n",
       "   0\n",
       "   0\n",
       "   0\n",
       "   0\n",
       "   0\n",
       "   0\n",
       "   0\n",
       "   0\n",
       "   0\n",
       "   0\n",
       "   0\n",
       "  23\n",
       " 254\n",
       " 254\n",
       " 254\n",
       " 254\n",
       " 172\n",
       "  96\n",
       "  15\n",
       "   0\n",
       "   0\n",
       "   0\n",
       "   0\n",
       "   0\n",
       "   0\n",
       "   0\n",
       "   0\n",
       "   0\n",
       "   0\n",
       "   0\n",
       "   0\n",
       "   0\n",
       "   0\n",
       "   0\n",
       "   0\n",
       "   0\n",
       "   0\n",
       "   0\n",
       "   0\n",
       "   0\n",
       "   0\n",
       "   0\n",
       "   0\n",
       "  23\n",
       " 253\n",
       " 253\n",
       " 253\n",
       " 253\n",
       " 253\n",
       " 253\n",
       " 139\n",
       "   0\n",
       "   0\n",
       "   0\n",
       "   0\n",
       "   0\n",
       "   0\n",
       "   0\n",
       "   0\n",
       "   0\n",
       "   0\n",
       "   0\n",
       "   0\n",
       "   0\n",
       "   0\n",
       "   0\n",
       "   0\n",
       "   0\n",
       "   0\n",
       "   0\n",
       "   0\n",
       "   0\n",
       "   0\n",
       "   0\n",
       "   0\n",
       "  14\n",
       " 154\n",
       " 232\n",
       " 253\n",
       " 253\n",
       " 253\n",
       " 253\n",
       " 249\n",
       " 108\n",
       "   0\n",
       "   0\n",
       "   0\n",
       "   0\n",
       "   0\n",
       "   0\n",
       "   0\n",
       "   0\n",
       "   0\n",
       "   0\n",
       "   0\n",
       "   0\n",
       "   0\n",
       "   0\n",
       "   0\n",
       "   0\n",
       "   0\n",
       "   0\n",
       "   0\n",
       "   0\n",
       "   0\n",
       "   0\n",
       "   0\n",
       "   0\n",
       "   0\n",
       "   8\n",
       "  10\n",
       "  10\n",
       "  10\n",
       " 164\n",
       " 254\n",
       " 193\n",
       "   4\n",
       "   0\n",
       "   0\n",
       "   0\n",
       "   0\n",
       "   0\n",
       "   0\n",
       "   0\n",
       "   0\n",
       "   0\n",
       "   0\n",
       "   0\n",
       "   0\n",
       "   0\n",
       "   0\n",
       "   0\n",
       "   0\n",
       "   0\n",
       "   0\n",
       "   0\n",
       "   0\n",
       "   0\n",
       "   0\n",
       "   0\n",
       "   0\n",
       "   0\n",
       "   0\n",
       "   0\n",
       "   0\n",
       " 183\n",
       " 254\n",
       " 253\n",
       "  44\n",
       "   0\n",
       "   0\n",
       "   0\n",
       "   0\n",
       "   0\n",
       "   0\n",
       "   0\n",
       "   0\n",
       "   0\n",
       "   0\n",
       "   0\n",
       "   0\n",
       "   0\n",
       "   0\n",
       "   0\n",
       "   0\n",
       "   0\n",
       "   0\n",
       "   0\n",
       "   0\n",
       "   0\n",
       "   0\n",
       "   0\n",
       "   0\n",
       "   0\n",
       "   0\n",
       "   0\n",
       " 100\n",
       " 247\n",
       " 254\n",
       " 230\n",
       "  29\n",
       "   0\n",
       "   0\n",
       "   0\n",
       "   0\n",
       "   0\n",
       "   0\n",
       "   0\n",
       "   0\n",
       "   0\n",
       "   0\n",
       "   0\n",
       "   0\n",
       "   0\n",
       "   0\n",
       "   0\n",
       "   0\n",
       "   0\n",
       "   0\n",
       "   0\n",
       "   0\n",
       "   0\n",
       "   0\n",
       "   0\n",
       "   0\n",
       "   0\n",
       "   6\n",
       "  99\n",
       " 248\n",
       " 253\n",
       " 253\n",
       " 130\n",
       "   0\n",
       "   0\n",
       "   0\n",
       "   0\n",
       "   0\n",
       "   0\n",
       "   0\n",
       "   0\n",
       "   0\n",
       "   0\n",
       "   0\n",
       "   0\n",
       "   0\n",
       "   0\n",
       "   0\n",
       "   0\n",
       "   0\n",
       "   0\n",
       "   0\n",
       "   0\n",
       "   0\n",
       "   0\n",
       "   0\n",
       "   0\n",
       "   0\n",
       "   0\n",
       " 122\n",
       " 253\n",
       " 253\n",
       " 253\n",
       " 242\n",
       " 127\n",
       "  27\n",
       "   0\n",
       "   0\n",
       "   0\n",
       "   0\n",
       "   0\n",
       "   0\n",
       "   0\n",
       "   0\n",
       "   0\n",
       "   0\n",
       "   0\n",
       "   0\n",
       "   0\n",
       "   0\n",
       "   0\n",
       "   0\n",
       "   0\n",
       "   0\n",
       "   0\n",
       "   0\n",
       "   0\n",
       "   0\n",
       "   0\n",
       "   0\n",
       "   0\n",
       " 170\n",
       " 253\n",
       " 253\n",
       " 253\n",
       " 254\n",
       " 253\n",
       " 228\n",
       "  42\n",
       "   0\n",
       "   0\n",
       "   0\n",
       "   0\n",
       "   0\n",
       "   0\n",
       "   0\n",
       "   0\n",
       "   0\n",
       "   0\n",
       "   0\n",
       "   0\n",
       "   0\n",
       "   0\n",
       "   0\n",
       "   0\n",
       "   0\n",
       "   0\n",
       "   0\n",
       "   0\n",
       "   0\n",
       "   0\n",
       "   0\n",
       "   0\n",
       "  69\n",
       " 210\n",
       " 253\n",
       " 253\n",
       " 254\n",
       " 253\n",
       " 253\n",
       " 227\n",
       "  39\n",
       "   0\n",
       "   0\n",
       "   0\n",
       "   0\n",
       "   0\n",
       "   0\n",
       "   0\n",
       "   0\n",
       "   0\n",
       "   0\n",
       "   0\n",
       "   0\n",
       "   0\n",
       "   0\n",
       "   0\n",
       "   0\n",
       "   0\n",
       "   0\n",
       "   0\n",
       "   0\n",
       "   0\n",
       "   0\n",
       "   0\n",
       "   0\n",
       "   0\n",
       "   0\n",
       "   0\n",
       "  15\n",
       " 111\n",
       " 215\n",
       " 254\n",
       " 150\n",
       "   0\n",
       "   0\n",
       "   0\n",
       "   0\n",
       "   0\n",
       "   0\n",
       "   0\n",
       "   0\n",
       "   0\n",
       "   0\n",
       "   0\n",
       "   0\n",
       "   0\n",
       "   0\n",
       "   0\n",
       "   0\n",
       "   0\n",
       "   0\n",
       "   0\n",
       "   0\n",
       "   0\n",
       "   0\n",
       "   0\n",
       "   0\n",
       "   0\n",
       "   0\n",
       "   0\n",
       "   0\n",
       "   0\n",
       "  31\n",
       " 246\n",
       " 237\n",
       "  38\n",
       "   0\n",
       "   0\n",
       "   0\n",
       "   0\n",
       "   0\n",
       "   0\n",
       "   0\n",
       "   0\n",
       "   0\n",
       "   0\n",
       "   0\n",
       "   0\n",
       "   0\n",
       "   0\n",
       "   0\n",
       "   0\n",
       "   0\n",
       "   0\n",
       "   0\n",
       "   0\n",
       "   0\n",
       "   0\n",
       "   0\n",
       "   0\n",
       "   0\n",
       "   0\n",
       "   0\n",
       "   0\n",
       "   0\n",
       " 243\n",
       " 253\n",
       " 146\n",
       "   0\n",
       "   0\n",
       "   0\n",
       "   0\n",
       "   0\n",
       "   0\n",
       "   0\n",
       "   0\n",
       "   0"
      ]
     },
     "execution_count": 6,
     "metadata": {},
     "output_type": "execute_result"
    },
    {
     "data": {
      "text/plain": [
       "\n",
       "   0\n",
       "   0\n",
       "   0\n",
       "   0\n",
       "   0\n",
       "   0\n",
       "   0\n",
       "   0\n",
       "   0\n",
       "   0\n",
       "   0\n",
       "   0\n",
       "   0\n",
       "   0\n",
       "   0\n",
       "   0\n",
       "   0\n",
       "   0\n",
       "   0\n",
       "   0\n",
       " 243\n",
       " 253\n",
       " 165\n",
       "   0\n",
       "   0\n",
       "   0\n",
       "   0\n",
       "   0\n",
       "   0\n",
       "   0\n",
       "   0\n",
       "   0\n",
       "   0\n",
       "   0\n",
       "   0\n",
       "   0\n",
       "   0\n",
       "   0\n",
       "   0\n",
       "   0\n",
       "   0\n",
       "   0\n",
       "   0\n",
       "   0\n",
       "   0\n",
       "   0\n",
       "   0\n",
       "   0\n",
       "   0\n",
       "   0\n",
       "   0\n",
       "   0\n",
       " 243\n",
       " 253\n",
       " 140\n",
       "   0\n",
       "   0\n",
       "   0\n",
       "   0\n",
       "   0\n",
       "   0\n",
       "   0\n",
       "   0\n",
       "   0\n",
       "   0\n",
       "   0\n",
       "   0\n",
       "   0\n",
       "   0\n",
       "   0\n",
       "   0\n",
       "   0\n",
       "   0\n",
       "   0\n",
       "   0\n",
       "   0\n",
       "   0\n",
       "   0\n",
       "   0\n",
       "   0\n",
       "   0\n",
       "   0\n",
       "   0\n",
       " 118\n",
       " 251\n",
       " 253\n",
       "  55\n",
       "   0\n",
       "   0\n",
       "   0\n",
       "   0\n",
       "   0\n",
       "   0\n",
       "   0\n",
       "   0\n",
       "   0\n",
       "   0\n",
       "   0\n",
       "   0\n",
       "   0\n",
       "   0\n",
       "   0\n",
       "   0\n",
       "   0\n",
       "   0\n",
       "   0\n",
       "   0\n",
       "   0\n",
       "   9\n",
       "  60\n",
       "  12\n",
       "  12\n",
       "  12\n",
       "  75\n",
       " 151\n",
       " 250\n",
       " 253\n",
       " 222\n",
       "  29\n",
       "   0\n",
       "   0\n",
       "   0\n",
       "   0\n",
       "   0\n",
       "   0\n",
       "   0\n",
       "   0\n",
       "   0\n",
       "   0\n",
       "   0\n",
       "   0\n",
       "   0\n",
       "   0\n",
       "   0\n",
       "   0\n",
       "   0\n",
       "   0\n",
       "   0\n",
       "   0\n",
       "   0\n",
       " 199\n",
       " 253\n",
       " 253\n",
       " 253\n",
       " 253\n",
       " 255\n",
       " 253\n",
       " 253\n",
       " 250\n",
       "  73\n",
       "   0\n",
       "   0\n",
       "   0\n",
       "   0\n",
       "   0\n",
       "   0\n",
       "   0\n",
       "   0\n",
       "   0\n",
       "   0\n",
       "   0\n",
       "   0\n",
       "   0\n",
       "   0\n",
       "   0\n",
       "   0\n",
       "   0\n",
       "   0\n",
       "   0\n",
       "   0\n",
       "   0\n",
       "   0\n",
       " 165\n",
       " 253\n",
       " 253\n",
       " 253\n",
       " 253\n",
       " 254\n",
       " 253\n",
       " 253\n",
       " 116\n",
       "   0\n",
       "   0\n",
       "   0\n",
       "   0\n",
       "   0\n",
       "   0\n",
       "   0\n",
       "   0\n",
       "   0\n",
       "   0\n",
       "   0\n",
       "   0\n",
       "   0\n",
       "   0\n",
       "   0\n",
       "   0\n",
       "   0\n",
       "   0\n",
       "   0\n",
       "   0\n",
       "   0\n",
       "   0\n",
       "   0\n",
       "  12\n",
       " 133\n",
       " 162\n",
       " 253\n",
       " 157\n",
       " 143\n",
       " 114\n",
       "  33\n",
       "   2\n",
       "   0\n",
       "   0\n",
       "   0\n",
       "   0\n",
       "   0\n",
       "   0\n",
       "   0\n",
       "   0\n",
       "   0\n",
       "   0\n",
       "   0\n",
       "   0\n",
       "   0\n",
       "   0\n",
       "   0\n",
       "   0\n",
       "   0\n",
       "   0\n",
       "   0\n",
       "   0\n",
       "   0\n",
       "   0\n",
       "   0\n",
       "   0\n",
       "   0\n",
       "   0\n",
       "   0\n",
       "   0\n",
       "   0\n",
       "   0\n",
       "   0\n",
       "   0\n",
       "   0\n",
       "   0\n",
       "   0\n",
       "   0\n",
       "   0\n",
       "   0\n",
       "   0\n",
       "   0\n",
       "   0\n",
       "   0\n",
       "   0\n",
       "   0\n",
       "   0\n",
       "   0\n",
       "   0\n",
       "   0\n",
       "   0\n",
       "   0\n",
       "   0\n",
       "   0\n",
       "   0\n",
       "   0\n",
       "   0\n",
       "   0\n",
       "   0\n",
       "   0\n",
       "   0\n",
       "   0\n",
       "   0\n",
       "   0\n",
       "   0\n",
       "   0\n",
       "   0\n",
       "   0\n",
       "   0\n",
       "   0\n",
       "   0\n",
       "   0\n",
       "   0\n",
       "   0\n",
       "   0\n",
       "   0\n",
       "   0\n",
       "   0\n",
       "   0\n",
       "   0\n",
       "   0\n",
       "   0\n",
       "   0\n",
       "   0\n",
       "   0\n",
       "   0\n",
       "   0\n",
       "   0\n",
       "   0\n",
       "   0\n",
       "   0\n",
       "   0\n",
       "   0\n",
       "   0\n",
       "   0\n",
       "   0\n",
       "   0\n",
       "   0\n",
       "   0\n",
       "   0\n",
       "   0\n",
       "   0\n",
       "   0\n",
       "   0\n",
       "   0\n",
       "   0\n",
       "   0\n",
       "   0\n",
       "   0\n",
       "   0\n",
       "   0\n",
       "   0\n",
       "   0\n",
       "   0\n",
       "   0\n",
       "   0\n",
       "   0\n",
       "   0\n",
       "   0\n",
       "   0\n",
       "   0\n",
       "   0\n",
       "   0\n",
       "   0\n",
       "   0\n",
       "   0\n",
       "   0\n",
       "   0\n",
       "   0\n",
       "   0\n",
       "   0\n",
       "   0\n",
       "   0\n",
       "   0\n",
       "   0\n",
       "   0\n",
       "   0\n",
       "   0\n",
       "   0\n",
       "   0\n",
       "   0\n",
       "   0\n",
       "   0\n",
       "   0\n",
       "   0\n",
       "   0\n",
       "   0\n",
       "   0\n",
       "   0\n",
       "   0\n",
       "   0\n",
       "   0\n",
       "   0\n",
       "   0\n",
       "   0\n",
       "   0\n",
       "   0\n",
       "   0\n",
       "   0\n",
       "   0\n",
       "   0\n",
       "   0\n",
       "   0\n",
       "   0\n",
       "   0\n",
       "   0\n",
       "   0\n",
       "   0\n",
       "   0\n",
       "   0\n",
       "   0\n",
       "   0\n",
       "   0\n",
       "   0\n",
       "   0\n",
       "   0\n",
       "   0\n",
       "   0\n",
       "   0\n",
       "   0\n",
       "   0\n",
       "   0\n",
       "   0\n",
       "   0\n",
       "   0\n",
       "   0\n",
       "   0\n",
       "   0\n",
       "   0\n",
       "   0\n",
       "   0\n",
       "   0\n",
       "   0\n",
       "   0\n",
       "   0\n",
       "   0\n",
       "   0\n",
       "   0\n",
       "   0\n",
       "   0\n",
       "   0\n",
       "   0\n",
       "   0\n",
       "   0\n",
       "   0\n",
       "   0\n",
       "[torch.DoubleTensor of size 1024]\n",
       "\n",
       "0\t\n"
      ]
     },
     "execution_count": 6,
     "metadata": {},
     "output_type": "execute_result"
    },
    {
     "data": {
      "text/plain": [
       "   0\n",
       "   0\n",
       "   0\n",
       "   0\n",
       "   0\n",
       "   0\n",
       "   0\n",
       "   0\n",
       "   0\n",
       "   0\n",
       "   0\n",
       "   0\n",
       "   0\n",
       "   0\n",
       "   0\n",
       "   0\n",
       "   0\n",
       "   0\n",
       "   0\n",
       "   0\n",
       "   0\n",
       "   0\n",
       "   0\n",
       "   0\n",
       "   0\n",
       "   0\n",
       "   0\n",
       "   0\n",
       "   0\n",
       "   0\n",
       "   0\n",
       "   0\n",
       "   0\n",
       "   0\n",
       "   0\n",
       "   0\n",
       "   0\n",
       "   0\n",
       "   0\n",
       "   0\n",
       "   0\n",
       "   0\n",
       "   0\n",
       "   0\n",
       "   0\n",
       "   0\n",
       "   0\n",
       "   0\n",
       "   0\n",
       "   0\n",
       "   0\n",
       "   0\n",
       "   0\n",
       "   0\n",
       "   0\n",
       "   0\n",
       "   0\n",
       "   0\n",
       "   0\n",
       "   0\n",
       "   0\n",
       "   0\n",
       "   0\n",
       "   0\n",
       "   0\n",
       "   0\n",
       "   0\n",
       "   0\n",
       "   0\n",
       "   0\n",
       "   0\n",
       "   0\n",
       "   0\n",
       "   0\n",
       "   0\n",
       "   0\n",
       "   0\n",
       "   0\n",
       "   0\n",
       "   0\n",
       "   0\n",
       "   0\n",
       "   0\n",
       "   0\n",
       "   0\n",
       "   0\n",
       "   0\n",
       "   0\n",
       "   0\n",
       "   0\n",
       "   0\n",
       "   0\n",
       "   0\n",
       "   0\n",
       "   0\n",
       "   0\n",
       "   0\n",
       "   0\n",
       "   0\n",
       "   0\n",
       "   0\n",
       "   0\n",
       "   0\n",
       "   0\n",
       "   0\n",
       "   0\n",
       "   0\n",
       "   0\n",
       "   0\n",
       "   0\n",
       "   0\n",
       "   0\n",
       "   0\n",
       "   0\n",
       "   0\n",
       "   0\n",
       "   0\n",
       "   0\n",
       "   0\n",
       "   0\n",
       "   0\n",
       "   0\n",
       "   0\n",
       "   0\n",
       "   0\n",
       "   0\n",
       "   0\n",
       "   0\n",
       "   0\n",
       "   0\n",
       "   0\n",
       "   0\n",
       "   0\n",
       "   0\n",
       "   0\n",
       "   0\n",
       "   0\n",
       "   0\n",
       "   0\n",
       "   0\n",
       "   0\n",
       "   0\n",
       "   0\n",
       "   0\n",
       "   0\n",
       "   0\n",
       "   0\n",
       "   0\n",
       "   0\n",
       "   0\n",
       "   0\n",
       "   0\n",
       "   0\n",
       "   0\n",
       "   0\n",
       "   0\n",
       "   0\n",
       "   0\n",
       "   0\n",
       "   0\n",
       "   0\n",
       "   0\n",
       "   0\n",
       "   0\n",
       "   0\n",
       "   0\n",
       "   0\n",
       "   0\n",
       "   0\n",
       "   0\n",
       "   0\n",
       "   0\n",
       "   0\n",
       "   0\n",
       "   0\n",
       "   0\n",
       "   0\n",
       "   0\n",
       "   0\n",
       "   0\n",
       "   0\n",
       "   0\n",
       "   0\n",
       "   0\n",
       "   0\n",
       "   0\n",
       "   0\n",
       "   0\n",
       "   0\n",
       "   0\n",
       "   0\n",
       "   0\n",
       "   0\n",
       "   0\n",
       "   0\n",
       "   0\n",
       "   0\n",
       "   0\n",
       "   0\n",
       "   0\n",
       "   0\n",
       "  23\n",
       " 254\n",
       " 254\n",
       " 254\n",
       " 254\n",
       " 172\n",
       "  96\n",
       "  15\n",
       "   0\n",
       "   0\n",
       "   0\n",
       "   0\n",
       "   0\n",
       "   0\n",
       "   0\n",
       "   0\n",
       "   0\n",
       "   0\n",
       "   0\n",
       "   0\n",
       "   0\n",
       "   0\n",
       "   0\n",
       "   0\n",
       "   0\n",
       "   0\n",
       "   0\n",
       "   0\n",
       "   0\n",
       "   0\n",
       "   0\n",
       "   0\n",
       "  23\n",
       " 253\n",
       " 253\n",
       " 253\n",
       " 253\n",
       " 253\n",
       " 253\n",
       " 139\n",
       "   0\n",
       "   0\n",
       "   0\n",
       "   0\n",
       "   0\n",
       "   0\n",
       "   0\n",
       "   0\n",
       "   0\n",
       "   0\n",
       "   0\n",
       "   0\n",
       "   0\n",
       "   0\n",
       "   0\n",
       "   0\n",
       "   0\n",
       "   0\n",
       "   0\n",
       "   0\n",
       "   0\n",
       "   0\n",
       "   0\n",
       "   0\n",
       "  14\n",
       " 154\n",
       " 232\n",
       " 253\n",
       " 253\n",
       " 253\n",
       " 253\n",
       " 249\n",
       " 108\n",
       "   0\n",
       "   0\n",
       "   0\n",
       "   0\n",
       "   0\n",
       "   0\n",
       "   0\n",
       "   0\n",
       "   0\n",
       "   0\n",
       "   0\n",
       "   0\n",
       "   0\n",
       "   0\n",
       "   0\n",
       "   0\n",
       "   0\n",
       "   0\n",
       "   0\n",
       "   0\n",
       "   0\n",
       "   0\n",
       "   0\n",
       "   0\n",
       "   0\n",
       "   8\n",
       "  10\n",
       "  10\n",
       "  10\n",
       " 164\n",
       " 254\n",
       " 193\n",
       "   4\n",
       "   0\n",
       "   0\n",
       "   0\n",
       "   0\n",
       "   0\n",
       "   0\n",
       "   0\n",
       "   0\n",
       "   0\n",
       "   0\n",
       "   0\n",
       "   0\n",
       "   0\n",
       "   0\n",
       "   0\n",
       "   0\n",
       "   0\n",
       "   0\n",
       "   0\n",
       "   0\n",
       "   0\n",
       "   0\n",
       "   0\n",
       "   0\n",
       "   0\n",
       "   0\n",
       "   0\n",
       "   0\n",
       " 183\n",
       " 254\n",
       " 253\n",
       "  44\n",
       "   0\n",
       "   0\n",
       "   0\n",
       "   0\n",
       "   0\n",
       "   0\n",
       "   0\n",
       "   0\n",
       "   0\n",
       "   0\n",
       "   0\n",
       "   0\n",
       "   0\n",
       "   0\n",
       "   0\n",
       "   0\n",
       "   0\n",
       "   0\n",
       "   0\n",
       "   0\n",
       "   0\n",
       "   0\n",
       "   0\n",
       "   0\n",
       "   0\n",
       "   0\n",
       "   0\n",
       " 100\n",
       " 247\n",
       " 254\n",
       " 230\n",
       "  29\n",
       "   0\n",
       "   0\n",
       "   0\n",
       "   0\n",
       "   0\n",
       "   0\n",
       "   0\n",
       "   0\n",
       "   0\n",
       "   0\n",
       "   0\n",
       "   0\n",
       "   0\n",
       "   0\n",
       "   0\n",
       "   0\n",
       "   0\n",
       "   0\n",
       "   0\n",
       "   0\n",
       "   0\n",
       "   0\n",
       "   0\n",
       "   0\n",
       "   0\n",
       "   6\n",
       "  99\n",
       " 248\n",
       " 253\n",
       " 253\n",
       " 130\n",
       "   0\n",
       "   0\n",
       "   0\n",
       "   0\n",
       "   0\n",
       "   0\n",
       "   0\n",
       "   0\n",
       "   0\n",
       "   0\n",
       "   0\n",
       "   0\n",
       "   0\n",
       "   0\n",
       "   0\n",
       "   0\n",
       "   0\n",
       "   0\n",
       "   0\n",
       "   0\n",
       "   0\n",
       "   0\n",
       "   0\n",
       "   0\n",
       "   0\n",
       "   0\n",
       " 122\n",
       " 253\n",
       " 253\n",
       " 253\n",
       " 242\n",
       " 127\n",
       "  27\n",
       "   0\n",
       "   0\n",
       "   0\n",
       "   0\n",
       "   0\n",
       "   0\n",
       "   0\n",
       "   0\n",
       "   0\n",
       "   0\n",
       "   0\n",
       "   0\n",
       "   0\n",
       "   0\n",
       "   0\n",
       "   0\n",
       "   0\n",
       "   0\n",
       "   0\n",
       "   0\n",
       "   0\n",
       "   0\n",
       "   0\n",
       "   0\n",
       "   0\n",
       " 170\n",
       " 253\n",
       " 253\n",
       " 253\n",
       " 254\n",
       " 253\n",
       " 228\n",
       "  42\n",
       "   0\n",
       "   0\n",
       "   0\n",
       "   0\n",
       "   0\n",
       "   0\n",
       "   0\n",
       "   0\n",
       "   0\n",
       "   0\n",
       "   0\n",
       "   0\n",
       "   0\n",
       "   0\n",
       "   0\n",
       "   0\n",
       "   0\n",
       "   0\n",
       "   0\n",
       "   0\n",
       "   0\n",
       "   0\n",
       "   0\n",
       "   0\n",
       "  69\n",
       " 210\n",
       " 253\n",
       " 253\n",
       " 254\n",
       " 253\n",
       " 253\n",
       " 227\n",
       "  39\n",
       "   0\n",
       "   0\n",
       "   0\n",
       "   0\n",
       "   0\n",
       "   0\n",
       "   0\n",
       "   0\n",
       "   0\n",
       "   0\n",
       "   0\n",
       "   0\n",
       "   0\n",
       "   0\n",
       "   0\n",
       "   0\n",
       "   0\n",
       "   0\n",
       "   0\n",
       "   0\n",
       "   0\n",
       "   0\n",
       "   0\n",
       "   0\n",
       "   0\n",
       "   0\n",
       "   0\n",
       "  15\n",
       " 111\n",
       " 215\n",
       " 254\n",
       " 150\n",
       "   0\n",
       "   0\n",
       "   0\n",
       "   0\n",
       "   0\n",
       "   0\n",
       "   0\n",
       "   0\n",
       "   0\n",
       "   0\n",
       "   0\n",
       "   0\n",
       "   0\n",
       "   0\n",
       "   0\n",
       "   0\n",
       "   0\n",
       "   0\n",
       "   0\n",
       "   0\n",
       "   0\n",
       "   0\n",
       "   0\n",
       "   0\n",
       "   0\n",
       "   0\n",
       "   0\n",
       "   0\n",
       "   0\n",
       "  31\n",
       " 246\n",
       " 237\n",
       "  38\n",
       "   0\n",
       "   0\n",
       "   0\n",
       "   0\n",
       "   0\n",
       "   0\n",
       "   0\n",
       "   0\n",
       "   0\n",
       "   0\n",
       "   0\n",
       "   0\n",
       "   0\n",
       "   0\n",
       "   0\n",
       "   0\n",
       "   0\n",
       "   0\n",
       "   0\n",
       "   0\n",
       "   0\n",
       "   0\n",
       "   0\n",
       "   0\n",
       "   0\n",
       "   0\n",
       "   0\n",
       "   0\n",
       "   0\n",
       " 243\n",
       " 253\n",
       " 146\n",
       "   0\n",
       "   0\n",
       "   0\n",
       "   0\n",
       "   0\n",
       "   0\n",
       "   0\n",
       "   0\n",
       "   0\n",
       "   0\n",
       "   0\n",
       "   0\n",
       "   0\n",
       "   0\n",
       "   0\n",
       "   0\n",
       "   0\n",
       "   0\n",
       "   0\n",
       "   0\n",
       "   0\n",
       "   0\n",
       "   0\n",
       "   0\n",
       "   0\n",
       "   0\n",
       "   0\n",
       "   0\n",
       "   0\n",
       " 243\n",
       " 253\n",
       " 165\n",
       "   0\n",
       "   0\n",
       "   0\n",
       "   0\n",
       "   0\n",
       "   0\n",
       "   0\n",
       "   0\n",
       "   0\n",
       "   0\n",
       "   0\n",
       "   0\n",
       "   0\n",
       "   0\n",
       "   0\n",
       "   0\n",
       "   0\n",
       "   0\n",
       "   0\n",
       "   0\n",
       "   0\n",
       "   0\n",
       "   0\n",
       "   0\n",
       "   0\n",
       "   0\n",
       "   0\n",
       "   0\n",
       "   0\n",
       " 243\n",
       " 253\n",
       " 140\n",
       "   0\n",
       "   0\n",
       "   0\n",
       "   0\n",
       "   0\n",
       "   0\n",
       "   0\n",
       "   0\n",
       "   0\n",
       "   0\n",
       "   0\n",
       "   0\n",
       "   0\n",
       "   0\n",
       "   0\n",
       "   0\n",
       "   0\n",
       "   0\n",
       "   0\n",
       "   0\n",
       "   0\n",
       "   0\n",
       "   0\n",
       "   0\n",
       "   0\n",
       "   0\n",
       "   0\n",
       "   0\n",
       " 118\n",
       " 251\n",
       " 253\n",
       "  55\n",
       "   0\n",
       "   0\n",
       "   0\n",
       "   0\n",
       "   0\n",
       "   0\n",
       "   0\n",
       "   0\n",
       "   0\n",
       "   0\n",
       "   0\n",
       "   0\n",
       "   0\n",
       "   0\n",
       "   0\n",
       "   0\n",
       "   0\n",
       "   0\n",
       "   0\n",
       "   0\n",
       "   0\n",
       "   9\n",
       "  60\n",
       "  12\n",
       "  12\n",
       "  12\n",
       "  75\n",
       " 151\n",
       " 250\n",
       " 253\n",
       " 222\n",
       "  29\n",
       "   0\n",
       "   0\n",
       "   0\n",
       "   0\n",
       "   0\n",
       "   0\n",
       "   0\n",
       "   0\n",
       "   0\n",
       "   0\n",
       "   0\n",
       "   0\n",
       "   0\n",
       "   0\n",
       "   0\n",
       "   0\n",
       "   0\n",
       "   0\n",
       "   0\n",
       "   0\n",
       "   0\n",
       " 199\n",
       " 253\n",
       " 253\n",
       " 253\n",
       " 253\n",
       " 255\n",
       " 253\n",
       " 253\n",
       " 250\n",
       "  73\n",
       "   0\n",
       "   0\n",
       "   0\n",
       "   0\n",
       "   0\n",
       "   0\n",
       "   0\n",
       "   0\n",
       "   0\n",
       "   0\n",
       "   0\n",
       "   0\n",
       "   0\n",
       "   0\n",
       "   0\n",
       "   0\n",
       "   0\n",
       "   0\n",
       "   0\n",
       "   0\n",
       "   0\n",
       "   0\n",
       " 165\n",
       " 253\n",
       " 253\n",
       " 253\n",
       " 253\n",
       " 254\n",
       " 253\n",
       " 253\n",
       " 116\n",
       "   0\n",
       "   0\n",
       "   0\n",
       "   0\n",
       "   0\n",
       "   0\n",
       "   0\n",
       "   0\n",
       "   0\n",
       "   0\n",
       "   0\n",
       "   0\n",
       "   0\n",
       "   0\n",
       "   0\n",
       "   0\n",
       "   0\n",
       "   0\n",
       "   0\n",
       "   0\n",
       "   0\n",
       "   0\n",
       "   0\n",
       "  12\n",
       " 133\n",
       " 162\n",
       " 253\n",
       " 157\n",
       " 143\n",
       " 114\n",
       "  33\n",
       " "
      ]
     },
     "execution_count": 6,
     "metadata": {},
     "output_type": "execute_result"
    },
    {
     "data": {
      "text/plain": [
       "  2\n",
       "   0\n",
       "   0\n",
       "   0\n",
       "   0\n",
       "   0\n",
       "   0\n",
       "   0\n",
       "   0\n",
       "   0\n",
       "   0\n",
       "   0\n",
       "   0\n",
       "   0\n",
       "   0\n",
       "   0\n",
       "   0\n",
       "   0\n",
       "   0\n",
       "   0\n",
       "   0\n",
       "   0\n",
       "   0\n",
       "   0\n",
       "   0\n",
       "   0\n",
       "   0\n",
       "   0\n",
       "   0\n",
       "   0\n",
       "   0\n",
       "   0\n",
       "   0\n",
       "   0\n",
       "   0\n",
       "   0\n",
       "   0\n",
       "   0\n",
       "   0\n",
       "   0\n",
       "   0\n",
       "   0\n",
       "   0\n",
       "   0\n",
       "   0\n",
       "   0\n",
       "   0\n",
       "   0\n",
       "   0\n",
       "   0\n",
       "   0\n",
       "   0\n",
       "   0\n",
       "   0\n",
       "   0\n",
       "   0\n",
       "   0\n",
       "   0\n",
       "   0\n",
       "   0\n",
       "   0\n",
       "   0\n",
       "   0\n",
       "   0\n",
       "   0\n",
       "   0\n",
       "   0\n",
       "   0\n",
       "   0\n",
       "   0\n",
       "   0\n",
       "   0\n",
       "   0\n",
       "   0\n",
       "   0\n",
       "   0\n",
       "   0\n",
       "   0\n",
       "   0\n",
       "   0\n",
       "   0\n",
       "   0\n",
       "   0\n",
       "   0\n",
       "   0\n",
       "   0\n",
       "   0\n",
       "   0\n",
       "   0\n",
       "   0\n",
       "   0\n",
       "   0\n",
       "   0\n",
       "   0\n",
       "   0\n",
       "   0\n",
       "   0\n",
       "   0\n",
       "   0\n",
       "   0\n",
       "   0\n",
       "   0\n",
       "   0\n",
       "   0\n",
       "   0\n",
       "   0\n",
       "   0\n",
       "   0\n",
       "   0\n",
       "   0\n",
       "   0\n",
       "   0\n",
       "   0\n",
       "   0\n",
       "   0\n",
       "   0\n",
       "   0\n",
       "   0\n",
       "   0\n",
       "   0\n",
       "   0\n",
       "   0\n",
       "   0\n",
       "   0\n",
       "   0\n",
       "   0\n",
       "   0\n",
       "   0\n",
       "   0\n",
       "   0\n",
       "   0\n",
       "   0\n",
       "   0\n",
       "   0\n",
       "   0\n",
       "   0\n",
       "   0\n",
       "   0\n",
       "   0\n",
       "   0\n",
       "   0\n",
       "   0\n",
       "   0\n",
       "   0\n",
       "   0\n",
       "   0\n",
       "   0\n",
       "   0\n",
       "   0\n",
       "   0\n",
       "   0\n",
       "   0\n",
       "   0\n",
       "   0\n",
       "   0\n",
       "   0\n",
       "   0\n",
       "   0\n",
       "   0\n",
       "   0\n",
       "   0\n",
       "   0\n",
       "   0\n",
       "   0\n",
       "   0\n",
       "   0\n",
       "   0\n",
       "   0\n",
       "   0\n",
       "   0\n",
       "   0\n",
       "   0\n",
       "   0\n",
       "   0\n",
       "   0\n",
       "   0\n",
       "   0\n",
       "   0\n",
       "   0\n",
       "   0\n",
       "   0\n",
       "   0\n",
       "   0\n",
       "   0\n",
       "   0\n",
       "   0\n",
       "   0\n",
       "   0\n",
       "   0\n",
       "   0\n",
       "   0\n",
       "   0\n",
       "   0\n",
       "   0\n",
       "   0\n",
       "   0\n",
       "   0\n",
       "   0\n",
       "   0\n",
       "   0\n",
       "   0\n",
       "   0\n",
       "   0\n",
       "   0\n",
       "   0\n",
       "[torch.DoubleTensor of size 1024]\n",
       "\n",
       "0\t\n"
      ]
     },
     "execution_count": 6,
     "metadata": {},
     "output_type": "execute_result"
    },
    {
     "data": {
      "text/plain": [
       "   0\n",
       "   0\n",
       "   0\n",
       "   0\n",
       "   0\n",
       "   0\n",
       "   0\n",
       "   0\n",
       "   0\n",
       "   0\n",
       "   0\n",
       "   0\n",
       "   0\n",
       "   0\n",
       "   0\n",
       "   0\n",
       "   0\n",
       "   0\n",
       "   0\n",
       "   0\n",
       "   0\n",
       "   0\n",
       "   0\n",
       "   0\n",
       "   0\n",
       "   0\n",
       "   0\n",
       "   0\n",
       "   0\n",
       "   0\n",
       "   0\n",
       "   0\n",
       "   0\n",
       "   0\n",
       "   0\n",
       "   0\n",
       "   0\n",
       "   0\n",
       "   0\n",
       "   0\n",
       "   0\n",
       "   0\n",
       "   0\n",
       "   0\n",
       "   0\n",
       "   0\n",
       "   0\n",
       "   0\n",
       "   0\n",
       "   0\n",
       "   0\n",
       "   0\n",
       "   0\n",
       "   0\n",
       "   0\n",
       "   0\n",
       "   0\n",
       "   0\n",
       "   0\n",
       "   0\n",
       "   0\n",
       "   0\n",
       "   0\n",
       "   0\n",
       "   0\n",
       "   0\n",
       "   0\n",
       "   0\n",
       "   0\n",
       "   0\n",
       "   0\n",
       "   0\n",
       "   0\n",
       "   0\n",
       "   0\n",
       "   0\n",
       "   0\n",
       "   0\n",
       "   0\n",
       "   0\n",
       "   0\n",
       "   0\n",
       "   0\n",
       "   0\n",
       "   0\n",
       "   0\n",
       "   0\n",
       "   0\n",
       "   0\n",
       "   0\n",
       "   0\n",
       "   0\n",
       "   0\n",
       "   0\n",
       "   0\n",
       "   0\n",
       "   0\n",
       "   0\n",
       "   0\n",
       "   0\n",
       "   0\n",
       "   0\n",
       "   0\n",
       "   0\n",
       "   0\n",
       "   0\n",
       "   0\n",
       "   0\n",
       "   0\n",
       "   0\n",
       "   0\n",
       "   0\n",
       "   0\n",
       "   0\n",
       "   0\n",
       "   0\n",
       "   0\n",
       "   0\n",
       "   0\n",
       "   0\n",
       "   0\n",
       "   0\n",
       "   0\n",
       "   0\n",
       "   0\n",
       "   0\n",
       "   0\n",
       "   0\n",
       "   0\n",
       "   0\n",
       "   0\n",
       "   0\n",
       "   0\n",
       "   0\n",
       "   0\n",
       "   0\n",
       "   0\n",
       "   0\n",
       "   0\n",
       "   0\n",
       "   0\n",
       "   0\n",
       "   0\n",
       "   0\n",
       "   0\n",
       "   0\n",
       "   0\n",
       "   0\n",
       "   0\n",
       "   0\n",
       "   0\n",
       "   0\n",
       "   0\n",
       "   0\n",
       "   0\n",
       "   0\n",
       "   0\n",
       "   0\n",
       "   0\n",
       "   0\n",
       "   0\n",
       "   0\n",
       "   0\n",
       "   0\n",
       "   0\n",
       "   0\n",
       "   0\n",
       "   0\n",
       "   0\n",
       "   0\n",
       "   0\n",
       "   0\n",
       "   0\n",
       "   0\n",
       "   0\n",
       "   0\n",
       "   0\n",
       "   0\n",
       "   0\n",
       "   0\n",
       "   0\n",
       "   0\n",
       "   0\n",
       "   0\n",
       "   0\n",
       "   0\n",
       "   0\n",
       "   0\n",
       "   0\n",
       "   0\n",
       "   0\n",
       "   0\n",
       "   0\n",
       "   0\n",
       "   0\n",
       "   0\n",
       "   0\n",
       "   0\n",
       "   0\n",
       "   0\n",
       "   0\n",
       "  23\n",
       " 254\n",
       " 254\n",
       " 254\n",
       " 254\n",
       " 172\n",
       "  96\n",
       "  15\n",
       "   0\n",
       "   0\n",
       "   0\n",
       "   0\n",
       "   0\n",
       "   0\n",
       "   0\n",
       "   0\n",
       "   0\n",
       "   0\n",
       "   0\n",
       "   0\n",
       "   0\n",
       "   0\n",
       "   0\n",
       "   0\n",
       "   0\n",
       "   0\n",
       "   0\n",
       "   0\n",
       "   0\n",
       "   0\n",
       "   0\n",
       "   0\n",
       "  23\n",
       " 253\n",
       " 253\n",
       " 253\n",
       " 253\n",
       " 253\n",
       " 253\n",
       " 139\n",
       "   0\n",
       "   0\n",
       "   0\n",
       "   0\n",
       "   0\n",
       "   0\n",
       "   0\n",
       "   0\n",
       "   0\n",
       "   0\n",
       "   0\n",
       "   0\n",
       "   0\n",
       "   0\n",
       "   0\n",
       "   0\n",
       "   0\n",
       "   0\n",
       "   0\n",
       "   0\n",
       "   0\n",
       "   0\n",
       "   0\n",
       "   0\n",
       "  14\n",
       " 154\n",
       " 232\n",
       " 253\n",
       " 253\n",
       " 253\n",
       " 253\n",
       " 249\n",
       " 108\n",
       "   0\n",
       "   0\n",
       "   0\n",
       "   0\n",
       "   0\n",
       "   0\n",
       "   0\n",
       "   0\n",
       "   0\n",
       "   0\n",
       "   0\n",
       "   0\n",
       "   0\n",
       "   0\n",
       "   0\n",
       "   0\n",
       "   0\n",
       "   0\n",
       "   0\n",
       "   0\n",
       "   0\n",
       "   0\n",
       "   0\n",
       "   0\n",
       "   0\n",
       "   8\n",
       "  10\n",
       "  10\n",
       "  10\n",
       " 164\n",
       " 254\n",
       " 193\n",
       "   4\n",
       "   0\n",
       "   0\n",
       "   0\n",
       "   0\n",
       "   0\n",
       "   0\n",
       "   0\n",
       "   0\n",
       "   0\n",
       "   0\n",
       "   0\n",
       "   0\n",
       "   0\n",
       "   0\n",
       "   0\n",
       "   0\n",
       "   0\n",
       "   0\n",
       "   0\n",
       "   0\n",
       "   0\n",
       "   0\n",
       "   0\n",
       "   0\n",
       "   0\n",
       "   0\n",
       "   0\n",
       "   0\n",
       " 183\n",
       " 254\n",
       " 253\n",
       "  44\n",
       "   0\n",
       "   0\n",
       "   0\n",
       "   0\n",
       "   0\n",
       "   0\n",
       "   0\n",
       "   0\n",
       "   0\n",
       "   0\n",
       "   0\n",
       "   0\n",
       "   0\n",
       "   0\n",
       "   0\n",
       "   0\n",
       "   0\n",
       "   0\n",
       "   0\n",
       "   0\n",
       "   0\n",
       "   0\n",
       "   0\n",
       "   0\n",
       "   0\n",
       "   0\n",
       "   0\n",
       " 100\n",
       " 247\n",
       " 254\n",
       " 230\n",
       "  29\n",
       "   0\n",
       "   0\n",
       "   0\n",
       "   0\n",
       "   0\n",
       "   0\n",
       "   0\n",
       "   0\n",
       "   0\n",
       "   0\n",
       "   0\n",
       "   0\n",
       "   0\n",
       "   0\n",
       "   0\n",
       "   0\n",
       "   0\n",
       "   0\n",
       "   0\n",
       "   0\n",
       "   0\n",
       "   0\n",
       "   0\n",
       "   0\n",
       "   0\n",
       "   6\n",
       "  99\n",
       " 248\n",
       " 253\n",
       " 253\n",
       " 130\n",
       "   0\n",
       "   0\n",
       "   0\n",
       "   0\n",
       "   0\n",
       "   0\n",
       "   0\n",
       "   0\n",
       "   0\n",
       "   0\n",
       "   0\n",
       "   0\n",
       "   0\n",
       "   0\n",
       "   0\n",
       "   0\n",
       "   0\n",
       "   0\n",
       "   0\n",
       "   0\n",
       "   0\n",
       "   0\n",
       "   0\n",
       "   0\n",
       "   0\n",
       "   0\n",
       " 122\n",
       " 253\n",
       " 253\n",
       " 253\n",
       " 242\n",
       " 127\n",
       "  27\n",
       "   0\n",
       "   0\n",
       "   0\n",
       "   0\n",
       "   0\n",
       "   0\n",
       "   0\n",
       "   0\n",
       "   0\n",
       "   0\n",
       "   0\n",
       "   0\n",
       "   0\n",
       "   0\n",
       "   0\n",
       "   0\n",
       "   0\n",
       "   0\n",
       "   0\n",
       "   0\n",
       "   0\n",
       "   0\n",
       "   0\n",
       "   0\n",
       "   0\n",
       " 170\n",
       " 253\n",
       " 253\n",
       " 253\n",
       " 254\n",
       " 253\n",
       " 228\n",
       "  42\n",
       "   0\n",
       "   0\n",
       "   0\n",
       "   0\n",
       "   0\n",
       "   0\n",
       "   0\n",
       "   0\n",
       "   0\n",
       "   0\n",
       "   0\n",
       "   0\n",
       "   0\n",
       "   0\n",
       "   0\n",
       "   0\n",
       "   0\n",
       "   0\n",
       "   0\n",
       "   0\n",
       "   0\n",
       "   0\n",
       "   0\n",
       "   0\n",
       "  69\n",
       " 210\n",
       " 253\n",
       " 253\n",
       " 254\n",
       " 253\n",
       " 253\n",
       " 227\n",
       "  39\n",
       "   0\n",
       "   0\n",
       "   0\n",
       "   0\n",
       "   0\n",
       "   0\n",
       "   0\n",
       "   0\n",
       "   0\n",
       "   0\n",
       "   0\n",
       "   0\n",
       "   0\n",
       "   0\n",
       "   0\n",
       "   0\n",
       "   0\n",
       "   0\n",
       "   0\n",
       "   0\n",
       "   0\n",
       "   0\n",
       "   0\n",
       "   0\n",
       "   0\n",
       "   0\n",
       "   0\n",
       "  15\n",
       " 111\n",
       " 215\n",
       " 254\n",
       " 150\n",
       "   0\n",
       "   0\n",
       "   0\n",
       "   0\n",
       "   0\n",
       "   0\n",
       "   0\n",
       "   0\n",
       "   0\n",
       "   0\n",
       "   0\n",
       "   0\n",
       "   0\n",
       "   0\n",
       "   0\n",
       "   0\n",
       "   0\n",
       "   0\n",
       "   0\n",
       "   0\n",
       "   0\n",
       "   0\n",
       "   0\n",
       "   0\n",
       "   0\n",
       "   0\n",
       "   0\n",
       "   0\n",
       "   0\n",
       "  31\n",
       " 246\n",
       " 237\n",
       "  38\n",
       "   0\n",
       "   0\n",
       "   0\n",
       "   0\n",
       "   0\n",
       "   0\n",
       "   0\n",
       "   0\n",
       "   0\n",
       "   0\n",
       "   0\n",
       "   0\n",
       "   0\n",
       "   0\n",
       "   0\n",
       "   0\n",
       "   0\n",
       "   0\n",
       "   0\n",
       "   0\n",
       "   0\n",
       "   0\n",
       "   0\n",
       "   0\n",
       "   0\n",
       "   0\n",
       "   0\n",
       "   0\n",
       "   0\n",
       " 243\n",
       " 253\n",
       " 146\n",
       "   0\n",
       "   0\n",
       "   0\n",
       "   0\n",
       "   0\n",
       "   0\n",
       "   0\n",
       "   0\n",
       "   0\n",
       "   0\n",
       "   0\n",
       "   0\n",
       "   0\n",
       "   0\n",
       "   0\n",
       "   0\n",
       "   0\n",
       "   0\n",
       "   0\n",
       "   0\n",
       "   0\n",
       "   0\n",
       "   0\n",
       "   0\n",
       "   0\n",
       "   0\n",
       "   0\n",
       "   0\n",
       "   0\n",
       " 243\n",
       " 253\n",
       " 165\n",
       "   0\n",
       "   0\n",
       "   0\n",
       "   0\n",
       "   0\n",
       "   0\n",
       "   0\n",
       "   0\n",
       "   0\n",
       "   0\n",
       "   0\n",
       "   0\n",
       "   0\n",
       "   0\n",
       "   0\n",
       "   0\n",
       "   0\n",
       "   0\n",
       "   0\n",
       "   0\n",
       "   0\n",
       "   0\n",
       "   0\n",
       "   0\n",
       "   0\n",
       "   0\n",
       "   0\n",
       "   0\n",
       "   0\n",
       " 243\n",
       " 253\n",
       " 140\n",
       "   0\n",
       "   0\n",
       "   0\n",
       "   0\n",
       "   0\n",
       "   0\n",
       "   0\n",
       "   0\n",
       "   0\n",
       "   0\n",
       "   0\n",
       "   0\n",
       "   0\n",
       "   0\n",
       "   0\n",
       "   0\n",
       "   0\n",
       "   0\n",
       "   0\n",
       "   0\n",
       "   0\n",
       "   0\n",
       "   0\n",
       "   0\n",
       "   0\n",
       "   0\n",
       "   0\n",
       "   0\n",
       " 118\n",
       " 251\n",
       " 253\n",
       "  55\n",
       "   0\n",
       "   0\n",
       "   0\n",
       "   0\n",
       "   0\n",
       "   0\n",
       "   0\n",
       "   0\n",
       "   0\n",
       "   0\n",
       "   0\n",
       "   0\n",
       "   0\n",
       "   0\n",
       "   0\n",
       "   0\n",
       "   0\n",
       "   0\n",
       "   0\n",
       "   0\n",
       "   0\n",
       "   9\n",
       "  60\n",
       "  12\n",
       "  12\n",
       "  12\n",
       "  75\n",
       " 151\n",
       " 250\n",
       " 253\n",
       " 222\n",
       "  29\n",
       "   0\n",
       "   0\n",
       "   0\n",
       "   0\n",
       "   0\n",
       "   0\n",
       "   0\n",
       "   0\n",
       "   0\n",
       "   0\n",
       "   0\n",
       "   0\n",
       "   0\n",
       "   0\n",
       "   0\n",
       "   0\n",
       "   0\n",
       "   0\n",
       "   0\n",
       "   0\n",
       "   0\n",
       " 199\n",
       " 253\n",
       " 253\n",
       " 253\n",
       " 253\n",
       " 255\n",
       " 253\n",
       " 253\n",
       " 250\n",
       "  73\n",
       "   0\n",
       "   0\n",
       "   0\n",
       "   0\n",
       "   0\n",
       "   0\n",
       "   0\n",
       "   0\n",
       "   0\n",
       "   0\n",
       "   0\n",
       "   0\n",
       "   0\n",
       "   0\n",
       "   0\n",
       "   0\n",
       "   0\n",
       "   0\n",
       "   0\n",
       "   0\n",
       "   0\n",
       "   0\n",
       " 165\n",
       " 253\n",
       " 253\n",
       " 253\n",
       " 253\n",
       " 254\n",
       " 253\n",
       " 253\n",
       " 116\n",
       "   0\n",
       "   0\n",
       "   0\n",
       "   0\n",
       "   0\n",
       "   0\n",
       "   0\n",
       "   0\n",
       "   0\n",
       "   0\n",
       "   0\n",
       "   0\n",
       "   0\n",
       "   0\n",
       "   0\n",
       "   0\n",
       "   0\n",
       "   0\n",
       "   0\n",
       "   0\n",
       "   0\n",
       "   0\n",
       "   0\n",
       "  12\n",
       " 133\n",
       " 162\n",
       " 253\n",
       " 157\n",
       " 143\n",
       " 114\n",
       "  33\n",
       " "
      ]
     },
     "execution_count": 6,
     "metadata": {},
     "output_type": "execute_result"
    },
    {
     "data": {
      "text/plain": [
       "  2\n",
       "   0\n",
       "   0\n",
       "   0\n",
       "   0\n",
       "   0\n",
       "   0\n",
       "   0\n",
       "   0\n",
       "   0\n",
       "   0\n",
       "   0\n",
       "   0\n",
       "   0\n",
       "   0\n",
       "   0\n",
       "   0\n",
       "   0\n",
       "   0\n",
       "   0\n",
       "   0\n",
       "   0\n",
       "   0\n",
       "   0\n",
       "   0\n",
       "   0\n",
       "   0\n",
       "   0\n",
       "   0\n",
       "   0\n",
       "   0\n",
       "   0\n",
       "   0\n",
       "   0\n",
       "   0\n",
       "   0\n",
       "   0\n",
       "   0\n",
       "   0\n",
       "   0\n",
       "   0\n",
       "   0\n",
       "   0\n",
       "   0\n",
       "   0\n",
       "   0\n",
       "   0\n",
       "   0\n",
       "   0\n",
       "   0\n",
       "   0\n",
       "   0\n",
       "   0\n",
       "   0\n",
       "   0\n",
       "   0\n",
       "   0\n",
       "   0\n",
       "   0\n",
       "   0\n",
       "   0\n",
       "   0\n",
       "   0\n",
       "   0\n",
       "   0\n",
       "   0\n",
       "   0\n",
       "   0\n",
       "   0\n",
       "   0\n",
       "   0\n",
       "   0\n",
       "   0\n",
       "   0\n",
       "   0\n",
       "   0\n",
       "   0\n",
       "   0\n",
       "   0\n",
       "   0\n",
       "   0\n",
       "   0\n",
       "   0\n",
       "   0\n",
       "   0\n",
       "   0\n",
       "   0\n",
       "   0\n",
       "   0\n",
       "   0\n",
       "   0\n",
       "   0\n",
       "   0\n",
       "   0\n",
       "   0\n",
       "   0\n",
       "   0\n",
       "   0\n",
       "   0\n",
       "   0\n",
       "   0\n",
       "   0\n",
       "   0\n",
       "   0\n",
       "   0\n",
       "   0\n",
       "   0\n",
       "   0\n",
       "   0\n",
       "   0\n",
       "   0\n",
       "   0\n",
       "   0\n",
       "   0\n",
       "   0\n",
       "   0\n",
       "   0\n",
       "   0\n",
       "   0\n",
       "   0\n",
       "   0\n",
       "   0\n",
       "   0\n",
       "   0\n",
       "   0\n",
       "   0\n",
       "   0\n",
       "   0\n",
       "   0\n",
       "   0\n",
       "   0\n",
       "   0\n",
       "   0\n",
       "   0\n",
       "   0\n",
       "   0\n",
       "   0\n",
       "   0\n",
       "   0\n",
       "   0\n",
       "   0\n",
       "   0\n",
       "   0\n",
       "   0\n",
       "   0\n",
       "   0\n",
       "   0\n",
       "   0\n",
       "   0\n",
       "   0\n",
       "   0\n",
       "   0\n",
       "   0\n",
       "   0\n",
       "   0\n",
       "   0\n",
       "   0\n",
       "   0\n",
       "   0\n",
       "   0\n",
       "   0\n",
       "   0\n",
       "   0\n",
       "   0\n",
       "   0\n",
       "   0\n",
       "   0\n",
       "   0\n",
       "   0\n",
       "   0\n",
       "   0\n",
       "   0\n",
       "   0\n",
       "   0\n",
       "   0\n",
       "   0\n",
       "   0\n",
       "   0\n",
       "   0\n",
       "   0\n",
       "   0\n",
       "   0\n",
       "   0\n",
       "   0\n",
       "   0\n",
       "   0\n",
       "   0\n",
       "   0\n",
       "   0\n",
       "   0\n",
       "   0\n",
       "   0\n",
       "   0\n",
       "   0\n",
       "   0\n",
       "   0\n",
       "   0\n",
       "   0\n",
       "   0\n",
       "   0\n",
       "   0\n",
       "   0\n",
       "   0\n",
       "   0\n",
       "   0\n",
       "[torch.DoubleTensor of size 1024]\n",
       "\n",
       "0\t\n"
      ]
     },
     "execution_count": 6,
     "metadata": {},
     "output_type": "execute_result"
    },
    {
     "data": {
      "text/plain": [
       "   0\n",
       "   0\n",
       "   0\n",
       "   0\n",
       "   0\n",
       "   0\n",
       "   0\n",
       "   0\n",
       "   0\n",
       "   0\n",
       "   0\n",
       "   0\n",
       "   0\n",
       "   0\n",
       "   0\n",
       "   0\n",
       "   0\n",
       "   0\n",
       "   0\n",
       "   0\n",
       "   0\n",
       "   0\n",
       "   0\n",
       "   0\n",
       "   0\n",
       "   0\n",
       "   0\n",
       "   0\n",
       "   0\n",
       "   0\n",
       "   0\n",
       "   0\n",
       "   0\n",
       "   0\n",
       "   0\n",
       "   0\n",
       "   0\n",
       "   0\n",
       "   0\n",
       "   0\n",
       "   0\n",
       "   0\n",
       "   0\n",
       "   0\n",
       "   0\n",
       "   0\n",
       "   0\n",
       "   0\n",
       "   0\n",
       "   0\n",
       "   0\n",
       "   0\n",
       "   0\n",
       "   0\n",
       "   0\n",
       "   0\n",
       "   0\n",
       "   0\n",
       "   0\n",
       "   0\n",
       "   0\n",
       "   0\n",
       "   0\n",
       "   0\n",
       "   0\n",
       "   0\n",
       "   0\n",
       "   0\n",
       "   0\n",
       "   0\n",
       "   0\n",
       "   0\n",
       "   0\n",
       "   0\n",
       "   0\n",
       "   0\n",
       "   0\n",
       "   0\n",
       "   0\n",
       "   0\n",
       "   0\n",
       "   0\n",
       "   0\n",
       "   0\n",
       "   0\n",
       "   0\n",
       "   0\n",
       "   0\n",
       "   0\n",
       "   0\n",
       "   0\n",
       "   0\n",
       "   0\n",
       "   0\n",
       "   0\n",
       "   0\n",
       "   0\n",
       "   0\n",
       "   0\n",
       "   0\n",
       "   0\n",
       "   0\n",
       "   0\n",
       "   0\n",
       "   0\n",
       "   0\n",
       "   0\n",
       "   0\n",
       "   0\n",
       "   0\n",
       "   0\n",
       "   0\n",
       "   0\n",
       "   0\n",
       "   0\n",
       "   0\n",
       "   0\n",
       "   0\n",
       "   0\n",
       "   0\n",
       "   0\n",
       "   0\n",
       "   0\n",
       "   0\n",
       "   0\n",
       "   0\n",
       "   0\n",
       "   0\n",
       "   0\n",
       "   0\n",
       "   0\n",
       "   0\n",
       "   0\n",
       "   0\n",
       "   0\n",
       "   0\n",
       "   0\n",
       "   0\n",
       "   0\n",
       "   0\n",
       "   0\n",
       "   0\n",
       "   0\n",
       "   0\n",
       "   0\n",
       "   0\n",
       "   0\n",
       "   0\n",
       "   0\n",
       "   0\n",
       "   0\n",
       "   0\n",
       "   0\n",
       "   0\n",
       "   0\n",
       "   0\n",
       "   0\n",
       "   0\n",
       "   0\n",
       "   0\n",
       "   0\n",
       "   0\n",
       "   0\n",
       "   0\n",
       "   0\n",
       "   0\n",
       "   0\n",
       "   0\n",
       "   0\n",
       "   0\n",
       "   0\n",
       "   0\n",
       "   0\n",
       "   0\n",
       "   0\n",
       "   0\n",
       "   0\n",
       "   0\n",
       "   0\n",
       "   0\n",
       "   0\n",
       "   0\n",
       "   0\n",
       "   0\n",
       "   0\n",
       "   0\n",
       "   0\n",
       "   0\n",
       "   0\n",
       "   0\n",
       "   0\n",
       "   0\n",
       "   0\n",
       "   0\n",
       "   0\n",
       "   0\n",
       "   0\n",
       "   0\n",
       "   0\n",
       "   0\n",
       "   0\n",
       "  23\n",
       " 254\n",
       " 254\n",
       " 254"
      ]
     },
     "execution_count": 6,
     "metadata": {},
     "output_type": "execute_result"
    },
    {
     "data": {
      "text/plain": [
       "\n",
       " 254\n",
       " 172\n",
       "  96\n",
       "  15\n",
       "   0\n",
       "   0\n",
       "   0\n",
       "   0\n",
       "   0\n",
       "   0\n",
       "   0\n",
       "   0\n",
       "   0\n",
       "   0\n",
       "   0\n",
       "   0\n",
       "   0\n",
       "   0\n",
       "   0\n",
       "   0\n",
       "   0\n",
       "   0\n",
       "   0\n",
       "   0\n",
       "   0\n",
       "   0\n",
       "   0\n",
       "   0\n",
       "  23\n",
       " 253\n",
       " 253\n",
       " 253\n",
       " 253\n",
       " 253\n",
       " 253\n",
       " 139\n",
       "   0\n",
       "   0\n",
       "   0\n",
       "   0\n",
       "   0\n",
       "   0\n",
       "   0\n",
       "   0\n",
       "   0\n",
       "   0\n",
       "   0\n",
       "   0\n",
       "   0\n",
       "   0\n",
       "   0\n",
       "   0\n",
       "   0\n",
       "   0\n",
       "   0\n",
       "   0\n",
       "   0\n",
       "   0\n",
       "   0\n",
       "   0\n",
       "  14\n",
       " 154\n",
       " 232\n",
       " 253\n",
       " 253\n",
       " 253\n",
       " 253\n",
       " 249\n",
       " 108\n",
       "   0\n",
       "   0\n",
       "   0\n",
       "   0\n",
       "   0\n",
       "   0\n",
       "   0\n",
       "   0\n",
       "   0\n",
       "   0\n",
       "   0\n",
       "   0\n",
       "   0\n",
       "   0\n",
       "   0\n",
       "   0\n",
       "   0\n",
       "   0\n",
       "   0\n",
       "   0\n",
       "   0\n",
       "   0\n",
       "   0\n",
       "   0\n",
       "   0\n",
       "   8\n",
       "  10\n",
       "  10\n",
       "  10\n",
       " 164\n",
       " 254\n",
       " 193\n",
       "   4\n",
       "   0\n",
       "   0\n",
       "   0\n",
       "   0\n",
       "   0\n",
       "   0\n",
       "   0\n",
       "   0\n",
       "   0\n",
       "   0\n",
       "   0\n",
       "   0\n",
       "   0\n",
       "   0\n",
       "   0\n",
       "   0\n",
       "   0\n",
       "   0\n",
       "   0\n",
       "   0\n",
       "   0\n",
       "   0\n",
       "   0\n",
       "   0\n",
       "   0\n",
       "   0\n",
       "   0\n",
       "   0\n",
       " 183\n",
       " 254\n",
       " 253\n",
       "  44\n",
       "   0\n",
       "   0\n",
       "   0\n",
       "   0\n",
       "   0\n",
       "   0\n",
       "   0\n",
       "   0\n",
       "   0\n",
       "   0\n",
       "   0\n",
       "   0\n",
       "   0\n",
       "   0\n",
       "   0\n",
       "   0\n",
       "   0\n",
       "   0\n",
       "   0\n",
       "   0\n",
       "   0\n",
       "   0\n",
       "   0\n",
       "   0\n",
       "   0\n",
       "   0\n",
       "   0\n",
       " 100\n",
       " 247\n",
       " 254\n",
       " 230\n",
       "  29\n",
       "   0\n",
       "   0\n",
       "   0\n",
       "   0\n",
       "   0\n",
       "   0\n",
       "   0\n",
       "   0\n",
       "   0\n",
       "   0\n",
       "   0\n",
       "   0\n",
       "   0\n",
       "   0\n",
       "   0\n",
       "   0\n",
       "   0\n",
       "   0\n",
       "   0\n",
       "   0\n",
       "   0\n",
       "   0\n",
       "   0\n",
       "   0\n",
       "   0\n",
       "   6\n",
       "  99\n",
       " 248\n",
       " 253\n",
       " 253\n",
       " 130\n",
       "   0\n",
       "   0\n",
       "   0\n",
       "   0\n",
       "   0\n",
       "   0\n",
       "   0\n",
       "   0\n",
       "   0\n",
       "   0\n",
       "   0\n",
       "   0\n",
       "   0\n",
       "   0\n",
       "   0\n",
       "   0\n",
       "   0\n",
       "   0\n",
       "   0\n",
       "   0\n",
       "   0\n",
       "   0\n",
       "   0\n",
       "   0\n",
       "   0\n",
       "   0\n",
       " 122\n",
       " 253\n",
       " 253\n",
       " 253\n",
       " 242\n",
       " 127\n",
       "  27\n",
       "   0\n",
       "   0\n",
       "   0\n",
       "   0\n",
       "   0\n",
       "   0\n",
       "   0\n",
       "   0\n",
       "   0\n",
       "   0\n",
       "   0\n",
       "   0\n",
       "   0\n",
       "   0\n",
       "   0\n",
       "   0\n",
       "   0\n",
       "   0\n",
       "   0\n",
       "   0\n",
       "   0\n",
       "   0\n",
       "   0\n",
       "   0\n",
       "   0\n",
       " 170\n",
       " 253\n",
       " 253\n",
       " 253\n",
       " 254\n",
       " 253\n",
       " 228\n",
       "  42\n",
       "   0\n",
       "   0\n",
       "   0\n",
       "   0\n",
       "   0\n",
       "   0\n",
       "   0\n",
       "   0\n",
       "   0\n",
       "   0\n",
       "   0\n",
       "   0\n",
       "   0\n",
       "   0\n",
       "   0\n",
       "   0\n",
       "   0\n",
       "   0\n",
       "   0\n",
       "   0\n",
       "   0\n",
       "   0\n",
       "   0\n",
       "   0\n",
       "  69\n",
       " 210\n",
       " 253\n",
       " 253\n",
       " 254\n",
       " 253\n",
       " 253\n",
       " 227\n",
       "  39\n",
       "   0\n",
       "   0\n",
       "   0\n",
       "   0\n",
       "   0\n",
       "   0\n",
       "   0\n",
       "   0\n",
       "   0\n",
       "   0\n",
       "   0\n",
       "   0\n",
       "   0\n",
       "   0\n",
       "   0\n",
       "   0\n",
       "   0\n",
       "   0\n",
       "   0\n",
       "   0\n",
       "   0\n",
       "   0\n",
       "   0\n",
       "   0\n",
       "   0\n",
       "   0\n",
       "   0\n",
       "  15\n",
       " 111\n",
       " 215\n",
       " 254\n",
       " 150\n",
       "   0\n",
       "   0\n",
       "   0\n",
       "   0\n",
       "   0\n",
       "   0\n",
       "   0\n",
       "   0\n",
       "   0\n",
       "   0\n",
       "   0\n",
       "   0\n",
       "   0\n",
       "   0\n",
       "   0\n",
       "   0\n",
       "   0\n",
       "   0\n",
       "   0\n",
       "   0\n",
       "   0\n",
       "   0\n",
       "   0\n",
       "   0\n",
       "   0\n",
       "   0\n",
       "   0\n",
       "   0\n",
       "   0\n",
       "  31\n",
       " 246\n",
       " 237\n",
       "  38\n",
       "   0\n",
       "   0\n",
       "   0\n",
       "   0\n",
       "   0\n",
       "   0\n",
       "   0\n",
       "   0\n",
       "   0\n",
       "   0\n",
       "   0\n",
       "   0\n",
       "   0\n",
       "   0\n",
       "   0\n",
       "   0\n",
       "   0\n",
       "   0\n",
       "   0\n",
       "   0\n",
       "   0\n",
       "   0\n",
       "   0\n",
       "   0\n",
       "   0\n",
       "   0\n",
       "   0\n",
       "   0\n",
       "   0\n",
       " 243\n",
       " 253\n",
       " 146\n",
       "   0\n",
       "   0\n",
       "   0\n",
       "   0\n",
       "   0\n",
       "   0\n",
       "   0\n",
       "   0\n",
       "   0\n",
       "   0\n",
       "   0\n",
       "   0\n",
       "   0\n",
       "   0\n",
       "   0\n",
       "   0\n",
       "   0\n",
       "   0\n",
       "   0\n",
       "   0\n",
       "   0\n",
       "   0\n",
       "   0\n",
       "   0\n",
       "   0\n",
       "   0\n",
       "   0\n",
       "   0\n",
       "   0\n",
       " 243\n",
       " 253\n",
       " 165\n",
       "   0\n",
       "   0\n",
       "   0\n",
       "   0\n",
       "   0\n",
       "   0\n",
       "   0\n",
       "   0\n",
       "   0\n",
       "   0\n",
       "   0\n",
       "   0\n",
       "   0\n",
       "   0\n",
       "   0\n",
       "   0\n",
       "   0\n",
       "   0\n",
       "   0\n",
       "   0\n",
       "   0\n",
       "   0\n",
       "   0\n",
       "   0\n",
       "   0\n",
       "   0\n",
       "   0\n",
       "   0\n",
       "   0\n",
       " 243\n",
       " 253\n",
       " 140\n",
       "   0\n",
       "   0\n",
       "   0\n",
       "   0\n",
       "   0\n",
       "   0\n",
       "   0\n",
       "   0\n",
       "   0\n",
       "   0\n",
       "   0\n",
       "   0\n",
       "   0\n",
       "   0\n",
       "   0\n",
       "   0\n",
       "   0\n",
       "   0\n",
       "   0\n",
       "   0\n",
       "   0\n",
       "   0\n",
       "   0\n",
       "   0\n",
       "   0\n",
       "   0\n",
       "   0\n",
       "   0\n",
       " 118\n",
       " 251\n",
       " 253\n",
       "  55\n",
       "   0\n",
       "   0\n",
       "   0\n",
       "   0\n",
       "   0\n",
       "   0\n",
       "   0\n",
       "   0\n",
       "   0\n",
       "   0\n",
       "   0\n",
       "   0\n",
       "   0\n",
       "   0\n",
       "   0\n",
       "   0\n",
       "   0\n",
       "   0\n",
       "   0\n",
       "   0\n",
       "   0\n",
       "   9\n",
       "  60\n",
       "  12\n",
       "  12\n",
       "  12\n",
       "  75\n",
       " 151\n",
       " 250\n",
       " 253\n",
       " 222\n",
       "  29\n",
       "   0\n",
       "   0\n",
       "   0\n",
       "   0\n",
       "   0\n",
       "   0\n",
       "   0\n",
       "   0\n",
       "   0\n",
       "   0\n",
       "   0\n",
       "   0\n",
       "   0\n",
       "   0\n",
       "   0\n",
       "   0\n",
       "   0\n",
       "   0\n",
       "   0\n",
       "   0\n",
       "   0\n",
       " 199\n",
       " 253\n",
       " 253\n",
       " 253\n",
       " 253\n",
       " 255\n",
       " 253\n",
       " 253\n",
       " 250\n",
       "  73\n",
       "   0\n",
       "   0\n",
       "   0\n",
       "   0\n",
       "   0\n",
       "   0\n",
       "   0\n",
       "   0\n",
       "   0\n",
       "   0\n",
       "   0\n",
       "   0\n",
       "   0\n",
       "   0\n",
       "   0\n",
       "   0\n",
       "   0\n",
       "   0\n",
       "   0\n",
       "   0\n",
       "   0\n",
       "   0\n",
       " 165\n",
       " 253\n",
       " 253\n",
       " 253\n",
       " 253\n",
       " 254\n",
       " 253\n",
       " 253\n",
       " 116\n",
       "   0\n",
       "   0\n",
       "   0\n",
       "   0\n",
       "   0\n",
       "   0\n",
       "   0\n",
       "   0\n",
       "   0\n",
       "   0\n",
       "   0\n",
       "   0\n",
       "   0\n",
       "   0\n",
       "   0\n",
       "   0\n",
       "   0\n",
       "   0\n",
       "   0\n",
       "   0\n",
       "   0\n",
       "   0\n",
       "   0\n",
       "  12\n",
       " 133\n",
       " 162\n",
       " 253\n",
       " 157\n",
       " 143\n",
       " 114\n",
       "  33\n",
       "   2\n",
       "   0\n",
       "   0\n",
       "   0\n",
       "   0\n",
       "   0\n",
       "   0\n",
       "   0\n",
       "   0\n",
       "   0\n",
       "   0\n",
       "   0\n",
       "   0\n",
       "   0\n",
       "   0\n",
       "   0\n",
       "   0\n",
       "   0\n",
       "   0\n",
       "   0\n",
       "   0\n",
       "   0\n",
       "   0\n",
       "   0\n",
       "   0\n",
       "   0\n",
       "   0\n",
       "   0\n",
       "   0\n",
       "   0\n",
       "   0\n",
       "   0\n",
       "   0\n",
       "   0\n",
       "   0\n",
       "   0\n",
       "   0\n",
       "   0\n",
       "   0\n",
       "   0\n",
       "   0\n",
       "   0\n",
       "   0\n",
       "   0\n",
       "   0\n",
       "   0\n",
       "   0\n",
       "   0\n",
       "   0\n",
       "   0\n",
       "   0\n",
       "   0\n",
       "   0\n",
       "   0\n",
       "   0\n",
       "   0\n",
       "   0\n",
       "   0\n",
       "   0\n",
       "   0\n",
       "   0\n",
       "   0\n",
       "   0\n",
       "   0\n",
       "   0\n",
       "   0\n",
       "   0\n",
       "   0\n",
       "   0\n",
       "   0\n",
       "   0\n",
       "   0\n",
       "   0\n",
       "   0\n",
       "   0\n",
       "   0\n",
       "   0\n",
       "   0\n",
       "   0\n",
       "   0\n",
       "   0\n",
       "   0\n",
       "   0\n",
       "   0\n",
       "   0\n",
       "   0\n",
       "   0\n",
       "   0\n",
       "   0\n",
       "   0\n",
       "   0\n",
       "   0\n",
       "   0\n",
       "   0\n",
       "   0\n",
       "   0\n",
       "   0\n",
       "   0\n",
       "   0\n",
       "   0\n",
       "   0\n",
       "   0\n",
       "   0\n",
       "   0\n",
       "   0\n",
       "   0\n",
       "   0\n",
       "   0\n",
       "   0\n",
       "   0\n",
       "   0\n",
       "   0\n",
       "   0\n",
       "   0\n",
       "   0\n",
       "   0\n",
       "   0\n",
       "   0\n",
       "   0\n",
       "   0\n",
       "   0\n",
       "   0\n",
       "   0\n",
       "   0\n",
       "   0\n",
       "   0\n",
       "   0\n",
       "   0\n",
       "   0\n",
       "   0\n",
       "   0\n",
       "   0\n",
       "   0\n",
       "   0\n",
       "   0\n",
       "   0\n",
       "   0\n",
       "   0\n",
       "   0\n",
       "   0\n",
       "   0\n",
       "   0\n",
       "   0\n",
       "   0\n",
       "   0\n",
       "   0\n",
       "   0\n",
       "   0\n",
       "   0\n",
       "   0\n",
       "   0\n",
       "   0\n",
       "   0\n",
       "   0\n",
       "   0\n",
       "   0\n",
       "   0\n",
       "   0\n",
       "   0\n",
       "   0\n",
       "   0\n",
       "   0\n",
       "   0\n",
       "   0\n",
       "   0\n",
       "   0\n",
       "   0\n",
       "   0\n",
       "   0\n",
       "   0\n",
       "   0\n",
       "   0\n",
       "   0\n",
       "   0\n",
       "   0\n",
       "   0\n",
       "   0\n",
       "   0\n",
       "   0\n",
       "   0\n",
       "   0\n",
       "   0\n",
       "   0\n",
       "   0\n",
       "   0\n",
       "   0\n",
       "   0\n",
       "   0\n",
       "   0\n",
       "   0\n",
       "   0\n",
       "   0\n",
       "   0\n",
       "   0\n",
       "   0\n",
       "   0\n",
       "   0\n",
       "   0\n",
       "   0\n",
       "   0\n",
       "   0\n",
       "   0\n",
       "   0\n",
       "   0\n",
       "   0\n"
      ]
     },
     "execution_count": 6,
     "metadata": {},
     "output_type": "execute_result"
    },
    {
     "data": {
      "text/plain": [
       "[torch.DoubleTensor of size 1024]\n",
       "\n",
       "0\t\n",
       "   0\n",
       "   0\n",
       "   0\n",
       "   0\n",
       "   0\n",
       "   0\n",
       "   0\n",
       "   0\n",
       "   0\n",
       "   0\n",
       "   0\n",
       "   0\n",
       "   0\n",
       "   0\n",
       "   0\n",
       "   0\n",
       "   0\n",
       "   0\n",
       "   0\n",
       "   0\n",
       "   0\n",
       "   0\n",
       "   0\n",
       "   0\n",
       "   0\n",
       "   0\n",
       "   0\n",
       "   0\n",
       "   0\n",
       "   0\n",
       "   0\n",
       "   0\n",
       "   0\n",
       "   0\n",
       "   0\n",
       "   0\n",
       "   0\n",
       "   0\n",
       "   0\n",
       "   0\n",
       "   0\n",
       "   0\n",
       "   0\n",
       "   0\n",
       "   0\n",
       "   0\n",
       "   0\n",
       "   0\n",
       "   0\n",
       "   0\n",
       "   0\n",
       "   0\n",
       "   0\n",
       "   0\n",
       "   0\n",
       "   0\n",
       "   0\n",
       "   0\n",
       "   0\n",
       "   0\n",
       "   0\n",
       "   0\n",
       "   0\n",
       "   0\n",
       "   0\n",
       "   0\n",
       "   0\n",
       "   0\n",
       "   0\n",
       "   0\n",
       "   0\n",
       "   0\n",
       "   0\n",
       "   0\n",
       "   0\n",
       "   0\n",
       "   0\n",
       "   0\n",
       "   0\n",
       "   0\n",
       "   0\n",
       "   0\n",
       "   0\n",
       "   0\n",
       "   0\n",
       "   0\n",
       "   0\n",
       "   0\n",
       "   0\n",
       "   0\n",
       "   0\n",
       "   0\n",
       "   0\n",
       "   0\n",
       "   0\n",
       "   0\n",
       "   0\n",
       "   0\n",
       "   0\n",
       "   0\n",
       "   0\n",
       "   0\n",
       "   0\n",
       "   0\n",
       "   0\n",
       "   0\n",
       "   0\n",
       "   0\n",
       "   0\n",
       "   0\n",
       "   0\n",
       "   0\n",
       "   0\n",
       "   0\n",
       "   0\n",
       "   0\n",
       "   0\n",
       "   0\n",
       "   0\n",
       "   0\n",
       "   0\n",
       "   0\n",
       "   0\n",
       "   0\n",
       "   0\n",
       "   0\n",
       "   0\n",
       "   0\n",
       "   0\n",
       "   0\n",
       "   0\n",
       "   0\n",
       "   0\n",
       "   0\n",
       "   0\n",
       "   0\n",
       "   0\n",
       "   0\n",
       "   0\n",
       "   0\n",
       "   0\n",
       "   0\n",
       "   0\n",
       "   0\n",
       "   0\n",
       "   0\n",
       "   0\n",
       "   0\n",
       "   0\n",
       "   0\n",
       "   0\n",
       "   0\n",
       "   0\n",
       "   0\n",
       "   0\n",
       "   0\n",
       "   0\n",
       "   0\n",
       "   0\n",
       "   0\n",
       "   0\n",
       "   0\n",
       "   0\n",
       "   0\n",
       "   0\n",
       "   0\n",
       "   0\n",
       "   0\n",
       "   0\n",
       "   0\n",
       "   0\n",
       "   0\n",
       "   0\n",
       "   0\n",
       "   0\n",
       "   0\n",
       "   0\n",
       "   0\n",
       "   0\n",
       "   0\n",
       "   0\n",
       "   0\n",
       "   0\n",
       "   0\n",
       "   0\n",
       "   0\n",
       "   0\n",
       "   0\n",
       "   0\n",
       "   0\n",
       "   0\n",
       "   0\n",
       "   0\n",
       "   0\n",
       "   0\n",
       "   0\n",
       "   0\n",
       "   0\n",
       "   0\n",
       "   0\n",
       "   0\n",
       "  23\n",
       " 254\n",
       " 254\n",
       " 254\n",
       " 254\n",
       " 172\n",
       "  96\n",
       "  15\n",
       "   0\n",
       "   0\n",
       "   0\n",
       "   0\n",
       "   0\n",
       "   0\n",
       "   0\n",
       "   0\n",
       "   0\n",
       "   0\n",
       "   0\n",
       "   0\n",
       "   0\n",
       "   0\n",
       "   0\n",
       "   0\n",
       "   0\n",
       "   0\n",
       "   0\n",
       "   0\n",
       "   0\n",
       "   0\n",
       "   0\n",
       "   0\n",
       "  23\n",
       " 253\n",
       " 253\n",
       " 253\n",
       " 253\n",
       " 253\n",
       " 253\n",
       " 139\n",
       "   0\n",
       "   0\n",
       "   0\n",
       "   0\n",
       "   0\n",
       "   0\n",
       "   0\n",
       "   0\n",
       "   0\n",
       "   0\n",
       "   0\n",
       "   0\n",
       "   0\n",
       "   0\n",
       "   0\n",
       "   0\n",
       "   0\n",
       "   0\n",
       "   0\n",
       "   0\n",
       "   0\n",
       "   0\n",
       "   0\n",
       "   0\n",
       "  14\n",
       " 154\n",
       " 232\n",
       " 253\n",
       " 253\n",
       " 253\n",
       " 253\n",
       " 249\n",
       " 108\n",
       "   0\n",
       "   0\n",
       "   0\n",
       "   0\n",
       "   0\n",
       "   0\n",
       "   0\n",
       "   0\n",
       "   0\n",
       "   0\n",
       "   0\n",
       "   0\n",
       "   0\n",
       "   0\n",
       "   0\n",
       "   0\n",
       "   0\n",
       "   0\n",
       "   0\n",
       "   0\n",
       "   0\n",
       "   0\n",
       "   0\n",
       "   0\n",
       "   0\n",
       "   8\n",
       "  10\n",
       "  10\n",
       "  10\n",
       " 164\n",
       " 254\n",
       " 193\n",
       "   4\n",
       "   0\n",
       "   0\n",
       "   0\n",
       "   0\n",
       "   0\n",
       "   0\n",
       "   0\n",
       "   0\n",
       "   0\n",
       "   0\n",
       "   0\n",
       "   0\n",
       "   0\n",
       "   0\n",
       "   0\n",
       "   0\n",
       "   0\n",
       "   0\n",
       "   0\n",
       "   0\n",
       "   0\n",
       "   0\n",
       "   0\n",
       "   0\n",
       "   0\n",
       "   0\n",
       "   0\n",
       "   0\n",
       " 183\n",
       " 254\n",
       " 253\n",
       "  44\n",
       "   0\n",
       "   0\n",
       "   0\n",
       "   0\n",
       "   0\n",
       "   0\n",
       "   0\n",
       "   0\n",
       "   0\n",
       "   0\n",
       "   0\n",
       "   0\n",
       "   0\n",
       "   0\n",
       "   0\n",
       "   0\n",
       "   0\n",
       "   0\n",
       "   0\n",
       "   0\n",
       "   0\n",
       "   0\n",
       "   0\n",
       "   0\n",
       "   0\n",
       "   0\n",
       "   0\n",
       " 100\n",
       " 247\n",
       " 254\n",
       " 230\n",
       "  29\n",
       "   0\n",
       "   0\n",
       "   0\n",
       "   0\n",
       "   0\n",
       "   0\n",
       "   0\n",
       "   0\n",
       "   0\n",
       "   0\n",
       "   0\n",
       "   0\n",
       "   0\n",
       "   0\n",
       "   0\n",
       "   0\n",
       "   0\n",
       "   0\n",
       "   0\n",
       "   0\n",
       "   0\n",
       "   0\n",
       "   0\n",
       "   0\n",
       "   0\n",
       "   6\n",
       "  99\n",
       " 248\n",
       " 253\n",
       " 253\n",
       " 130\n",
       "   0\n",
       "   0\n",
       "   0\n",
       "   0\n",
       "   0\n",
       "   0\n",
       "   0\n",
       "   0\n",
       "   0\n",
       "   0\n",
       "   0\n",
       "   0\n",
       "   0\n",
       "   0\n",
       "   0\n",
       "   0\n",
       "   0\n",
       "   0\n",
       "   0\n",
       "   0\n",
       "   0\n",
       "   0\n",
       "   0\n",
       "   0\n",
       "   0\n",
       "   0\n",
       " 122\n",
       " 253\n",
       " 253\n",
       " 253\n",
       " 242\n",
       " 127\n",
       "  27\n",
       "   0\n",
       "   0\n",
       "   0\n",
       "   0\n",
       "   0\n",
       "   0\n",
       "   0\n",
       "   0\n",
       "   0\n",
       "   0\n",
       "   0\n",
       "   0\n",
       "   0\n",
       "   0\n",
       "   0\n",
       "   0\n",
       "   0\n",
       "   0\n",
       "   0\n",
       "   0\n",
       "   0\n",
       "   0\n",
       "   0\n",
       "   0\n",
       "   0\n",
       " 170\n",
       " 253\n",
       " 253\n",
       " 253\n",
       " 254\n",
       " 253\n",
       " 228\n",
       "  42\n",
       "   0\n",
       "   0\n",
       "   0\n",
       "   0\n",
       "   0\n",
       "   0\n",
       "   0\n",
       "   0\n",
       "   0\n",
       "   0\n",
       "   0\n",
       "   0\n",
       "   0\n",
       "   0\n",
       "   0\n",
       "   0\n",
       "   0\n",
       "   0\n",
       "   0\n",
       "   0\n",
       "   0\n",
       "   0\n",
       "   0\n",
       "   0\n",
       "  69\n",
       " 210\n",
       " 253\n",
       " 253\n",
       " 254\n",
       " 253\n",
       " 253\n",
       " 227\n",
       "  39\n",
       "   0\n",
       "   0\n",
       "   0\n",
       "   0\n",
       "   0\n",
       "   0\n",
       "   0\n",
       "   0\n",
       "   0\n",
       "   0\n",
       "   0\n",
       "   0\n",
       "   0\n",
       "   0\n",
       "   0\n",
       "   0\n",
       "   0\n",
       "   0\n",
       "   0\n",
       "   0\n",
       "   0\n",
       "   0\n",
       "   0\n",
       "   0\n",
       "   0\n",
       "   0\n",
       "   0\n",
       "  15\n",
       " 111\n",
       " 215\n",
       " 254\n",
       " 150\n",
       "   0\n",
       "   0\n",
       "   0\n",
       "   0\n",
       "   0\n",
       "   0\n",
       "   0\n",
       "   0\n",
       "   0\n",
       "   0\n",
       "   0\n",
       "   0\n",
       "   0\n",
       "   0\n",
       "   0\n",
       "   0\n",
       "   0\n",
       "   0\n",
       "   0\n",
       "   0\n",
       "   0\n",
       "   0\n",
       "   0\n",
       "   0\n",
       "   0\n",
       "   0\n",
       "   0\n",
       "   0\n",
       "   0\n",
       "  31\n",
       " 246\n",
       " 237\n",
       "  38\n",
       "   0\n",
       "   0\n",
       "   0\n",
       "   0\n",
       "   0\n",
       "   0\n",
       "   0\n",
       "   0\n",
       "   0\n",
       "   0\n",
       "   0\n",
       "   0\n",
       "   0\n",
       "   0\n",
       "   0\n",
       "   0\n",
       "   0\n",
       "   0\n",
       "   0\n",
       "   0\n",
       "   0\n",
       "   0\n",
       "   0\n",
       "   0\n",
       "   0\n",
       "   0\n",
       "   0\n",
       "   0\n",
       "   0\n",
       " 243\n",
       " 253\n",
       " 146\n",
       "   0\n",
       "   0\n",
       "   0\n",
       "   0\n",
       "   0\n",
       "   0\n",
       "   0\n",
       "   0\n",
       "   0\n",
       "   0\n",
       "   0\n",
       "   0\n",
       "   0\n",
       "   0\n",
       "   0\n",
       "   0\n",
       "   0\n",
       "   0\n",
       "   0\n",
       "   0\n",
       "   0\n",
       "   0\n",
       "   0\n",
       "   0\n",
       "   0\n",
       "   0\n",
       "   0\n",
       "   0\n",
       "   0\n",
       " 243\n",
       " 253\n",
       " 165\n",
       "   0\n",
       "   0\n",
       "   0\n",
       "   0\n",
       "   0\n",
       "   0\n",
       "   0\n",
       "   0\n",
       "   0\n",
       "   0\n",
       "   0\n",
       "   0\n",
       "   0\n",
       "   0\n",
       "   0\n",
       "   0\n",
       "   0\n",
       "   0\n",
       "   0\n",
       "   0\n",
       "   0\n",
       "   0\n",
       "   0\n",
       "   0\n",
       "   0\n",
       "   0\n",
       "   0\n",
       "   0\n",
       "   0\n",
       " 243\n",
       " 253\n",
       " 140\n",
       "   0\n",
       "   0\n",
       "   0\n",
       "   0\n",
       "   0\n",
       "   0\n",
       "   0\n",
       "   0\n",
       "   0\n",
       "   0\n",
       "   0\n",
       "   0\n",
       "   0\n",
       "   0\n",
       "   0\n",
       "   0\n",
       "   0\n",
       "   0\n",
       "   0\n",
       "   0\n",
       "   0\n",
       "   0\n",
       "   0\n",
       "   0\n",
       "   0\n",
       "   0\n",
       "   0\n",
       "   0\n",
       " 118\n",
       " 251\n",
       " 253\n",
       "  55\n",
       "   0\n",
       "   0\n",
       "   0\n",
       "   0\n",
       "   0\n",
       "   0\n",
       "   0\n",
       "   0\n",
       "   0\n",
       "   0\n",
       "   0\n",
       "   0\n",
       "   0\n",
       "   0\n",
       "   0\n",
       "   0\n",
       "   0\n",
       "   0\n",
       "   0\n",
       "   0\n",
       "   0\n",
       "   9\n",
       "  60\n",
       "  12\n",
       "  12\n",
       "  12\n",
       "  75\n",
       " 151\n",
       " 250\n",
       " 253\n",
       " 222\n",
       "  29\n",
       "   0\n",
       "   0\n",
       "   0\n",
       "   0\n",
       "   0\n",
       "   0\n",
       "   0\n",
       "   0\n",
       "   0\n",
       "   0\n",
       "   0\n",
       "   0\n",
       "   0\n",
       "   0\n",
       "   0\n",
       "   0\n",
       "   0\n",
       "   0\n",
       "   0\n",
       "   0\n",
       "   0\n",
       " 199\n",
       " 253\n",
       " 253\n",
       " 253\n",
       " 253\n",
       " 255\n",
       " 253\n",
       " 253\n",
       " 250\n",
       "  73\n",
       "   0\n",
       "   0\n",
       "   0\n",
       "   0\n",
       "   0\n",
       "   0\n",
       "   0\n",
       "   0\n",
       "   0\n",
       "   0\n",
       "   0\n",
       "   0\n",
       "   0\n",
       "   0\n",
       "   0\n",
       "   0\n",
       "   0\n",
       "   0\n",
       "   0\n",
       "   0\n",
       "   0\n",
       "   0\n",
       " 165\n",
       " 253\n",
       " 253\n",
       " 253\n",
       " 253\n",
       " 254\n",
       " 253\n",
       " 253\n",
       " 116\n",
       "   0\n",
       "   0\n",
       "   0\n",
       "   0\n",
       "   0\n",
       "   0\n",
       "   0\n",
       "   0\n",
       "   0\n",
       "   0\n",
       "   0\n",
       "   0\n",
       "   0\n",
       "   0\n",
       "   0\n",
       "   0\n",
       "   0\n",
       "   0\n",
       "   0\n",
       "   0\n",
       "   0\n",
       "   0\n",
       "   0\n",
       "  1"
      ]
     },
     "execution_count": 6,
     "metadata": {},
     "output_type": "execute_result"
    },
    {
     "data": {
      "text/plain": [
       "2\n",
       " 133\n",
       " 162\n",
       " 253\n",
       " 157\n",
       " 143\n",
       " 114\n",
       "  33\n",
       "   2\n",
       "   0\n",
       "   0\n",
       "   0\n",
       "   0\n",
       "   0\n",
       "   0\n",
       "   0\n",
       "   0\n",
       "   0\n",
       "   0\n",
       "   0\n",
       "   0\n",
       "   0\n",
       "   0\n",
       "   0\n",
       "   0\n",
       "   0\n",
       "   0\n",
       "   0\n",
       "   0\n",
       "   0\n",
       "   0\n",
       "   0\n",
       "   0\n",
       "   0\n",
       "   0\n",
       "   0\n",
       "   0\n",
       "   0\n",
       "   0\n",
       "   0\n",
       "   0\n",
       "   0\n",
       "   0\n",
       "   0\n",
       "   0\n",
       "   0\n",
       "   0\n",
       "   0\n",
       "   0\n",
       "   0\n",
       "   0\n",
       "   0\n",
       "   0\n",
       "   0\n",
       "   0\n",
       "   0\n",
       "   0\n",
       "   0\n",
       "   0\n",
       "   0\n",
       "   0\n",
       "   0\n",
       "   0\n",
       "   0\n",
       "   0\n",
       "   0\n",
       "   0\n",
       "   0\n",
       "   0\n",
       "   0\n",
       "   0\n",
       "   0\n",
       "   0\n",
       "   0\n",
       "   0\n",
       "   0\n",
       "   0\n",
       "   0\n",
       "   0\n",
       "   0\n",
       "   0\n",
       "   0\n",
       "   0\n",
       "   0\n",
       "   0\n",
       "   0\n",
       "   0\n",
       "   0\n",
       "   0\n",
       "   0\n",
       "   0\n",
       "   0\n",
       "   0\n",
       "   0\n",
       "   0\n",
       "   0\n",
       "   0\n",
       "   0\n",
       "   0\n",
       "   0\n",
       "   0\n",
       "   0\n",
       "   0\n",
       "   0\n",
       "   0\n",
       "   0\n",
       "   0\n",
       "   0\n",
       "   0\n",
       "   0\n",
       "   0\n",
       "   0\n",
       "   0\n",
       "   0\n",
       "   0\n",
       "   0\n",
       "   0\n",
       "   0\n",
       "   0\n",
       "   0\n",
       "   0\n",
       "   0\n",
       "   0\n",
       "   0\n",
       "   0\n",
       "   0\n",
       "   0\n",
       "   0\n",
       "   0\n",
       "   0\n",
       "   0\n",
       "   0\n",
       "   0\n",
       "   0\n",
       "   0\n",
       "   0\n",
       "   0\n",
       "   0\n",
       "   0\n",
       "   0\n",
       "   0\n",
       "   0\n",
       "   0\n",
       "   0\n",
       "   0\n",
       "   0\n",
       "   0\n",
       "   0\n",
       "   0\n",
       "   0\n",
       "   0\n",
       "   0\n",
       "   0\n",
       "   0\n",
       "   0\n",
       "   0\n",
       "   0\n",
       "   0\n",
       "   0\n",
       "   0\n",
       "   0\n",
       "   0\n",
       "   0\n",
       "   0\n",
       "   0\n",
       "   0\n",
       "   0\n",
       "   0\n",
       "   0\n",
       "   0\n",
       "   0\n",
       "   0\n",
       "   0\n",
       "   0\n",
       "   0\n",
       "   0\n",
       "   0\n",
       "   0\n",
       "   0\n",
       "   0\n",
       "   0\n",
       "   0\n",
       "   0\n",
       "   0\n",
       "   0\n",
       "   0\n",
       "   0\n",
       "   0\n",
       "   0\n",
       "   0\n",
       "   0\n",
       "   0\n",
       "   0\n",
       "   0\n",
       "   0\n",
       "   0\n",
       "   0\n",
       "   0\n",
       "   0\n",
       "   0\n",
       "   0\n",
       "   0\n",
       "   0\n",
       "   0\n",
       "   0\n",
       "   0\n",
       "   0\n",
       "   0\n",
       "   0\n",
       "   0\n",
       "   0\n",
       "   0\n",
       "   0\n",
       "[torch.DoubleTensor of size 1024]\n",
       "\n",
       "0\t\n"
      ]
     },
     "execution_count": 6,
     "metadata": {},
     "output_type": "execute_result"
    },
    {
     "data": {
      "text/plain": [
       "   0\n",
       "   0\n",
       "   0\n",
       "   0\n",
       "   0\n",
       "   0\n",
       "   0\n",
       "   0\n",
       "   0\n",
       "   0\n",
       "   0\n",
       "   0\n",
       "   0\n",
       "   0\n",
       "   0\n",
       "   0\n",
       "   0\n",
       "   0\n",
       "   0\n",
       "   0\n",
       "   0\n",
       "   0\n",
       "   0\n",
       "   0\n",
       "   0\n",
       "   0\n",
       "   0\n",
       "   0\n",
       "   0\n",
       "   0\n",
       "   0\n",
       "   0\n",
       "   0\n",
       "   0\n",
       "   0\n",
       "   0\n",
       "   0\n",
       "   0\n",
       "   0\n",
       "   0\n",
       "   0\n",
       "   0\n",
       "   0\n",
       "   0\n",
       "   0\n",
       "   0\n",
       "   0\n",
       "   0\n",
       "   0\n",
       "   0\n",
       "   0\n",
       "   0\n",
       "   0\n",
       "   0\n",
       "   0\n",
       "   0\n",
       "   0\n",
       "   0\n",
       "   0\n",
       "   0\n",
       "   0\n",
       "   0\n",
       "   0\n",
       "   0\n",
       "   0\n",
       "   0\n",
       "   0\n",
       "   0\n",
       "   0\n",
       "   0\n",
       "   0\n",
       "   0\n",
       "   0\n",
       "   0\n",
       "   0\n",
       "   0\n",
       "   0\n",
       "   0\n",
       "   0\n",
       "   0\n",
       "   0\n",
       "   0\n",
       "   0\n",
       "   0\n",
       "   0\n",
       "   0\n",
       "   0\n",
       "   0\n",
       "   0\n",
       "   0\n",
       "   0\n",
       "   0\n",
       "   0\n",
       "   0\n",
       "   0\n",
       "   0\n",
       "   0\n",
       "   0\n",
       "   0\n",
       "   0\n",
       "   0\n",
       "   0\n",
       "   0\n",
       "   0\n",
       "   0\n",
       "   0\n",
       "   0\n",
       "   0\n",
       "   0\n",
       "   0\n",
       "   0\n",
       "   0\n",
       "   0\n",
       "   0\n",
       "   0\n",
       "   0\n",
       "   0\n",
       "   0\n",
       "   0\n",
       "   0\n",
       "   0\n",
       "   0\n",
       "   0\n",
       "   0\n",
       "   0\n",
       "   0\n",
       "   0\n",
       "   0\n",
       "   0\n",
       "   0\n",
       "   0\n",
       "   0\n",
       "   0\n",
       "   0\n",
       "   0\n",
       "   0\n",
       "   0\n",
       "   0\n",
       "   0\n",
       "   0\n",
       "   0\n",
       "   0\n",
       "   0\n",
       "   0\n",
       "   0\n",
       "   0\n",
       "   0\n",
       "   0\n",
       "   0\n",
       "   0\n",
       "   0\n",
       "   0\n",
       "   0\n",
       "   0\n",
       "   0\n",
       "   0\n",
       "   0\n",
       "   0\n",
       "   0\n",
       "   0\n",
       "   0\n",
       "   0\n",
       "   0\n",
       "   0\n",
       "   0\n",
       "   0\n",
       "   0\n",
       "   0\n",
       "   0\n",
       "   0\n",
       "   0\n",
       "   0\n",
       "   0\n",
       "   0\n",
       "   0\n",
       "   0\n",
       "   0\n",
       "   0\n",
       "   0\n",
       "   0\n",
       "   0\n",
       "   0\n",
       "   0\n",
       "   0\n",
       "   0\n",
       "   0\n",
       "   0\n",
       "   0\n",
       "   0\n",
       "   0\n",
       "   0\n",
       "   0\n",
       "   0\n",
       "   0\n",
       "   0\n",
       "   0\n",
       "   0\n",
       "   0\n",
       "   0\n",
       "   0\n",
       "   0\n",
       "  23\n",
       " 254\n",
       " 254\n",
       " 254\n",
       " 254\n",
       " 172\n",
       "  96\n",
       "  15\n",
       "   0\n",
       "   0\n",
       "   0\n",
       "   0\n",
       "   0\n",
       "   0\n",
       "   0\n",
       "   0\n",
       "   0\n",
       "   0\n",
       "   0\n",
       "   0\n",
       "   0\n",
       "   0\n",
       "   0\n",
       "   0\n",
       "   0\n",
       "   0\n",
       "   0\n",
       "   0\n",
       "   0\n",
       "   0\n",
       "   0\n",
       "   0\n",
       "  23\n",
       " 253\n",
       " 253\n",
       " 253\n",
       " 253\n",
       " 253\n",
       " 253\n",
       " 139\n",
       "   0\n",
       "   0\n",
       "   0\n",
       "   0\n",
       "   0\n",
       "   0\n",
       "   0\n",
       "   0\n",
       "   0\n",
       "   0\n",
       "   0\n",
       "   0\n",
       "   0\n",
       "   0\n",
       "   0\n",
       "   0\n",
       "   0\n",
       "   0\n",
       "   0\n",
       "   0\n",
       "   0\n",
       "   0\n",
       "   0\n",
       "   0\n",
       "  14\n",
       " 154\n",
       " 232\n",
       " 253\n",
       " 253\n",
       " 253\n",
       " 253\n",
       " 249\n",
       " 108\n",
       "   0\n",
       "   0\n",
       "   0\n",
       "   0\n",
       "   0\n",
       "   0\n",
       "   0\n",
       "   0\n",
       "   0\n",
       "   0\n",
       "   0\n",
       "   0\n",
       "   0\n",
       "   0\n",
       "   0\n",
       "   0\n",
       "   0\n",
       "   0\n",
       "   0\n",
       "   0\n",
       "   0\n",
       "   0\n",
       "   0\n",
       "   0\n",
       "   0\n",
       "   8\n",
       "  10\n",
       "  10\n",
       "  10\n",
       " 164\n",
       " 254\n",
       " 193\n",
       "   4\n",
       "   0\n",
       "   0\n",
       "   0\n",
       "   0\n",
       "   0\n",
       "   0\n",
       "   0\n",
       "   0\n",
       "   0\n",
       "   0\n",
       "   0\n",
       "   0\n",
       "   0\n",
       "   0\n",
       "   0\n",
       "   0\n",
       "   0\n",
       "   0\n",
       "   0\n",
       "   0\n",
       "   0\n",
       "   0\n",
       "   0\n",
       "   0\n",
       "   0\n",
       "   0\n",
       "   0\n",
       "   0\n",
       " 183\n",
       " 254\n",
       " 253\n",
       "  44\n",
       "   0\n",
       "   0\n",
       "   0\n",
       "   0\n",
       "   0\n",
       "   0\n",
       "   0\n",
       "   0\n",
       "   0\n",
       "   0\n",
       "   0\n",
       "   0\n",
       "   0\n",
       "   0\n",
       "   0\n",
       "   0\n",
       "   0\n",
       "   0\n",
       "   0\n",
       "   0\n",
       "   0\n",
       "   0\n",
       "   0\n",
       "   0\n",
       "   0\n",
       "   0\n",
       "   0\n",
       " 100\n",
       " 247\n",
       " 254\n",
       " 230\n",
       "  29\n",
       "   0\n",
       "   0\n",
       "   0\n",
       "   0\n",
       "   0\n",
       "   0\n",
       "   0\n",
       "   0\n",
       "   0\n",
       "   0\n",
       "   0\n",
       "   0\n",
       "   0\n",
       "   0\n",
       "   0\n",
       "   0\n",
       "   0\n",
       "   0\n",
       "   0\n",
       "   0\n",
       "   0\n",
       "   0\n",
       "   0\n",
       "   0\n",
       "   0\n",
       "   6\n",
       "  99\n",
       " 248\n",
       " 253\n",
       " 253\n",
       " 130\n",
       "   0\n",
       "   0\n",
       "   0\n",
       "   0\n",
       "   0\n",
       "   0\n",
       "   0\n",
       "   0\n",
       "   0\n",
       "   0\n",
       "   0\n",
       "   0\n",
       "   0\n",
       "   0\n",
       "   0\n",
       "   0\n",
       "   0\n",
       "   0\n",
       "   0\n",
       "   0\n",
       "   0\n",
       "   0\n",
       "   0\n",
       "   0\n",
       "   0\n",
       "   0\n",
       " 122\n",
       " 253\n",
       " 253\n",
       " 253\n",
       " 242\n",
       " 127\n",
       "  27\n",
       "   0\n",
       "   0\n",
       "   0\n",
       "   0\n",
       "   0\n",
       "   0\n",
       "   0\n",
       "   0\n",
       "   0\n",
       "   0\n",
       "   0\n",
       "   0\n",
       "   0\n",
       "   0\n",
       "   0\n",
       "   0\n",
       "   0\n",
       "   0\n",
       "   0\n",
       "   0\n",
       "   0\n",
       "   0\n",
       "   0\n",
       "   0\n",
       "   0\n",
       " 170\n",
       " 253\n",
       " 253\n",
       " 253\n",
       " 254\n",
       " 253\n",
       " 228\n",
       "  42\n",
       "   0\n",
       "   0\n",
       "   0\n",
       "   0\n",
       "   0\n",
       "   0\n",
       "   0\n",
       "   0\n",
       "   0\n",
       "   0\n",
       "   0\n",
       "   0\n",
       "   0\n",
       "   0\n",
       "   0\n",
       "   0\n",
       "   0\n",
       "   0\n",
       "   0\n",
       "   0\n",
       "   0\n",
       "   0\n",
       "   0\n",
       "   0\n",
       "  69\n",
       " 210\n",
       " 253\n",
       " 253\n",
       " 254\n",
       " 253\n",
       " 253\n",
       " 227\n",
       "  39\n",
       "   0\n",
       "   0\n",
       "   0\n",
       "   0\n",
       "   0\n",
       "   0\n",
       "   0\n",
       "   0\n",
       "   0\n",
       "   0\n",
       "   0\n",
       "   0\n",
       "   0\n",
       "   0\n",
       "   0\n",
       "   0\n",
       "   0\n",
       "   0\n",
       "   0\n",
       "   0\n",
       "   0\n",
       "   0\n",
       "   0\n",
       "   0\n",
       "   0\n",
       "   0\n",
       "   0\n",
       "  15\n",
       " 111\n",
       " 215\n",
       " 254\n",
       " 150\n",
       "   0\n",
       "   0\n",
       "   0\n",
       "   0\n",
       "   0\n",
       "   0\n",
       "   0\n",
       "   0\n",
       "   0\n",
       "   0\n",
       "   0\n",
       "   0\n",
       "   0\n",
       "   0\n",
       "   0\n",
       "   0\n",
       "   0\n",
       "   0\n",
       "   0\n",
       "   0\n",
       "   0\n",
       "   0\n",
       "   0\n",
       "   0\n",
       "   0\n",
       "   0\n",
       "   0\n",
       "   0\n",
       "   0\n",
       "  31\n",
       " 246\n",
       " 237\n",
       "  38\n",
       "   0\n",
       "   0\n",
       "   0\n",
       "   0\n",
       "   0\n",
       "   0\n",
       "   0\n",
       "   0\n",
       "   0\n",
       "   0\n",
       "   0\n",
       "   0\n",
       "   0\n",
       "   0\n",
       "   0\n",
       "   0\n",
       "   0\n",
       "   0\n",
       "   0\n",
       "   0\n",
       "   0\n",
       "   0\n",
       "   0\n",
       "   0\n",
       "   0\n",
       "   0\n",
       "   0\n",
       "   0\n",
       "   0\n",
       " 243\n",
       " 253\n",
       " 146\n",
       "   0\n",
       "   0\n",
       "   0\n",
       "   0\n",
       "   0\n",
       "   0\n",
       "   0\n",
       "   0\n",
       "   0\n",
       "   0\n",
       "   0\n",
       "   0\n",
       "   0\n",
       "   0\n",
       "   0\n",
       "   0\n",
       "   0\n",
       "   0\n",
       "   0\n",
       "   0\n",
       "   0\n",
       "   0\n",
       "   0\n",
       "   0\n",
       "   0\n",
       "   0\n",
       "   0\n",
       "   0\n",
       "   0\n",
       " 243\n",
       " 253\n",
       " 165\n",
       "   0\n",
       "   0\n",
       "   0\n",
       "   0\n",
       "   0\n",
       "   0\n",
       "   0\n",
       "   0\n",
       "   0\n",
       "   0\n",
       "   0\n",
       "   0\n",
       "   0\n",
       "   0\n",
       "   0\n",
       "   0\n",
       "   0\n",
       "   0\n",
       "   0\n",
       "   0\n",
       "   0\n",
       "   0\n",
       "   0\n",
       "   0\n",
       "   0\n",
       "   0\n",
       "   0\n",
       "   0\n",
       "   0\n",
       " 243\n",
       " 253\n",
       " 140\n",
       "   0\n",
       "   0\n",
       "   0\n",
       "   0\n",
       "   0\n",
       "   0\n",
       "   0\n",
       "   0\n",
       "   0\n",
       "   0\n",
       "   0\n",
       "   0\n",
       "   0\n",
       "   0\n",
       "   0\n",
       "   0\n",
       "   0\n",
       "   0\n",
       "   0\n",
       "   0\n",
       "   0\n",
       "   0\n",
       "   0\n",
       "   0\n",
       "   0\n",
       "   0\n",
       "   0\n",
       "   0\n",
       " 118\n",
       " 251\n",
       " 253\n",
       "  55\n",
       "   0\n",
       "   0\n",
       "   0\n",
       "   0\n",
       "   0\n",
       "   0\n",
       "   0\n",
       "   0\n",
       "   0\n",
       "   0\n",
       "   0\n",
       "   0\n",
       "   0\n",
       "   0\n",
       "   0\n",
       "   0\n",
       "   0\n",
       "   0\n",
       "   0\n",
       "   0\n",
       "   0\n",
       "   9\n",
       "  60\n",
       "  12\n",
       "  12\n",
       "  12\n",
       "  75\n",
       " 151\n",
       " 250\n",
       " 253\n",
       " 222\n",
       "  29\n",
       "   0\n",
       "   0\n",
       "   0\n",
       "   0\n",
       "   0\n",
       "   0\n",
       "   0\n",
       "   0\n",
       "   0\n",
       "   0\n",
       "   0\n",
       "   0\n",
       "   0\n",
       "   0\n",
       "   0\n",
       "   0\n",
       "   0\n",
       "   0\n",
       "   0\n",
       "   0\n",
       "   0\n",
       " 199\n",
       " 253\n",
       " 253\n",
       " 253\n",
       " 253\n",
       " 255\n",
       " 253\n",
       " 253\n",
       " 250\n",
       "  73\n",
       "   0\n",
       "   0\n",
       "   0\n",
       "   0\n",
       "   0\n",
       "   0\n",
       "   0\n",
       "   0\n",
       "   0\n",
       "   0\n",
       "   0\n",
       "   0\n",
       "   0\n",
       "   0\n",
       "   0\n",
       "   0\n",
       "   0\n",
       "   0\n",
       "   0\n",
       "   0\n",
       "   0\n",
       "   0\n",
       " 165\n",
       " 253\n",
       " 253\n",
       " 253\n",
       " 253\n",
       " 254\n",
       " 253\n",
       " 253\n",
       " 116\n",
       "   0\n",
       "   0\n",
       "   0\n",
       "   0\n",
       "   0\n",
       "   0\n",
       "   0\n",
       "   0\n",
       "   0\n",
       "   0\n",
       "   0\n",
       "   0\n",
       "   0\n",
       "   0\n",
       "   0\n",
       "   0\n",
       "   0\n",
       "   0\n",
       "   0\n",
       "   0\n",
       "   0\n",
       "   0\n",
       "   0\n",
       "  12\n",
       " 133\n",
       " 162\n",
       " 253\n",
       " 157\n",
       " 143\n",
       " 114\n",
       "  33\n",
       " "
      ]
     },
     "execution_count": 6,
     "metadata": {},
     "output_type": "execute_result"
    },
    {
     "data": {
      "text/plain": [
       "  2\n",
       "   0\n",
       "   0\n",
       "   0\n",
       "   0\n",
       "   0\n",
       "   0\n",
       "   0\n",
       "   0\n",
       "   0\n",
       "   0\n",
       "   0\n",
       "   0\n",
       "   0\n",
       "   0\n",
       "   0\n",
       "   0\n",
       "   0\n",
       "   0\n",
       "   0\n",
       "   0\n",
       "   0\n",
       "   0\n",
       "   0\n",
       "   0\n",
       "   0\n",
       "   0\n",
       "   0\n",
       "   0\n",
       "   0\n",
       "   0\n",
       "   0\n",
       "   0\n",
       "   0\n",
       "   0\n",
       "   0\n",
       "   0\n",
       "   0\n",
       "   0\n",
       "   0\n",
       "   0\n",
       "   0\n",
       "   0\n",
       "   0\n",
       "   0\n",
       "   0\n",
       "   0\n",
       "   0\n",
       "   0\n",
       "   0\n",
       "   0\n",
       "   0\n",
       "   0\n",
       "   0\n",
       "   0\n",
       "   0\n",
       "   0\n",
       "   0\n",
       "   0\n",
       "   0\n",
       "   0\n",
       "   0\n",
       "   0\n",
       "   0\n",
       "   0\n",
       "   0\n",
       "   0\n",
       "   0\n",
       "   0\n",
       "   0\n",
       "   0\n",
       "   0\n",
       "   0\n",
       "   0\n",
       "   0\n",
       "   0\n",
       "   0\n",
       "   0\n",
       "   0\n",
       "   0\n",
       "   0\n",
       "   0\n",
       "   0\n",
       "   0\n",
       "   0\n",
       "   0\n",
       "   0\n",
       "   0\n",
       "   0\n",
       "   0\n",
       "   0\n",
       "   0\n",
       "   0\n",
       "   0\n",
       "   0\n",
       "   0\n",
       "   0\n",
       "   0\n",
       "   0\n",
       "   0\n",
       "   0\n",
       "   0\n",
       "   0\n",
       "   0\n",
       "   0\n",
       "   0\n",
       "   0\n",
       "   0\n",
       "   0\n",
       "   0\n",
       "   0\n",
       "   0\n",
       "   0\n",
       "   0\n",
       "   0\n",
       "   0\n",
       "   0\n",
       "   0\n",
       "   0\n",
       "   0\n",
       "   0\n",
       "   0\n",
       "   0\n",
       "   0\n",
       "   0\n",
       "   0\n",
       "   0\n",
       "   0\n",
       "   0\n",
       "   0\n",
       "   0\n",
       "   0\n",
       "   0\n",
       "   0\n",
       "   0\n",
       "   0\n",
       "   0\n",
       "   0\n",
       "   0\n",
       "   0\n",
       "   0\n",
       "   0\n",
       "   0\n",
       "   0\n",
       "   0\n",
       "   0\n",
       "   0\n",
       "   0\n",
       "   0\n",
       "   0\n",
       "   0\n",
       "   0\n",
       "   0\n",
       "   0\n",
       "   0\n",
       "   0\n",
       "   0\n",
       "   0\n",
       "   0\n",
       "   0\n",
       "   0\n",
       "   0\n",
       "   0\n",
       "   0\n",
       "   0\n",
       "   0\n",
       "   0\n",
       "   0\n",
       "   0\n",
       "   0\n",
       "   0\n",
       "   0\n",
       "   0\n",
       "   0\n",
       "   0\n",
       "   0\n",
       "   0\n",
       "   0\n",
       "   0\n",
       "   0\n",
       "   0\n",
       "   0\n",
       "   0\n",
       "   0\n",
       "   0\n",
       "   0\n",
       "   0\n",
       "   0\n",
       "   0\n",
       "   0\n",
       "   0\n",
       "   0\n",
       "   0\n",
       "   0\n",
       "   0\n",
       "   0\n",
       "   0\n",
       "   0\n",
       "   0\n",
       "   0\n",
       "   0\n",
       "   0\n",
       "   0\n",
       "   0\n",
       "   0\n",
       "[torch.DoubleTensor of size 1024]\n",
       "\n",
       "0\t\n"
      ]
     },
     "execution_count": 6,
     "metadata": {},
     "output_type": "execute_result"
    },
    {
     "data": {
      "text/plain": [
       "   0\n",
       "   0\n",
       "   0\n",
       "   0\n",
       "   0\n",
       "   0\n",
       "   0\n",
       "   0\n",
       "   0\n",
       "   0\n",
       "   0\n",
       "   0\n",
       "   0\n",
       "   0\n",
       "   0\n",
       "   0\n",
       "   0\n",
       "   0\n",
       "   0\n",
       "   0\n",
       "   0\n",
       "   0\n",
       "   0\n",
       "   0\n",
       "   0\n",
       "   0\n",
       "   0\n",
       "   0\n",
       "   0\n",
       "   0\n",
       "   0\n",
       "   0\n",
       "   0\n",
       "   0\n",
       "   0\n",
       "   0\n",
       "   0\n",
       "   0\n",
       "   0\n",
       "   0\n",
       "   0\n",
       "   0\n",
       "   0\n",
       "   0\n",
       "   0\n",
       "   0\n",
       "   0\n",
       "   0\n",
       "   0\n",
       "   0\n",
       "   0\n",
       "   0\n",
       "   0\n",
       "   0\n",
       "   0\n",
       "   0\n",
       "   0\n",
       "   0\n",
       "   0\n",
       "   0\n",
       "   0\n",
       "   0\n",
       "   0\n",
       "   0\n",
       "   0\n",
       "   0\n",
       "   0\n",
       "   0\n",
       "   0\n",
       "   0\n",
       "   0\n",
       "   0\n",
       "   0\n",
       "   0\n",
       "   0\n",
       "   0\n",
       "   0\n",
       "   0\n",
       "   0\n",
       "   0\n",
       "   0\n",
       "   0\n",
       "   0\n",
       "   0\n",
       "   0\n",
       "   0\n",
       "   0\n",
       "   0\n",
       "   0\n",
       "   0\n",
       "   0\n",
       "   0\n",
       "   0\n",
       "   0\n",
       "   0\n",
       "   0\n",
       "   0\n",
       "   0\n",
       "   0\n",
       "   0\n",
       "   0\n",
       "   0\n",
       "   0\n",
       "   0\n",
       "   0\n",
       "   0\n",
       "   0\n",
       "   0\n",
       "   0\n",
       "   0\n",
       "   0\n",
       "   0\n",
       "   0\n",
       "   0\n",
       "   0\n",
       "   0\n",
       "   0\n",
       "   0\n",
       "   0\n",
       "   0\n",
       "   0\n",
       "   0\n",
       "   0\n",
       "   0\n",
       "   0\n",
       "   0\n",
       "   0\n",
       "   0\n",
       "   0\n",
       "   0\n",
       "   0\n",
       "   0\n",
       "   0\n",
       "   0\n",
       "   0\n",
       "   0\n",
       "   0\n",
       "   0\n",
       "   0\n",
       "   0\n",
       "   0\n",
       "   0\n",
       "   0\n",
       "   0\n",
       "   0\n",
       "   0\n",
       "   0\n",
       "   0\n",
       "   0\n",
       "   0\n",
       "   0\n",
       "   0\n",
       "   0\n",
       "   0\n",
       "   0\n",
       "   0\n",
       "   0\n",
       "   0\n",
       "   0\n",
       "   0\n",
       "   0\n",
       "   0\n",
       "   0\n",
       "   0\n",
       "   0\n",
       "   0\n",
       "   0\n",
       "   0\n",
       "   0\n",
       "   0\n",
       "   0\n",
       "   0\n",
       "   0\n",
       "   0\n",
       "   0\n",
       "   0\n",
       "   0\n",
       "   0\n",
       "   0\n",
       "   0\n",
       "   0\n",
       "   0\n",
       "   0\n",
       "   0\n",
       "   0\n",
       "   0\n",
       "   0\n",
       "   0\n",
       "   0\n",
       "   0\n",
       "   0\n",
       "   0\n",
       "   0\n",
       "   0\n",
       "   0\n",
       "   0\n",
       "   0\n",
       "   0\n",
       "   0\n",
       "   0\n",
       "   0\n",
       "  23\n",
       " 254\n",
       " 254\n",
       " 254\n",
       " 254\n",
       " 172\n",
       "  96\n",
       "  15\n",
       "   0\n",
       "   0\n",
       "   0\n",
       "   0\n",
       "   0\n",
       "   0\n",
       "   0\n",
       "   0\n",
       "   0\n",
       "   0\n",
       "   0\n",
       "   0\n",
       "   0\n",
       "   0\n",
       "   0\n",
       "   0\n",
       "   0\n",
       "   0\n",
       "   0\n",
       "   0\n",
       "   0\n",
       "   0\n",
       "   0\n",
       "   0\n",
       "  23\n",
       " 253\n",
       " 253\n",
       " 253\n",
       " 253\n",
       " 253\n",
       " 253\n",
       " 139\n",
       "   0\n",
       "   0\n",
       "   0\n",
       "   0\n",
       "   0\n",
       "   0\n",
       "   0\n",
       "   0\n",
       "   0\n",
       "   0\n",
       "   0\n",
       "   0\n",
       "   0\n",
       "   0\n",
       "   0\n",
       "   0\n",
       "   0\n",
       "   0\n",
       "   0\n",
       "   0\n",
       "   0\n",
       "   0\n",
       "   0\n",
       "   0\n",
       "  14\n",
       " 154\n",
       " 232\n",
       " 253\n",
       " 253\n",
       " 253\n",
       " 253\n",
       " 249\n",
       " 108\n",
       "   0\n",
       "   0\n",
       "   0\n",
       "   0\n",
       "   0\n",
       "   0\n",
       "   0\n",
       "   0\n",
       "   0\n",
       "   0\n",
       "   0\n",
       "   0\n",
       "   0\n",
       "   0\n",
       "   0\n",
       "   0\n",
       "   0\n",
       "   0\n",
       "   0\n",
       "   0\n",
       "   0\n",
       "   0\n",
       "   0\n",
       "   0\n",
       "   0\n",
       "   8\n",
       "  10\n",
       "  10\n",
       "  10\n",
       " 164\n",
       " 254\n",
       " 193\n",
       "   4\n",
       "   0\n",
       "   0\n",
       "   0\n",
       "   0\n",
       "   0\n",
       "   0\n",
       "   0\n",
       "   0\n",
       "   0\n",
       "   0\n",
       "   0\n",
       "   0\n",
       "   0\n",
       "   0\n",
       "   0\n",
       "   0\n",
       "   0\n",
       "   0\n",
       "   0\n",
       "   0\n",
       "   0\n",
       "   0\n",
       "   0\n",
       "   0\n",
       "   0\n",
       "   0\n",
       "   0\n",
       "   0\n",
       " 183\n",
       " 254\n",
       " 253\n",
       "  44\n",
       "   0\n",
       "   0\n",
       "   0\n",
       "   0\n",
       "   0\n",
       "   0\n",
       "   0\n",
       "   0\n",
       "   0\n",
       "   0\n",
       "   0\n",
       "   0\n",
       "   0\n",
       "   0\n",
       "   0\n",
       "   0\n",
       "   0\n",
       "   0\n",
       "   0\n",
       "   0\n",
       "   0\n",
       "   0\n",
       "   0\n",
       "   0\n",
       "   0\n",
       "   0\n",
       "   0\n",
       " 100\n",
       " 247\n",
       " 254\n",
       " 230\n",
       "  29\n",
       "   0\n",
       "   0\n",
       "   0\n",
       "   0\n",
       "   0\n",
       "   0\n",
       "   0\n",
       "   0\n",
       "   0\n",
       "   0\n",
       "   0\n",
       "   0\n",
       "   0\n",
       "   0\n",
       "   0\n",
       "   0\n",
       "   0\n",
       "   0\n",
       "   0\n",
       "   0\n",
       "   0\n",
       "   0\n",
       "   0\n",
       "   0\n",
       "   0\n",
       "   6\n",
       "  99\n",
       " 248\n",
       " 253\n",
       " 253\n",
       " 130\n",
       "   0\n",
       "   0\n",
       "   0\n",
       "   0\n",
       "   0\n",
       "   0\n",
       "   0\n",
       "   0\n",
       "   0\n",
       "   0\n",
       "   0\n",
       "   0\n",
       "   0\n",
       "   0\n",
       "   0\n",
       "   0\n",
       "   0\n",
       "   0\n",
       "   0\n",
       "   0\n",
       "   0\n",
       "   0\n",
       "   0\n",
       "   0\n",
       "   0\n",
       "   0\n",
       " 122\n",
       " 253\n",
       " 253\n",
       " 253\n",
       " 242\n",
       " 127\n",
       "  27\n",
       "   0\n",
       "   0\n",
       "   0\n",
       "   0\n",
       "   0\n",
       "   0\n",
       "   0\n",
       "   0\n",
       "   0\n",
       "   0\n",
       "   0\n",
       "   0\n",
       "   0\n",
       "   0\n",
       "   0\n",
       "   0\n",
       "   0\n",
       "   0\n",
       "   0\n",
       "   0\n",
       "   0\n",
       "   0\n",
       "   0\n",
       "   0\n",
       "   0\n",
       " 170\n",
       " 253\n",
       " 253\n",
       " 253\n",
       " 254\n",
       " 253\n",
       " 228\n",
       "  42\n",
       "   0\n",
       "   0\n",
       "   0\n",
       "   0\n",
       "   0\n",
       "   0\n",
       "   0\n",
       "   0\n",
       "   0\n",
       "   0\n",
       "   0\n",
       "   0\n",
       "   0\n",
       "   0\n",
       "   0\n",
       "   0\n",
       "   0\n",
       "   0\n",
       "   0\n",
       "   0\n",
       "   0\n",
       "   0\n",
       "   0\n",
       "   0\n",
       "  69\n",
       " 210\n",
       " 253\n",
       " 253\n",
       " 254\n",
       " 253\n",
       " 253\n",
       " 227\n",
       "  39\n",
       "   0\n",
       "   0\n",
       "   0\n",
       "   0\n",
       "   0\n",
       "   0\n",
       "   0\n",
       "   0\n",
       "   0\n",
       "   0\n",
       "   0\n",
       "   0\n",
       "   0\n",
       "   0\n",
       "   0\n",
       "   0\n",
       "   0\n",
       "   0\n",
       "   0\n",
       "   0\n",
       "   0\n",
       "   0\n",
       "   0\n",
       "   0\n",
       "   0\n",
       "   0\n",
       "   0\n",
       "  15\n",
       " 111\n",
       " 215\n",
       " 254\n",
       " 150\n",
       "   0\n",
       "   0\n",
       "   0\n",
       "   0\n",
       "   0\n",
       "   0\n",
       "   0\n",
       "   0\n",
       "   0\n",
       "   0\n",
       "   0\n",
       "   0\n",
       "   0\n",
       "   0\n",
       "   0\n",
       "   0\n",
       "   0\n",
       "   0\n",
       "   0\n",
       "   0\n",
       "   0\n",
       "   0\n",
       "   0\n",
       "   0\n",
       "   0\n",
       "   0\n",
       "   0\n",
       "   0\n",
       "   0\n",
       "  31\n",
       " 246\n",
       " 237\n",
       "  38\n",
       "   0\n",
       "   0\n",
       "   0\n",
       "   0\n",
       "   0\n",
       "   0\n",
       "   0\n",
       "   0\n",
       "   0\n",
       "   0\n",
       "   0\n",
       "   0\n",
       "   0\n",
       "   0\n",
       "   0\n",
       "   0\n",
       "   0\n",
       "   0\n",
       "   0\n",
       "   0\n",
       "   0\n",
       "   0\n",
       "   0\n",
       "   0\n",
       "   0\n",
       "   0\n",
       "   0\n",
       "   0\n",
       "   0\n",
       " 243\n",
       " 253\n",
       " 146\n",
       "   0\n",
       "   0\n",
       "   0\n",
       "   0\n",
       "   0\n",
       "   0\n",
       "   0\n",
       "   0\n",
       "   0\n",
       "   0\n",
       "   0\n",
       "   0\n",
       "   0\n",
       "   0\n",
       "   0\n",
       "   0\n",
       "   0\n",
       "   0\n",
       "   0\n",
       "   0\n",
       "   0\n",
       "   0\n",
       "   0\n",
       "   0\n",
       "   0\n",
       "   0\n",
       "   0\n",
       "   0\n",
       "   0\n",
       " 243\n",
       " 253\n",
       " 165\n",
       "   0\n",
       "   0\n",
       "   0\n",
       "   0\n",
       "   0\n",
       "   0\n",
       "   0\n",
       "   0\n",
       "   0\n",
       "   0\n",
       "   0\n",
       "   0\n",
       "   0\n",
       "   0\n",
       "   0\n",
       "   0\n",
       "   0\n",
       "   0\n",
       "   0\n",
       "   0\n",
       "   0\n",
       "   0\n",
       "   0\n",
       "   0\n",
       "   0\n",
       "   0\n",
       "   0\n",
       "   0\n",
       "   0\n",
       " 243\n",
       " 253\n",
       " 140\n",
       "   0\n",
       "   0\n",
       "   0\n",
       "   0\n",
       "   0\n",
       "   0\n",
       "   0\n",
       "   0\n",
       "   0\n",
       "   0\n",
       "   0\n",
       "   0\n",
       "   0\n",
       "   0\n",
       "   0\n",
       "   0\n",
       "   0\n",
       "   0\n",
       "   0\n",
       "   0\n",
       "   0\n",
       "   0\n",
       "   0\n",
       "   0\n",
       "   0\n",
       "   0\n",
       "   0\n",
       "   0\n",
       " 118\n",
       " 251\n",
       " 253\n",
       "  55\n",
       "   0\n",
       "   0\n",
       "   0\n",
       "   0\n",
       "   0\n",
       "   0\n",
       "   0\n",
       "   0\n",
       "   0\n",
       "   0\n",
       "   0\n",
       "   0\n",
       "   0\n",
       "   0\n",
       "   0\n",
       "   0\n",
       "   0\n",
       "   0\n",
       "   0\n",
       "   0\n",
       "   0\n",
       "   9\n",
       "  60\n",
       "  12\n",
       "  12\n",
       "  12\n",
       "  75\n",
       " 151\n",
       " 250\n",
       " 253\n",
       " 222\n",
       "  29\n",
       "   0\n",
       "   0\n",
       "   0\n",
       "   0\n",
       "   0\n",
       "   0\n",
       "   0\n",
       "   0\n",
       "   0\n",
       "   0\n",
       "   0\n",
       "   0\n",
       "   0\n",
       "   0\n",
       "   0\n",
       "   0\n",
       "   0\n",
       "   0\n",
       "   0\n",
       "   0\n",
       "   0\n",
       " 199\n",
       " 253\n",
       " 253\n",
       " 253\n",
       " 253\n",
       " 255\n",
       " 253\n",
       " 253\n",
       " 250\n",
       "  73\n",
       "   0\n",
       "   0\n",
       "   0\n",
       "   0\n",
       "   0\n",
       "   0\n",
       "   0\n",
       "   0\n",
       "   0\n",
       "   0\n",
       "   0\n",
       "   0\n",
       "   0\n",
       "   0\n",
       "   0\n",
       "   0\n",
       "   0\n",
       "   0\n",
       "   0\n",
       "   0\n",
       "   0\n",
       "   0\n",
       " 165\n",
       " 253\n",
       " 253\n",
       " 253\n",
       " 253\n",
       " 254\n",
       " 253\n",
       " 253\n",
       " 116\n",
       "   0\n",
       "   0\n",
       "   0\n",
       "   0\n",
       "   0\n",
       "   0\n",
       "   0\n",
       "   0\n",
       "   0\n",
       "   0\n",
       "   0\n",
       "   0\n",
       "   0\n",
       "   0\n",
       "   0\n",
       "   0\n",
       "   0\n",
       "   0\n",
       "   0\n",
       "   0\n",
       "   0\n",
       "   0\n",
       "   0\n",
       "  12\n",
       " 133\n",
       " 162\n",
       " 253\n",
       " 157\n",
       " 143\n",
       " 114\n",
       "  33\n",
       " "
      ]
     },
     "execution_count": 6,
     "metadata": {},
     "output_type": "execute_result"
    },
    {
     "data": {
      "text/plain": [
       "  2\n",
       "   0\n",
       "   0\n",
       "   0\n",
       "   0\n",
       "   0\n",
       "   0\n",
       "   0\n",
       "   0\n",
       "   0\n",
       "   0\n",
       "   0\n",
       "   0\n",
       "   0\n",
       "   0\n",
       "   0\n",
       "   0\n",
       "   0\n",
       "   0\n",
       "   0\n",
       "   0\n",
       "   0\n",
       "   0\n",
       "   0\n",
       "   0\n",
       "   0\n",
       "   0\n",
       "   0\n",
       "   0\n",
       "   0\n",
       "   0\n",
       "   0\n",
       "   0\n",
       "   0\n",
       "   0\n",
       "   0\n",
       "   0\n",
       "   0\n",
       "   0\n",
       "   0\n",
       "   0\n",
       "   0\n",
       "   0\n",
       "   0\n",
       "   0\n",
       "   0\n",
       "   0\n",
       "   0\n",
       "   0\n",
       "   0\n",
       "   0\n",
       "   0\n",
       "   0\n",
       "   0\n",
       "   0\n",
       "   0\n",
       "   0\n",
       "   0\n",
       "   0\n",
       "   0\n",
       "   0\n",
       "   0\n",
       "   0\n",
       "   0\n",
       "   0\n",
       "   0\n",
       "   0\n",
       "   0\n",
       "   0\n",
       "   0\n",
       "   0\n",
       "   0\n",
       "   0\n",
       "   0\n",
       "   0\n",
       "   0\n",
       "   0\n",
       "   0\n",
       "   0\n",
       "   0\n",
       "   0\n",
       "   0\n",
       "   0\n",
       "   0\n",
       "   0\n",
       "   0\n",
       "   0\n",
       "   0\n",
       "   0\n",
       "   0\n",
       "   0\n",
       "   0\n",
       "   0\n",
       "   0\n",
       "   0\n",
       "   0\n",
       "   0\n",
       "   0\n",
       "   0\n",
       "   0\n",
       "   0\n",
       "   0\n",
       "   0\n",
       "   0\n",
       "   0\n",
       "   0\n",
       "   0\n",
       "   0\n",
       "   0\n",
       "   0\n",
       "   0\n",
       "   0\n",
       "   0\n",
       "   0\n",
       "   0\n",
       "   0\n",
       "   0\n",
       "   0\n",
       "   0\n",
       "   0\n",
       "   0\n",
       "   0\n",
       "   0\n",
       "   0\n",
       "   0\n",
       "   0\n",
       "   0\n",
       "   0\n",
       "   0\n",
       "   0\n",
       "   0\n",
       "   0\n",
       "   0\n",
       "   0\n",
       "   0\n",
       "   0\n",
       "   0\n",
       "   0\n",
       "   0\n",
       "   0\n",
       "   0\n",
       "   0\n",
       "   0\n",
       "   0\n",
       "   0\n",
       "   0\n",
       "   0\n",
       "   0\n",
       "   0\n",
       "   0\n",
       "   0\n",
       "   0\n",
       "   0\n",
       "   0\n",
       "   0\n",
       "   0\n",
       "   0\n",
       "   0\n",
       "   0\n",
       "   0\n",
       "   0\n",
       "   0\n",
       "   0\n",
       "   0\n",
       "   0\n",
       "   0\n",
       "   0\n",
       "   0\n",
       "   0\n",
       "   0\n",
       "   0\n",
       "   0\n",
       "   0\n",
       "   0\n",
       "   0\n",
       "   0\n",
       "   0\n",
       "   0\n",
       "   0\n",
       "   0\n",
       "   0\n",
       "   0\n",
       "   0\n",
       "   0\n",
       "   0\n",
       "   0\n",
       "   0\n",
       "   0\n",
       "   0\n",
       "   0\n",
       "   0\n",
       "   0\n",
       "   0\n",
       "   0\n",
       "   0\n",
       "   0\n",
       "   0\n",
       "   0\n",
       "   0\n",
       "   0\n",
       "   0\n",
       "   0\n",
       "   0\n",
       "   0\n",
       "   0\n",
       "[torch.DoubleTensor of size 1024]\n",
       "\n",
       "0\t\n",
       "   0\n",
       "   0\n",
       "   0\n",
       "   0\n",
       "   0\n",
       "   0\n",
       "   0\n",
       "   0\n",
       "   0\n",
       "   0\n",
       "   0\n",
       "   0\n",
       "   0\n",
       "   0\n",
       "   0\n",
       "   0\n",
       "   0\n",
       "   0\n",
       "   0\n",
       "   0\n",
       "   0\n",
       "   0\n",
       "   0\n",
       "   0\n",
       "   0\n",
       "   0\n",
       "   0\n",
       "   0\n",
       "   0\n",
       "   0\n",
       "   0\n",
       "   0\n",
       "   0\n",
       "   0\n",
       "   0\n",
       "   0\n",
       "   0\n",
       "   0\n",
       "   0\n",
       "   0\n",
       "   0\n",
       "   0\n",
       "   0\n",
       "   0\n",
       "   0\n",
       "   0\n",
       "   0\n",
       "   0\n",
       "   0\n",
       "   0\n",
       "   0\n",
       "   0\n",
       "   0\n",
       "   0\n",
       "   0\n",
       "   0\n",
       "   0\n",
       "   0\n",
       "   0\n",
       "   0\n",
       "   0\n",
       "   0\n",
       "   0\n",
       "   0\n",
       "   0\n",
       "   0\n",
       "   0\n",
       "   0\n",
       "   0\n",
       "   0\n",
       "   0\n",
       "   0\n",
       "   0\n",
       "   0\n",
       "   0\n",
       "   0\n",
       "   0\n",
       "   0\n",
       "   0\n",
       "   0\n",
       "   0\n",
       "   0\n",
       "   0\n",
       "   0\n",
       "   0\n",
       "   0\n",
       "   0\n",
       "   0\n",
       "   0\n",
       "   0\n",
       "   0\n",
       "   0\n",
       "   0\n",
       "   0\n",
       "   0\n",
       "   0\n",
       "   0\n",
       "   0\n",
       "   0\n",
       "   0\n",
       "   0\n",
       "   0\n",
       "   0\n",
       "   0\n",
       "   0\n",
       "   0\n",
       "   0\n",
       "   0\n",
       "   0\n",
       "   0\n",
       "   0\n",
       "   0\n",
       "   0\n",
       "   0\n",
       "   0\n",
       "   0\n",
       "   0\n",
       "   0\n",
       "   0\n",
       "   0\n",
       "   0\n",
       "   0\n",
       "   0\n",
       "   0\n",
       "   0\n",
       "   0\n",
       "   0\n",
       "   0\n",
       "   0\n",
       "   0\n",
       "   0\n",
       "   0\n",
       "   0\n",
       "   0\n",
       "   0\n",
       "   0\n",
       "   0\n",
       "   0\n",
       "   0\n",
       "   0\n",
       "   0\n",
       "   0\n",
       "   0\n",
       "   0\n",
       "   0\n",
       "   0\n",
       "   0\n",
       "   0\n",
       "   0\n",
       "   0\n",
       "   0\n",
       "   0\n",
       "   0\n",
       "   0\n",
       "   0\n",
       "   0\n",
       "   0\n",
       "   0\n",
       "   0\n",
       "   0\n",
       "   0\n",
       "   0\n",
       "   0\n",
       "   0\n",
       "   0\n",
       "   0\n",
       "   0\n",
       "   0\n",
       "   0\n",
       "   0\n",
       "   0\n",
       "   0\n",
       "   0\n",
       "   0\n",
       "   0\n",
       "   0\n",
       "   0\n",
       "   0\n",
       "   0\n",
       "   0\n",
       "   0\n",
       "   0\n",
       "   0\n",
       "   0\n",
       "   0\n",
       "   0\n",
       "   0\n",
       "   0\n",
       "   0\n",
       "   0\n",
       "   0\n",
       "   0\n",
       "   0\n",
       "   0\n",
       "   0\n",
       "   0\n",
       "   0\n",
       "   0\n",
       "   0\n",
       "   0\n",
       "   0\n",
       "  23\n",
       " 254\n",
       " 254\n",
       " 254\n",
       " 254\n",
       " 172\n",
       "  96\n",
       "  15\n",
       "   0\n",
       "   0\n",
       "   0\n",
       "   0\n",
       "   0\n",
       "   0\n",
       "   0\n",
       "   0\n",
       "   0\n",
       "   0\n",
       "   0\n",
       "   0\n",
       "   0\n",
       "   0\n",
       "   0\n",
       "   0\n",
       "   0\n",
       "   0\n",
       "   0\n",
       "   0\n",
       "   0\n",
       "   0\n",
       "   0\n",
       "   0\n",
       "  23\n",
       " 253\n",
       " 253\n",
       " 253\n",
       " 253\n",
       " 253\n",
       " 253\n",
       " 139\n",
       "   0\n",
       "   0\n",
       "   0\n",
       "   0\n",
       "   0\n",
       "   0\n",
       "   0\n",
       "   0\n",
       "   0\n",
       "   0\n",
       "   0\n",
       "   0\n",
       "   0\n",
       "   0\n",
       "   0\n",
       "   0\n",
       "   0\n",
       "   0\n",
       "   0\n",
       "   0\n",
       "   0\n",
       "   0\n",
       "   0\n",
       "   0\n",
       "  14\n",
       " 154\n",
       " 232\n",
       " 253\n",
       " 253\n",
       " 253\n",
       " 253\n",
       " 249\n",
       " 108\n",
       "   0\n",
       "   0\n",
       "   0\n",
       "   0\n",
       "   0\n",
       "   0\n",
       "   0\n",
       "   0\n",
       "   0\n",
       "   0\n",
       "   0\n",
       "   0\n",
       "   0\n",
       "   0\n",
       "   0\n",
       "   0\n",
       "   0\n",
       "   0\n",
       "   0\n",
       "   0\n",
       "   0\n",
       "   0\n",
       "   0\n",
       "   0\n",
       "   0\n",
       "   8\n",
       "  10\n",
       "  10\n",
       "  10\n",
       " 164\n",
       " 254\n",
       " 193\n",
       "   4\n",
       "   0\n",
       "   0\n",
       "   0\n",
       "   0\n",
       "   0\n",
       "   0\n",
       "   0\n",
       "   0\n",
       "   0\n",
       "   0\n",
       "   0\n",
       "   0\n",
       "   0\n",
       "   0\n",
       "   0\n",
       "   0\n",
       "   0\n",
       "   0\n",
       "   0\n",
       "   0\n",
       "   0\n",
       "   0\n",
       "   0\n",
       "   0\n",
       "   0\n",
       "   0\n",
       "   0\n",
       "   0\n",
       " 183\n",
       " 254\n",
       " 253\n",
       "  44\n",
       "   0\n",
       "   0\n",
       "   0\n",
       "   0\n",
       "   0\n",
       "   0\n",
       "   0\n",
       "   0\n",
       "   0\n",
       "   0\n",
       "   0\n",
       "   0\n",
       "   0\n",
       "   0\n",
       "   0\n",
       "   0\n",
       "   0\n",
       "   0\n",
       "   0\n",
       "   0\n",
       "   0\n",
       "   0\n",
       "   0\n",
       "   0\n",
       "   0\n",
       "   0\n",
       "   0\n",
       " 100\n",
       " 247\n",
       " 254\n",
       " 230\n",
       "  29\n",
       "   0\n",
       "   0\n",
       "   0\n",
       "   0\n",
       "   0\n",
       "   0\n",
       "   0\n",
       "   0\n",
       "   0\n",
       "   0\n",
       "   0\n",
       "   0\n",
       "   0\n",
       "   0\n",
       "   0\n",
       "   0\n",
       "   0\n",
       "   0\n",
       "   0\n",
       "   0\n",
       "   0\n",
       "   0\n",
       "   0\n",
       "   0\n",
       "   0\n",
       "   6\n",
       "  99\n",
       " 248\n",
       " 253\n",
       " 253\n",
       " 130\n",
       "   0\n",
       "   0\n",
       "   0\n",
       "   0\n",
       "   0\n",
       "   0\n",
       "   0\n",
       "   0\n",
       "   0\n",
       "   0\n",
       "   0\n",
       "   0\n",
       "   0\n",
       "   0\n",
       "   0\n",
       "   0\n",
       "   0\n",
       "   0\n",
       "   0\n",
       "   0\n",
       "   0\n",
       "   0\n",
       "   0\n",
       "   0\n",
       "   0\n",
       "   0\n",
       " 122\n",
       " 253\n",
       " 253\n",
       " 253\n",
       " 242\n",
       " 127\n",
       "  27\n",
       "   0\n",
       "   0\n",
       "   0\n",
       "   0\n",
       "   0\n",
       "   0\n",
       "   0\n",
       "   0\n",
       "   0\n",
       "   0\n",
       "   0\n",
       "   0\n",
       "   0\n",
       "   0\n",
       "   0\n",
       "   0\n",
       "   0\n",
       "   0\n",
       "   0\n",
       "   0\n",
       "   0\n",
       "   0\n",
       "   0\n",
       "   0\n",
       "   0\n",
       " 170\n",
       " 253\n",
       " 253\n",
       " 253\n",
       " 254\n",
       " 253\n",
       " 228\n",
       "  42\n",
       "   0\n",
       "   0\n",
       "   0\n",
       "   0\n",
       "   0\n",
       "   0\n",
       "   0\n",
       "   0\n",
       "   0\n",
       "   0\n",
       "   0\n",
       "   0\n",
       "   0\n",
       "   0\n",
       "   0\n",
       "   0\n",
       "   0\n",
       "   0\n",
       "   0\n",
       "   0\n",
       "   0\n",
       "   0\n",
       "   0\n",
       "   0\n",
       "  69\n",
       " 210\n",
       " 253\n",
       " 253\n",
       " 254\n",
       " 253\n",
       " 253\n",
       " 227\n",
       "  39\n",
       "   0\n",
       "   0\n",
       "   0\n",
       "   0\n",
       "   0\n",
       "   0\n",
       "   0\n",
       "   0\n",
       "   0\n",
       "   0\n",
       "   0\n",
       "   0\n",
       "   0\n",
       "   0\n",
       "   0\n",
       "   0\n",
       "   0\n",
       "   0\n",
       "   0\n",
       "   0\n",
       "   0\n",
       "   0\n",
       "   0\n",
       "   0\n",
       "   0\n",
       "   0\n",
       "   0\n",
       "  15\n",
       " 111\n",
       " 215\n",
       " 254\n",
       " 150\n",
       "   0\n",
       "   0\n",
       "   0\n",
       "   0\n",
       "   0\n",
       "   0\n",
       "   0\n",
       "   0\n",
       "   0\n",
       "   0\n",
       "   0\n",
       "   0\n",
       "   0\n",
       "   0\n",
       "   0\n",
       "   0\n",
       "   0\n",
       "   0\n",
       "   0\n",
       "   0\n",
       "   0\n",
       "   0\n",
       "   0\n",
       "   0\n",
       "   0\n",
       "   0\n",
       "   0\n",
       "   0\n",
       "   0\n",
       "  31\n",
       " 246\n",
       " 237\n",
       "  38\n",
       "   0\n",
       "   0\n",
       "   0\n",
       "   0\n",
       "   0\n",
       "   0\n",
       "   0\n",
       "   0\n",
       "   0\n",
       "   0\n",
       "   0\n",
       "   0\n",
       "   0\n",
       "   0\n",
       "   0\n",
       "   0\n",
       "   0\n",
       "   0\n",
       "   0\n",
       "   0\n",
       "   0\n",
       "   0\n",
       "   0\n",
       "   0\n",
       "   0\n",
       "   0\n",
       "   0\n",
       "   0\n",
       "   0\n",
       " 243\n",
       " 253\n",
       " 146\n",
       "   0\n",
       "   0\n",
       "   0\n",
       "   0\n",
       "   0\n",
       "   0\n",
       "   0\n",
       "   0\n",
       "   0"
      ]
     },
     "execution_count": 6,
     "metadata": {},
     "output_type": "execute_result"
    },
    {
     "data": {
      "text/plain": [
       "\n",
       "   0\n",
       "   0\n",
       "   0\n",
       "   0\n",
       "   0\n",
       "   0\n",
       "   0\n",
       "   0\n",
       "   0\n",
       "   0\n",
       "   0\n",
       "   0\n",
       "   0\n",
       "   0\n",
       "   0\n",
       "   0\n",
       "   0\n",
       "   0\n",
       "   0\n",
       "   0\n",
       " 243\n",
       " 253\n",
       " 165\n",
       "   0\n",
       "   0\n",
       "   0\n",
       "   0\n",
       "   0\n",
       "   0\n",
       "   0\n",
       "   0\n",
       "   0\n",
       "   0\n",
       "   0\n",
       "   0\n",
       "   0\n",
       "   0\n",
       "   0\n",
       "   0\n",
       "   0\n",
       "   0\n",
       "   0\n",
       "   0\n",
       "   0\n",
       "   0\n",
       "   0\n",
       "   0\n",
       "   0\n",
       "   0\n",
       "   0\n",
       "   0\n",
       "   0\n",
       " 243\n",
       " 253\n",
       " 140\n",
       "   0\n",
       "   0\n",
       "   0\n",
       "   0\n",
       "   0\n",
       "   0\n",
       "   0\n",
       "   0\n",
       "   0\n",
       "   0\n",
       "   0\n",
       "   0\n",
       "   0\n",
       "   0\n",
       "   0\n",
       "   0\n",
       "   0\n",
       "   0\n",
       "   0\n",
       "   0\n",
       "   0\n",
       "   0\n",
       "   0\n",
       "   0\n",
       "   0\n",
       "   0\n",
       "   0\n",
       "   0\n",
       " 118\n",
       " 251\n",
       " 253\n",
       "  55\n",
       "   0\n",
       "   0\n",
       "   0\n",
       "   0\n",
       "   0\n",
       "   0\n",
       "   0\n",
       "   0\n",
       "   0\n",
       "   0\n",
       "   0\n",
       "   0\n",
       "   0\n",
       "   0\n",
       "   0\n",
       "   0\n",
       "   0\n",
       "   0\n",
       "   0\n",
       "   0\n",
       "   0\n",
       "   9\n",
       "  60\n",
       "  12\n",
       "  12\n",
       "  12\n",
       "  75\n",
       " 151\n",
       " 250\n",
       " 253\n",
       " 222\n",
       "  29\n",
       "   0\n",
       "   0\n",
       "   0\n",
       "   0\n",
       "   0\n",
       "   0\n",
       "   0\n",
       "   0\n",
       "   0\n",
       "   0\n",
       "   0\n",
       "   0\n",
       "   0\n",
       "   0\n",
       "   0\n",
       "   0\n",
       "   0\n",
       "   0\n",
       "   0\n",
       "   0\n",
       "   0\n",
       " 199\n",
       " 253\n",
       " 253\n",
       " 253\n",
       " 253\n",
       " 255\n",
       " 253\n",
       " 253\n",
       " 250\n",
       "  73\n",
       "   0\n",
       "   0\n",
       "   0\n",
       "   0\n",
       "   0\n",
       "   0\n",
       "   0\n",
       "   0\n",
       "   0\n",
       "   0\n",
       "   0\n",
       "   0\n",
       "   0\n",
       "   0\n",
       "   0\n",
       "   0\n",
       "   0\n",
       "   0\n",
       "   0\n",
       "   0\n",
       "   0\n",
       "   0\n",
       " 165\n",
       " 253\n",
       " 253\n",
       " 253\n",
       " 253\n",
       " 254\n",
       " 253\n",
       " 253\n",
       " 116\n",
       "   0\n",
       "   0\n",
       "   0\n",
       "   0\n",
       "   0\n",
       "   0\n",
       "   0\n",
       "   0\n",
       "   0\n",
       "   0\n",
       "   0\n",
       "   0\n",
       "   0\n",
       "   0\n",
       "   0\n",
       "   0\n",
       "   0\n",
       "   0\n",
       "   0\n",
       "   0\n",
       "   0\n",
       "   0\n",
       "   0\n",
       "  12\n",
       " 133\n",
       " 162\n",
       " 253\n",
       " 157\n",
       " 143\n",
       " 114\n",
       "  33\n",
       "   2\n",
       "   0\n",
       "   0\n",
       "   0\n",
       "   0\n",
       "   0\n",
       "   0\n",
       "   0\n",
       "   0\n",
       "   0\n",
       "   0\n",
       "   0\n",
       "   0\n",
       "   0\n",
       "   0\n",
       "   0\n",
       "   0\n",
       "   0\n",
       "   0\n",
       "   0\n",
       "   0\n",
       "   0\n",
       "   0\n",
       "   0\n",
       "   0\n",
       "   0\n",
       "   0\n",
       "   0\n",
       "   0\n",
       "   0\n",
       "   0\n",
       "   0\n",
       "   0\n",
       "   0\n",
       "   0\n",
       "   0\n",
       "   0\n",
       "   0\n",
       "   0\n",
       "   0\n",
       "   0\n",
       "   0\n",
       "   0\n",
       "   0\n",
       "   0\n",
       "   0\n",
       "   0\n",
       "   0\n",
       "   0\n",
       "   0\n",
       "   0\n",
       "   0\n",
       "   0\n",
       "   0\n",
       "   0\n",
       "   0\n",
       "   0\n",
       "   0\n",
       "   0\n",
       "   0\n",
       "   0\n",
       "   0\n",
       "   0\n",
       "   0\n",
       "   0\n",
       "   0\n",
       "   0\n",
       "   0\n",
       "   0\n",
       "   0\n",
       "   0\n",
       "   0\n",
       "   0\n",
       "   0\n",
       "   0\n",
       "   0\n",
       "   0\n",
       "   0\n",
       "   0\n",
       "   0\n",
       "   0\n",
       "   0\n",
       "   0\n",
       "   0\n",
       "   0\n",
       "   0\n",
       "   0\n",
       "   0\n",
       "   0\n",
       "   0\n",
       "   0\n",
       "   0\n",
       "   0\n",
       "   0\n",
       "   0\n",
       "   0\n",
       "   0\n",
       "   0\n",
       "   0\n",
       "   0\n",
       "   0\n",
       "   0\n",
       "   0\n",
       "   0\n",
       "   0\n",
       "   0\n",
       "   0\n",
       "   0\n",
       "   0\n",
       "   0\n",
       "   0\n",
       "   0\n",
       "   0\n",
       "   0\n",
       "   0\n",
       "   0\n",
       "   0\n",
       "   0\n",
       "   0\n",
       "   0\n",
       "   0\n",
       "   0\n",
       "   0\n",
       "   0\n",
       "   0\n",
       "   0\n",
       "   0\n",
       "   0\n",
       "   0\n",
       "   0\n",
       "   0\n",
       "   0\n",
       "   0\n",
       "   0\n",
       "   0\n",
       "   0\n",
       "   0\n",
       "   0\n",
       "   0\n",
       "   0\n",
       "   0\n",
       "   0\n",
       "   0\n",
       "   0\n",
       "   0\n",
       "   0\n",
       "   0\n",
       "   0\n",
       "   0\n",
       "   0\n",
       "   0\n",
       "   0\n",
       "   0\n",
       "   0\n",
       "   0\n",
       "   0\n",
       "   0\n",
       "   0\n",
       "   0\n",
       "   0\n",
       "   0\n",
       "   0\n",
       "   0\n",
       "   0\n",
       "   0\n",
       "   0\n",
       "   0\n",
       "   0\n",
       "   0\n",
       "   0\n",
       "   0\n",
       "   0\n",
       "   0\n",
       "   0\n",
       "   0\n",
       "   0\n",
       "   0\n",
       "   0\n",
       "   0\n",
       "   0\n",
       "   0\n",
       "   0\n",
       "   0\n",
       "   0\n",
       "   0\n",
       "   0\n",
       "   0\n",
       "   0\n",
       "   0\n",
       "   0\n",
       "   0\n",
       "   0\n",
       "   0\n",
       "   0\n",
       "   0\n",
       "   0\n",
       "   0\n",
       "   0\n",
       "   0\n",
       "   0\n",
       "   0\n",
       "   0\n",
       "   0\n",
       "   0\n",
       "   0\n",
       "[torch.DoubleTensor of size 1024]\n",
       "\n",
       "0\t\n",
       "   0\n",
       "   0\n",
       "   0\n",
       "   0\n",
       "   0\n",
       "   0\n",
       "   0\n",
       "   0\n",
       "   0\n",
       "   0\n",
       "   0\n",
       "   0\n",
       "   0\n",
       "   0\n",
       "   0\n",
       "   0\n",
       "   0\n",
       "   0\n",
       "   0\n",
       "   0\n",
       "   0\n",
       "   0\n",
       "   0\n",
       "   0\n",
       "   0\n",
       "   0\n",
       "   0\n",
       "   0\n",
       "   0\n",
       "   0\n",
       "   0\n",
       "   0\n",
       "   0\n",
       "   0\n",
       "   0\n",
       "   0\n",
       "   0\n",
       "   0\n",
       "   0\n",
       "   0\n",
       "   0\n",
       "   0\n",
       "   0\n",
       "   0\n",
       "   0\n",
       "   0\n",
       "   0\n",
       "   0\n",
       "   0\n",
       "   0\n",
       "   0\n",
       "   0\n",
       "   0\n",
       "   0\n",
       "   0\n",
       "   0\n",
       "   0\n",
       "   0\n",
       "   0\n",
       "   0\n",
       "   0\n",
       "   0\n",
       "   0\n",
       "   0\n",
       "   0\n",
       "   0\n",
       "   0\n",
       "   0\n",
       "   0\n",
       "   0\n",
       "   0\n",
       "   0\n",
       "   0\n",
       "   0\n",
       "   0\n",
       "   0\n",
       "   0\n",
       "   0\n",
       "   0\n",
       "   0\n",
       "   0\n",
       "   0\n",
       "   0\n",
       "   0\n",
       "   0\n",
       "   0\n",
       "   0\n",
       "   0\n",
       "   0\n",
       "   0\n",
       "   0\n",
       "   0\n",
       "   0\n",
       "   0\n",
       "   0\n",
       "   0\n",
       "   0\n",
       "   0\n",
       "   0\n",
       "   0\n",
       "   0\n",
       "   0\n",
       "   0\n",
       "   0\n",
       "   0\n",
       "   0\n",
       "   0\n",
       "   0\n",
       "   0\n",
       "   0\n",
       "   0\n",
       "   0\n",
       "   0\n",
       "   0\n",
       "   0\n",
       "   0\n",
       "   0\n",
       "   0\n",
       "   0\n",
       "   0\n",
       "   0\n",
       "   0\n",
       "   0\n",
       "   0\n",
       "   0\n",
       "   0\n",
       "   0\n",
       "   0\n",
       "   0\n",
       "   0\n",
       "   0\n",
       "   0\n",
       "   0\n",
       "   0\n",
       "   0\n",
       "   0\n",
       "   0\n",
       "   0\n",
       "   0\n",
       "   0\n",
       "   0\n",
       "   0\n",
       "   0\n",
       "   0\n",
       "   0\n",
       "   0\n",
       "   0\n",
       "   0\n",
       "   0\n",
       "   0\n",
       "   0\n",
       "   0\n",
       "   0\n",
       "   0\n",
       "   0\n",
       "   0\n",
       "   0\n",
       "   0\n",
       "   0\n",
       "   0\n",
       "   0\n",
       "   0\n",
       "   0\n",
       "   0\n",
       "   0\n",
       "   0\n",
       "   0\n",
       "   0\n",
       "   0\n",
       "   0\n",
       "   0\n",
       "   0\n",
       "   0\n",
       "   0\n",
       "   0\n",
       "   0\n",
       "   0\n",
       "   0\n",
       "   0\n",
       "   0\n",
       "   0\n",
       "   0\n",
       "   0\n",
       "   0\n",
       "   0\n",
       "   0\n",
       "   0\n",
       "   0\n",
       "   0\n",
       "   0\n",
       "   0\n",
       "   0\n",
       "   0\n",
       "   0\n",
       "   0\n",
       "   0\n",
       "   0\n",
       "   0\n",
       "   0\n",
       "   0\n",
       "   0\n",
       "  23\n",
       " 254\n",
       " 254\n",
       " 254\n",
       " 254\n",
       " 172\n",
       "  96\n",
       "  15\n",
       "   0\n",
       "   0\n",
       "   0\n",
       "   0\n",
       "   0\n",
       "   0\n",
       "   0\n",
       "   0\n",
       "   0\n",
       "   0\n",
       "   0\n",
       "   0\n",
       "   0\n",
       "   0\n",
       "   0\n",
       "   0\n",
       "   0\n",
       "   0\n",
       "   0\n",
       "   0\n",
       "   0\n",
       "   0\n",
       "   0\n",
       "   0\n",
       "  23\n",
       " 253\n",
       " 253\n",
       " 253\n",
       " 253\n",
       " 253\n",
       " 253\n",
       " 139\n",
       "   0\n",
       "   0\n",
       "   0\n",
       "   0\n",
       "   0\n",
       "   0\n",
       "   0\n",
       "   0\n",
       "   0\n",
       "   0\n",
       "   0\n",
       "   0\n",
       "   0\n",
       "   0\n",
       "   0\n",
       "   0\n",
       "   0\n",
       "   0\n",
       "   0\n",
       "   0\n",
       "   0\n",
       "   0\n",
       "   0\n",
       "   0\n",
       "  14\n",
       " 154\n",
       " 232\n",
       " 253\n",
       " 253\n",
       " 253\n",
       " 253\n",
       " 249\n",
       " 108\n",
       "   0\n",
       "   0\n",
       "   0\n",
       "   0\n",
       "   0\n",
       "   0\n",
       "   0\n",
       "   0\n",
       "   0\n",
       "   0\n",
       "   0\n",
       "   0\n",
       "   0\n",
       "   0\n",
       "   0\n",
       "   0\n",
       "   0\n",
       "   0\n",
       "   0\n",
       "   0\n",
       "   0\n",
       "   0\n",
       "   0\n",
       "   0\n",
       "   0\n",
       "   8\n",
       "  10\n",
       "  10\n",
       "  10\n",
       " 164\n",
       " 254\n",
       " 193\n",
       "   4\n",
       "   0\n",
       "   0\n",
       "   0\n",
       "   0\n",
       "   0\n",
       "   0\n",
       "   0\n",
       "   0\n",
       "   0\n",
       "   0\n",
       "   0\n",
       "   0\n",
       "   0\n",
       "   0\n",
       "   0\n",
       "   0\n",
       "   0\n",
       "   0\n",
       "   0\n",
       "   0\n",
       "   0\n",
       "   0\n",
       "   0\n",
       "   0\n",
       "   0\n",
       "   0\n",
       "   0\n",
       "   0\n",
       " 183\n",
       " 254\n",
       " 253\n",
       "  44\n",
       "   0\n",
       "   0\n",
       "   0\n",
       "   0\n",
       "   0\n",
       "   0\n",
       "   0\n",
       "   0\n",
       "   0\n",
       "   0\n",
       "   0\n",
       "   0\n",
       "   0\n",
       "   0\n",
       "   0\n",
       "   0\n",
       "   0\n",
       "   0\n",
       "   0\n",
       "   0\n",
       "   0\n",
       "   0\n",
       "   0\n",
       "   0\n",
       "   0\n",
       "   0\n",
       "   0\n",
       " 100\n",
       " 247\n",
       " 254\n",
       " 230\n",
       "  29\n",
       "   0\n",
       "   0\n",
       "   0\n",
       "   0\n",
       "   0\n",
       "   0\n",
       "   0\n",
       "   0\n",
       "   0\n",
       "   0\n",
       "   0\n",
       "   0\n",
       "   0\n",
       "   0\n",
       "   0\n",
       "   0\n",
       "   0\n",
       "   0\n",
       "   0\n",
       "   0\n",
       "   0\n",
       "   0\n",
       "   0\n",
       "  "
      ]
     },
     "execution_count": 6,
     "metadata": {},
     "output_type": "execute_result"
    },
    {
     "ename": "not enough memory",
     "evalue": "",
     "output_type": "error",
     "traceback": [
      "not enough memory"
     ]
    },
    {
     "data": {
      "text/plain": [
       " 0\n",
       "   0\n",
       "   6\n",
       "  99\n",
       " 248\n",
       " 253\n",
       " 253\n",
       " 130\n",
       "   0\n",
       "   0\n",
       "   0\n",
       "   0\n",
       "   0\n",
       "   0\n",
       "   0\n",
       "   0\n",
       "   0\n",
       "   0\n",
       "   0\n",
       "   0\n",
       "   0\n",
       "   0\n",
       "   0\n",
       "   0\n",
       "   0\n",
       "   0\n",
       "   0\n",
       "   0\n",
       "   0\n",
       "   0\n",
       "   0\n",
       "   0\n",
       "   0\n",
       "   0\n",
       " 122\n",
       " 253\n",
       " 253\n",
       " 253\n",
       " 242\n",
       " 127\n",
       "  27\n",
       "   0\n",
       "   0\n",
       "   0\n",
       "   0\n",
       "   0\n",
       "   0\n",
       "   0\n",
       "   0\n",
       "   0\n",
       "   0\n",
       "   0\n",
       "   0\n",
       "   0\n",
       "   0\n",
       "   0\n",
       "   0\n",
       "   0\n",
       "   0\n",
       "   0\n",
       "   0\n",
       "   0\n",
       "   0\n",
       "   0\n",
       "   0\n",
       "   0\n",
       " 170\n",
       " 253\n",
       " 253\n",
       " 253\n",
       " 254\n",
       " 253\n",
       " 228\n",
       "  42\n",
       "   0\n",
       "   0\n",
       "   0\n",
       "   0\n",
       "   0\n",
       "   0\n",
       "   0\n",
       "   0\n",
       "   0\n",
       "   0\n",
       "   0\n",
       "   0\n",
       "   0\n",
       "   0\n",
       "   0\n",
       "   0\n",
       "   0\n",
       "   0\n",
       "   0\n",
       "   0\n",
       "   0\n",
       "   0\n",
       "   0\n",
       "   0\n",
       "  69\n",
       " 210\n",
       " 253\n",
       " 253\n",
       " 254\n",
       " 253\n",
       " 253\n",
       " 227\n",
       "  39\n",
       "   0\n",
       "   0\n",
       "   0\n",
       "   0\n",
       "   0\n",
       "   0\n",
       "   0\n",
       "   0\n",
       "   0\n",
       "   0\n",
       "   0\n",
       "   0\n",
       "   0\n",
       "   0\n",
       "   0\n",
       "   0\n",
       "   0\n",
       "   0\n",
       "   0\n",
       "   0\n",
       "   0\n",
       "   0\n",
       "   0\n",
       "   0\n",
       "   0\n",
       "   0\n",
       "   0\n",
       "  15\n",
       " 111\n",
       " 215\n",
       " 254\n",
       " 150\n",
       "   0\n",
       "   0\n",
       "   0\n",
       "   0\n",
       "   0\n",
       "   0\n",
       "   0\n",
       "   0\n",
       "   0\n",
       "   0\n",
       "   0\n",
       "   0\n",
       "   0\n",
       "   0\n",
       "   0\n",
       "   0\n",
       "   0\n",
       "   0\n",
       "   0\n",
       "   0\n",
       "   0\n",
       "   0\n",
       "   0\n",
       "   0\n",
       "   0\n",
       "   0\n",
       "   0\n",
       "   0\n",
       "   0\n",
       "  31\n",
       " 246\n",
       " 237\n",
       "  38\n",
       "   0\n",
       "   0\n",
       "   0\n",
       "   0\n",
       "   0\n",
       "   0\n",
       "   0\n",
       "   0\n",
       "   0\n",
       "   0\n",
       "   0\n",
       "   0\n",
       "   0\n",
       "   0\n",
       "   0\n",
       "   0\n",
       "   0\n",
       "   0\n",
       "   0\n",
       "   0\n",
       "   0\n",
       "   0\n",
       "   0\n",
       "   0\n",
       "   0\n",
       "   0\n",
       "   0\n",
       "   0\n",
       "   0\n",
       " 243\n",
       " 253\n",
       " 146\n",
       "   0\n",
       "   0\n",
       "   0\n",
       "   0\n",
       "   0\n",
       "   0\n",
       "   0\n",
       "   0\n",
       "   0\n",
       "   0\n",
       "   0\n",
       "   0\n",
       "   0\n",
       "   0\n",
       "   0\n",
       "   0\n",
       "   0\n",
       "   0\n",
       "   0\n",
       "   0\n",
       "   0\n",
       "   0\n",
       "   0\n",
       "   0\n",
       "   0\n",
       "   0\n",
       "   0\n",
       "   0\n",
       "   0\n",
       " 243\n",
       " 253\n",
       " 165\n",
       "   0\n",
       "   0\n",
       "   0\n",
       "   0\n",
       "   0\n",
       "   0\n",
       "   0\n",
       "   0\n",
       "   0\n",
       "   0\n",
       "   0\n",
       "   0\n",
       "   0\n",
       "   0\n",
       "   0\n",
       "   0\n",
       "   0\n",
       "   0\n",
       "   0\n",
       "   0\n",
       "   0\n",
       "   0\n",
       "   0\n",
       "   0\n",
       "   0\n",
       "   0\n",
       "   0\n",
       "   0\n",
       "   0\n",
       " 243\n",
       " 253\n",
       " 140\n",
       "   0\n",
       "   0\n",
       "   0\n",
       "   0\n",
       "   0\n",
       "   0\n",
       "   0\n",
       "   0\n",
       "   0\n",
       "   0\n",
       "   0\n",
       "   0\n",
       "   0\n",
       "   0\n",
       "   0\n",
       "   0\n",
       "   0\n",
       "   0\n",
       "   0\n",
       "   0\n",
       "   0\n",
       "   0\n",
       "   0\n",
       "   0\n",
       "   0\n",
       "   0\n",
       "   0\n",
       "   0\n",
       " 118\n",
       " 251\n",
       " 253\n",
       "  55\n",
       "   0\n",
       "   0\n",
       "   0\n",
       "   0\n",
       "   0\n",
       "   0\n",
       "   0\n",
       "   0\n",
       "   0\n",
       "   0\n",
       "   0\n",
       "   0\n",
       "   0\n",
       "   0\n",
       "   0\n",
       "   0\n",
       "   0\n",
       "   0\n",
       "   0\n",
       "   0\n",
       "   0\n",
       "   9\n",
       "  60\n",
       "  12\n",
       "  12\n",
       "  12\n",
       "  75\n",
       " 151\n",
       " 250\n",
       " 253\n",
       " 222\n",
       "  29\n",
       "   0\n",
       "   0\n",
       "   0\n",
       "   0\n",
       "   0\n",
       "   0\n",
       "   0\n",
       "   0\n",
       "   0\n",
       "   0\n",
       "   0\n",
       "   0\n",
       "   0\n",
       "   0\n",
       "   0\n",
       "   0\n",
       "   0\n",
       "   0\n",
       "   0\n",
       "   0\n",
       "   0\n",
       " 199\n",
       " 253\n",
       " 253\n",
       " 253\n",
       " 253\n",
       " 255\n",
       " 253\n",
       " 253\n",
       " 250\n",
       "  73\n",
       "   0\n",
       "   0\n",
       "   0\n",
       "   0\n",
       "   0\n",
       "   0\n",
       "   0\n",
       "   0\n",
       "   0\n",
       "   0\n",
       "   0\n",
       "   0\n",
       "   0\n",
       "   0\n",
       "   0\n",
       "   0\n",
       "   0\n",
       "   0\n",
       "   0\n",
       "   0\n",
       "   0\n",
       "   0\n",
       " 165\n",
       " 253\n",
       " 253\n",
       " 253\n",
       " 253\n",
       " 254\n",
       " 253\n",
       " 253\n",
       " 116\n",
       "   0\n",
       "   0\n",
       "   0\n",
       "   0\n",
       "   0\n",
       "   0\n",
       "   0\n",
       "   0\n",
       "   0\n",
       "   0\n",
       "   0\n",
       "   0\n",
       "   0\n",
       "   0\n",
       "   0\n",
       "   0\n",
       "   0\n",
       "   0\n",
       "   0\n",
       "   0\n",
       "   0\n",
       "   0\n",
       "   0\n",
       "  12\n",
       " 133\n",
       " 162\n",
       " 253\n",
       " 157\n",
       " 143\n",
       " 114\n",
       "  33\n",
       "   2\n",
       "   0\n",
       "   0\n",
       "   0\n",
       "   0\n",
       "   0\n",
       "   0\n",
       "   0\n",
       "   0\n",
       "   0\n",
       "   0\n",
       "   0\n",
       "   0\n",
       "   0\n",
       "   0\n",
       "   0\n",
       "   0\n",
       "   0\n",
       "   0\n",
       "   0\n",
       "   0\n",
       "   0\n",
       "   0\n",
       "   0\n",
       "   0\n",
       "   0\n",
       "   0\n",
       "   0\n",
       "   0\n",
       "   0\n",
       "   0\n",
       "   0\n",
       "   0\n",
       "   0\n",
       "   0\n",
       "   0\n",
       "   0\n",
       "   0\n",
       "   0\n",
       "   0\n",
       "   0\n",
       "   0\n",
       "   0\n",
       "   0\n",
       "   0\n",
       "   0\n",
       "   0\n",
       "   0\n",
       "   0\n",
       "   0\n",
       "   0\n",
       "   0\n",
       "   0\n",
       "   0\n",
       "   0\n",
       "   0\n",
       "   0\n",
       "   0\n",
       "   0\n",
       "   0\n",
       "   0\n",
       "   0\n",
       "   0\n",
       "   0\n",
       "   0\n",
       "   0\n",
       "   0\n",
       "   0\n",
       "   0\n",
       "   0\n",
       "   0\n",
       "   0\n",
       "   0\n",
       "   0\n",
       "   0\n",
       "   0\n",
       "   0\n",
       "   0\n",
       "   0\n",
       "   0\n",
       "   0\n",
       "   0\n",
       "   0\n",
       "   0\n",
       "   0\n",
       "   0\n",
       "   0\n",
       "   0\n",
       "   0\n",
       "   0\n",
       "   0\n",
       "   0\n",
       "   0\n",
       "   0\n",
       "   0\n",
       "   0\n",
       "   0\n",
       "   0\n",
       "   0\n",
       "   0\n",
       "   0\n",
       "   0\n",
       "   0\n",
       "   0\n",
       "   0\n",
       "   0\n",
       "   0\n",
       "   0\n",
       "   0\n",
       "   0\n",
       "   0\n",
       "   0\n",
       "   0\n",
       "   0\n",
       "   0\n",
       "   0\n",
       "   0\n",
       "   0\n",
       "   0\n",
       "   0\n",
       "   0\n",
       "   0\n",
       "   0\n",
       "   0\n",
       "   0\n",
       "   0\n",
       "   0\n",
       "   0\n",
       "   0\n",
       "   0\n",
       "   0\n",
       "   0\n",
       "   0\n",
       "   0\n",
       "   0\n",
       "   0\n",
       "   0\n",
       "   0\n",
       "   0\n",
       "   0\n",
       "   0\n",
       "   0\n",
       "   0\n",
       "   0\n",
       "   0\n",
       "   0\n",
       "   0\n",
       "   0\n",
       "   0\n",
       "   0\n",
       "   0\n",
       "   0\n",
       "   0\n",
       "   0\n",
       "   0\n",
       "   0\n",
       "   0\n",
       "   0\n",
       "   0\n",
       "   0\n",
       "   0\n",
       "   0\n",
       "   0\n",
       "   0\n",
       "   0\n",
       "   0\n",
       "   0\n",
       "   0\n",
       "   0\n",
       "   0\n",
       "   0\n",
       "   0\n",
       "   0\n",
       "   0\n",
       "   0\n",
       "   0\n",
       "   0\n",
       "   0\n",
       "   0\n",
       "   0\n",
       "   0\n",
       "   0\n",
       "   0\n",
       "   0\n",
       "   0\n",
       "   0\n",
       "   0\n",
       "   0\n",
       "   0\n",
       "   0\n",
       "   0\n",
       "   0\n",
       "   0\n",
       "   0\n",
       "   0\n",
       "   0\n",
       "   0\n",
       "   0\n",
       "   0\n",
       "   0\n",
       "   0\n",
       "   0\n",
       "   0\n",
       "   0\n",
       "   0\n",
       "[torch.DoubleTensor of size 1024]\n",
       "\n",
       "0\t\n"
      ]
     },
     "execution_count": 6,
     "metadata": {},
     "output_type": "execute_result"
    }
   ],
   "source": [
    "dofile('digitClassifier.lua')"
   ]
  },
  {
   "cell_type": "code",
   "execution_count": 7,
   "metadata": {
    "collapsed": false
   },
   "outputs": [
    {
     "data": {
      "text/plain": [
       "<mnist> loading only 8000 examples\t\n",
       "<mnist> done\t\n"
      ]
     },
     "execution_count": 7,
     "metadata": {},
     "output_type": "execute_result"
    },
    {
     "data": {
      "text/plain": [
       "--------------------------------\t\n",
       " loaded dataset \"train\"\t\n",
       "inputs\t 8000\n",
       " 1024\n",
       "[torch.LongStorage of size 2]\n",
       "\n",
       "targets\t 8000\n",
       "[torch.LongStorage of size 1]\n",
       "\n",
       "--------------------------------\t\n"
      ]
     },
     "execution_count": 7,
     "metadata": {},
     "output_type": "execute_result"
    },
    {
     "data": {
      "text/plain": [
       "<mnist> done\t\n"
      ]
     },
     "execution_count": 7,
     "metadata": {},
     "output_type": "execute_result"
    },
    {
     "data": {
      "text/plain": [
       "--------------------------------\t\n",
       " loaded dataset \"test\"\t\n",
       "inputs\t 10000\n",
       "  1024\n",
       "[torch.LongStorage of size 2]\n",
       "\n",
       "targets\t 10000\n",
       "[torch.LongStorage of size 1]\n",
       "\n",
       "--------------------------------\t\n",
       "10\t\n",
       "1\t\n"
      ]
     },
     "execution_count": 7,
     "metadata": {},
     "output_type": "execute_result"
    },
    {
     "data": {
      "text/plain": [
       "minibatches processed:     10, loss = 18637.686830\t\n"
      ]
     },
     "execution_count": 7,
     "metadata": {},
     "output_type": "execute_result"
    },
    {
     "data": {
      "text/plain": [
       "minibatches processed:     20, loss = 1197.890536\t\n"
      ]
     },
     "execution_count": 7,
     "metadata": {},
     "output_type": "execute_result"
    },
    {
     "data": {
      "text/plain": [
       "minibatches processed:     30, loss = 2673.040349\t\n"
      ]
     },
     "execution_count": 7,
     "metadata": {},
     "output_type": "execute_result"
    },
    {
     "data": {
      "text/plain": [
       "minibatches processed:     40, loss = 1580.095193\t\n"
      ]
     },
     "execution_count": 7,
     "metadata": {},
     "output_type": "execute_result"
    },
    {
     "data": {
      "text/plain": [
       "minibatches processed:     50, loss = 1544.178437\t\n"
      ]
     },
     "execution_count": 7,
     "metadata": {},
     "output_type": "execute_result"
    },
    {
     "data": {
      "text/plain": [
       "minibatches processed:     60, loss = 2725.252494\t\n"
      ]
     },
     "execution_count": 7,
     "metadata": {},
     "output_type": "execute_result"
    },
    {
     "data": {
      "text/plain": [
       "minibatches processed:     70, loss = 2562.405501\t\n"
      ]
     },
     "execution_count": 7,
     "metadata": {},
     "output_type": "execute_result"
    },
    {
     "data": {
      "text/plain": [
       "minibatches processed:     80, loss = 2999.016556\t\n"
      ]
     },
     "execution_count": 7,
     "metadata": {},
     "output_type": "execute_result"
    },
    {
     "data": {
      "text/plain": [
       "minibatches processed:     90, loss = 4000.508009\t\n"
      ]
     },
     "execution_count": 7,
     "metadata": {},
     "output_type": "execute_result"
    },
    {
     "data": {
      "text/plain": [
       "minibatches processed:    100, loss = 1640.099601\t\n"
      ]
     },
     "execution_count": 7,
     "metadata": {},
     "output_type": "execute_result"
    },
    {
     "data": {
      "text/plain": [
       "minibatches processed:    110, loss = 3591.793226\t\n"
      ]
     },
     "execution_count": 7,
     "metadata": {},
     "output_type": "execute_result"
    },
    {
     "data": {
      "text/plain": [
       "minibatches processed:    120, loss = 5104.355401\t\n"
      ]
     },
     "execution_count": 7,
     "metadata": {},
     "output_type": "execute_result"
    },
    {
     "data": {
      "text/plain": [
       "minibatches processed:    130, loss = 2025.724121\t\n"
      ]
     },
     "execution_count": 7,
     "metadata": {},
     "output_type": "execute_result"
    },
    {
     "data": {
      "text/plain": [
       "minibatches processed:    140, loss = 4129.725431\t\n"
      ]
     },
     "execution_count": 7,
     "metadata": {},
     "output_type": "execute_result"
    },
    {
     "data": {
      "text/plain": [
       "minibatches processed:    150, loss = 3083.249304\t\n"
      ]
     },
     "execution_count": 7,
     "metadata": {},
     "output_type": "execute_result"
    },
    {
     "data": {
      "text/plain": [
       "minibatches processed:    160, loss = 1778.064072\t\n"
      ]
     },
     "execution_count": 7,
     "metadata": {},
     "output_type": "execute_result"
    },
    {
     "data": {
      "text/plain": [
       "minibatches processed:    170, loss = 3469.608857\t\n"
      ]
     },
     "execution_count": 7,
     "metadata": {},
     "output_type": "execute_result"
    },
    {
     "data": {
      "text/plain": [
       "minibatches processed:    180, loss = 2821.958241\t\n"
      ]
     },
     "execution_count": 7,
     "metadata": {},
     "output_type": "execute_result"
    },
    {
     "data": {
      "text/plain": [
       "minibatches processed:    190, loss = 1301.971760\t\n"
      ]
     },
     "execution_count": 7,
     "metadata": {},
     "output_type": "execute_result"
    },
    {
     "data": {
      "text/plain": [
       "minibatches processed:    200, loss = 1954.507804\t\n"
      ]
     },
     "execution_count": 7,
     "metadata": {},
     "output_type": "execute_result"
    },
    {
     "data": {
      "text/plain": [
       "minibatches processed:    210, loss = 1520.214161\t\n"
      ]
     },
     "execution_count": 7,
     "metadata": {},
     "output_type": "execute_result"
    },
    {
     "data": {
      "text/plain": [
       "minibatches processed:    220, loss = 1619.686990\t\n"
      ]
     },
     "execution_count": 7,
     "metadata": {},
     "output_type": "execute_result"
    },
    {
     "data": {
      "text/plain": [
       "minibatches processed:    230, loss = 1542.321124\t\n"
      ]
     },
     "execution_count": 7,
     "metadata": {},
     "output_type": "execute_result"
    },
    {
     "data": {
      "text/plain": [
       "minibatches processed:    240, loss = 3552.770369\t\n"
      ]
     },
     "execution_count": 7,
     "metadata": {},
     "output_type": "execute_result"
    },
    {
     "data": {
      "text/plain": [
       "minibatches processed:    250, loss = 3273.120457\t\n"
      ]
     },
     "execution_count": 7,
     "metadata": {},
     "output_type": "execute_result"
    },
    {
     "data": {
      "text/plain": [
       "minibatches processed:    260, loss = 947.610213\t\n"
      ]
     },
     "execution_count": 7,
     "metadata": {},
     "output_type": "execute_result"
    },
    {
     "data": {
      "text/plain": [
       "minibatches processed:    270, loss = 1518.981850\t\n"
      ]
     },
     "execution_count": 7,
     "metadata": {},
     "output_type": "execute_result"
    },
    {
     "data": {
      "text/plain": [
       "minibatches processed:    280, loss = 5390.339943\t\n"
      ]
     },
     "execution_count": 7,
     "metadata": {},
     "output_type": "execute_result"
    },
    {
     "data": {
      "text/plain": [
       "minibatches processed:    290, loss = 2007.822824\t\n"
      ]
     },
     "execution_count": 7,
     "metadata": {},
     "output_type": "execute_result"
    },
    {
     "data": {
      "text/plain": [
       "minibatches processed:    300, loss = 2208.006614\t\n"
      ]
     },
     "execution_count": 7,
     "metadata": {},
     "output_type": "execute_result"
    },
    {
     "data": {
      "text/plain": [
       "minibatches processed:    310, loss = 1484.122360\t\n"
      ]
     },
     "execution_count": 7,
     "metadata": {},
     "output_type": "execute_result"
    },
    {
     "data": {
      "text/plain": [
       "minibatches processed:    320, loss = 891.493785\t\n"
      ]
     },
     "execution_count": 7,
     "metadata": {},
     "output_type": "execute_result"
    },
    {
     "data": {
      "text/plain": [
       "Columns 1 to 6\n",
       "-5.8853e+04 -5.3218e+04 -4.1532e+04  0.0000e+00 -6.1132e+04 -4.4480e+04\n",
       " 0.0000e+00 -1.7874e+05 -5.6580e+04 -1.2752e+05 -1.7991e+05 -8.9737e+04\n",
       "-5.6114e+04  0.0000e+00 -1.6150e+04 -5.5623e+03 -6.1405e+04 -6.7556e+04\n",
       "-2.1060e+04 -7.9776e+04  0.0000e+00 -4.9227e+04 -4.0361e+04 -7.5155e+04\n",
       "-7.5228e+04 -6.4905e+04 -5.2764e+04 -7.6761e+04  0.0000e+00 -5.4753e+04\n",
       " 0.0000e+00 -1.1282e+05 -2.9461e+04 -4.9643e+04 -9.4847e+04 -4.8027e+04\n",
       "-9.0283e+04 -7.5053e+04 -2.4483e+04 -6.6178e+04 -9.1207e+04 -6.4347e+04\n",
       "-1.2830e+05 -1.1720e+05  0.0000e+00 -8.0263e+04 -1.3737e+05 -1.2984e+05\n",
       "-2.5744e+04 -3.8469e+04 -3.3600e+03 -1.4337e+04 -2.1252e+04 -1.6280e+04\n",
       "-4.4696e+04 -5.2384e+04 -3.0046e+04 -3.0415e+04 -1.3120e+04 -6.4847e+04\n",
       "-1.5390e+05 -9.5797e+04  0.0000e+00 -5.5890e+04 -1.5189e+05 -1.3976e+05\n",
       "-3.9531e+04 -5.3938e+04 -1.8525e+04  0.0000e+00 -9.2744e+04 -3.4615e+04\n",
       "-8.7003e+04 -8.7456e+04 -3.6180e+04 -2.6629e+04  0.0000e+00 -8.2251e+04\n",
       "-4.8825e+04 -2.2808e+04 -2.8645e+04 -1.2320e+04 -2.0571e+04 -3.1062e+04\n",
       "-9.6977e+04 -7.0356e+04  0.0000e+00 -6.9186e+04 -7.7944e+04 -1.1712e+05\n",
       " 0.0000e+00 -8.3292e+04 -1.6741e+04 -4.9108e+04 -5.5560e+04 -3.7895e+04\n",
       "-5.0554e+04 -8.4075e+04 -1.1436e+04 -2.1095e+04 -8.2389e+04 -7.7611e+04\n",
       "-1.8206e+04 -4.3490e+04 -1.4521e+03  0.0000e+00 -5.5050e+04 -7.1946e+03\n",
       "-6.6985e+04 -6.7472e+04 -8.6971e+04 -5.0093e+04 -5.9527e+04 -6.1801e+04\n",
       " 0.0000e+00 -1.0377e+05 -3.3274e+04 -7.0392e+04 -1.0359e+05 -3.2568e+04\n",
       "-8.8757e+04 -3.0736e+02 -4.7914e+03 -4.6269e+03 -3.3754e+04 -2.5079e+04\n",
       "-5.7625e+04  0.0000e+00 -2.7688e+03 -3.3969e+04 -6.7470e+04 -6.2853e+04\n",
       "-2.0484e+04 -9.0711e+04 -2.9176e+04 -5.0530e+04  0.0000e+00 -6.2451e+04\n",
       "-8.8416e+04 -7.1969e+04 -4.8848e+04 -5.0389e+04 -8.2294e+04 -9.3861e+04\n",
       "-1.3282e+04 -4.6478e+04 -1.1675e+04 -8.2917e+03 -2.5592e+04  0.0000e+00\n",
       "-7.4821e+04 -4.7322e+04 -2.3599e+04 -3.8764e+04 -3.5198e+04 -3.5085e+04\n",
       "-7.5151e+04 -5.0144e+04 -2.3711e+04  0.0000e+00 -5.1703e+04 -8.7868e+04\n",
       "-2.7762e+04 -6.0279e+04  0.0000e+00 -2.8596e+04 -2.6417e+04 -4.2681e+04\n",
       "-6.3486e+04 -9.2484e+04 -3.0435e+04 -8.4551e+04 -5.1070e+04 -6.3182e+04\n",
       "-6.9822e+04 -9.2142e+04 -3.7504e+04 -1.3670e+04 -9.8276e+04  0.0000e+00\n",
       "-3.5675e+04 -4.6161e+04 -1.4910e+04  0.0000e+00 -5.2823e+04 -1.0134e+04\n",
       "-4.5124e+04 -5.0471e+04 -3.9234e+04  0.0000e+00 -8.1470e+04 -2.9792e+04\n",
       "-3.5269e+04 -1.0545e+05 -2.5059e+03 -7.9425e+04 -2.3992e+04 -8.2670e+04\n",
       "-4.1046e+04 -9.7274e+04 -9.0665e+03  0.0000e+00 -4.7881e+04 -2.7669e+04\n",
       "-9.4657e+04 -1.0639e+05  0.0000e+00 -5.3128e+04 -6.8895e+04 -1.3829e+05\n",
       "-3.0388e+04 -5.6626e+04 -2.2901e+04 -2.1155e+04 -2.1579e+04  0.0000e+00\n",
       "-8.3383e+04  0.0000e+00 -2.5964e+04 -1.6489e+04 -5.5122e+04 -5.3726e+04\n",
       "-8.8465e+04 -3.7739e+04 -3.3788e+04 -3.6908e+04 -1.9227e+04 -6.2255e+04\n",
       "-7.0378e+04 -4.1630e+04  0.0000e+00 -3.6067e+04 -3.6988e+04 -5.1488e+04\n",
       "-3.2566e+04 -5.5226e+04  0.0000e+00 -3.7262e+04 -3.2050e+04 -2.2479e+04\n",
       "-3.6825e+04 -9.5592e+04 -6.6746e+03 -9.0971e+04 -5.5579e+04 -5.1656e+04\n",
       "-5.5134e+04 -6.0651e+04 -4.5119e+04 -2.4179e+04 -1.4203e+04 -2.2515e+04\n",
       " 0.0000e+00 -9.5686e+04 -2.3966e+04 -6.4230e+04 -1.1609e+05 -3.1359e+04\n",
       "-7.1446e+04 -8.4342e+04 -2.8171e+04 -3.8175e+04 -6.0470e+04 -4.3992e+04\n",
       "-9.2566e+04 -8.9177e+04  0.0000e+00 -7.5846e+04 -6.3015e+04 -1.0198e+05\n",
       " 0.0000e+00 -1.3475e+05 -1.5078e+04 -6.9991e+04 -9.7106e+04 -7.0354e+04\n",
       "-8.5310e+04 -7.9268e+04 -3.7182e+04 -6.8385e+04 -7.5205e+04 -5.7397e+04\n",
       " 0.0000e+00 -1.3016e+05 -6.2521e+04 -8.3563e+04 -1.1146e+05 -4.9068e+04\n",
       "-7.2576e+04 -8.1532e+04 -4.7296e+03 -4.2592e+04 -7.1505e+04 -9.2381e+04\n",
       "-1.1494e+05 -1.2836e+05 -6.3077e+04  0.0000e+00 -1.0319e+05 -6.6697e+04\n",
       "-1.1048e+05 -8.5545e+04 -6.4223e+04 -6.7033e+04 -6.8197e+04 -8.1744e+04\n",
       "\n",
       "Columns 7 to 10\n",
       "-4.3482e+04 -5.6550e+04 -3.4797e+04 -2.9404e+04\n",
       "-8.8672e+04 -1.3126e+05 -7.7211e+04 -1.3813e+05\n",
       "-4.6985e+04 -1.3445e+04 -1.7895e+04 -2.6842e+04\n",
       "-1.5522e+04 -9.8979e+03 -2.1021e+04 -1.7852e+04\n",
       "-5.2232e+04 -3.3802e+04 -3.7508e+04 -2.4992e+04\n",
       "-6.5966e+04 -6.8693e+04 -7.6834e+04 -5.9098e+04\n",
       "-8.6057e+04 -1.1044e+05  0.0000e+00 -1.0119e+05\n",
       "-1.0495e+05 -1.0146e+05 -8.4310e+04 -1.2141e+05\n",
       " 0.0000e"
      ]
     },
     "execution_count": 7,
     "metadata": {},
     "output_type": "execute_result"
    },
    {
     "data": {
      "text/plain": [
       "+00 -3.2261e+04 -1.2537e+04 -1.9871e+04\n",
       "-3.8654e+04 -1.0008e+04 -2.7458e+04  0.0000e+00\n",
       "-8.6697e+04 -1.2887e+05 -7.6608e+04 -1.4811e+05\n",
       "-7.1772e+04 -6.7965e+04 -3.7621e+04 -8.1885e+04\n",
       "-6.3621e+04 -2.1755e+04 -5.1290e+04 -1.6007e+04\n",
       "-3.9893e+04 -1.5448e+04  0.0000e+00 -4.1664e+02\n",
       "-6.0381e+04 -1.1610e+05 -5.7373e+04 -7.6412e+04\n",
       "-3.8626e+04 -5.1778e+04 -1.3409e+04 -4.2314e+04\n",
       "-9.2825e+04 -4.5682e+04  0.0000e+00 -3.7103e+04\n",
       "-1.0409e+04 -4.7254e+04 -4.1145e+04 -4.3198e+04\n",
       "-8.5307e+04  0.0000e+00 -5.5309e+04 -4.0791e+04\n",
       "-4.3016e+04 -8.8560e+04 -3.7039e+04 -1.1143e+05\n",
       "-3.1742e+04 -5.5171e+04  0.0000e+00 -2.1590e+04\n",
       "-3.8166e+04 -5.6894e+04 -2.1539e+04 -6.2108e+04\n",
       "-4.8160e+04 -2.6426e+04 -3.1990e+04 -6.7270e+03\n",
       "-1.0855e+05  0.0000e+00 -6.3846e+04 -4.4382e+04\n",
       "-2.1309e+04 -5.2057e+04 -2.1642e+03 -4.0036e+04\n",
       "-5.7147e+04 -3.6778e+04  0.0000e+00 -4.4618e+04\n",
       "-5.6465e+04 -3.0223e+03 -4.5754e+04 -3.3983e+04\n",
       "-7.0975e+03 -7.4108e+04 -2.1613e+04 -2.0904e+04\n",
       " 0.0000e+00 -1.2873e+05 -3.9452e+04 -5.4260e+04\n",
       "-1.0753e+05 -5.1645e+04 -6.2575e+03 -6.6555e+04\n",
       "-1.7219e+04 -7.4974e+04 -8.4289e+03 -2.5940e+04\n",
       "-8.7948e+04 -6.2094e+04 -1.9403e+04 -6.4346e+04\n",
       " 0.0000e+00 -5.9881e+04 -4.6375e+04 -2.6139e+04\n",
       "-6.3789e+04 -4.5686e+04 -9.0141e+03 -1.9980e+04\n",
       "-9.2540e+04 -3.9927e+03 -4.4660e+04 -5.2010e+04\n",
       "-3.8899e+04 -4.8920e+04 -3.5275e+03 -2.5508e+04\n",
       "-4.8805e+04 -4.5235e+04 -1.2480e+04 -3.9544e+04\n",
       "-5.4748e+04  0.0000e+00 -3.0004e+04 -3.4405e+04\n",
       "-2.3826e+03 -7.8655e+04 -2.0699e+04 -3.7471e+04\n",
       "-2.1546e+03 -6.0129e+04 -2.0057e+04 -4.6306e+04\n",
       " 0.0000e+00 -8.3335e+04 -6.0060e+04 -6.9309e+04\n",
       "-5.5900e+04 -2.0635e+04 -1.6632e+04  0.0000e+00\n",
       "-8.6863e+04 -6.2180e+04 -1.4313e+04 -7.3145e+04\n",
       "-9.7288e+04  0.0000e+00 -5.5623e+03 -1.7325e+04\n",
       "-6.0768e+04 -1.0342e+05 -6.5899e+04 -9.9336e+04\n",
       "-4.6894e+04 -8.4137e+04 -4.7565e+04 -5.8586e+04\n",
       "-8.4634e+04 -7.5303e+04  0.0000e+00 -7.0544e+04\n",
       "-7.1429e+04 -9.0155e+04 -7.8263e+04 -8.8082e+04\n",
       "-8.9158e+04  0.0000e+00 -3.8541e+04 -2.6011e+04\n",
       "-1.5205e+05 -9.1194e+04 -5.7800e+04 -1.0098e+05\n",
       "-1.0399e+05  0.0000e+00 -5.9520e+04 -5.2751e+04\n",
       "[torch.DoubleTensor of size 51x10]\n",
       "\n"
      ]
     },
     "execution_count": 7,
     "metadata": {},
     "output_type": "execute_result"
    },
    {
     "data": {
      "text/plain": [
       "Columns 1 to 6\n",
       "-5.8853e+04 -5.3218e+04 -4.1532e+04  0.0000e+00 -6.1132e+04 -4.4480e+04\n",
       " 0.0000e+00 -1.7874e+05 -5.6580e+04 -1.2752e+05 -1.7991e+05 -8.9737e+04\n",
       "-5.6114e+04  0.0000e+00 -1.6150e+04 -5.5623e+03 -6.1405e+04 -6.7556e+04\n",
       "-2.1060e+04 -7.9776e+04  0.0000e+00 -4.9227e+04 -4.0361e+04 -7.5155e+04\n",
       "-7.5228e+04 -6.4905e+04 -5.2764e+04 -7.6761e+04  0.0000e+00 -5.4753e+04\n",
       " 0.0000e+00 -1.1282e+05 -2.9461e+04 -4.9643e+04 -9.4847e+04 -4.8027e+04\n",
       "-9.0283e+04 -7.5053e+04 -2.4483e+04 -6.6178e+04 -9.1207e+04 -6.4347e+04\n",
       "-1.2830e+05 -1.1720e+05  0.0000e+00 -8.0263e+04 -1.3737e+05 -1.2984e+05\n",
       "-2.5744e+04 -3.8469e+04 -3.3600e+03 -1.4337e+04 -2.1252e+04 -1.6280e+04\n",
       "-4.4696e+04 -5.2384e+04 -3.0046e+04 -3.0415e+04 -1.3120e+04 -6.4847e+04\n",
       "-1.5390e+05 -9.5797e+04  0.0000e+00 -5.5890e+04 -1.5189e+05 -1.3976e+05\n",
       "-3.9531e+04 -5.3938e+04 -1.8525e+04  0.0000e+00 -9.2744e+04 -3.4615e+04\n",
       "-8.7003e+04 -8.7456e+04 -3.6180e+04 -2.6629e+04  0.0000e+00 -8.2251e+04\n",
       "-4.8825e+04 -2.2808e+04 -2.8645e+04 -1.2320e+04 -2.0571e+04 -3.1062e+04\n",
       "-9.6977e+04 -7.0356e+04  0.0000e+00 -6.9186e+04 -7.7944e+04 -1.1712e+05\n",
       " 0.0000e+00 -8.3292e+04 -1.6741e+04 -4.9108e+04 -5.5560e+04 -3.7895e+04\n",
       "-5.0554e+04 -8.4075e+04 -1.1436e+04 -2.1095e+04 -8.2389e+04 -7.7611e+04\n",
       "-1.8206e+04 -4.3490e+04 -1.4521e+03  0.0000e+00 -5.5050e+04 -7.1946e+03\n",
       "-6.6985e+04 -6.7472e+04 -8.6971e+04 -5.0093e+04 -5.9527e+04 -6.1801e+04\n",
       " 0.0000e+00 -1.0377e+05 -3.3274e+04 -7.0392e+04 -1.0359e+05 -3.2568e+04\n",
       "-8.8757e+04 -3.0736e+02 -4.7914e+03 -4.6269e+03 -3.3754e+04 -2.5079e+04\n",
       "-5.7625e+04  0.0000e+00 -2.7688e+03 -3.3969e+04 -6.7470e+04 -6.2853e+04\n",
       "-2.0484e+04 -9.0711e+04 -2.9176e+04 -5.0530e+04  0.0000e+00 -6.2451e+04\n",
       "-8.8416e+04 -7.1969e+04 -4.8848e+04 -5.0389e+04 -8.2294e+04 -9.3861e+04\n",
       "-1.3282e+04 -4.6478e+04 -1.1675e+04 -8.2917e+03 -2.5592e+04  0.0000e+00\n",
       "-7.4821e+04 -4.7322e+04 -2.3599e+04 -3.8764e+04 -3.5198e+04 -3.5085e+04\n",
       "-7.5151e+04 -5.0144e+04 -2.3711e+04  0.0000e+00 -5.1703e+04 -8.7868e+04\n",
       "-2.7762e+04 -6.0279e+04  0.0000e+00 -2.8596e+04 -2.6417e+04 -4.2681e+04\n",
       "-6.3486e+04 -9.2484e+04 -3.0435e+04 -8.4551e+04 -5.1070e+04 -6.3182e+04\n",
       "-6.9822e+04 -9.2142e+04 -3.7504e+04 -1.3670e+04 -9.8276e+04  0.0000e+00\n",
       "-3.5675e+04 -4.6161e+04 -1.4910e+04  0.0000e+00 -5.2823e+04 -1.0134e+04\n",
       "-4.5124e+04 -5.0471e+04 -3.9234e+04  0.0000e+00 -8.1470e+04 -2.9792e+04\n",
       "-3.5269e+04 -1.0545e+05 -2.5059e+03 -7.9425e+04 -2.3992e+04 -8.2670e+04\n",
       "-4.1046e+04 -9.7274e+04 -9.0665e+03  0.0000e+00 -4.7881e+04 -2.7669e+04\n",
       "-9.4657e+04 -1.0639e+05  0.0000e+00 -5.3128e+04 -6.8895e+04 -1.3829e+05\n",
       "-3.0388e+04 -5.6626e+04 -2.2901e+04 -2.1155e+04 -2.1579e+04  0.0000e+00\n",
       "-8.3383e+04  0.0000e+00 -2.5964e+04 -1.6489e+04 -5.5122e+04 -5.3726e+04\n",
       "-8.8465e+04 -3.7739e+04 -3.3788e+04 -3.6908e+04 -1.9227e+04 -6.2255e+04\n",
       "-7.0378e+04 -4.1630e+04  0.0000e+00 -3.6067e+04 -3.6988e+04 -5.1488e+04\n",
       "-3.2566e+04 -5.5226e+04  0.0000e+00 -3.7262e+04 -3.2050e+04 -2.2479e+04\n",
       "-3.6825e+04 -9.5592e+04 -6.6746e+03 -9.0971e+04 -5.5579e+04 -5.1656e+04\n",
       "-5.5134e+04 -6.0651e+04 -4.5119e+04 -2.4179e+04 -1.4203e+04 -2.2515e+04\n",
       " 0.0000e+00 -9.5686e+04 -2.3966e+04 -6.4230e+04 -1.1609e+05 -3.1359e+04\n",
       "-7.1446e+04 -8.4342e+04 -2.8171e+04 -3.8175e+04 -6.0470e+04 -4.3992e+04\n",
       "-9.2566e+04 -8.9177e+04  0.0000e+00 -7.5846e+04 -6.3015e+04 -1.0198e+05\n",
       " 0.0000e+00 -1.3475e+05 -1.5078e+04 -6.9991e+04 -9.7106e+04 -7.0354e+04\n",
       "-8.5310e+04 -7.9268e+04 -3.7182e+04 -6.8385e+04 -7.5205e+04 -5.7397e+04\n",
       " 0.0000e+00 -1.3016e+05 -6.2521e+04 -8.3563e+04 -1.1146e+05 -4.9068e+04\n",
       "-7.2576e+04 -8.1532e+04 -4.7296e+03 -4.2592e+04 -7.1505e+04 -9.2381e+04\n",
       "-1.1494e+05 -1.2836e+05 -6.3077e+04  0.0000e+00 -1.0319e+05 -6.6697e+04\n",
       "-1.1048e+05 -8.5545e+04 -6.4223e+04 -6.7033e+04 -6.8197e+04 -8.1744e+04\n",
       "\n",
       "Columns 7 to 10\n",
       "-4.3482e+04 -5.6550e+04 -3.4797e+04 -2.9404e+04\n",
       "-8.8672e+04 -1.3126e+05 -7.7211e+04 -1.3813e+05\n",
       "-4.6985e+04 -1.3445e+04 -1.7895e+04 -2.6842e+04\n",
       "-1.5522e+04 -9.8979e+03 -2.1021e+04 -1.7852e+04\n",
       "-5.2232e+04 -3.3802e+04 -3.7508e+04 -2.4992e+04\n",
       "-6.5966e+04 -6.8693e+04 -7.6834e+04 -5.9098e+04\n",
       "-8.6057e+04 -1.1044e+05  0.0000e+00 -1.0119e+05\n",
       "-1.0495e+05 -1.0146e+05 -8.4310e+04 -1.2141e+05\n",
       " 0.0000e"
      ]
     },
     "execution_count": 7,
     "metadata": {},
     "output_type": "execute_result"
    },
    {
     "data": {
      "text/plain": [
       "+00 -3.2261e+04 -1.2537e+04 -1.9871e+04\n",
       "-3.8654e+04 -1.0008e+04 -2.7458e+04  0.0000e+00\n",
       "-8.6697e+04 -1.2887e+05 -7.6608e+04 -1.4811e+05\n",
       "-7.1772e+04 -6.7965e+04 -3.7621e+04 -8.1885e+04\n",
       "-6.3621e+04 -2.1755e+04 -5.1290e+04 -1.6007e+04\n",
       "-3.9893e+04 -1.5448e+04  0.0000e+00 -4.1664e+02\n",
       "-6.0381e+04 -1.1610e+05 -5.7373e+04 -7.6412e+04\n",
       "-3.8626e+04 -5.1778e+04 -1.3409e+04 -4.2314e+04\n",
       "-9.2825e+04 -4.5682e+04  0.0000e+00 -3.7103e+04\n",
       "-1.0409e+04 -4.7254e+04 -4.1145e+04 -4.3198e+04\n",
       "-8.5307e+04  0.0000e+00 -5.5309e+04 -4.0791e+04\n",
       "-4.3016e+04 -8.8560e+04 -3.7039e+04 -1.1143e+05\n",
       "-3.1742e+04 -5.5171e+04  0.0000e+00 -2.1590e+04\n",
       "-3.8166e+04 -5.6894e+04 -2.1539e+04 -6.2108e+04\n",
       "-4.8160e+04 -2.6426e+04 -3.1990e+04 -6.7270e+03\n",
       "-1.0855e+05  0.0000e+00 -6.3846e+04 -4.4382e+04\n",
       "-2.1309e+04 -5.2057e+04 -2.1642e+03 -4.0036e+04\n",
       "-5.7147e+04 -3.6778e+04  0.0000e+00 -4.4618e+04\n",
       "-5.6465e+04 -3.0223e+03 -4.5754e+04 -3.3983e+04\n",
       "-7.0975e+03 -7.4108e+04 -2.1613e+04 -2.0904e+04\n",
       " 0.0000e+00 -1.2873e+05 -3.9452e+04 -5.4260e+04\n",
       "-1.0753e+05 -5.1645e+04 -6.2575e+03 -6.6555e+04\n",
       "-1.7219e+04 -7.4974e+04 -8.4289e+03 -2.5940e+04\n",
       "-8.7948e+04 -6.2094e+04 -1.9403e+04 -6.4346e+04\n",
       " 0.0000e+00 -5.9881e+04 -4.6375e+04 -2.6139e+04\n",
       "-6.3789e+04 -4.5686e+04 -9.0141e+03 -1.9980e+04\n",
       "-9.2540e+04 -3.9927e+03 -4.4660e+04 -5.2010e+04\n",
       "-3.8899e+04 -4.8920e+04 -3.5275e+03 -2.5508e+04\n",
       "-4.8805e+04 -4.5235e+04 -1.2480e+04 -3.9544e+04\n",
       "-5.4748e+04  0.0000e+00 -3.0004e+04 -3.4405e+04\n",
       "-2.3826e+03 -7.8655e+04 -2.0699e+04 -3.7471e+04\n",
       "-2.1546e+03 -6.0129e+04 -2.0057e+04 -4.6306e+04\n",
       " 0.0000e+00 -8.3335e+04 -6.0060e+04 -6.9309e+04\n",
       "-5.5900e+04 -2.0635e+04 -1.6632e+04  0.0000e+00\n",
       "-8.6863e+04 -6.2180e+04 -1.4313e+04 -7.3145e+04\n",
       "-9.7288e+04  0.0000e+00 -5.5623e+03 -1.7325e+04\n",
       "-6.0768e+04 -1.0342e+05 -6.5899e+04 -9.9336e+04\n",
       "-4.6894e+04 -8.4137e+04 -4.7565e+04 -5.8586e+04\n",
       "-8.4634e+04 -7.5303e+04  0.0000e+00 -7.0544e+04\n",
       "-7.1429e+04 -9.0155e+04 -7.8263e+04 -8.8082e+04\n",
       "-8.9158e+04  0.0000e+00 -3.8541e+04 -2.6011e+04\n",
       "-1.5205e+05 -9.1194e+04 -5.7800e+04 -1.0098e+05\n",
       "-1.0399e+05  0.0000e+00 -5.9520e+04 -5.2751e+04\n",
       "[torch.DoubleTensor of size 51x10]\n",
       "\n",
       "Columns 1 to 6\n",
       "-5.8853e+04 -5.3218e+04 -4.1532e+04  0.0000e+00 -6.1132e+04 -4.4480e+04\n",
       " 0.0000e+00 -1.7874e+05 -5.6580e+04 -1.2752e+05 -1.7991e+05 -8.9737e+04\n",
       "-5.6114e+04  0.0000e+00 -1.6150e+04 -5.5623e+03 -6.1405e+04 -6.7556e+04\n",
       "-2.1060e+04 -7.9776e+04  0.0000e+00 -4.9227e+04 -4.0361e+04 -7.5155e+04\n",
       "-7.5228e+04 -6.4905e+04 -5.2764e+04 -7.6761e+04  0.0000e+00 -5.4753e+04\n",
       " 0.0000e+00 -1.1282e+05 -2.9461e+04 -4.9643e+04 -9.4847e+04 -4.8027e+04\n",
       "-9.0283e+04 -7.5053e+04 -2.4483e+04 -6.6178e+04 -9.1207e+04 -6.4347e+04\n",
       "-1.2830e+05 -1.1720e+05  0.0000e+00 -8.0263e+04 -1.3737e+05 -1.2984e+05\n",
       "-2.5744e+04 -3.8469e+04 -3.3600e+03 -1.4337e+04 -2.1252e+04 -1.6280e+04\n",
       "-4.4696e+04 -5.2384e+04 -3.0046e+04 -3.0415e+04 -1.3120e+04 -6.4847e+04\n",
       "-1.5390e+05 -9.5797e+04  0.0000e+00 -5.5890e+04 -1.5189e+05 -1.3976e+05\n",
       "-3.9531e+04 -5.3938e+04 -1.8525e+04  0.0000e+00 -9.2744e+04 -3.4615e+04\n",
       "-8.7003e+04 -8.7456e+04 -3.6180e+04 -2.6629e+04  0.0000e+00 -8.2251e+04\n",
       "-4.8825e+04 -2.2808e+04 -2.8645e+04 -1.2320e+04 -2.0571e+04 -3.1062e+04\n",
       "-9.6977e+04 -7.0356e+04  0.0000e+00 -6.9186e+04 -7.7944e+04 -1.1712e+05\n",
       " 0.0000e+00 -8.3292e+04 -1.6741e+04 -4.9108e+04 -5.5560e+04 -3.7895e+04\n",
       "-5.0554e+04 -8.4075e+04 -1.1436e+04 -2.1095e+04 -8.2389e+04 -7.7611e+04\n",
       "-1.8206e+04 -4.3490e+04 -1.4521e+03  0.0000e+00 -5.5050e+04 -7.1946e+03\n",
       "-6.6985e+04 -6.7472e+04 -8.6971e+04 -5.0093e+04 -5.9527e+04 -6.1801e+04\n",
       " 0.0000e+00 -1.0377e+05 -3.3274e+04 -7.0392e+04 -1.0359e+05 -3.2568e+04\n",
       "-8.8757e+04 -3.0736e+02 -4.7914e+03 -4.6269e+03 -3.3754e+04 -2.5079e+04\n",
       "-5.7625e+04  0.0000e+00 -2.7688e+03 -3.3969e+04 -6.7470e+04 -6.2853e+04\n",
       "-2.0484e+04 -9.0711e+04 -2.9176e+04 -5.0530e+04  0.0000e+00 -6.2451e+04\n",
       "-8.8416e+04 -7.1969e+04 -4.8848e+04 -5.0389e+04 -8.2294e+04 -9.3861e+04\n",
       "-1.3282e+04 -4.6478e+04 -1.1675e+04 -8.2917e+03 -2.5592e+04  0.0000e+00\n",
       "-7.4821e+04 -4.7322e+04 -2.3599e+04 -3.8764e+04 -3.5198e+04 -3.5085e+04\n",
       "-7.5151e+04 -5.0144e+04 -2.3711e+04  0.0000e+00 -5.1703e+04 -8.7868e+04\n",
       "-2.7762e+04 -6.0279e+04  0.0000e+00 -2.8596e+"
      ]
     },
     "execution_count": 7,
     "metadata": {},
     "output_type": "execute_result"
    },
    {
     "data": {
      "text/plain": [
       "04 -2.6417e+04 -4.2681e+04\n",
       "-6.3486e+04 -9.2484e+04 -3.0435e+04 -8.4551e+04 -5.1070e+04 -6.3182e+04\n",
       "-6.9822e+04 -9.2142e+04 -3.7504e+04 -1.3670e+04 -9.8276e+04  0.0000e+00\n",
       "-3.5675e+04 -4.6161e+04 -1.4910e+04  0.0000e+00 -5.2823e+04 -1.0134e+04\n",
       "-4.5124e+04 -5.0471e+04 -3.9234e+04  0.0000e+00 -8.1470e+04 -2.9792e+04\n",
       "-3.5269e+04 -1.0545e+05 -2.5059e+03 -7.9425e+04 -2.3992e+04 -8.2670e+04\n",
       "-4.1046e+04 -9.7274e+04 -9.0665e+03  0.0000e+00 -4.7881e+04 -2.7669e+04\n",
       "-9.4657e+04 -1.0639e+05  0.0000e+00 -5.3128e+04 -6.8895e+04 -1.3829e+05\n",
       "-3.0388e+04 -5.6626e+04 -2.2901e+04 -2.1155e+04 -2.1579e+04  0.0000e+00\n",
       "-8.3383e+04  0.0000e+00 -2.5964e+04 -1.6489e+04 -5.5122e+04 -5.3726e+04\n",
       "-8.8465e+04 -3.7739e+04 -3.3788e+04 -3.6908e+04 -1.9227e+04 -6.2255e+04\n",
       "-7.0378e+04 -4.1630e+04  0.0000e+00 -3.6067e+04 -3.6988e+04 -5.1488e+04\n",
       "-3.2566e+04 -5.5226e+04  0.0000e+00 -3.7262e+04 -3.2050e+04 -2.2479e+04\n",
       "-3.6825e+04 -9.5592e+04 -6.6746e+03 -9.0971e+04 -5.5579e+04 -5.1656e+04\n",
       "-5.5134e+04 -6.0651e+04 -4.5119e+04 -2.4179e+04 -1.4203e+04 -2.2515e+04\n",
       " 0.0000e+00 -9.5686e+04 -2.3966e+04 -6.4230e+04 -1.1609e+05 -3.1359e+04\n",
       "-7.1446e+04 -8.4342e+04 -2.8171e+04 -3.8175e+04 -6.0470e+04 -4.3992e+04\n",
       "-9.2566e+04 -8.9177e+04  0.0000e+00 -7.5846e+04 -6.3015e+04 -1.0198e+05\n",
       " 0.0000e+00 -1.3475e+05 -1.5078e+04 -6.9991e+04 -9.7106e+04 -7.0354e+04\n",
       "-8.5310e+04 -7.9268e+04 -3.7182e+04 -6.8385e+04 -7.5205e+04 -5.7397e+04\n",
       " 0.0000e+00 -1.3016e+05 -6.2521e+04 -8.3563e+04 -1.1146e+05 -4.9068e+04\n",
       "-7.2576e+04 -8.1532e+04 -4.7296e+03 -4.2592e+04 -7.1505e+04 -9.2381e+04\n",
       "-1.1494e+05 -1.2836e+05 -6.3077e+04  0.0000e+00 -1.0319e+05 -6.6697e+04\n",
       "-1.1048e+05 -8.5545e+04 -6.4223e+04 -6.7033e+04 -6.8197e+04 -8.1744e+04\n",
       "\n",
       "Columns 7 to 10\n",
       "-4.3482e+04 -5.6550e+04 -3.4797e+04 -2.9404e+04\n",
       "-8.8672e+04 -1.3126e+05 -7.7211e+04 -1.3813e+05\n",
       "-4.6985e+04 -1.3445e+04 -1.7895e+04 -2.6842e+04\n",
       "-1.5522e+04 -9.8979e+03 -2.1021e+04 -1.7852e+04\n",
       "-5.2232e+04 -3.3802e+04 -3.7508e+04 -2.4992e+04\n",
       "-6.5966e+04 -6.8693e+04 -7.6834e+04 -5.9098e+04\n",
       "-8.6057e+04 -1.1044e+05  0.0000e+00 -1.0119e+05\n",
       "-1.0495e+05 -1.0146e+05 -8.4310e+04 -1.2141e+05\n",
       " 0.0000e+00 -3.2261e+04 -1.2537e+04 -1.9871e+04\n",
       "-3.8654e+04 -1.0008e+04 -2.7458e+04  0.0000e+00\n",
       "-8.6697e+04 -1.2887e+05 -7.6608e+04 -1.4811e+05\n",
       "-7.1772e+04 -6.7965e+04 -3.7621e+04 -8.1885e+04\n",
       "-6.3621e+04 -2.1755e+04 -5.1290e+04 -1.6007e+04\n",
       "-3.9893e+04 -1.5448e+04  0.0000e+00 -4.1664e+02\n",
       "-6.0381e+04 -1.1610e+05 -5.7373e+04 -7.6412e+04\n",
       "-3.8626e+04 -5.1778e+04 -1.3409e+04 -4.2314e+04\n",
       "-9.2825e+04 -4.5682e+04  0.0000e+00 -3.7103e+04\n",
       "-1.0409e+04 -4.7254e+04 -4.1145e+04 -4.3198e+04\n",
       "-8.5307e+04  0.0000e+00 -5.5309e+04 -4.0791e+04\n",
       "-4.3016e+04 -8.8560e+04 -3.7039e+04 -1.1143e+05\n",
       "-3.1742e+04 -5.5171e+04  0.0000e+00 -2.1590e+04\n",
       "-3.8166e+04 -5.6894e+04 -2.1539e+04 -6.2108e+04\n",
       "-4.8160e+04 -2.6426e+04 -3.1990e+04 -6.7270e+03\n",
       "-1.0855e+05  0.0000e+00 -6.3846e+04 -4.4382e+04\n",
       "-2.1309e+04 -5.2057e+04 -2.1642e+03 -4.0036e+04\n",
       "-5.7147e+04 -3.6778e+04  0.0000e+00 -4.4618e+04\n",
       "-5.6465e+04 -3.0223e+03 -4.5754e+04 -3.3983e+04\n",
       "-7.0975e+03 -7.4108e+04 -2.1613e+04 -2.0904e+04\n",
       " 0.0000e+00 -1.2873e+05 -3.9452e+04 -5.4260e+04\n",
       "-1.0753e+05 -5.1645e+04 -6.2575e+03 -6.6555e+04\n",
       "-1.7219e+04 -7.4974e+04 -8.4289e+03 -2.5940e+04\n",
       "-8.7948e+04 -6.2094e+04 -1.9403e+04 -6.4346e+04\n",
       " 0.0000e+00 -5.9881e+04 -4.6375e+04 -2.6139e+04\n",
       "-6.3789e+04 -4.5686e+04 -9.0141e+03 -1.9980e+04\n",
       "-9.2540e+04 -3.9927e+03 -4.4660e+04 -5.2010e+04\n",
       "-3.8899e+04 -4.8920e+04 -3.5275e+03 -2.5508e+04\n",
       "-4.8805e+04 -4.5235e+04 -1.2480e+04 -3.9544e+04\n",
       "-5.4748e+04  0.0000e+00 -3.0004e+04 -3.4405e+04\n",
       "-2.3826e+03 -7.8655e+04 -2.0699e+04 -3.7471e+04\n",
       "-2.1546e+03 -6.0129e+04 -2.0057e+04 -4.6306e+04\n",
       " 0.0000e+00 -8.3335e+04 -6.0060e+04 -6.9309e+04\n",
       "-5.5900e+04 -2.0635e+04 -1.6632e+04  0.0000e+00\n",
       "-8.6863e+04 -6.2180e+04 -1.4313e+04 -7.3145e+04\n",
       "-9.7288e+04  0.0000e+00 -5.5623e+03 -1.7325e+04\n",
       "-6.0768e+04 -1.0342e+05 -6.5899e+04 -9.9336e+04\n",
       "-4.6894e+04 -8.4137e+04 -4.7565e+04 -5.8586e+04\n",
       "-8.4634e+04 -7.5303e+04  0.0000e+00 -7.0544e+04\n",
       "-7.1429e+04 -9.0155e+04 -7.8263e+04 -8.8082e+04\n",
       "-8.9158e+04  0.0000e+00 -3.8541e+04 -2.6011e+04\n",
       "-1.5205e+05 -9.1194e+04 -5.7800e+04 -1.0098e"
      ]
     },
     "execution_count": 7,
     "metadata": {},
     "output_type": "execute_result"
    },
    {
     "data": {
      "text/plain": [
       "+05\n",
       "-1.0399e+05  0.0000e+00 -5.9520e+04 -5.2751e+04\n",
       "[torch.DoubleTensor of size 51x10]\n",
       "\n",
       "Columns 1 to 6\n",
       "-5.8853e+04 -5.3218e+04 -4.1532e+04  0.0000e+00 -6.1132e+04 -4.4480e+04\n",
       " 0.0000e+00 -1.7874e+05 -5.6580e+04 -1.2752e+05 -1.7991e+05 -8.9737e+04\n",
       "-5.6114e+04  0.0000e+00 -1.6150e+04 -5.5623e+03 -6.1405e+04 -6.7556e+04\n",
       "-2.1060e+04 -7.9776e+04  0.0000e+00 -4.9227e+04 -4.0361e+04 -7.5155e+04\n",
       "-7.5228e+04 -6.4905e+04 -5.2764e+04 -7.6761e+04  0.0000e+00 -5.4753e+04\n",
       " 0.0000e+00 -1.1282e+05 -2.9461e+04 -4.9643e+04 -9.4847e+04 -4.8027e+04\n",
       "-9.0283e+04 -7.5053e+04 -2.4483e+04 -6.6178e+04 -9.1207e+04 -6.4347e+04\n",
       "-1.2830e+05 -1.1720e+05  0.0000e+00 -8.0263e+04 -1.3737e+05 -1.2984e+05\n",
       "-2.5744e+04 -3.8469e+04 -3.3600e+03 -1.4337e+04 -2.1252e+04 -1.6280e+04\n",
       "-4.4696e+04 -5.2384e+04 -3.0046e+04 -3.0415e+04 -1.3120e+04 -6.4847e+04\n",
       "-1.5390e+05 -9.5797e+04  0.0000e+00 -5.5890e+04 -1.5189e+05 -1.3976e+05\n",
       "-3.9531e+04 -5.3938e+04 -1.8525e+04  0.0000e+00 -9.2744e+04 -3.4615e+04\n",
       "-8.7003e+04 -8.7456e+04 -3.6180e+04 -2.6629e+04  0.0000e+00 -8.2251e+04\n",
       "-4.8825e+04 -2.2808e+04 -2.8645e+04 -1.2320e+04 -2.0571e+04 -3.1062e+04\n",
       "-9.6977e+04 -7.0356e+04  0.0000e+00 -6.9186e+04 -7.7944e+04 -1.1712e+05\n",
       " 0.0000e+00 -8.3292e+04 -1.6741e+04 -4.9108e+04 -5.5560e+04 -3.7895e+04\n",
       "-5.0554e+04 -8.4075e+04 -1.1436e+04 -2.1095e+04 -8.2389e+04 -7.7611e+04\n",
       "-1.8206e+04 -4.3490e+04 -1.4521e+03  0.0000e+00 -5.5050e+04 -7.1946e+03\n",
       "-6.6985e+04 -6.7472e+04 -8.6971e+04 -5.0093e+04 -5.9527e+04 -6.1801e+04\n",
       " 0.0000e+00 -1.0377e+05 -3.3274e+04 -7.0392e+04 -1.0359e+05 -3.2568e+04\n",
       "-8.8757e+04 -3.0736e+02 -4.7914e+03 -4.6269e+03 -3.3754e+04 -2.5079e+04\n",
       "-5.7625e+04  0.0000e+00 -2.7688e+03 -3.3969e+04 -6.7470e+04 -6.2853e+04\n",
       "-2.0484e+04 -9.0711e+04 -2.9176e+04 -5.0530e+04  0.0000e+00 -6.2451e+04\n",
       "-8.8416e+04 -7.1969e+04 -4.8848e+04 -5.0389e+04 -8.2294e+04 -9.3861e+04\n",
       "-1.3282e+04 -4.6478e+04 -1.1675e+04 -8.2917e+03 -2.5592e+04  0.0000e+00\n",
       "-7.4821e+04 -4.7322e+04 -2.3599e+04 -3.8764e+04 -3.5198e+04 -3.5085e+04\n",
       "-7.5151e+04 -5.0144e+04 -2.3711e+04  0.0000e+00 -5.1703e+04 -8.7868e+04\n",
       "-2.7762e+04 -6.0279e+04  0.0000e+00 -2.8596e+04 -2.6417e+04 -4.2681e+04\n",
       "-6.3486e+04 -9.2484e+04 -3.0435e+04 -8.4551e+04 -5.1070e+04 -6.3182e+04\n",
       "-6.9822e+04 -9.2142e+04 -3.7504e+04 -1.3670e+04 -9.8276e+04  0.0000e+00\n",
       "-3.5675e+04 -4.6161e+04 -1.4910e+04  0.0000e+00 -5.2823e+04 -1.0134e+04\n",
       "-4.5124e+04 -5.0471e+04 -3.9234e+04  0.0000e+00 -8.1470e+04 -2.9792e+04\n",
       "-3.5269e+04 -1.0545e+05 -2.5059e+03 -7.9425e+04 -2.3992e+04 -8.2670e+04\n",
       "-4.1046e+04 -9.7274e+04 -9.0665e+03  0.0000e+00 -4.7881e+04 -2.7669e+04\n",
       "-9.4657e+04 -1.0639e+05  0.0000e+00 -5.3128e+04 -6.8895e+04 -1.3829e+05\n",
       "-3.0388e+04 -5.6626e+04 -2.2901e+04 -2.1155e+04 -2.1579e+04  0.0000e+00\n",
       "-8.3383e+04  0.0000e+00 -2.5964e+04 -1.6489e+04 -5.5122e+04 -5.3726e+04\n",
       "-8.8465e+04 -3.7739e+04 -3.3788e+04 -3.6908e+04 -1.9227e+04 -6.2255e+04\n",
       "-7.0378e+04 -4.1630e+04  0.0000e+00 -3.6067e+04 -3.6988e+04 -5.1488e+04\n",
       "-3.2566e+04 -5.5226e+04  0.0000e+00 -3.7262e+04 -3.2050e+04 -2.2479e+04\n",
       "-3.6825e+04 -9.5592e+04 -6.6746e+03 -9.0971e+04 -5.5579e+04 -5.1656e+04\n",
       "-5.5134e+04 -6.0651e+04 -4.5119e+04 -2.4179e+04 -1.4203e+04 -2.2515e+04\n",
       " 0.0000e+00 -9.5686e+04 -2.3966e+04 -6.4230e+04 -1.1609e+05 -3.1359e+04\n",
       "-7.1446e+04 -8.4342e+04 -2.8171e+04 -3.8175e+04 -6.0470e+04 -4.3992e+04\n",
       "-9.2566e+04 -8.9177e+04  0.0000e+00 -7.5846e+04 -6.3015e+04 -1.0198e+05\n",
       " 0.0000e+00 -1.3475e+05 -1.5078e+04 -6.9991e+04 -9.7106e+04 -7.0354e+04\n",
       "-8.5310e+04 -7.9268e+04 -3.7182e+04 -6.8385e+04 -7.5205e+04 -5.7397e+04\n",
       " 0.0000e+00 -1.3016e+05 -6.2521e+04 -8.3563e+04 -1.1146e+05 -4.9068e+04\n",
       "-7.2576e+04 -8.1532e+04 -4.7296e+03 -4.2592e+04 -7.1505e+04 -9.2381e+04\n",
       "-1.1494e+05 -1.2836e+05 -6.3077e+04  0.0000e+00 -1.0319e+05 -6.6697e+04\n",
       "-1.1048e+05 -8.5545e+04 -6.4223e+04 -6.7033e+04 -6.8197e+04 -8.1744e+04\n",
       "\n",
       "Columns 7 to 10\n",
       "-4.3482e+04 -5.6550e+04 -3.4797e+04 -2.9404e+04\n",
       "-8.8672e+04 -1.3126e+05 -7.7211e+04 -1.3813e+05\n",
       "-4.6985e+04 -1.3445e+04 -1.7895e+04 -2.6842e+04\n",
       "-1.5522e+04 -9.8979e+03 -2.1021e+04 -1.7852e+04\n",
       "-5.2232e+04 -3.3802e+04 -3.7508e+04 -2.4992e+04\n",
       "-6.5966e+04 -6.8693e+04 -7.6834e+04 -5.9098e+04\n",
       "-8.6057e+04 -1.1"
      ]
     },
     "execution_count": 7,
     "metadata": {},
     "output_type": "execute_result"
    },
    {
     "data": {
      "text/plain": [
       "044e+05  0.0000e+00 -1.0119e+05\n",
       "-1.0495e+05 -1.0146e+05 -8.4310e+04 -1.2141e+05\n",
       " 0.0000e+00 -3.2261e+04 -1.2537e+04 -1.9871e+04\n",
       "-3.8654e+04 -1.0008e+04 -2.7458e+04  0.0000e+00\n",
       "-8.6697e+04 -1.2887e+05 -7.6608e+04 -1.4811e+05\n",
       "-7.1772e+04 -6.7965e+04 -3.7621e+04 -8.1885e+04\n",
       "-6.3621e+04 -2.1755e+04 -5.1290e+04 -1.6007e+04\n",
       "-3.9893e+04 -1.5448e+04  0.0000e+00 -4.1664e+02\n",
       "-6.0381e+04 -1.1610e+05 -5.7373e+04 -7.6412e+04\n",
       "-3.8626e+04 -5.1778e+04 -1.3409e+04 -4.2314e+04\n",
       "-9.2825e+04 -4.5682e+04  0.0000e+00 -3.7103e+04\n",
       "-1.0409e+04 -4.7254e+04 -4.1145e+04 -4.3198e+04\n",
       "-8.5307e+04  0.0000e+00 -5.5309e+04 -4.0791e+04\n",
       "-4.3016e+04 -8.8560e+04 -3.7039e+04 -1.1143e+05\n",
       "-3.1742e+04 -5.5171e+04  0.0000e+00 -2.1590e+04\n",
       "-3.8166e+04 -5.6894e+04 -2.1539e+04 -6.2108e+04\n",
       "-4.8160e+04 -2.6426e+04 -3.1990e+04 -6.7270e+03\n",
       "-1.0855e+05  0.0000e+00 -6.3846e+04 -4.4382e+04\n",
       "-2.1309e+04 -5.2057e+04 -2.1642e+03 -4.0036e+04\n",
       "-5.7147e+04 -3.6778e+04  0.0000e+00 -4.4618e+04\n",
       "-5.6465e+04 -3.0223e+03 -4.5754e+04 -3.3983e+04\n",
       "-7.0975e+03 -7.4108e+04 -2.1613e+04 -2.0904e+04\n",
       " 0.0000e+00 -1.2873e+05 -3.9452e+04 -5.4260e+04\n",
       "-1.0753e+05 -5.1645e+04 -6.2575e+03 -6.6555e+04\n",
       "-1.7219e+04 -7.4974e+04 -8.4289e+03 -2.5940e+04\n",
       "-8.7948e+04 -6.2094e+04 -1.9403e+04 -6.4346e+04\n",
       " 0.0000e+00 -5.9881e+04 -4.6375e+04 -2.6139e+04\n",
       "-6.3789e+04 -4.5686e+04 -9.0141e+03 -1.9980e+04\n",
       "-9.2540e+04 -3.9927e+03 -4.4660e+04 -5.2010e+04\n",
       "-3.8899e+04 -4.8920e+04 -3.5275e+03 -2.5508e+04\n",
       "-4.8805e+04 -4.5235e+04 -1.2480e+04 -3.9544e+04\n",
       "-5.4748e+04  0.0000e+00 -3.0004e+04 -3.4405e+04\n",
       "-2.3826e+03 -7.8655e+04 -2.0699e+04 -3.7471e+04\n",
       "-2.1546e+03 -6.0129e+04 -2.0057e+04 -4.6306e+04\n",
       " 0.0000e+00 -8.3335e+04 -6.0060e+04 -6.9309e+04\n",
       "-5.5900e+04 -2.0635e+04 -1.6632e+04  0.0000e+00\n",
       "-8.6863e+04 -6.2180e+04 -1.4313e+04 -7.3145e+04\n",
       "-9.7288e+04  0.0000e+00 -5.5623e+03 -1.7325e+04\n",
       "-6.0768e+04 -1.0342e+05 -6.5899e+04 -9.9336e+04\n",
       "-4.6894e+04 -8.4137e+04 -4.7565e+04 -5.8586e+04\n",
       "-8.4634e+04 -7.5303e+04  0.0000e+00 -7.0544e+04\n",
       "-7.1429e+04 -9.0155e+04 -7.8263e+04 -8.8082e+04\n",
       "-8.9158e+04  0.0000e+00 -3.8541e+04 -2.6011e+04\n",
       "-1.5205e+05 -9.1194e+04 -5.7800e+04 -1.0098e+05\n",
       "-1.0399e+05  0.0000e+00 -5.9520e+04 -5.2751e+04\n",
       "[torch.DoubleTensor of size 51x10]\n",
       "\n",
       "Columns 1 to 6\n",
       "-5.8853e+04 -5.3218e+04 -4.1532e+04  0.0000e+00 -6.1132e+04 -4.4480e+04\n",
       " 0.0000e+00 -1.7874e+05 -5.6580e+04 -1.2752e+05 -1.7991e+05 -8.9737e+04\n",
       "-5.6114e+04  0.0000e+00 -1.6150e+04 -5.5623e+03 -6.1405e+04 -6.7556e+04\n",
       "-2.1060e+04 -7.9776e+04  0.0000e+00 -4.9227e+04 -4.0361e+04 -7.5155e+04\n",
       "-7.5228e+04 -6.4905e+04 -5.2764e+04 -7.6761e+04  0.0000e+00 -5.4753e+04\n",
       " 0.0000e+00 -1.1282e+05 -2.9461e+04 -4.9643e+04 -9.4847e+04 -4.8027e+04\n",
       "-9.0283e+04 -7.5053e+04 -2.4483e+04 -6.6178e+04 -9.1207e+04 -6.4347e+04\n",
       "-1.2830e+05 -1.1720e+05  0.0000e+00 -8.0263e+04 -1.3737e+05 -1.2984e+05\n",
       "-2.5744e+04 -3.8469e+04 -3.3600e+03 -1.4337e+04 -2.1252e+04 -1.6280e+04\n",
       "-4.4696e+04 -5.2384e+04 -3.0046e+04 -3.0415e+04 -1.3120e+04 -6.4847e+04\n",
       "-1.5390e+05 -9.5797e+04  0.0000e+00 -5.5890e+04 -1.5189e+05 -1.3976e+05\n",
       "-3.9531e+04 -5.3938e+04 -1.8525e+04  0.0000e+00 -9.2744e+04 -3.4615e+04\n",
       "-8.7003e+04 -8.7456e+04 -3.6180e+04 -2.6629e+04  0.0000e+00 -8.2251e+04\n",
       "-4.8825e+04 -2.2808e+04 -2.8645e+04 -1.2320e+04 -2.0571e+04 -3.1062e+04\n",
       "-9.6977e+04 -7.0356e+04  0.0000e+00 -6.9186e+04 -7.7944e+04 -1.1712e+05\n",
       " 0.0000e+00 -8.3292e+04 -1.6741e+04 -4.9108e+04 -5.5560e+04 -3.7895e+04\n",
       "-5.0554e+04 -8.4075e+04 -1.1436e+04 -2.1095e+04 -8.2389e+04 -7.7611e+04\n",
       "-1.8206e+04 -4.3490e+04 -1.4521e+03  0.0000e+00 -5.5050e+04 -7.1946e+03\n",
       "-6.6985e+04 -6.7472e+04 -8.6971e+04 -5.0093e+04 -5.9527e+04 -6.1801e+04\n",
       " 0.0000e+00 -1.0377e+05 -3.3274e+04 -7.0392e+04 -1.0359e+05 -3.2568e+04\n",
       "-8.8757e+04 -3.0736e+02 -4.7914e+03 -4.6269e+03 -3.3754e+04 -2.5079e+04\n",
       "-5.7625e+04  0.0000e+00 -2.7688e+03 -3.3969e+04 -6.7470e+04 -6.2853e+04\n",
       "-2.0484e+04 -9.0711e+04 -2.9176e+04 -5.0530e+04  0.0000e+00 -6.2451e+04\n",
       "-8.8416e+04 -7.1969e+04 -4.8848e+04 -5.0389e+04 -8.2294e+04 -9.3861e+04\n",
       "-1.3282e+04 -4.6478e+04 -1.1675e+04 -8.2917e+03 -2.5592e+04  0.0000e+00\n",
       "-7.4821e+04 -4.7322e+04 -2.3599e+04 -3.8764e+04 -3.5198e+04 -3.5085e+04\n",
       "-7.5151e+04 -5.0144e+04 -2.37"
      ]
     },
     "execution_count": 7,
     "metadata": {},
     "output_type": "execute_result"
    },
    {
     "data": {
      "text/plain": [
       "11e+04  0.0000e+00 -5.1703e+04 -8.7868e+04\n",
       "-2.7762e+04 -6.0279e+04  0.0000e+00 -2.8596e+04 -2.6417e+04 -4.2681e+04\n",
       "-6.3486e+04 -9.2484e+04 -3.0435e+04 -8.4551e+04 -5.1070e+04 -6.3182e+04\n",
       "-6.9822e+04 -9.2142e+04 -3.7504e+04 -1.3670e+04 -9.8276e+04  0.0000e+00\n",
       "-3.5675e+04 -4.6161e+04 -1.4910e+04  0.0000e+00 -5.2823e+04 -1.0134e+04\n",
       "-4.5124e+04 -5.0471e+04 -3.9234e+04  0.0000e+00 -8.1470e+04 -2.9792e+04\n",
       "-3.5269e+04 -1.0545e+05 -2.5059e+03 -7.9425e+04 -2.3992e+04 -8.2670e+04\n",
       "-4.1046e+04 -9.7274e+04 -9.0665e+03  0.0000e+00 -4.7881e+04 -2.7669e+04\n",
       "-9.4657e+04 -1.0639e+05  0.0000e+00 -5.3128e+04 -6.8895e+04 -1.3829e+05\n",
       "-3.0388e+04 -5.6626e+04 -2.2901e+04 -2.1155e+04 -2.1579e+04  0.0000e+00\n",
       "-8.3383e+04  0.0000e+00 -2.5964e+04 -1.6489e+04 -5.5122e+04 -5.3726e+04\n",
       "-8.8465e+04 -3.7739e+04 -3.3788e+04 -3.6908e+04 -1.9227e+04 -6.2255e+04\n",
       "-7.0378e+04 -4.1630e+04  0.0000e+00 -3.6067e+04 -3.6988e+04 -5.1488e+04\n",
       "-3.2566e+04 -5.5226e+04  0.0000e+00 -3.7262e+04 -3.2050e+04 -2.2479e+04\n",
       "-3.6825e+04 -9.5592e+04 -6.6746e+03 -9.0971e+04 -5.5579e+04 -5.1656e+04\n",
       "-5.5134e+04 -6.0651e+04 -4.5119e+04 -2.4179e+04 -1.4203e+04 -2.2515e+04\n",
       " 0.0000e+00 -9.5686e+04 -2.3966e+04 -6.4230e+04 -1.1609e+05 -3.1359e+04\n",
       "-7.1446e+04 -8.4342e+04 -2.8171e+04 -3.8175e+04 -6.0470e+04 -4.3992e+04\n",
       "-9.2566e+04 -8.9177e+04  0.0000e+00 -7.5846e+04 -6.3015e+04 -1.0198e+05\n",
       " 0.0000e+00 -1.3475e+05 -1.5078e+04 -6.9991e+04 -9.7106e+04 -7.0354e+04\n",
       "-8.5310e+04 -7.9268e+04 -3.7182e+04 -6.8385e+04 -7.5205e+04 -5.7397e+04\n",
       " 0.0000e+00 -1.3016e+05 -6.2521e+04 -8.3563e+04 -1.1146e+05 -4.9068e+04\n",
       "-7.2576e+04 -8.1532e+04 -4.7296e+03 -4.2592e+04 -7.1505e+04 -9.2381e+04\n",
       "-1.1494e+05 -1.2836e+05 -6.3077e+04  0.0000e+00 -1.0319e+05 -6.6697e+04\n",
       "-1.1048e+05 -8.5545e+04 -6.4223e+04 -6.7033e+04 -6.8197e+04 -8.1744e+04\n",
       "\n",
       "Columns 7 to 10\n",
       "-4.3482e+04 -5.6550e+04 -3.4797e+04 -2.9404e+04\n",
       "-8.8672e+04 -1.3126e+05 -7.7211e+04 -1.3813e+05\n",
       "-4.6985e+04 -1.3445e+04 -1.7895e+04 -2.6842e+04\n",
       "-1.5522e+04 -9.8979e+03 -2.1021e+04 -1.7852e+04\n",
       "-5.2232e+04 -3.3802e+04 -3.7508e+04 -2.4992e+04\n",
       "-6.5966e+04 -6.8693e+04 -7.6834e+04 -5.9098e+04\n",
       "-8.6057e+04 -1.1044e+05  0.0000e+00 -1.0119e+05\n",
       "-1.0495e+05 -1.0146e+05 -8.4310e+04 -1.2141e+05\n",
       " 0.0000e+00 -3.2261e+04 -1.2537e+04 -1.9871e+04\n",
       "-3.8654e+04 -1.0008e+04 -2.7458e+04  0.0000e+00\n",
       "-8.6697e+04 -1.2887e+05 -7.6608e+04 -1.4811e+05\n",
       "-7.1772e+04 -6.7965e+04 -3.7621e+04 -8.1885e+04\n",
       "-6.3621e+04 -2.1755e+04 -5.1290e+04 -1.6007e+04\n",
       "-3.9893e+04 -1.5448e+04  0.0000e+00 -4.1664e+02\n",
       "-6.0381e+04 -1.1610e+05 -5.7373e+04 -7.6412e+04\n",
       "-3.8626e+04 -5.1778e+04 -1.3409e+04 -4.2314e+04\n",
       "-9.2825e+04 -4.5682e+04  0.0000e+00 -3.7103e+04\n",
       "-1.0409e+04 -4.7254e+04 -4.1145e+04 -4.3198e+04\n",
       "-8.5307e+04  0.0000e+00 -5.5309e+04 -4.0791e+04\n",
       "-4.3016e+04 -8.8560e+04 -3.7039e+04 -1.1143e+05\n",
       "-3.1742e+04 -5.5171e+04  0.0000e+00 -2.1590e+04\n",
       "-3.8166e+04 -5.6894e+04 -2.1539e+04 -6.2108e+04\n",
       "-4.8160e+04 -2.6426e+04 -3.1990e+04 -6.7270e+03\n",
       "-1.0855e+05  0.0000e+00 -6.3846e+04 -4.4382e+04\n",
       "-2.1309e+04 -5.2057e+04 -2.1642e+03 -4.0036e+04\n",
       "-5.7147e+04 -3.6778e+04  0.0000e+00 -4.4618e+04\n",
       "-5.6465e+04 -3.0223e+03 -4.5754e+04 -3.3983e+04\n",
       "-7.0975e+03 -7.4108e+04 -2.1613e+04 -2.0904e+04\n",
       " 0.0000e+00 -1.2873e+05 -3.9452e+04 -5.4260e+04\n",
       "-1.0753e+05 -5.1645e+04 -6.2575e+03 -6.6555e+04\n",
       "-1.7219e+04 -7.4974e+04 -8.4289e+03 -2.5940e+04\n",
       "-8.7948e+04 -6.2094e+04 -1.9403e+04 -6.4346e+04\n",
       " 0.0000e+00 -5.9881e+04 -4.6375e+04 -2.6139e+04\n",
       "-6.3789e+04 -4.5686e+04 -9.0141e+03 -1.9980e+04\n",
       "-9.2540e+04 -3.9927e+03 -4.4660e+04 -5.2010e+04\n",
       "-3.8899e+04 -4.8920e+04 -3.5275e+03 -2.5508e+04\n",
       "-4.8805e+04 -4.5235e+04 -1.2480e+04 -3.9544e+04\n",
       "-5.4748e+04  0.0000e+00 -3.0004e+04 -3.4405e+04\n",
       "-2.3826e+03 -7.8655e+04 -2.0699e+04 -3.7471e+04\n",
       "-2.1546e+03 -6.0129e+04 -2.0057e+04 -4.6306e+04\n",
       " 0.0000e+00 -8.3335e+04 -6.0060e+04 -6.9309e+04\n",
       "-5.5900e+04 -2.0635e+04 -1.6632e+04  0.0000e+00\n",
       "-8.6863e+04 -6.2180e+04 -1.4313e+04 -7.3145e+04\n",
       "-9.7288e+04  0.0000e+00 -5.5623e+03 -1.7325e+04\n",
       "-6.0768e+04 -1.0342e+05 -6.5899e+04 -9.9336e+04\n",
       "-4.6894e+04 -8.4137e+04 -4.7565e+04 -5.8586e+04\n",
       "-8.4634e+04 -7.5303e+04  0.0000e+00 -7.0544e+04\n",
       "-7.1429e+04 -9.0155e+04 -7.8263e+04 -8.8082e+04\n",
       "-8.9"
      ]
     },
     "execution_count": 7,
     "metadata": {},
     "output_type": "execute_result"
    },
    {
     "data": {
      "text/plain": [
       "158e+04  0.0000e+00 -3.8541e+04 -2.6011e+04\n",
       "-1.5205e+05 -9.1194e+04 -5.7800e+04 -1.0098e+05\n",
       "-1.0399e+05  0.0000e+00 -5.9520e+04 -5.2751e+04\n",
       "[torch.DoubleTensor of size 51x10]\n",
       "\n",
       "Columns 1 to 6\n",
       "-5.8853e+04 -5.3218e+04 -4.1532e+04  0.0000e+00 -6.1132e+04 -4.4480e+04\n",
       " 0.0000e+00 -1.7874e+05 -5.6580e+04 -1.2752e+05 -1.7991e+05 -8.9737e+04\n",
       "-5.6114e+04  0.0000e+00 -1.6150e+04 -5.5623e+03 -6.1405e+04 -6.7556e+04\n",
       "-2.1060e+04 -7.9776e+04  0.0000e+00 -4.9227e+04 -4.0361e+04 -7.5155e+04\n",
       "-7.5228e+04 -6.4905e+04 -5.2764e+04 -7.6761e+04  0.0000e+00 -5.4753e+04\n",
       " 0.0000e+00 -1.1282e+05 -2.9461e+04 -4.9643e+04 -9.4847e+04 -4.8027e+04\n",
       "-9.0283e+04 -7.5053e+04 -2.4483e+04 -6.6178e+04 -9.1207e+04 -6.4347e+04\n",
       "-1.2830e+05 -1.1720e+05  0.0000e+00 -8.0263e+04 -1.3737e+05 -1.2984e+05\n",
       "-2.5744e+04 -3.8469e+04 -3.3600e+03 -1.4337e+04 -2.1252e+04 -1.6280e+04\n",
       "-4.4696e+04 -5.2384e+04 -3.0046e+04 -3.0415e+04 -1.3120e+04 -6.4847e+04\n",
       "-1.5390e+05 -9.5797e+04  0.0000e+00 -5.5890e+04 -1.5189e+05 -1.3976e+05\n",
       "-3.9531e+04 -5.3938e+04 -1.8525e+04  0.0000e+00 -9.2744e+04 -3.4615e+04\n",
       "-8.7003e+04 -8.7456e+04 -3.6180e+04 -2.6629e+04  0.0000e+00 -8.2251e+04\n",
       "-4.8825e+04 -2.2808e+04 -2.8645e+04 -1.2320e+04 -2.0571e+04 -3.1062e+04\n",
       "-9.6977e+04 -7.0356e+04  0.0000e+00 -6.9186e+04 -7.7944e+04 -1.1712e+05\n",
       " 0.0000e+00 -8.3292e+04 -1.6741e+04 -4.9108e+04 -5.5560e+04 -3.7895e+04\n",
       "-5.0554e+04 -8.4075e+04 -1.1436e+04 -2.1095e+04 -8.2389e+04 -7.7611e+04\n",
       "-1.8206e+04 -4.3490e+04 -1.4521e+03  0.0000e+00 -5.5050e+04 -7.1946e+03\n",
       "-6.6985e+04 -6.7472e+04 -8.6971e+04 -5.0093e+04 -5.9527e+04 -6.1801e+04\n",
       " 0.0000e+00 -1.0377e+05 -3.3274e+04 -7.0392e+04 -1.0359e+05 -3.2568e+04\n",
       "-8.8757e+04 -3.0736e+02 -4.7914e+03 -4.6269e+03 -3.3754e+04 -2.5079e+04\n",
       "-5.7625e+04  0.0000e+00 -2.7688e+03 -3.3969e+04 -6.7470e+04 -6.2853e+04\n",
       "-2.0484e+04 -9.0711e+04 -2.9176e+04 -5.0530e+04  0.0000e+00 -6.2451e+04\n",
       "-8.8416e+04 -7.1969e+04 -4.8848e+04 -5.0389e+04 -8.2294e+04 -9.3861e+04\n",
       "-1.3282e+04 -4.6478e+04 -1.1675e+04 -8.2917e+03 -2.5592e+04  0.0000e+00\n",
       "-7.4821e+04 -4.7322e+04 -2.3599e+04 -3.8764e+04 -3.5198e+04 -3.5085e+04\n",
       "-7.5151e+04 -5.0144e+04 -2.3711e+04  0.0000e+00 -5.1703e+04 -8.7868e+04\n",
       "-2.7762e+04 -6.0279e+04  0.0000e+00 -2.8596e+04 -2.6417e+04 -4.2681e+04\n",
       "-6.3486e+04 -9.2484e+04 -3.0435e+04 -8.4551e+04 -5.1070e+04 -6.3182e+04\n",
       "-6.9822e+04 -9.2142e+04 -3.7504e+04 -1.3670e+04 -9.8276e+04  0.0000e+00\n",
       "-3.5675e+04 -4.6161e+04 -1.4910e+04  0.0000e+00 -5.2823e+04 -1.0134e+04\n",
       "-4.5124e+04 -5.0471e+04 -3.9234e+04  0.0000e+00 -8.1470e+04 -2.9792e+04\n",
       "-3.5269e+04 -1.0545e+05 -2.5059e+03 -7.9425e+04 -2.3992e+04 -8.2670e+04\n",
       "-4.1046e+04 -9.7274e+04 -9.0665e+03  0.0000e+00 -4.7881e+04 -2.7669e+04\n",
       "-9.4657e+04 -1.0639e+05  0.0000e+00 -5.3128e+04 -6.8895e+04 -1.3829e+05\n",
       "-3.0388e+04 -5.6626e+04 -2.2901e+04 -2.1155e+04 -2.1579e+04  0.0000e+00\n",
       "-8.3383e+04  0.0000e+00 -2.5964e+04 -1.6489e+04 -5.5122e+04 -5.3726e+04\n",
       "-8.8465e+04 -3.7739e+04 -3.3788e+04 -3.6908e+04 -1.9227e+04 -6.2255e+04\n",
       "-7.0378e+04 -4.1630e+04  0.0000e+00 -3.6067e+04 -3.6988e+04 -5.1488e+04\n",
       "-3.2566e+04 -5.5226e+04  0.0000e+00 -3.7262e+04 -3.2050e+04 -2.2479e+04\n",
       "-3.6825e+04 -9.5592e+04 -6.6746e+03 -9.0971e+04 -5.5579e+04 -5.1656e+04\n",
       "-5.5134e+04 -6.0651e+04 -4.5119e+04 -2.4179e+04 -1.4203e+04 -2.2515e+04\n",
       " 0.0000e+00 -9.5686e+04 -2.3966e+04 -6.4230e+04 -1.1609e+05 -3.1359e+04\n",
       "-7.1446e+04 -8.4342e+04 -2.8171e+04 -3.8175e+04 -6.0470e+04 -4.3992e+04\n",
       "-9.2566e+04 -8.9177e+04  0.0000e+00 -7.5846e+04 -6.3015e+04 -1.0198e+05\n",
       " 0.0000e+00 -1.3475e+05 -1.5078e+04 -6.9991e+04 -9.7106e+04 -7.0354e+04\n",
       "-8.5310e+04 -7.9268e+04 -3.7182e+04 -6.8385e+04 -7.5205e+04 -5.7397e+04\n",
       " 0.0000e+00 -1.3016e+05 -6.2521e+04 -8.3563e+04 -1.1146e+05 -4.9068e+04\n",
       "-7.2576e+04 -8.1532e+04 -4.7296e+03 -4.2592e+04 -7.1505e+04 -9.2381e+04\n",
       "-1.1494e+05 -1.2836e+05 -6.3077e+04  0.0000e+00 -1.0319e+05 -6.6697e+04\n",
       "-1.1048e+05 -8.5545e+04 -6.4223e+04 -6.7033e+04 -6.8197e+04 -8.1744e+04\n",
       "\n",
       "Columns 7 to 10\n",
       "-4.3482e+04 -5.6550e+04 -3.4797e+04 -2.9404e+04\n",
       "-8.8672e+04 -1.3126e+05 -7.7211e+04 -1.3813e+05\n",
       "-4.6985e+04 -1.3445e+04 -1.7895e+04 -2.6842e+04\n",
       "-1.5522e+04 -9.8979e+03 -2.1021e+04 -1.7852e+04\n",
       "-5.2232e+04 -3.3802e+04 "
      ]
     },
     "execution_count": 7,
     "metadata": {},
     "output_type": "execute_result"
    },
    {
     "data": {
      "text/plain": [
       "-3.7508e+04 -2.4992e+04\n",
       "-6.5966e+04 -6.8693e+04 -7.6834e+04 -5.9098e+04\n",
       "-8.6057e+04 -1.1044e+05  0.0000e+00 -1.0119e+05\n",
       "-1.0495e+05 -1.0146e+05 -8.4310e+04 -1.2141e+05\n",
       " 0.0000e+00 -3.2261e+04 -1.2537e+04 -1.9871e+04\n",
       "-3.8654e+04 -1.0008e+04 -2.7458e+04  0.0000e+00\n",
       "-8.6697e+04 -1.2887e+05 -7.6608e+04 -1.4811e+05\n",
       "-7.1772e+04 -6.7965e+04 -3.7621e+04 -8.1885e+04\n",
       "-6.3621e+04 -2.1755e+04 -5.1290e+04 -1.6007e+04\n",
       "-3.9893e+04 -1.5448e+04  0.0000e+00 -4.1664e+02\n",
       "-6.0381e+04 -1.1610e+05 -5.7373e+04 -7.6412e+04\n",
       "-3.8626e+04 -5.1778e+04 -1.3409e+04 -4.2314e+04\n",
       "-9.2825e+04 -4.5682e+04  0.0000e+00 -3.7103e+04\n",
       "-1.0409e+04 -4.7254e+04 -4.1145e+04 -4.3198e+04\n",
       "-8.5307e+04  0.0000e+00 -5.5309e+04 -4.0791e+04\n",
       "-4.3016e+04 -8.8560e+04 -3.7039e+04 -1.1143e+05\n",
       "-3.1742e+04 -5.5171e+04  0.0000e+00 -2.1590e+04\n",
       "-3.8166e+04 -5.6894e+04 -2.1539e+04 -6.2108e+04\n",
       "-4.8160e+04 -2.6426e+04 -3.1990e+04 -6.7270e+03\n",
       "-1.0855e+05  0.0000e+00 -6.3846e+04 -4.4382e+04\n",
       "-2.1309e+04 -5.2057e+04 -2.1642e+03 -4.0036e+04\n",
       "-5.7147e+04 -3.6778e+04  0.0000e+00 -4.4618e+04\n",
       "-5.6465e+04 -3.0223e+03 -4.5754e+04 -3.3983e+04\n",
       "-7.0975e+03 -7.4108e+04 -2.1613e+04 -2.0904e+04\n",
       " 0.0000e+00 -1.2873e+05 -3.9452e+04 -5.4260e+04\n",
       "-1.0753e+05 -5.1645e+04 -6.2575e+03 -6.6555e+04\n",
       "-1.7219e+04 -7.4974e+04 -8.4289e+03 -2.5940e+04\n",
       "-8.7948e+04 -6.2094e+04 -1.9403e+04 -6.4346e+04\n",
       " 0.0000e+00 -5.9881e+04 -4.6375e+04 -2.6139e+04\n",
       "-6.3789e+04 -4.5686e+04 -9.0141e+03 -1.9980e+04\n",
       "-9.2540e+04 -3.9927e+03 -4.4660e+04 -5.2010e+04\n",
       "-3.8899e+04 -4.8920e+04 -3.5275e+03 -2.5508e+04\n",
       "-4.8805e+04 -4.5235e+04 -1.2480e+04 -3.9544e+04\n",
       "-5.4748e+04  0.0000e+00 -3.0004e+04 -3.4405e+04\n",
       "-2.3826e+03 -7.8655e+04 -2.0699e+04 -3.7471e+04\n",
       "-2.1546e+03 -6.0129e+04 -2.0057e+04 -4.6306e+04\n",
       " 0.0000e+00 -8.3335e+04 -6.0060e+04 -6.9309e+04\n",
       "-5.5900e+04 -2.0635e+04 -1.6632e+04  0.0000e+00\n",
       "-8.6863e+04 -6.2180e+04 -1.4313e+04 -7.3145e+04\n",
       "-9.7288e+04  0.0000e+00 -5.5623e+03 -1.7325e+04\n",
       "-6.0768e+04 -1.0342e+05 -6.5899e+04 -9.9336e+04\n",
       "-4.6894e+04 -8.4137e+04 -4.7565e+04 -5.8586e+04\n",
       "-8.4634e+04 -7.5303e+04  0.0000e+00 -7.0544e+04\n",
       "-7.1429e+04 -9.0155e+04 -7.8263e+04 -8.8082e+04\n",
       "-8.9158e+04  0.0000e+00 -3.8541e+04 -2.6011e+04\n",
       "-1.5205e+05 -9.1194e+04 -5.7800e+04 -1.0098e+05\n",
       "-1.0399e+05  0.0000e+00 -5.9520e+04 -5.2751e+04\n",
       "[torch.DoubleTensor of size 51x10]\n",
       "\n",
       "Columns 1 to 6\n",
       "-5.8853e+04 -5.3218e+04 -4.1532e+04  0.0000e+00 -6.1132e+04 -4.4480e+04\n",
       " 0.0000e+00 -1.7874e+05 -5.6580e+04 -1.2752e+05 -1.7991e+05 -8.9737e+04\n",
       "-5.6114e+04  0.0000e+00 -1.6150e+04 -5.5623e+03 -6.1405e+04 -6.7556e+04\n",
       "-2.1060e+04 -7.9776e+04  0.0000e+00 -4.9227e+04 -4.0361e+04 -7.5155e+04\n",
       "-7.5228e+04 -6.4905e+04 -5.2764e+04 -7.6761e+04  0.0000e+00 -5.4753e+04\n",
       " 0.0000e+00 -1.1282e+05 -2.9461e+04 -4.9643e+04 -9.4847e+04 -4.8027e+04\n",
       "-9.0283e+04 -7.5053e+04 -2.4483e+04 -6.6178e+04 -9.1207e+04 -6.4347e+04\n",
       "-1.2830e+05 -1.1720e+05  0.0000e+00 -8.0263e+04 -1.3737e+05 -1.2984e+05\n",
       "-2.5744e+04 -3.8469e+04 -3.3600e+03 -1.4337e+04 -2.1252e+04 -1.6280e+04\n",
       "-4.4696e+04 -5.2384e+04 -3.0046e+04 -3.0415e+04 -1.3120e+04 -6.4847e+04\n",
       "-1.5390e+05 -9.5797e+04  0.0000e+00 -5.5890e+04 -1.5189e+05 -1.3976e+05\n",
       "-3.9531e+04 -5.3938e+04 -1.8525e+04  0.0000e+00 -9.2744e+04 -3.4615e+04\n",
       "-8.7003e+04 -8.7456e+04 -3.6180e+04 -2.6629e+04  0.0000e+00 -8.2251e+04\n",
       "-4.8825e+04 -2.2808e+04 -2.8645e+04 -1.2320e+04 -2.0571e+04 -3.1062e+04\n",
       "-9.6977e+04 -7.0356e+04  0.0000e+00 -6.9186e+04 -7.7944e+04 -1.1712e+05\n",
       " 0.0000e+00 -8.3292e+04 -1.6741e+04 -4.9108e+04 -5.5560e+04 -3.7895e+04\n",
       "-5.0554e+04 -8.4075e+04 -1.1436e+04 -2.1095e+04 -8.2389e+04 -7.7611e+04\n",
       "-1.8206e+04 -4.3490e+04 -1.4521e+03  0.0000e+00 -5.5050e+04 -7.1946e+03\n",
       "-6.6985e+04 -6.7472e+04 -8.6971e+04 -5.0093e+04 -5.9527e+04 -6.1801e+04\n",
       " 0.0000e+00 -1.0377e+05 -3.3274e+04 -7.0392e+04 -1.0359e+05 -3.2568e+04\n",
       "-8.8757e+04 -3.0736e+02 -4.7914e+03 -4.6269e+03 -3.3754e+04 -2.5079e+04\n",
       "-5.7625e+04  0.0000e+00 -2.7688e+03 -3.3969e+04 -6.7470e+04 -6.2853e+04\n",
       "-2.0484e+04 -9.0711e+04 -2.9176e+04 -5.0530e+04  0.0000e+00 -6.2451e+04\n",
       "-8.8416e+04 -7.1969e+04 -4.8848e+04 -5.0389e+04 -8.2294e+04 -9.3861e+04\n",
       "-1.3282e+04 -4.6478e+04 -1.1675e+04 -8.2917e+03 -2.5592e+04  0.0000e+00\n",
       "-7.4821e+04 -"
      ]
     },
     "execution_count": 7,
     "metadata": {},
     "output_type": "execute_result"
    },
    {
     "data": {
      "text/plain": [
       "4.7322e+04 -2.3599e+04 -3.8764e+04 -3.5198e+04 -3.5085e+04\n",
       "-7.5151e+04 -5.0144e+04 -2.3711e+04  0.0000e+00 -5.1703e+04 -8.7868e+04\n",
       "-2.7762e+04 -6.0279e+04  0.0000e+00 -2.8596e+04 -2.6417e+04 -4.2681e+04\n",
       "-6.3486e+04 -9.2484e+04 -3.0435e+04 -8.4551e+04 -5.1070e+04 -6.3182e+04\n",
       "-6.9822e+04 -9.2142e+04 -3.7504e+04 -1.3670e+04 -9.8276e+04  0.0000e+00\n",
       "-3.5675e+04 -4.6161e+04 -1.4910e+04  0.0000e+00 -5.2823e+04 -1.0134e+04\n",
       "-4.5124e+04 -5.0471e+04 -3.9234e+04  0.0000e+00 -8.1470e+04 -2.9792e+04\n",
       "-3.5269e+04 -1.0545e+05 -2.5059e+03 -7.9425e+04 -2.3992e+04 -8.2670e+04\n",
       "-4.1046e+04 -9.7274e+04 -9.0665e+03  0.0000e+00 -4.7881e+04 -2.7669e+04\n",
       "-9.4657e+04 -1.0639e+05  0.0000e+00 -5.3128e+04 -6.8895e+04 -1.3829e+05\n",
       "-3.0388e+04 -5.6626e+04 -2.2901e+04 -2.1155e+04 -2.1579e+04  0.0000e+00\n",
       "-8.3383e+04  0.0000e+00 -2.5964e+04 -1.6489e+04 -5.5122e+04 -5.3726e+04\n",
       "-8.8465e+04 -3.7739e+04 -3.3788e+04 -3.6908e+04 -1.9227e+04 -6.2255e+04\n",
       "-7.0378e+04 -4.1630e+04  0.0000e+00 -3.6067e+04 -3.6988e+04 -5.1488e+04\n",
       "-3.2566e+04 -5.5226e+04  0.0000e+00 -3.7262e+04 -3.2050e+04 -2.2479e+04\n",
       "-3.6825e+04 -9.5592e+04 -6.6746e+03 -9.0971e+04 -5.5579e+04 -5.1656e+04\n",
       "-5.5134e+04 -6.0651e+04 -4.5119e+04 -2.4179e+04 -1.4203e+04 -2.2515e+04\n",
       " 0.0000e+00 -9.5686e+04 -2.3966e+04 -6.4230e+04 -1.1609e+05 -3.1359e+04\n",
       "-7.1446e+04 -8.4342e+04 -2.8171e+04 -3.8175e+04 -6.0470e+04 -4.3992e+04\n",
       "-9.2566e+04 -8.9177e+04  0.0000e+00 -7.5846e+04 -6.3015e+04 -1.0198e+05\n",
       " 0.0000e+00 -1.3475e+05 -1.5078e+04 -6.9991e+04 -9.7106e+04 -7.0354e+04\n",
       "-8.5310e+04 -7.9268e+04 -3.7182e+04 -6.8385e+04 -7.5205e+04 -5.7397e+04\n",
       " 0.0000e+00 -1.3016e+05 -6.2521e+04 -8.3563e+04 -1.1146e+05 -4.9068e+04\n",
       "-7.2576e+04 -8.1532e+04 -4.7296e+03 -4.2592e+04 -7.1505e+04 -9.2381e+04\n",
       "-1.1494e+05 -1.2836e+05 -6.3077e+04  0.0000e+00 -1.0319e+05 -6.6697e+04\n",
       "-1.1048e+05 -8.5545e+04 -6.4223e+04 -6.7033e+04 -6.8197e+04 -8.1744e+04\n",
       "\n",
       "Columns 7 to 10\n",
       "-4.3482e+04 -5.6550e+04 -3.4797e+04 -2.9404e+04\n",
       "-8.8672e+04 -1.3126e+05 -7.7211e+04 -1.3813e+05\n",
       "-4.6985e+04 -1.3445e+04 -1.7895e+04 -2.6842e+04\n",
       "-1.5522e+04 -9.8979e+03 -2.1021e+04 -1.7852e+04\n",
       "-5.2232e+04 -3.3802e+04 -3.7508e+04 -2.4992e+04\n",
       "-6.5966e+04 -6.8693e+04 -7.6834e+04 -5.9098e+04\n",
       "-8.6057e+04 -1.1044e+05  0.0000e+00 -1.0119e+05\n",
       "-1.0495e+05 -1.0146e+05 -8.4310e+04 -1.2141e+05\n",
       " 0.0000e+00 -3.2261e+04 -1.2537e+04 -1.9871e+04\n",
       "-3.8654e+04 -1.0008e+04 -2.7458e+04  0.0000e+00\n",
       "-8.6697e+04 -1.2887e+05 -7.6608e+04 -1.4811e+05\n",
       "-7.1772e+04 -6.7965e+04 -3.7621e+04 -8.1885e+04\n",
       "-6.3621e+04 -2.1755e+04 -5.1290e+04 -1.6007e+04\n",
       "-3.9893e+04 -1.5448e+04  0.0000e+00 -4.1664e+02\n",
       "-6.0381e+04 -1.1610e+05 -5.7373e+04 -7.6412e+04\n",
       "-3.8626e+04 -5.1778e+04 -1.3409e+04 -4.2314e+04\n",
       "-9.2825e+04 -4.5682e+04  0.0000e+00 -3.7103e+04\n",
       "-1.0409e+04 -4.7254e+04 -4.1145e+04 -4.3198e+04\n",
       "-8.5307e+04  0.0000e+00 -5.5309e+04 -4.0791e+04\n",
       "-4.3016e+04 -8.8560e+04 -3.7039e+04 -1.1143e+05\n",
       "-3.1742e+04 -5.5171e+04  0.0000e+00 -2.1590e+04\n",
       "-3.8166e+04 -5.6894e+04 -2.1539e+04 -6.2108e+04\n",
       "-4.8160e+04 -2.6426e+04 -3.1990e+04 -6.7270e+03\n",
       "-1.0855e+05  0.0000e+00 -6.3846e+04 -4.4382e+04\n",
       "-2.1309e+04 -5.2057e+04 -2.1642e+03 -4.0036e+04\n",
       "-5.7147e+04 -3.6778e+04  0.0000e+00 -4.4618e+04\n",
       "-5.6465e+04 -3.0223e+03 -4.5754e+04 -3.3983e+04\n",
       "-7.0975e+03 -7.4108e+04 -2.1613e+04 -2.0904e+04\n",
       " 0.0000e+00 -1.2873e+05 -3.9452e+04 -5.4260e+04\n",
       "-1.0753e+05 -5.1645e+04 -6.2575e+03 -6.6555e+04\n",
       "-1.7219e+04 -7.4974e+04 -8.4289e+03 -2.5940e+04\n",
       "-8.7948e+04 -6.2094e+04 -1.9403e+04 -6.4346e+04\n",
       " 0.0000e+00 -5.9881e+04 -4.6375e+04 -2.6139e+04\n",
       "-6.3789e+04 -4.5686e+04 -9.0141e+03 -1.9980e+04\n",
       "-9.2540e+04 -3.9927e+03 -4.4660e+04 -5.2010e+04\n",
       "-3.8899e+04 -4.8920e+04 -3.5275e+03 -2.5508e+04\n",
       "-4.8805e+04 -4.5235e+04 -1.2480e+04 -3.9544e+04\n",
       "-5.4748e+04  0.0000e+00 -3.0004e+04 -3.4405e+04\n",
       "-2.3826e+03 -7.8655e+04 -2.0699e+04 -3.7471e+04\n",
       "-2.1546e+03 -6.0129e+04 -2.0057e+04 -4.6306e+04\n",
       " 0.0000e+00 -8.3335e+04 -6.0060e+04 -6.9309e+04\n",
       "-5.5900e+04 -2.0635e+04 -1.6632e+04  0.0000e+00\n",
       "-8.6863e+04 -6.2180e+04 -1.4313e+04 -7.3145e+04\n",
       "-9.7288e+04  0.0000e+00 -5.5623e+03 -1.7325e+04\n",
       "-6.0768e+04 -1.0342e+05 -6.5899e+04 -9.9336e+04\n",
       "-4.6894e+04 -8.4137e+04 -4.7565e+04 -5.8586e+04\n",
       "-8.4634e+04 "
      ]
     },
     "execution_count": 7,
     "metadata": {},
     "output_type": "execute_result"
    },
    {
     "data": {
      "text/plain": [
       "-7.5303e+04  0.0000e+00 -7.0544e+04\n",
       "-7.1429e+04 -9.0155e+04 -7.8263e+04 -8.8082e+04\n",
       "-8.9158e+04  0.0000e+00 -3.8541e+04 -2.6011e+04\n",
       "-1.5205e+05 -9.1194e+04 -5.7800e+04 -1.0098e+05\n",
       "-1.0399e+05  0.0000e+00 -5.9520e+04 -5.2751e+04\n",
       "[torch.DoubleTensor of size 51x10]\n",
       "\n"
      ]
     },
     "execution_count": 7,
     "metadata": {},
     "output_type": "execute_result"
    },
    {
     "data": {
      "text/plain": [
       "Columns 1 to 6\n",
       "-5.8853e+04 -5.3218e+04 -4.1532e+04  0.0000e+00 -6.1132e+04 -4.4480e+04\n",
       " 0.0000e+00 -1.7874e+05 -5.6580e+04 -1.2752e+05 -1.7991e+05 -8.9737e+04\n",
       "-5.6114e+04  0.0000e+00 -1.6150e+04 -5.5623e+03 -6.1405e+04 -6.7556e+04\n",
       "-2.1060e+04 -7.9776e+04  0.0000e+00 -4.9227e+04 -4.0361e+04 -7.5155e+04\n",
       "-7.5228e+04 -6.4905e+04 -5.2764e+04 -7.6761e+04  0.0000e+00 -5.4753e+04\n",
       " 0.0000e+00 -1.1282e+05 -2.9461e+04 -4.9643e+04 -9.4847e+04 -4.8027e+04\n",
       "-9.0283e+04 -7.5053e+04 -2.4483e+04 -6.6178e+04 -9.1207e+04 -6.4347e+04\n",
       "-1.2830e+05 -1.1720e+05  0.0000e+00 -8.0263e+04 -1.3737e+05 -1.2984e+05\n",
       "-2.5744e+04 -3.8469e+04 -3.3600e+03 -1.4337e+04 -2.1252e+04 -1.6280e+04\n",
       "-4.4696e+04 -5.2384e+04 -3.0046e+04 -3.0415e+04 -1.3120e+04 -6.4847e+04\n",
       "-1.5390e+05 -9.5797e+04  0.0000e+00 -5.5890e+04 -1.5189e+05 -1.3976e+05\n",
       "-3.9531e+04 -5.3938e+04 -1.8525e+04  0.0000e+00 -9.2744e+04 -3.4615e+04\n",
       "-8.7003e+04 -8.7456e+04 -3.6180e+04 -2.6629e+04  0.0000e+00 -8.2251e+04\n",
       "-4.8825e+04 -2.2808e+04 -2.8645e+04 -1.2320e+04 -2.0571e+04 -3.1062e+04\n",
       "-9.6977e+04 -7.0356e+04  0.0000e+00 -6.9186e+04 -7.7944e+04 -1.1712e+05\n",
       " 0.0000e+00 -8.3292e+04 -1.6741e+04 -4.9108e+04 -5.5560e+04 -3.7895e+04\n",
       "-5.0554e+04 -8.4075e+04 -1.1436e+04 -2.1095e+04 -8.2389e+04 -7.7611e+04\n",
       "-1.8206e+04 -4.3490e+04 -1.4521e+03  0.0000e+00 -5.5050e+04 -7.1946e+03\n",
       "-6.6985e+04 -6.7472e+04 -8.6971e+04 -5.0093e+04 -5.9527e+04 -6.1801e+04\n",
       " 0.0000e+00 -1.0377e+05 -3.3274e+04 -7.0392e+04 -1.0359e+05 -3.2568e+04\n",
       "-8.8757e+04 -3.0736e+02 -4.7914e+03 -4.6269e+03 -3.3754e+04 -2.5079e+04\n",
       "-5.7625e+04  0.0000e+00 -2.7688e+03 -3.3969e+04 -6.7470e+04 -6.2853e+04\n",
       "-2.0484e+04 -9.0711e+04 -2.9176e+04 -5.0530e+04  0.0000e+00 -6.2451e+04\n",
       "-8.8416e+04 -7.1969e+04 -4.8848e+04 -5.0389e+04 -8.2294e+04 -9.3861e+04\n",
       "-1.3282e+04 -4.6478e+04 -1.1675e+04 -8.2917e+03 -2.5592e+04  0.0000e+00\n",
       "-7.4821e+04 -4.7322e+04 -2.3599e+04 -3.8764e+04 -3.5198e+04 -3.5085e+04\n",
       "-7.5151e+04 -5.0144e+04 -2.3711e+04  0.0000e+00 -5.1703e+04 -8.7868e+04\n",
       "-2.7762e+04 -6.0279e+04  0.0000e+00 -2.8596e+04 -2.6417e+04 -4.2681e+04\n",
       "-6.3486e+04 -9.2484e+04 -3.0435e+04 -8.4551e+04 -5.1070e+04 -6.3182e+04\n",
       "-6.9822e+04 -9.2142e+04 -3.7504e+04 -1.3670e+04 -9.8276e+04  0.0000e+00\n",
       "-3.5675e+04 -4.6161e+04 -1.4910e+04  0.0000e+00 -5.2823e+04 -1.0134e+04\n",
       "-4.5124e+04 -5.0471e+04 -3.9234e+04  0.0000e+00 -8.1470e+04 -2.9792e+04\n",
       "-3.5269e+04 -1.0545e+05 -2.5059e+03 -7.9425e+04 -2.3992e+04 -8.2670e+04\n",
       "-4.1046e+04 -9.7274e+04 -9.0665e+03  0.0000e+00 -4.7881e+04 -2.7669e+04\n",
       "-9.4657e+04 -1.0639e+05  0.0000e+00 -5.3128e+04 -6.8895e+04 -1.3829e+05\n",
       "-3.0388e+04 -5.6626e+04 -2.2901e+04 -2.1155e+04 -2.1579e+04  0.0000e+00\n",
       "-8.3383e+04  0.0000e+00 -2.5964e+04 -1.6489e+04 -5.5122e+04 -5.3726e+04\n",
       "-8.8465e+04 -3.7739e+04 -3.3788e+04 -3.6908e+04 -1.9227e+04 -6.2255e+04\n",
       "-7.0378e+04 -4.1630e+04  0.0000e+00 -3.6067e+04 -3.6988e+04 -5.1488e+04\n",
       "-3.2566e+04 -5.5226e+04  0.0000e+00 -3.7262e+04 -3.2050e+04 -2.2479e+04\n",
       "-3.6825e+04 -9.5592e+04 -6.6746e+03 -9.0971e+04 -5.5579e+04 -5.1656e+04\n",
       "-5.5134e+04 -6.0651e+04 -4.5119e+04 -2.4179e+04 -1.4203e+04 -2.2515e+04\n",
       " 0.0000e+00 -9.5686e+04 -2.3966e+04 -6.4230e+04 -1.1609e+05 -3.1359e+04\n",
       "-7.1446e+04 -8.4342e+04 -2.8171e+04 -3.8175e+04 -6.0470e+04 -4.3992e+04\n",
       "-9.2566e+04 -8.9177e+04  0.0000e+00 -7.5846e+04 -6.3015e+04 -1.0198e+05\n",
       " 0.0000e+00 -1.3475e+05 -1.5078e+04 -6.9991e+04 -9.7106e+04 -7.0354e+04\n",
       "-8.5310e+04 -7.9268e+04 -3.7182e+04 -6.8385e+04 -7.5205e+04 -5.7397e+04\n",
       " 0.0000e+00 -1.3016e+05 -6.2521e+04 -8.3563e+04 -1.1146e+05 -4.9068e+04\n",
       "-7.2576e+04 -8.1532e+04 -4.7296e+03 -4.2592e+04 -7.1505e+04 -9.2381e+04\n",
       "-1.1494e+05 -1.2836e+05 -6.3077e+04  0.0000e+00 -1.0319e+05 -6.6697e+04\n",
       "-1.1048e+05 -8.5545e+04 -6.4223e+04 -6.7033e+04 -6.8197e+04 -8.1744e+04\n",
       "\n",
       "Columns 7 to 10\n",
       "-4.3482e+04 -5.6550e+04 -3.4797e+04 -2.9404e+04\n",
       "-8.8672e+04 -1.3126e+05 -7.7211e+04 -1.3813e+05\n",
       "-4.6985e+04 -1.3445e+04 -1.7895e+04 -2.6842e+04\n",
       "-1.5522e+04 -9.8979e+03 -2.1021e+04 -1.7852e+04\n",
       "-5.2232e+04 -3.3802e+04 -3.7508e+04 -2.4992e+04\n",
       "-6.5966e+04 -6.8693e+04 -7.6834e+04 -5.9098e+04\n",
       "-8.6057e+04 -1.1044e+05  0.0000e+00 -1.0119e+05\n",
       "-1.0495e+05 -1.0146e+05 -8.4310e+04 -1.2141e+05\n",
       " 0.0000e"
      ]
     },
     "execution_count": 7,
     "metadata": {},
     "output_type": "execute_result"
    },
    {
     "data": {
      "text/plain": [
       "+00 -3.2261e+04 -1.2537e+04 -1.9871e+04\n",
       "-3.8654e+04 -1.0008e+04 -2.7458e+04  0.0000e+00\n",
       "-8.6697e+04 -1.2887e+05 -7.6608e+04 -1.4811e+05\n",
       "-7.1772e+04 -6.7965e+04 -3.7621e+04 -8.1885e+04\n",
       "-6.3621e+04 -2.1755e+04 -5.1290e+04 -1.6007e+04\n",
       "-3.9893e+04 -1.5448e+04  0.0000e+00 -4.1664e+02\n",
       "-6.0381e+04 -1.1610e+05 -5.7373e+04 -7.6412e+04\n",
       "-3.8626e+04 -5.1778e+04 -1.3409e+04 -4.2314e+04\n",
       "-9.2825e+04 -4.5682e+04  0.0000e+00 -3.7103e+04\n",
       "-1.0409e+04 -4.7254e+04 -4.1145e+04 -4.3198e+04\n",
       "-8.5307e+04  0.0000e+00 -5.5309e+04 -4.0791e+04\n",
       "-4.3016e+04 -8.8560e+04 -3.7039e+04 -1.1143e+05\n",
       "-3.1742e+04 -5.5171e+04  0.0000e+00 -2.1590e+04\n",
       "-3.8166e+04 -5.6894e+04 -2.1539e+04 -6.2108e+04\n",
       "-4.8160e+04 -2.6426e+04 -3.1990e+04 -6.7270e+03\n",
       "-1.0855e+05  0.0000e+00 -6.3846e+04 -4.4382e+04\n",
       "-2.1309e+04 -5.2057e+04 -2.1642e+03 -4.0036e+04\n",
       "-5.7147e+04 -3.6778e+04  0.0000e+00 -4.4618e+04\n",
       "-5.6465e+04 -3.0223e+03 -4.5754e+04 -3.3983e+04\n",
       "-7.0975e+03 -7.4108e+04 -2.1613e+04 -2.0904e+04\n",
       " 0.0000e+00 -1.2873e+05 -3.9452e+04 -5.4260e+04\n",
       "-1.0753e+05 -5.1645e+04 -6.2575e+03 -6.6555e+04\n",
       "-1.7219e+04 -7.4974e+04 -8.4289e+03 -2.5940e+04\n",
       "-8.7948e+04 -6.2094e+04 -1.9403e+04 -6.4346e+04\n",
       " 0.0000e+00 -5.9881e+04 -4.6375e+04 -2.6139e+04\n",
       "-6.3789e+04 -4.5686e+04 -9.0141e+03 -1.9980e+04\n",
       "-9.2540e+04 -3.9927e+03 -4.4660e+04 -5.2010e+04\n",
       "-3.8899e+04 -4.8920e+04 -3.5275e+03 -2.5508e+04\n",
       "-4.8805e+04 -4.5235e+04 -1.2480e+04 -3.9544e+04\n",
       "-5.4748e+04  0.0000e+00 -3.0004e+04 -3.4405e+04\n",
       "-2.3826e+03 -7.8655e+04 -2.0699e+04 -3.7471e+04\n",
       "-2.1546e+03 -6.0129e+04 -2.0057e+04 -4.6306e+04\n",
       " 0.0000e+00 -8.3335e+04 -6.0060e+04 -6.9309e+04\n",
       "-5.5900e+04 -2.0635e+04 -1.6632e+04  0.0000e+00\n",
       "-8.6863e+04 -6.2180e+04 -1.4313e+04 -7.3145e+04\n",
       "-9.7288e+04  0.0000e+00 -5.5623e+03 -1.7325e+04\n",
       "-6.0768e+04 -1.0342e+05 -6.5899e+04 -9.9336e+04\n",
       "-4.6894e+04 -8.4137e+04 -4.7565e+04 -5.8586e+04\n",
       "-8.4634e+04 -7.5303e+04  0.0000e+00 -7.0544e+04\n",
       "-7.1429e+04 -9.0155e+04 -7.8263e+04 -8.8082e+04\n",
       "-8.9158e+04  0.0000e+00 -3.8541e+04 -2.6011e+04\n",
       "-1.5205e+05 -9.1194e+04 -5.7800e+04 -1.0098e+05\n",
       "-1.0399e+05  0.0000e+00 -5.9520e+04 -5.2751e+04\n",
       "[torch.DoubleTensor of size 51x10]\n",
       "\n",
       "Columns 1 to 6\n",
       "-5.8853e+04 -5.3218e+04 -4.1532e+04  0.0000e+00 -6.1132e+04 -4.4480e+04\n",
       " 0.0000e+00 -1.7874e+05 -5.6580e+04 -1.2752e+05 -1.7991e+05 -8.9737e+04\n",
       "-5.6114e+04  0.0000e+00 -1.6150e+04 -5.5623e+03 -6.1405e+04 -6.7556e+04\n",
       "-2.1060e+04 -7.9776e+04  0.0000e+00 -4.9227e+04 -4.0361e+04 -7.5155e+04\n",
       "-7.5228e+04 -6.4905e+04 -5.2764e+04 -7.6761e+04  0.0000e+00 -5.4753e+04\n",
       " 0.0000e+00 -1.1282e+05 -2.9461e+04 -4.9643e+04 -9.4847e+04 -4.8027e+04\n",
       "-9.0283e+04 -7.5053e+04 -2.4483e+04 -6.6178e+04 -9.1207e+04 -6.4347e+04\n",
       "-1.2830e+05 -1.1720e+05  0.0000e+00 -8.0263e+04 -1.3737e+05 -1.2984e+05\n",
       "-2.5744e+04 -3.8469e+04 -3.3600e+03 -1.4337e+04 -2.1252e+04 -1.6280e+04\n",
       "-4.4696e+04 -5.2384e+04 -3.0046e+04 -3.0415e+04 -1.3120e+04 -6.4847e+04\n",
       "-1.5390e+05 -9.5797e+04  0.0000e+00 -5.5890e+04 -1.5189e+05 -1.3976e+05\n",
       "-3.9531e+04 -5.3938e+04 -1.8525e+04  0.0000e+00 -9.2744e+04 -3.4615e+04\n",
       "-8.7003e+04 -8.7456e+04 -3.6180e+04 -2.6629e+04  0.0000e+00 -8.2251e+04\n",
       "-4.8825e+04 -2.2808e+04 -2.8645e+04 -1.2320e+04 -2.0571e+04 -3.1062e+04\n",
       "-9.6977e+04 -7.0356e+04  0.0000e+00 -6.9186e+04 -7.7944e+04 -1.1712e+05\n",
       " 0.0000e+00 -8.3292e+04 -1.6741e+04 -4.9108e+04 -5.5560e+04 -3.7895e+04\n",
       "-5.0554e+04 -8.4075e+04 -1.1436e+04 -2.1095e+04 -8.2389e+04 -7.7611e+04\n",
       "-1.8206e+04 -4.3490e+04 -1.4521e+03  0.0000e+00 -5.5050e+04 -7.1946e+03\n",
       "-6.6985e+04 -6.7472e+04 -8.6971e+04 -5.0093e+04 -5.9527e+04 -6.1801e+04\n",
       " 0.0000e+00 -1.0377e+05 -3.3274e+04 -7.0392e+04 -1.0359e+05 -3.2568e+04\n",
       "-8.8757e+04 -3.0736e+02 -4.7914e+03 -4.6269e+03 -3.3754e+04 -2.5079e+04\n",
       "-5.7625e+04  0.0000e+00 -2.7688e+03 -3.3969e+04 -6.7470e+04 -6.2853e+04\n",
       "-2.0484e+04 -9.0711e+04 -2.9176e+04 -5.0530e+04  0.0000e+00 -6.2451e+04\n",
       "-8.8416e+04 -7.1969e+04 -4.8848e+04 -5.0389e+04 -8.2294e+04 -9.3861e+04\n",
       "-1.3282e+04 -4.6478e+04 -1.1675e+04 -8.2917e+03 -2.5592e+04  0.0000e+00\n",
       "-7.4821e+04 -4.7322e+04 -2.3599e+04 -3.8764e+04 -3.5198e+04 -3.5085e+04\n",
       "-7.5151e+04 -5.0144e+04 -2.3711e+04  0.0000e+00 -5.1703e+04 -8.7868e+04\n",
       "-2.7762e+04 -6.0279e+04  0.0000e+00 -2.8596e+"
      ]
     },
     "execution_count": 7,
     "metadata": {},
     "output_type": "execute_result"
    },
    {
     "data": {
      "text/plain": [
       "04 -2.6417e+04 -4.2681e+04\n",
       "-6.3486e+04 -9.2484e+04 -3.0435e+04 -8.4551e+04 -5.1070e+04 -6.3182e+04\n",
       "-6.9822e+04 -9.2142e+04 -3.7504e+04 -1.3670e+04 -9.8276e+04  0.0000e+00\n",
       "-3.5675e+04 -4.6161e+04 -1.4910e+04  0.0000e+00 -5.2823e+04 -1.0134e+04\n",
       "-4.5124e+04 -5.0471e+04 -3.9234e+04  0.0000e+00 -8.1470e+04 -2.9792e+04\n",
       "-3.5269e+04 -1.0545e+05 -2.5059e+03 -7.9425e+04 -2.3992e+04 -8.2670e+04\n",
       "-4.1046e+04 -9.7274e+04 -9.0665e+03  0.0000e+00 -4.7881e+04 -2.7669e+04\n",
       "-9.4657e+04 -1.0639e+05  0.0000e+00 -5.3128e+04 -6.8895e+04 -1.3829e+05\n",
       "-3.0388e+04 -5.6626e+04 -2.2901e+04 -2.1155e+04 -2.1579e+04  0.0000e+00\n",
       "-8.3383e+04  0.0000e+00 -2.5964e+04 -1.6489e+04 -5.5122e+04 -5.3726e+04\n",
       "-8.8465e+04 -3.7739e+04 -3.3788e+04 -3.6908e+04 -1.9227e+04 -6.2255e+04\n",
       "-7.0378e+04 -4.1630e+04  0.0000e+00 -3.6067e+04 -3.6988e+04 -5.1488e+04\n",
       "-3.2566e+04 -5.5226e+04  0.0000e+00 -3.7262e+04 -3.2050e+04 -2.2479e+04\n",
       "-3.6825e+04 -9.5592e+04 -6.6746e+03 -9.0971e+04 -5.5579e+04 -5.1656e+04\n",
       "-5.5134e+04 -6.0651e+04 -4.5119e+04 -2.4179e+04 -1.4203e+04 -2.2515e+04\n",
       " 0.0000e+00 -9.5686e+04 -2.3966e+04 -6.4230e+04 -1.1609e+05 -3.1359e+04\n",
       "-7.1446e+04 -8.4342e+04 -2.8171e+04 -3.8175e+04 -6.0470e+04 -4.3992e+04\n",
       "-9.2566e+04 -8.9177e+04  0.0000e+00 -7.5846e+04 -6.3015e+04 -1.0198e+05\n",
       " 0.0000e+00 -1.3475e+05 -1.5078e+04 -6.9991e+04 -9.7106e+04 -7.0354e+04\n",
       "-8.5310e+04 -7.9268e+04 -3.7182e+04 -6.8385e+04 -7.5205e+04 -5.7397e+04\n",
       " 0.0000e+00 -1.3016e+05 -6.2521e+04 -8.3563e+04 -1.1146e+05 -4.9068e+04\n",
       "-7.2576e+04 -8.1532e+04 -4.7296e+03 -4.2592e+04 -7.1505e+04 -9.2381e+04\n",
       "-1.1494e+05 -1.2836e+05 -6.3077e+04  0.0000e+00 -1.0319e+05 -6.6697e+04\n",
       "-1.1048e+05 -8.5545e+04 -6.4223e+04 -6.7033e+04 -6.8197e+04 -8.1744e+04\n",
       "\n",
       "Columns 7 to 10\n",
       "-4.3482e+04 -5.6550e+04 -3.4797e+04 -2.9404e+04\n",
       "-8.8672e+04 -1.3126e+05 -7.7211e+04 -1.3813e+05\n",
       "-4.6985e+04 -1.3445e+04 -1.7895e+04 -2.6842e+04\n",
       "-1.5522e+04 -9.8979e+03 -2.1021e+04 -1.7852e+04\n",
       "-5.2232e+04 -3.3802e+04 -3.7508e+04 -2.4992e+04\n",
       "-6.5966e+04 -6.8693e+04 -7.6834e+04 -5.9098e+04\n",
       "-8.6057e+04 -1.1044e+05  0.0000e+00 -1.0119e+05\n",
       "-1.0495e+05 -1.0146e+05 -8.4310e+04 -1.2141e+05\n",
       " 0.0000e+00 -3.2261e+04 -1.2537e+04 -1.9871e+04\n",
       "-3.8654e+04 -1.0008e+04 -2.7458e+04  0.0000e+00\n",
       "-8.6697e+04 -1.2887e+05 -7.6608e+04 -1.4811e+05\n",
       "-7.1772e+04 -6.7965e+04 -3.7621e+04 -8.1885e+04\n",
       "-6.3621e+04 -2.1755e+04 -5.1290e+04 -1.6007e+04\n",
       "-3.9893e+04 -1.5448e+04  0.0000e+00 -4.1664e+02\n",
       "-6.0381e+04 -1.1610e+05 -5.7373e+04 -7.6412e+04\n",
       "-3.8626e+04 -5.1778e+04 -1.3409e+04 -4.2314e+04\n",
       "-9.2825e+04 -4.5682e+04  0.0000e+00 -3.7103e+04\n",
       "-1.0409e+04 -4.7254e+04 -4.1145e+04 -4.3198e+04\n",
       "-8.5307e+04  0.0000e+00 -5.5309e+04 -4.0791e+04\n",
       "-4.3016e+04 -8.8560e+04 -3.7039e+04 -1.1143e+05\n",
       "-3.1742e+04 -5.5171e+04  0.0000e+00 -2.1590e+04\n",
       "-3.8166e+04 -5.6894e+04 -2.1539e+04 -6.2108e+04\n",
       "-4.8160e+04 -2.6426e+04 -3.1990e+04 -6.7270e+03\n",
       "-1.0855e+05  0.0000e+00 -6.3846e+04 -4.4382e+04\n",
       "-2.1309e+04 -5.2057e+04 -2.1642e+03 -4.0036e+04\n",
       "-5.7147e+04 -3.6778e+04  0.0000e+00 -4.4618e+04\n",
       "-5.6465e+04 -3.0223e+03 -4.5754e+04 -3.3983e+04\n",
       "-7.0975e+03 -7.4108e+04 -2.1613e+04 -2.0904e+04\n",
       " 0.0000e+00 -1.2873e+05 -3.9452e+04 -5.4260e+04\n",
       "-1.0753e+05 -5.1645e+04 -6.2575e+03 -6.6555e+04\n",
       "-1.7219e+04 -7.4974e+04 -8.4289e+03 -2.5940e+04\n",
       "-8.7948e+04 -6.2094e+04 -1.9403e+04 -6.4346e+04\n",
       " 0.0000e+00 -5.9881e+04 -4.6375e+04 -2.6139e+04\n",
       "-6.3789e+04 -4.5686e+04 -9.0141e+03 -1.9980e+04\n",
       "-9.2540e+04 -3.9927e+03 -4.4660e+04 -5.2010e+04\n",
       "-3.8899e+04 -4.8920e+04 -3.5275e+03 -2.5508e+04\n",
       "-4.8805e+04 -4.5235e+04 -1.2480e+04 -3.9544e+04\n",
       "-5.4748e+04  0.0000e+00 -3.0004e+04 -3.4405e+04\n",
       "-2.3826e+03 -7.8655e+04 -2.0699e+04 -3.7471e+04\n",
       "-2.1546e+03 -6.0129e+04 -2.0057e+04 -4.6306e+04\n",
       " 0.0000e+00 -8.3335e+04 -6.0060e+04 -6.9309e+04\n",
       "-5.5900e+04 -2.0635e+04 -1.6632e+04  0.0000e+00\n",
       "-8.6863e+04 -6.2180e+04 -1.4313e+04 -7.3145e+04\n",
       "-9.7288e+04  0.0000e+00 -5.5623e+03 -1.7325e+04\n",
       "-6.0768e+04 -1.0342e+05 -6.5899e+04 -9.9336e+04\n",
       "-4.6894e+04 -8.4137e+04 -4.7565e+04 -5.8586e+04\n",
       "-8.4634e+04 -7.5303e+04  0.0000e+00 -7.0544e+04\n",
       "-7.1429e+04 -9.0155e+04 -7.8263e+04 -8.8082e+04\n",
       "-8.9158e+04  0.0000e+00 -3.8541e+04 -2.6011e+04\n",
       "-1.5205e+05 -9.1194e+04 -5.7800e+04 -1.0098e"
      ]
     },
     "execution_count": 7,
     "metadata": {},
     "output_type": "execute_result"
    },
    {
     "data": {
      "text/plain": [
       "+05\n",
       "-1.0399e+05  0.0000e+00 -5.9520e+04 -5.2751e+04\n",
       "[torch.DoubleTensor of size 51x10]\n",
       "\n",
       "Columns 1 to 6\n",
       "-5.8853e+04 -5.3218e+04 -4.1532e+04  0.0000e+00 -6.1132e+04 -4.4480e+04\n",
       " 0.0000e+00 -1.7874e+05 -5.6580e+04 -1.2752e+05 -1.7991e+05 -8.9737e+04\n",
       "-5.6114e+04  0.0000e+00 -1.6150e+04 -5.5623e+03 -6.1405e+04 -6.7556e+04\n",
       "-2.1060e+04 -7.9776e+04  0.0000e+00 -4.9227e+04 -4.0361e+04 -7.5155e+04\n",
       "-7.5228e+04 -6.4905e+04 -5.2764e+04 -7.6761e+04  0.0000e+00 -5.4753e+04\n",
       " 0.0000e+00 -1.1282e+05 -2.9461e+04 -4.9643e+04 -9.4847e+04 -4.8027e+04\n",
       "-9.0283e+04 -7.5053e+04 -2.4483e+04 -6.6178e+04 -9.1207e+04 -6.4347e+04\n",
       "-1.2830e+05 -1.1720e+05  0.0000e+00 -8.0263e+04 -1.3737e+05 -1.2984e+05\n",
       "-2.5744e+04 -3.8469e+04 -3.3600e+03 -1.4337e+04 -2.1252e+04 -1.6280e+04\n",
       "-4.4696e+04 -5.2384e+04 -3.0046e+04 -3.0415e+04 -1.3120e+04 -6.4847e+04\n",
       "-1.5390e+05 -9.5797e+04  0.0000e+00 -5.5890e+04 -1.5189e+05 -1.3976e+05\n",
       "-3.9531e+04 -5.3938e+04 -1.8525e+04  0.0000e+00 -9.2744e+04 -3.4615e+04\n",
       "-8.7003e+04 -8.7456e+04 -3.6180e+04 -2.6629e+04  0.0000e+00 -8.2251e+04\n",
       "-4.8825e+04 -2.2808e+04 -2.8645e+04 -1.2320e+04 -2.0571e+04 -3.1062e+04\n",
       "-9.6977e+04 -7.0356e+04  0.0000e+00 -6.9186e+04 -7.7944e+04 -1.1712e+05\n",
       " 0.0000e+00 -8.3292e+04 -1.6741e+04 -4.9108e+04 -5.5560e+04 -3.7895e+04\n",
       "-5.0554e+04 -8.4075e+04 -1.1436e+04 -2.1095e+04 -8.2389e+04 -7.7611e+04\n",
       "-1.8206e+04 -4.3490e+04 -1.4521e+03  0.0000e+00 -5.5050e+04 -7.1946e+03\n",
       "-6.6985e+04 -6.7472e+04 -8.6971e+04 -5.0093e+04 -5.9527e+04 -6.1801e+04\n",
       " 0.0000e+00 -1.0377e+05 -3.3274e+04 -7.0392e+04 -1.0359e+05 -3.2568e+04\n",
       "-8.8757e+04 -3.0736e+02 -4.7914e+03 -4.6269e+03 -3.3754e+04 -2.5079e+04\n",
       "-5.7625e+04  0.0000e+00 -2.7688e+03 -3.3969e+04 -6.7470e+04 -6.2853e+04\n",
       "-2.0484e+04 -9.0711e+04 -2.9176e+04 -5.0530e+04  0.0000e+00 -6.2451e+04\n",
       "-8.8416e+04 -7.1969e+04 -4.8848e+04 -5.0389e+04 -8.2294e+04 -9.3861e+04\n",
       "-1.3282e+04 -4.6478e+04 -1.1675e+04 -8.2917e+03 -2.5592e+04  0.0000e+00\n",
       "-7.4821e+04 -4.7322e+04 -2.3599e+04 -3.8764e+04 -3.5198e+04 -3.5085e+04\n",
       "-7.5151e+04 -5.0144e+04 -2.3711e+04  0.0000e+00 -5.1703e+04 -8.7868e+04\n",
       "-2.7762e+04 -6.0279e+04  0.0000e+00 -2.8596e+04 -2.6417e+04 -4.2681e+04\n",
       "-6.3486e+04 -9.2484e+04 -3.0435e+04 -8.4551e+04 -5.1070e+04 -6.3182e+04\n",
       "-6.9822e+04 -9.2142e+04 -3.7504e+04 -1.3670e+04 -9.8276e+04  0.0000e+00\n",
       "-3.5675e+04 -4.6161e+04 -1.4910e+04  0.0000e+00 -5.2823e+04 -1.0134e+04\n",
       "-4.5124e+04 -5.0471e+04 -3.9234e+04  0.0000e+00 -8.1470e+04 -2.9792e+04\n",
       "-3.5269e+04 -1.0545e+05 -2.5059e+03 -7.9425e+04 -2.3992e+04 -8.2670e+04\n",
       "-4.1046e+04 -9.7274e+04 -9.0665e+03  0.0000e+00 -4.7881e+04 -2.7669e+04\n",
       "-9.4657e+04 -1.0639e+05  0.0000e+00 -5.3128e+04 -6.8895e+04 -1.3829e+05\n",
       "-3.0388e+04 -5.6626e+04 -2.2901e+04 -2.1155e+04 -2.1579e+04  0.0000e+00\n",
       "-8.3383e+04  0.0000e+00 -2.5964e+04 -1.6489e+04 -5.5122e+04 -5.3726e+04\n",
       "-8.8465e+04 -3.7739e+04 -3.3788e+04 -3.6908e+04 -1.9227e+04 -6.2255e+04\n",
       "-7.0378e+04 -4.1630e+04  0.0000e+00 -3.6067e+04 -3.6988e+04 -5.1488e+04\n",
       "-3.2566e+04 -5.5226e+04  0.0000e+00 -3.7262e+04 -3.2050e+04 -2.2479e+04\n",
       "-3.6825e+04 -9.5592e+04 -6.6746e+03 -9.0971e+04 -5.5579e+04 -5.1656e+04\n",
       "-5.5134e+04 -6.0651e+04 -4.5119e+04 -2.4179e+04 -1.4203e+04 -2.2515e+04\n",
       " 0.0000e+00 -9.5686e+04 -2.3966e+04 -6.4230e+04 -1.1609e+05 -3.1359e+04\n",
       "-7.1446e+04 -8.4342e+04 -2.8171e+04 -3.8175e+04 -6.0470e+04 -4.3992e+04\n",
       "-9.2566e+04 -8.9177e+04  0.0000e+00 -7.5846e+04 -6.3015e+04 -1.0198e+05\n",
       " 0.0000e+00 -1.3475e+05 -1.5078e+04 -6.9991e+04 -9.7106e+04 -7.0354e+04\n",
       "-8.5310e+04 -7.9268e+04 -3.7182e+04 -6.8385e+04 -7.5205e+04 -5.7397e+04\n",
       " 0.0000e+00 -1.3016e+05 -6.2521e+04 -8.3563e+04 -1.1146e+05 -4.9068e+04\n",
       "-7.2576e+04 -8.1532e+04 -4.7296e+03 -4.2592e+04 -7.1505e+04 -9.2381e+04\n",
       "-1.1494e+05 -1.2836e+05 -6.3077e+04  0.0000e+00 -1.0319e+05 -6.6697e+04\n",
       "-1.1048e+05 -8.5545e+04 -6.4223e+04 -6.7033e+04 -6.8197e+04 -8.1744e+04\n",
       "\n",
       "Columns 7 to 10\n",
       "-4.3482e+04 -5.6550e+04 -3.4797e+04 -2.9404e+04\n",
       "-8.8672e+04 -1.3126e+05 -7.7211e+04 -1.3813e+05\n",
       "-4.6985e+04 -1.3445e+04 -1.7895e+04 -2.6842e+04\n",
       "-1.5522e+04 -9.8979e+03 -2.1021e+04 -1.7852e+04\n",
       "-5.2232e+04 -3.3802e+04 -3.7508e+04 -2.4992e+04\n",
       "-6.5966e+04 -6.8693e+04 -7.6834e+04 -5.9098e+04\n",
       "-8.6057e+04 -1.1"
      ]
     },
     "execution_count": 7,
     "metadata": {},
     "output_type": "execute_result"
    },
    {
     "data": {
      "text/plain": [
       "044e+05  0.0000e+00 -1.0119e+05\n",
       "-1.0495e+05 -1.0146e+05 -8.4310e+04 -1.2141e+05\n",
       " 0.0000e+00 -3.2261e+04 -1.2537e+04 -1.9871e+04\n",
       "-3.8654e+04 -1.0008e+04 -2.7458e+04  0.0000e+00\n",
       "-8.6697e+04 -1.2887e+05 -7.6608e+04 -1.4811e+05\n",
       "-7.1772e+04 -6.7965e+04 -3.7621e+04 -8.1885e+04\n",
       "-6.3621e+04 -2.1755e+04 -5.1290e+04 -1.6007e+04\n",
       "-3.9893e+04 -1.5448e+04  0.0000e+00 -4.1664e+02\n",
       "-6.0381e+04 -1.1610e+05 -5.7373e+04 -7.6412e+04\n",
       "-3.8626e+04 -5.1778e+04 -1.3409e+04 -4.2314e+04\n",
       "-9.2825e+04 -4.5682e+04  0.0000e+00 -3.7103e+04\n",
       "-1.0409e+04 -4.7254e+04 -4.1145e+04 -4.3198e+04\n",
       "-8.5307e+04  0.0000e+00 -5.5309e+04 -4.0791e+04\n",
       "-4.3016e+04 -8.8560e+04 -3.7039e+04 -1.1143e+05\n",
       "-3.1742e+04 -5.5171e+04  0.0000e+00 -2.1590e+04\n",
       "-3.8166e+04 -5.6894e+04 -2.1539e+04 -6.2108e+04\n",
       "-4.8160e+04 -2.6426e+04 -3.1990e+04 -6.7270e+03\n",
       "-1.0855e+05  0.0000e+00 -6.3846e+04 -4.4382e+04\n",
       "-2.1309e+04 -5.2057e+04 -2.1642e+03 -4.0036e+04\n",
       "-5.7147e+04 -3.6778e+04  0.0000e+00 -4.4618e+04\n",
       "-5.6465e+04 -3.0223e+03 -4.5754e+04 -3.3983e+04\n",
       "-7.0975e+03 -7.4108e+04 -2.1613e+04 -2.0904e+04\n",
       " 0.0000e+00 -1.2873e+05 -3.9452e+04 -5.4260e+04\n",
       "-1.0753e+05 -5.1645e+04 -6.2575e+03 -6.6555e+04\n",
       "-1.7219e+04 -7.4974e+04 -8.4289e+03 -2.5940e+04\n",
       "-8.7948e+04 -6.2094e+04 -1.9403e+04 -6.4346e+04\n",
       " 0.0000e+00 -5.9881e+04 -4.6375e+04 -2.6139e+04\n",
       "-6.3789e+04 -4.5686e+04 -9.0141e+03 -1.9980e+04\n",
       "-9.2540e+04 -3.9927e+03 -4.4660e+04 -5.2010e+04\n",
       "-3.8899e+04 -4.8920e+04 -3.5275e+03 -2.5508e+04\n",
       "-4.8805e+04 -4.5235e+04 -1.2480e+04 -3.9544e+04\n",
       "-5.4748e+04  0.0000e+00 -3.0004e+04 -3.4405e+04\n",
       "-2.3826e+03 -7.8655e+04 -2.0699e+04 -3.7471e+04\n",
       "-2.1546e+03 -6.0129e+04 -2.0057e+04 -4.6306e+04\n",
       " 0.0000e+00 -8.3335e+04 -6.0060e+04 -6.9309e+04\n",
       "-5.5900e+04 -2.0635e+04 -1.6632e+04  0.0000e+00\n",
       "-8.6863e+04 -6.2180e+04 -1.4313e+04 -7.3145e+04\n",
       "-9.7288e+04  0.0000e+00 -5.5623e+03 -1.7325e+04\n",
       "-6.0768e+04 -1.0342e+05 -6.5899e+04 -9.9336e+04\n",
       "-4.6894e+04 -8.4137e+04 -4.7565e+04 -5.8586e+04\n",
       "-8.4634e+04 -7.5303e+04  0.0000e+00 -7.0544e+04\n",
       "-7.1429e+04 -9.0155e+04 -7.8263e+04 -8.8082e+04\n",
       "-8.9158e+04  0.0000e+00 -3.8541e+04 -2.6011e+04\n",
       "-1.5205e+05 -9.1194e+04 -5.7800e+04 -1.0098e+05\n",
       "-1.0399e+05  0.0000e+00 -5.9520e+04 -5.2751e+04\n",
       "[torch.DoubleTensor of size 51x10]\n",
       "\n",
       "Columns 1 to 6\n",
       "-5.8853e+04 -5.3218e+04 -4.1532e+04  0.0000e+00 -6.1132e+04 -4.4480e+04\n",
       " 0.0000e+00 -1.7874e+05 -5.6580e+04 -1.2752e+05 -1.7991e+05 -8.9737e+04\n",
       "-5.6114e+04  0.0000e+00 -1.6150e+04 -5.5623e+03 -6.1405e+04 -6.7556e+04\n",
       "-2.1060e+04 -7.9776e+04  0.0000e+00 -4.9227e+04 -4.0361e+04 -7.5155e+04\n",
       "-7.5228e+04 -6.4905e+04 -5.2764e+04 -7.6761e+04  0.0000e+00 -5.4753e+04\n",
       " 0.0000e+00 -1.1282e+05 -2.9461e+04 -4.9643e+04 -9.4847e+04 -4.8027e+04\n",
       "-9.0283e+04 -7.5053e+04 -2.4483e+04 -6.6178e+04 -9.1207e+04 -6.4347e+04\n",
       "-1.2830e+05 -1.1720e+05  0.0000e+00 -8.0263e+04 -1.3737e+05 -1.2984e+05\n",
       "-2.5744e+04 -3.8469e+04 -3.3600e+03 -1.4337e+04 -2.1252e+04 -1.6280e+04\n",
       "-4.4696e+04 -5.2384e+04 -3.0046e+04 -3.0415e+04 -1.3120e+04 -6.4847e+04\n",
       "-1.5390e+05 -9.5797e+04  0.0000e+00 -5.5890e+04 -1.5189e+05 -1.3976e+05\n",
       "-3.9531e+04 -5.3938e+04 -1.8525e+04  0.0000e+00 -9.2744e+04 -3.4615e+04\n",
       "-8.7003e+04 -8.7456e+04 -3.6180e+04 -2.6629e+04  0.0000e+00 -8.2251e+04\n",
       "-4.8825e+04 -2.2808e+04 -2.8645e+04 -1.2320e+04 -2.0571e+04 -3.1062e+04\n",
       "-9.6977e+04 -7.0356e+04  0.0000e+00 -6.9186e+04 -7.7944e+04 -1.1712e+05\n",
       " 0.0000e+00 -8.3292e+04 -1.6741e+04 -4.9108e+04 -5.5560e+04 -3.7895e+04\n",
       "-5.0554e+04 -8.4075e+04 -1.1436e+04 -2.1095e+04 -8.2389e+04 -7.7611e+04\n",
       "-1.8206e+04 -4.3490e+04 -1.4521e+03  0.0000e+00 -5.5050e+04 -7.1946e+03\n",
       "-6.6985e+04 -6.7472e+04 -8.6971e+04 -5.0093e+04 -5.9527e+04 -6.1801e+04\n",
       " 0.0000e+00 -1.0377e+05 -3.3274e+04 -7.0392e+04 -1.0359e+05 -3.2568e+04\n",
       "-8.8757e+04 -3.0736e+02 -4.7914e+03 -4.6269e+03 -3.3754e+04 -2.5079e+04\n",
       "-5.7625e+04  0.0000e+00 -2.7688e+03 -3.3969e+04 -6.7470e+04 -6.2853e+04\n",
       "-2.0484e+04 -9.0711e+04 -2.9176e+04 -5.0530e+04  0.0000e+00 -6.2451e+04\n",
       "-8.8416e+04 -7.1969e+04 -4.8848e+04 -5.0389e+04 -8.2294e+04 -9.3861e+04\n",
       "-1.3282e+04 -4.6478e+04 -1.1675e+04 -8.2917e+03 -2.5592e+04  0.0000e+00\n",
       "-7.4821e+04 -4.7322e+04 -2.3599e+04 -3.8764e+04 -3.5198e+04 -3.5085e+04\n",
       "-7.5151e+04 -5.0144e+04 -2.37"
      ]
     },
     "execution_count": 7,
     "metadata": {},
     "output_type": "execute_result"
    },
    {
     "data": {
      "text/plain": [
       "11e+04  0.0000e+00 -5.1703e+04 -8.7868e+04\n",
       "-2.7762e+04 -6.0279e+04  0.0000e+00 -2.8596e+04 -2.6417e+04 -4.2681e+04\n",
       "-6.3486e+04 -9.2484e+04 -3.0435e+04 -8.4551e+04 -5.1070e+04 -6.3182e+04\n",
       "-6.9822e+04 -9.2142e+04 -3.7504e+04 -1.3670e+04 -9.8276e+04  0.0000e+00\n",
       "-3.5675e+04 -4.6161e+04 -1.4910e+04  0.0000e+00 -5.2823e+04 -1.0134e+04\n",
       "-4.5124e+04 -5.0471e+04 -3.9234e+04  0.0000e+00 -8.1470e+04 -2.9792e+04\n",
       "-3.5269e+04 -1.0545e+05 -2.5059e+03 -7.9425e+04 -2.3992e+04 -8.2670e+04\n",
       "-4.1046e+04 -9.7274e+04 -9.0665e+03  0.0000e+00 -4.7881e+04 -2.7669e+04\n",
       "-9.4657e+04 -1.0639e+05  0.0000e+00 -5.3128e+04 -6.8895e+04 -1.3829e+05\n",
       "-3.0388e+04 -5.6626e+04 -2.2901e+04 -2.1155e+04 -2.1579e+04  0.0000e+00\n",
       "-8.3383e+04  0.0000e+00 -2.5964e+04 -1.6489e+04 -5.5122e+04 -5.3726e+04\n",
       "-8.8465e+04 -3.7739e+04 -3.3788e+04 -3.6908e+04 -1.9227e+04 -6.2255e+04\n",
       "-7.0378e+04 -4.1630e+04  0.0000e+00 -3.6067e+04 -3.6988e+04 -5.1488e+04\n",
       "-3.2566e+04 -5.5226e+04  0.0000e+00 -3.7262e+04 -3.2050e+04 -2.2479e+04\n",
       "-3.6825e+04 -9.5592e+04 -6.6746e+03 -9.0971e+04 -5.5579e+04 -5.1656e+04\n",
       "-5.5134e+04 -6.0651e+04 -4.5119e+04 -2.4179e+04 -1.4203e+04 -2.2515e+04\n",
       " 0.0000e+00 -9.5686e+04 -2.3966e+04 -6.4230e+04 -1.1609e+05 -3.1359e+04\n",
       "-7.1446e+04 -8.4342e+04 -2.8171e+04 -3.8175e+04 -6.0470e+04 -4.3992e+04\n",
       "-9.2566e+04 -8.9177e+04  0.0000e+00 -7.5846e+04 -6.3015e+04 -1.0198e+05\n",
       " 0.0000e+00 -1.3475e+05 -1.5078e+04 -6.9991e+04 -9.7106e+04 -7.0354e+04\n",
       "-8.5310e+04 -7.9268e+04 -3.7182e+04 -6.8385e+04 -7.5205e+04 -5.7397e+04\n",
       " 0.0000e+00 -1.3016e+05 -6.2521e+04 -8.3563e+04 -1.1146e+05 -4.9068e+04\n",
       "-7.2576e+04 -8.1532e+04 -4.7296e+03 -4.2592e+04 -7.1505e+04 -9.2381e+04\n",
       "-1.1494e+05 -1.2836e+05 -6.3077e+04  0.0000e+00 -1.0319e+05 -6.6697e+04\n",
       "-1.1048e+05 -8.5545e+04 -6.4223e+04 -6.7033e+04 -6.8197e+04 -8.1744e+04\n",
       "\n",
       "Columns 7 to 10\n",
       "-4.3482e+04 -5.6550e+04 -3.4797e+04 -2.9404e+04\n",
       "-8.8672e+04 -1.3126e+05 -7.7211e+04 -1.3813e+05\n",
       "-4.6985e+04 -1.3445e+04 -1.7895e+04 -2.6842e+04\n",
       "-1.5522e+04 -9.8979e+03 -2.1021e+04 -1.7852e+04\n",
       "-5.2232e+04 -3.3802e+04 -3.7508e+04 -2.4992e+04\n",
       "-6.5966e+04 -6.8693e+04 -7.6834e+04 -5.9098e+04\n",
       "-8.6057e+04 -1.1044e+05  0.0000e+00 -1.0119e+05\n",
       "-1.0495e+05 -1.0146e+05 -8.4310e+04 -1.2141e+05\n",
       " 0.0000e+00 -3.2261e+04 -1.2537e+04 -1.9871e+04\n",
       "-3.8654e+04 -1.0008e+04 -2.7458e+04  0.0000e+00\n",
       "-8.6697e+04 -1.2887e+05 -7.6608e+04 -1.4811e+05\n",
       "-7.1772e+04 -6.7965e+04 -3.7621e+04 -8.1885e+04\n",
       "-6.3621e+04 -2.1755e+04 -5.1290e+04 -1.6007e+04\n",
       "-3.9893e+04 -1.5448e+04  0.0000e+00 -4.1664e+02\n",
       "-6.0381e+04 -1.1610e+05 -5.7373e+04 -7.6412e+04\n",
       "-3.8626e+04 -5.1778e+04 -1.3409e+04 -4.2314e+04\n",
       "-9.2825e+04 -4.5682e+04  0.0000e+00 -3.7103e+04\n",
       "-1.0409e+04 -4.7254e+04 -4.1145e+04 -4.3198e+04\n",
       "-8.5307e+04  0.0000e+00 -5.5309e+04 -4.0791e+04\n",
       "-4.3016e+04 -8.8560e+04 -3.7039e+04 -1.1143e+05\n",
       "-3.1742e+04 -5.5171e+04  0.0000e+00 -2.1590e+04\n",
       "-3.8166e+04 -5.6894e+04 -2.1539e+04 -6.2108e+04\n",
       "-4.8160e+04 -2.6426e+04 -3.1990e+04 -6.7270e+03\n",
       "-1.0855e+05  0.0000e+00 -6.3846e+04 -4.4382e+04\n",
       "-2.1309e+04 -5.2057e+04 -2.1642e+03 -4.0036e+04\n",
       "-5.7147e+04 -3.6778e+04  0.0000e+00 -4.4618e+04\n",
       "-5.6465e+04 -3.0223e+03 -4.5754e+04 -3.3983e+04\n",
       "-7.0975e+03 -7.4108e+04 -2.1613e+04 -2.0904e+04\n",
       " 0.0000e+00 -1.2873e+05 -3.9452e+04 -5.4260e+04\n",
       "-1.0753e+05 -5.1645e+04 -6.2575e+03 -6.6555e+04\n",
       "-1.7219e+04 -7.4974e+04 -8.4289e+03 -2.5940e+04\n",
       "-8.7948e+04 -6.2094e+04 -1.9403e+04 -6.4346e+04\n",
       " 0.0000e+00 -5.9881e+04 -4.6375e+04 -2.6139e+04\n",
       "-6.3789e+04 -4.5686e+04 -9.0141e+03 -1.9980e+04\n",
       "-9.2540e+04 -3.9927e+03 -4.4660e+04 -5.2010e+04\n",
       "-3.8899e+04 -4.8920e+04 -3.5275e+03 -2.5508e+04\n",
       "-4.8805e+04 -4.5235e+04 -1.2480e+04 -3.9544e+04\n",
       "-5.4748e+04  0.0000e+00 -3.0004e+04 -3.4405e+04\n",
       "-2.3826e+03 -7.8655e+04 -2.0699e+04 -3.7471e+04\n",
       "-2.1546e+03 -6.0129e+04 -2.0057e+04 -4.6306e+04\n",
       " 0.0000e+00 -8.3335e+04 -6.0060e+04 -6.9309e+04\n",
       "-5.5900e+04 -2.0635e+04 -1.6632e+04  0.0000e+00\n",
       "-8.6863e+04 -6.2180e+04 -1.4313e+04 -7.3145e+04\n",
       "-9.7288e+04  0.0000e+00 -5.5623e+03 -1.7325e+04\n",
       "-6.0768e+04 -1.0342e+05 -6.5899e+04 -9.9336e+04\n",
       "-4.6894e+04 -8.4137e+04 -4.7565e+04 -5.8586e+04\n",
       "-8.4634e+04 -7.5303e+04  0.0000e+00 -7.0544e+04\n",
       "-7.1429e+04 -9.0155e+04 -7.8263e+04 -8.8082e+04\n",
       "-8.9"
      ]
     },
     "execution_count": 7,
     "metadata": {},
     "output_type": "execute_result"
    },
    {
     "data": {
      "text/plain": [
       "158e+04  0.0000e+00 -3.8541e+04 -2.6011e+04\n",
       "-1.5205e+05 -9.1194e+04 -5.7800e+04 -1.0098e+05\n",
       "-1.0399e+05  0.0000e+00 -5.9520e+04 -5.2751e+04\n",
       "[torch.DoubleTensor of size 51x10]\n",
       "\n",
       "Columns 1 to 6\n",
       "-5.8853e+04 -5.3218e+04 -4.1532e+04  0.0000e+00 -6.1132e+04 -4.4480e+04\n",
       " 0.0000e+00 -1.7874e+05 -5.6580e+04 -1.2752e+05 -1.7991e+05 -8.9737e+04\n",
       "-5.6114e+04  0.0000e+00 -1.6150e+04 -5.5623e+03 -6.1405e+04 -6.7556e+04\n",
       "-2.1060e+04 -7.9776e+04  0.0000e+00 -4.9227e+04 -4.0361e+04 -7.5155e+04\n",
       "-7.5228e+04 -6.4905e+04 -5.2764e+04 -7.6761e+04  0.0000e+00 -5.4753e+04\n",
       " 0.0000e+00 -1.1282e+05 -2.9461e+04 -4.9643e+04 -9.4847e+04 -4.8027e+04\n",
       "-9.0283e+04 -7.5053e+04 -2.4483e+04 -6.6178e+04 -9.1207e+04 -6.4347e+04\n",
       "-1.2830e+05 -1.1720e+05  0.0000e+00 -8.0263e+04 -1.3737e+05 -1.2984e+05\n",
       "-2.5744e+04 -3.8469e+04 -3.3600e+03 -1.4337e+04 -2.1252e+04 -1.6280e+04\n",
       "-4.4696e+04 -5.2384e+04 -3.0046e+04 -3.0415e+04 -1.3120e+04 -6.4847e+04\n",
       "-1.5390e+05 -9.5797e+04  0.0000e+00 -5.5890e+04 -1.5189e+05 -1.3976e+05\n",
       "-3.9531e+04 -5.3938e+04 -1.8525e+04  0.0000e+00 -9.2744e+04 -3.4615e+04\n",
       "-8.7003e+04 -8.7456e+04 -3.6180e+04 -2.6629e+04  0.0000e+00 -8.2251e+04\n",
       "-4.8825e+04 -2.2808e+04 -2.8645e+04 -1.2320e+04 -2.0571e+04 -3.1062e+04\n",
       "-9.6977e+04 -7.0356e+04  0.0000e+00 -6.9186e+04 -7.7944e+04 -1.1712e+05\n",
       " 0.0000e+00 -8.3292e+04 -1.6741e+04 -4.9108e+04 -5.5560e+04 -3.7895e+04\n",
       "-5.0554e+04 -8.4075e+04 -1.1436e+04 -2.1095e+04 -8.2389e+04 -7.7611e+04\n",
       "-1.8206e+04 -4.3490e+04 -1.4521e+03  0.0000e+00 -5.5050e+04 -7.1946e+03\n",
       "-6.6985e+04 -6.7472e+04 -8.6971e+04 -5.0093e+04 -5.9527e+04 -6.1801e+04\n",
       " 0.0000e+00 -1.0377e+05 -3.3274e+04 -7.0392e+04 -1.0359e+05 -3.2568e+04\n",
       "-8.8757e+04 -3.0736e+02 -4.7914e+03 -4.6269e+03 -3.3754e+04 -2.5079e+04\n",
       "-5.7625e+04  0.0000e+00 -2.7688e+03 -3.3969e+04 -6.7470e+04 -6.2853e+04\n",
       "-2.0484e+04 -9.0711e+04 -2.9176e+04 -5.0530e+04  0.0000e+00 -6.2451e+04\n",
       "-8.8416e+04 -7.1969e+04 -4.8848e+04 -5.0389e+04 -8.2294e+04 -9.3861e+04\n",
       "-1.3282e+04 -4.6478e+04 -1.1675e+04 -8.2917e+03 -2.5592e+04  0.0000e+00\n",
       "-7.4821e+04 -4.7322e+04 -2.3599e+04 -3.8764e+04 -3.5198e+04 -3.5085e+04\n",
       "-7.5151e+04 -5.0144e+04 -2.3711e+04  0.0000e+00 -5.1703e+04 -8.7868e+04\n",
       "-2.7762e+04 -6.0279e+04  0.0000e+00 -2.8596e+04 -2.6417e+04 -4.2681e+04\n",
       "-6.3486e+04 -9.2484e+04 -3.0435e+04 -8.4551e+04 -5.1070e+04 -6.3182e+04\n",
       "-6.9822e+04 -9.2142e+04 -3.7504e+04 -1.3670e+04 -9.8276e+04  0.0000e+00\n",
       "-3.5675e+04 -4.6161e+04 -1.4910e+04  0.0000e+00 -5.2823e+04 -1.0134e+04\n",
       "-4.5124e+04 -5.0471e+04 -3.9234e+04  0.0000e+00 -8.1470e+04 -2.9792e+04\n",
       "-3.5269e+04 -1.0545e+05 -2.5059e+03 -7.9425e+04 -2.3992e+04 -8.2670e+04\n",
       "-4.1046e+04 -9.7274e+04 -9.0665e+03  0.0000e+00 -4.7881e+04 -2.7669e+04\n",
       "-9.4657e+04 -1.0639e+05  0.0000e+00 -5.3128e+04 -6.8895e+04 -1.3829e+05\n",
       "-3.0388e+04 -5.6626e+04 -2.2901e+04 -2.1155e+04 -2.1579e+04  0.0000e+00\n",
       "-8.3383e+04  0.0000e+00 -2.5964e+04 -1.6489e+04 -5.5122e+04 -5.3726e+04\n",
       "-8.8465e+04 -3.7739e+04 -3.3788e+04 -3.6908e+04 -1.9227e+04 -6.2255e+04\n",
       "-7.0378e+04 -4.1630e+04  0.0000e+00 -3.6067e+04 -3.6988e+04 -5.1488e+04\n",
       "-3.2566e+04 -5.5226e+04  0.0000e+00 -3.7262e+04 -3.2050e+04 -2.2479e+04\n",
       "-3.6825e+04 -9.5592e+04 -6.6746e+03 -9.0971e+04 -5.5579e+04 -5.1656e+04\n",
       "-5.5134e+04 -6.0651e+04 -4.5119e+04 -2.4179e+04 -1.4203e+04 -2.2515e+04\n",
       " 0.0000e+00 -9.5686e+04 -2.3966e+04 -6.4230e+04 -1.1609e+05 -3.1359e+04\n",
       "-7.1446e+04 -8.4342e+04 -2.8171e+04 -3.8175e+04 -6.0470e+04 -4.3992e+04\n",
       "-9.2566e+04 -8.9177e+04  0.0000e+00 -7.5846e+04 -6.3015e+04 -1.0198e+05\n",
       " 0.0000e+00 -1.3475e+05 -1.5078e+04 -6.9991e+04 -9.7106e+04 -7.0354e+04\n",
       "-8.5310e+04 -7.9268e+04 -3.7182e+04 -6.8385e+04 -7.5205e+04 -5.7397e+04\n",
       " 0.0000e+00 -1.3016e+05 -6.2521e+04 -8.3563e+04 -1.1146e+05 -4.9068e+04\n",
       "-7.2576e+04 -8.1532e+04 -4.7296e+03 -4.2592e+04 -7.1505e+04 -9.2381e+04\n",
       "-1.1494e+05 -1.2836e+05 -6.3077e+04  0.0000e+00 -1.0319e+05 -6.6697e+04\n",
       "-1.1048e+05 -8.5545e+04 -6.4223e+04 -6.7033e+04 -6.8197e+04 -8.1744e+04\n",
       "\n",
       "Columns 7 to 10\n",
       "-4.3482e+04 -5.6550e+04 -3.4797e+04 -2.9404e+04\n",
       "-8.8672e+04 -1.3126e+05 -7.7211e+04 -1.3813e+05\n",
       "-4.6985e+04 -1.3445e+04 -1.7895e+04 -2.6842e+04\n",
       "-1.5522e+04 -9.8979e+03 -2.1021e+04 -1.7852e+04\n",
       "-5.2232e+04 -3.3802e+04 "
      ]
     },
     "execution_count": 7,
     "metadata": {},
     "output_type": "execute_result"
    },
    {
     "data": {
      "text/plain": [
       "-3.7508e+04 -2.4992e+04\n",
       "-6.5966e+04 -6.8693e+04 -7.6834e+04 -5.9098e+04\n",
       "-8.6057e+04 -1.1044e+05  0.0000e+00 -1.0119e+05\n",
       "-1.0495e+05 -1.0146e+05 -8.4310e+04 -1.2141e+05\n",
       " 0.0000e+00 -3.2261e+04 -1.2537e+04 -1.9871e+04\n",
       "-3.8654e+04 -1.0008e+04 -2.7458e+04  0.0000e+00\n",
       "-8.6697e+04 -1.2887e+05 -7.6608e+04 -1.4811e+05\n",
       "-7.1772e+04 -6.7965e+04 -3.7621e+04 -8.1885e+04\n",
       "-6.3621e+04 -2.1755e+04 -5.1290e+04 -1.6007e+04\n",
       "-3.9893e+04 -1.5448e+04  0.0000e+00 -4.1664e+02\n",
       "-6.0381e+04 -1.1610e+05 -5.7373e+04 -7.6412e+04\n",
       "-3.8626e+04 -5.1778e+04 -1.3409e+04 -4.2314e+04\n",
       "-9.2825e+04 -4.5682e+04  0.0000e+00 -3.7103e+04\n",
       "-1.0409e+04 -4.7254e+04 -4.1145e+04 -4.3198e+04\n",
       "-8.5307e+04  0.0000e+00 -5.5309e+04 -4.0791e+04\n",
       "-4.3016e+04 -8.8560e+04 -3.7039e+04 -1.1143e+05\n",
       "-3.1742e+04 -5.5171e+04  0.0000e+00 -2.1590e+04\n",
       "-3.8166e+04 -5.6894e+04 -2.1539e+04 -6.2108e+04\n",
       "-4.8160e+04 -2.6426e+04 -3.1990e+04 -6.7270e+03\n",
       "-1.0855e+05  0.0000e+00 -6.3846e+04 -4.4382e+04\n",
       "-2.1309e+04 -5.2057e+04 -2.1642e+03 -4.0036e+04\n",
       "-5.7147e+04 -3.6778e+04  0.0000e+00 -4.4618e+04\n",
       "-5.6465e+04 -3.0223e+03 -4.5754e+04 -3.3983e+04\n",
       "-7.0975e+03 -7.4108e+04 -2.1613e+04 -2.0904e+04\n",
       " 0.0000e+00 -1.2873e+05 -3.9452e+04 -5.4260e+04\n",
       "-1.0753e+05 -5.1645e+04 -6.2575e+03 -6.6555e+04\n",
       "-1.7219e+04 -7.4974e+04 -8.4289e+03 -2.5940e+04\n",
       "-8.7948e+04 -6.2094e+04 -1.9403e+04 -6.4346e+04\n",
       " 0.0000e+00 -5.9881e+04 -4.6375e+04 -2.6139e+04\n",
       "-6.3789e+04 -4.5686e+04 -9.0141e+03 -1.9980e+04\n",
       "-9.2540e+04 -3.9927e+03 -4.4660e+04 -5.2010e+04\n",
       "-3.8899e+04 -4.8920e+04 -3.5275e+03 -2.5508e+04\n",
       "-4.8805e+04 -4.5235e+04 -1.2480e+04 -3.9544e+04\n",
       "-5.4748e+04  0.0000e+00 -3.0004e+04 -3.4405e+04\n",
       "-2.3826e+03 -7.8655e+04 -2.0699e+04 -3.7471e+04\n",
       "-2.1546e+03 -6.0129e+04 -2.0057e+04 -4.6306e+04\n",
       " 0.0000e+00 -8.3335e+04 -6.0060e+04 -6.9309e+04\n",
       "-5.5900e+04 -2.0635e+04 -1.6632e+04  0.0000e+00\n",
       "-8.6863e+04 -6.2180e+04 -1.4313e+04 -7.3145e+04\n",
       "-9.7288e+04  0.0000e+00 -5.5623e+03 -1.7325e+04\n",
       "-6.0768e+04 -1.0342e+05 -6.5899e+04 -9.9336e+04\n",
       "-4.6894e+04 -8.4137e+04 -4.7565e+04 -5.8586e+04\n",
       "-8.4634e+04 -7.5303e+04  0.0000e+00 -7.0544e+04\n",
       "-7.1429e+04 -9.0155e+04 -7.8263e+04 -8.8082e+04\n",
       "-8.9158e+04  0.0000e+00 -3.8541e+04 -2.6011e+04\n",
       "-1.5205e+05 -9.1194e+04 -5.7800e+04 -1.0098e+05\n",
       "-1.0399e+05  0.0000e+00 -5.9520e+04 -5.2751e+04\n",
       "[torch.DoubleTensor of size 51x10]\n",
       "\n",
       "Columns 1 to 6\n",
       "-5.8853e+04 -5.3218e+04 -4.1532e+04  0.0000e+00 -6.1132e+04 -4.4480e+04\n",
       " 0.0000e+00 -1.7874e+05 -5.6580e+04 -1.2752e+05 -1.7991e+05 -8.9737e+04\n",
       "-5.6114e+04  0.0000e+00 -1.6150e+04 -5.5623e+03 -6.1405e+04 -6.7556e+04\n",
       "-2.1060e+04 -7.9776e+04  0.0000e+00 -4.9227e+04 -4.0361e+04 -7.5155e+04\n",
       "-7.5228e+04 -6.4905e+04 -5.2764e+04 -7.6761e+04  0.0000e+00 -5.4753e+04\n",
       " 0.0000e+00 -1.1282e+05 -2.9461e+04 -4.9643e+04 -9.4847e+04 -4.8027e+04\n",
       "-9.0283e+04 -7.5053e+04 -2.4483e+04 -6.6178e+04 -9.1207e+04 -6.4347e+04\n",
       "-1.2830e+05 -1.1720e+05  0.0000e+00 -8.0263e+04 -1.3737e+05 -1.2984e+05\n",
       "-2.5744e+04 -3.8469e+04 -3.3600e+03 -1.4337e+04 -2.1252e+04 -1.6280e+04\n",
       "-4.4696e+04 -5.2384e+04 -3.0046e+04 -3.0415e+04 -1.3120e+04 -6.4847e+04\n",
       "-1.5390e+05 -9.5797e+04  0.0000e+00 -5.5890e+04 -1.5189e+05 -1.3976e+05\n",
       "-3.9531e+04 -5.3938e+04 -1.8525e+04  0.0000e+00 -9.2744e+04 -3.4615e+04\n",
       "-8.7003e+04 -8.7456e+04 -3.6180e+04 -2.6629e+04  0.0000e+00 -8.2251e+04\n",
       "-4.8825e+04 -2.2808e+04 -2.8645e+04 -1.2320e+04 -2.0571e+04 -3.1062e+04\n",
       "-9.6977e+04 -7.0356e+04  0.0000e+00 -6.9186e+04 -7.7944e+04 -1.1712e+05\n",
       " 0.0000e+00 -8.3292e+04 -1.6741e+04 -4.9108e+04 -5.5560e+04 -3.7895e+04\n",
       "-5.0554e+04 -8.4075e+04 -1.1436e+04 -2.1095e+04 -8.2389e+04 -7.7611e+04\n",
       "-1.8206e+04 -4.3490e+04 -1.4521e+03  0.0000e+00 -5.5050e+04 -7.1946e+03\n",
       "-6.6985e+04 -6.7472e+04 -8.6971e+04 -5.0093e+04 -5.9527e+04 -6.1801e+04\n",
       " 0.0000e+00 -1.0377e+05 -3.3274e+04 -7.0392e+04 -1.0359e+05 -3.2568e+04\n",
       "-8.8757e+04 -3.0736e+02 -4.7914e+03 -4.6269e+03 -3.3754e+04 -2.5079e+04\n",
       "-5.7625e+04  0.0000e+00 -2.7688e+03 -3.3969e+04 -6.7470e+04 -6.2853e+04\n",
       "-2.0484e+04 -9.0711e+04 -2.9176e+04 -5.0530e+04  0.0000e+00 -6.2451e+04\n",
       "-8.8416e+04 -7.1969e+04 -4.8848e+04 -5.0389e+04 -8.2294e+04 -9.3861e+04\n",
       "-1.3282e+04 -4.6478e+04 -1.1675e+04 -8.2917e+03 -2.5592e+04  0.0000e+00\n",
       "-7.4821e+04 -"
      ]
     },
     "execution_count": 7,
     "metadata": {},
     "output_type": "execute_result"
    },
    {
     "data": {
      "text/plain": [
       "4.7322e+04 -2.3599e+04 -3.8764e+04 -3.5198e+04 -3.5085e+04\n",
       "-7.5151e+04 -5.0144e+04 -2.3711e+04  0.0000e+00 -5.1703e+04 -8.7868e+04\n",
       "-2.7762e+04 -6.0279e+04  0.0000e+00 -2.8596e+04 -2.6417e+04 -4.2681e+04\n",
       "-6.3486e+04 -9.2484e+04 -3.0435e+04 -8.4551e+04 -5.1070e+04 -6.3182e+04\n",
       "-6.9822e+04 -9.2142e+04 -3.7504e+04 -1.3670e+04 -9.8276e+04  0.0000e+00\n",
       "-3.5675e+04 -4.6161e+04 -1.4910e+04  0.0000e+00 -5.2823e+04 -1.0134e+04\n",
       "-4.5124e+04 -5.0471e+04 -3.9234e+04  0.0000e+00 -8.1470e+04 -2.9792e+04\n",
       "-3.5269e+04 -1.0545e+05 -2.5059e+03 -7.9425e+04 -2.3992e+04 -8.2670e+04\n",
       "-4.1046e+04 -9.7274e+04 -9.0665e+03  0.0000e+00 -4.7881e+04 -2.7669e+04\n",
       "-9.4657e+04 -1.0639e+05  0.0000e+00 -5.3128e+04 -6.8895e+04 -1.3829e+05\n",
       "-3.0388e+04 -5.6626e+04 -2.2901e+04 -2.1155e+04 -2.1579e+04  0.0000e+00\n",
       "-8.3383e+04  0.0000e+00 -2.5964e+04 -1.6489e+04 -5.5122e+04 -5.3726e+04\n",
       "-8.8465e+04 -3.7739e+04 -3.3788e+04 -3.6908e+04 -1.9227e+04 -6.2255e+04\n",
       "-7.0378e+04 -4.1630e+04  0.0000e+00 -3.6067e+04 -3.6988e+04 -5.1488e+04\n",
       "-3.2566e+04 -5.5226e+04  0.0000e+00 -3.7262e+04 -3.2050e+04 -2.2479e+04\n",
       "-3.6825e+04 -9.5592e+04 -6.6746e+03 -9.0971e+04 -5.5579e+04 -5.1656e+04\n",
       "-5.5134e+04 -6.0651e+04 -4.5119e+04 -2.4179e+04 -1.4203e+04 -2.2515e+04\n",
       " 0.0000e+00 -9.5686e+04 -2.3966e+04 -6.4230e+04 -1.1609e+05 -3.1359e+04\n",
       "-7.1446e+04 -8.4342e+04 -2.8171e+04 -3.8175e+04 -6.0470e+04 -4.3992e+04\n",
       "-9.2566e+04 -8.9177e+04  0.0000e+00 -7.5846e+04 -6.3015e+04 -1.0198e+05\n",
       " 0.0000e+00 -1.3475e+05 -1.5078e+04 -6.9991e+04 -9.7106e+04 -7.0354e+04\n",
       "-8.5310e+04 -7.9268e+04 -3.7182e+04 -6.8385e+04 -7.5205e+04 -5.7397e+04\n",
       " 0.0000e+00 -1.3016e+05 -6.2521e+04 -8.3563e+04 -1.1146e+05 -4.9068e+04\n",
       "-7.2576e+04 -8.1532e+04 -4.7296e+03 -4.2592e+04 -7.1505e+04 -9.2381e+04\n",
       "-1.1494e+05 -1.2836e+05 -6.3077e+04  0.0000e+00 -1.0319e+05 -6.6697e+04\n",
       "-1.1048e+05 -8.5545e+04 -6.4223e+04 -6.7033e+04 -6.8197e+04 -8.1744e+04\n",
       "\n",
       "Columns 7 to 10\n",
       "-4.3482e+04 -5.6550e+04 -3.4797e+04 -2.9404e+04\n",
       "-8.8672e+04 -1.3126e+05 -7.7211e+04 -1.3813e+05\n",
       "-4.6985e+04 -1.3445e+04 -1.7895e+04 -2.6842e+04\n",
       "-1.5522e+04 -9.8979e+03 -2.1021e+04 -1.7852e+04\n",
       "-5.2232e+04 -3.3802e+04 -3.7508e+04 -2.4992e+04\n",
       "-6.5966e+04 -6.8693e+04 -7.6834e+04 -5.9098e+04\n",
       "-8.6057e+04 -1.1044e+05  0.0000e+00 -1.0119e+05\n",
       "-1.0495e+05 -1.0146e+05 -8.4310e+04 -1.2141e+05\n",
       " 0.0000e+00 -3.2261e+04 -1.2537e+04 -1.9871e+04\n",
       "-3.8654e+04 -1.0008e+04 -2.7458e+04  0.0000e+00\n",
       "-8.6697e+04 -1.2887e+05 -7.6608e+04 -1.4811e+05\n",
       "-7.1772e+04 -6.7965e+04 -3.7621e+04 -8.1885e+04\n",
       "-6.3621e+04 -2.1755e+04 -5.1290e+04 -1.6007e+04\n",
       "-3.9893e+04 -1.5448e+04  0.0000e+00 -4.1664e+02\n",
       "-6.0381e+04 -1.1610e+05 -5.7373e+04 -7.6412e+04\n",
       "-3.8626e+04 -5.1778e+04 -1.3409e+04 -4.2314e+04\n",
       "-9.2825e+04 -4.5682e+04  0.0000e+00 -3.7103e+04\n",
       "-1.0409e+04 -4.7254e+04 -4.1145e+04 -4.3198e+04\n",
       "-8.5307e+04  0.0000e+00 -5.5309e+04 -4.0791e+04\n",
       "-4.3016e+04 -8.8560e+04 -3.7039e+04 -1.1143e+05\n",
       "-3.1742e+04 -5.5171e+04  0.0000e+00 -2.1590e+04\n",
       "-3.8166e+04 -5.6894e+04 -2.1539e+04 -6.2108e+04\n",
       "-4.8160e+04 -2.6426e+04 -3.1990e+04 -6.7270e+03\n",
       "-1.0855e+05  0.0000e+00 -6.3846e+04 -4.4382e+04\n",
       "-2.1309e+04 -5.2057e+04 -2.1642e+03 -4.0036e+04\n",
       "-5.7147e+04 -3.6778e+04  0.0000e+00 -4.4618e+04\n",
       "-5.6465e+04 -3.0223e+03 -4.5754e+04 -3.3983e+04\n",
       "-7.0975e+03 -7.4108e+04 -2.1613e+04 -2.0904e+04\n",
       " 0.0000e+00 -1.2873e+05 -3.9452e+04 -5.4260e+04\n",
       "-1.0753e+05 -5.1645e+04 -6.2575e+03 -6.6555e+04\n",
       "-1.7219e+04 -7.4974e+04 -8.4289e+03 -2.5940e+04\n",
       "-8.7948e+04 -6.2094e+04 -1.9403e+04 -6.4346e+04\n",
       " 0.0000e+00 -5.9881e+04 -4.6375e+04 -2.6139e+04\n",
       "-6.3789e+04 -4.5686e+04 -9.0141e+03 -1.9980e+04\n",
       "-9.2540e+04 -3.9927e+03 -4.4660e+04 -5.2010e+04\n",
       "-3.8899e+04 -4.8920e+04 -3.5275e+03 -2.5508e+04\n",
       "-4.8805e+04 -4.5235e+04 -1.2480e+04 -3.9544e+04\n",
       "-5.4748e+04  0.0000e+00 -3.0004e+04 -3.4405e+04\n",
       "-2.3826e+03 -7.8655e+04 -2.0699e+04 -3.7471e+04\n",
       "-2.1546e+03 -6.0129e+04 -2.0057e+04 -4.6306e+04\n",
       " 0.0000e+00 -8.3335e+04 -6.0060e+04 -6.9309e+04\n",
       "-5.5900e+04 -2.0635e+04 -1.6632e+04  0.0000e+00\n",
       "-8.6863e+04 -6.2180e+04 -1.4313e+04 -7.3145e+04\n",
       "-9.7288e+04  0.0000e+00 -5.5623e+03 -1.7325e+04\n",
       "-6.0768e+04 -1.0342e+05 -6.5899e+04 -9.9336e+04\n",
       "-4.6894e+04 -8.4137e+04 -4.7565e+04 -5.8586e+04\n",
       "-8.4634e+04 "
      ]
     },
     "execution_count": 7,
     "metadata": {},
     "output_type": "execute_result"
    },
    {
     "data": {
      "text/plain": [
       "-7.5303e+04  0.0000e+00 -7.0544e+04\n",
       "-7.1429e+04 -9.0155e+04 -7.8263e+04 -8.8082e+04\n",
       "-8.9158e+04  0.0000e+00 -3.8541e+04 -2.6011e+04\n",
       "-1.5205e+05 -9.1194e+04 -5.7800e+04 -1.0098e+05\n",
       "-1.0399e+05  0.0000e+00 -5.9520e+04 -5.2751e+04\n",
       "[torch.DoubleTensor of size 51x10]\n",
       "\n",
       "Columns 1 to 6\n",
       "-5.8853e+04 -5.3218e+04 -4.1532e+04  0.0000e+00 -6.1132e+04 -4.4480e+04\n",
       " 0.0000e+00 -1.7874e+05 -5.6580e+04 -1.2752e+05 -1.7991e+05 -8.9737e+04\n",
       "-5.6114e+04  0.0000e+00 -1.6150e+04 -5.5623e+03 -6.1405e+04 -6.7556e+04\n",
       "-2.1060e+04 -7.9776e+04  0.0000e+00 -4.9227e+04 -4.0361e+04 -7.5155e+04\n",
       "-7.5228e+04 -6.4905e+04 -5.2764e+04 -7.6761e+04  0.0000e+00 -5.4753e+04\n",
       " 0.0000e+00 -1.1282e+05 -2.9461e+04 -4.9643e+04 -9.4847e+04 -4.8027e+04\n",
       "-9.0283e+04 -7.5053e+04 -2.4483e+04 -6.6178e+04 -9.1207e+04 -6.4347e+04\n",
       "-1.2830e+05 -1.1720e+05  0.0000e+00 -8.0263e+04 -1.3737e+05 -1.2984e+05\n",
       "-2.5744e+04 -3.8469e+04 -3.3600e+03 -1.4337e+04 -2.1252e+04 -1.6280e+04\n",
       "-4.4696e+04 -5.2384e+04 -3.0046e+04 -3.0415e+04 -1.3120e+04 -6.4847e+04\n",
       "-1.5390e+05 -9.5797e+04  0.0000e+00 -5.5890e+04 -1.5189e+05 -1.3976e+05\n",
       "-3.9531e+04 -5.3938e+04 -1.8525e+04  0.0000e+00 -9.2744e+04 -3.4615e+04\n",
       "-8.7003e+04 -8.7456e+04 -3.6180e+04 -2.6629e+04  0.0000e+00 -8.2251e+04\n",
       "-4.8825e+04 -2.2808e+04 -2.8645e+04 -1.2320e+04 -2.0571e+04 -3.1062e+04\n",
       "-9.6977e+04 -7.0356e+04  0.0000e+00 -6.9186e+04 -7.7944e+04 -1.1712e+05\n",
       " 0.0000e+00 -8.3292e+04 -1.6741e+04 -4.9108e+04 -5.5560e+04 -3.7895e+04\n",
       "-5.0554e+04 -8.4075e+04 -1.1436e+04 -2.1095e+04 -8.2389e+04 -7.7611e+04\n",
       "-1.8206e+04 -4.3490e+04 -1.4521e+03  0.0000e+00 -5.5050e+04 -7.1946e+03\n",
       "-6.6985e+04 -6.7472e+04 -8.6971e+04 -5.0093e+04 -5.9527e+04 -6.1801e+04\n",
       " 0.0000e+00 -1.0377e+05 -3.3274e+04 -7.0392e+04 -1.0359e+05 -3.2568e+04\n",
       "-8.8757e+04 -3.0736e+02 -4.7914e+03 -4.6269e+03 -3.3754e+04 -2.5079e+04\n",
       "-5.7625e+04  0.0000e+00 -2.7688e+03 -3.3969e+04 -6.7470e+04 -6.2853e+04\n",
       "-2.0484e+04 -9.0711e+04 -2.9176e+04 -5.0530e+04  0.0000e+00 -6.2451e+04\n",
       "-8.8416e+04 -7.1969e+04 -4.8848e+04 -5.0389e+04 -8.2294e+04 -9.3861e+04\n",
       "-1.3282e+04 -4.6478e+04 -1.1675e+04 -8.2917e+03 -2.5592e+04  0.0000e+00\n",
       "-7.4821e+04 -4.7322e+04 -2.3599e+04 -3.8764e+04 -3.5198e+04 -3.5085e+04\n",
       "-7.5151e+04 -5.0144e+04 -2.3711e+04  0.0000e+00 -5.1703e+04 -8.7868e+04\n",
       "-2.7762e+04 -6.0279e+04  0.0000e+00 -2.8596e+04 -2.6417e+04 -4.2681e+04\n",
       "-6.3486e+04 -9.2484e+04 -3.0435e+04 -8.4551e+04 -5.1070e+04 -6.3182e+04\n",
       "-6.9822e+04 -9.2142e+04 -3.7504e+04 -1.3670e+04 -9.8276e+04  0.0000e+00\n",
       "-3.5675e+04 -4.6161e+04 -1.4910e+04  0.0000e+00 -5.2823e+04 -1.0134e+04\n",
       "-4.5124e+04 -5.0471e+04 -3.9234e+04  0.0000e+00 -8.1470e+04 -2.9792e+04\n",
       "-3.5269e+04 -1.0545e+05 -2.5059e+03 -7.9425e+04 -2.3992e+04 -8.2670e+04\n",
       "-4.1046e+04 -9.7274e+04 -9.0665e+03  0.0000e+00 -4.7881e+04 -2.7669e+04\n",
       "-9.4657e+04 -1.0639e+05  0.0000e+00 -5.3128e+04 -6.8895e+04 -1.3829e+05\n",
       "-3.0388e+04 -5.6626e+04 -2.2901e+04 -2.1155e+04 -2.1579e+04  0.0000e+00\n",
       "-8.3383e+04  0.0000e+00 -2.5964e+04 -1.6489e+04 -5.5122e+04 -5.3726e+04\n",
       "-8.8465e+04 -3.7739e+04 -3.3788e+04 -3.6908e+04 -1.9227e+04 -6.2255e+04\n",
       "-7.0378e+04 -4.1630e+04  0.0000e+00 -3.6067e+04 -3.6988e+04 -5.1488e+04\n",
       "-3.2566e+04 -5.5226e+04  0.0000e+00 -3.7262e+04 -3.2050e+04 -2.2479e+04\n",
       "-3.6825e+04 -9.5592e+04 -6.6746e+03 -9.0971e+04 -5.5579e+04 -5.1656e+04\n",
       "-5.5134e+04 -6.0651e+04 -4.5119e+04 -2.4179e+04 -1.4203e+04 -2.2515e+04\n",
       " 0.0000e+00 -9.5686e+04 -2.3966e+04 -6.4230e+04 -1.1609e+05 -3.1359e+04\n",
       "-7.1446e+04 -8.4342e+04 -2.8171e+04 -3.8175e+04 -6.0470e+04 -4.3992e+04\n",
       "-9.2566e+04 -8.9177e+04  0.0000e+00 -7.5846e+04 -6.3015e+04 -1.0198e+05\n",
       " 0.0000e+00 -1.3475e+05 -1.5078e+04 -6.9991e+04 -9.7106e+04 -7.0354e+04\n",
       "-8.5310e+04 -7.9268e+04 -3.7182e+04 -6.8385e+04 -7.5205e+04 -5.7397e+04\n",
       " 0.0000e+00 -1.3016e+05 -6.2521e+04 -8.3563e+04 -1.1146e+05 -4.9068e+04\n",
       "-7.2576e+04 -8.1532e+04 -4.7296e+03 -4.2592e+04 -7.1505e+04 -9.2381e+04\n",
       "-1.1494e+05 -1.2836e+05 -6.3077e+04  0.0000e+00 -1.0319e+05 -6.6697e+04\n",
       "-1.1048e+05 -8.5545e+04 -6.4223e+04 -6.7033e+04 -6.8197e+04 -8.1744e+04\n",
       "\n",
       "Columns 7 to 10\n",
       "-4.3482e+04 -5.6550e+04 -3.4797e+04 -2.9404e+04\n",
       "-8.8672e+04 -1.3126e+05 -7.7211e+04 -1.3813e+05\n",
       "-4.6985e+04 -1.3445e+04 -1.7895e"
      ]
     },
     "execution_count": 7,
     "metadata": {},
     "output_type": "execute_result"
    },
    {
     "data": {
      "text/plain": [
       "+04 -2.6842e+04\n",
       "-1.5522e+04 -9.8979e+03 -2.1021e+04 -1.7852e+04\n",
       "-5.2232e+04 -3.3802e+04 -3.7508e+04 -2.4992e+04\n",
       "-6.5966e+04 -6.8693e+04 -7.6834e+04 -5.9098e+04\n",
       "-8.6057e+04 -1.1044e+05  0.0000e+00 -1.0119e+05\n",
       "-1.0495e+05 -1.0146e+05 -8.4310e+04 -1.2141e+05\n",
       " 0.0000e+00 -3.2261e+04 -1.2537e+04 -1.9871e+04\n",
       "-3.8654e+04 -1.0008e+04 -2.7458e+04  0.0000e+00\n",
       "-8.6697e+04 -1.2887e+05 -7.6608e+04 -1.4811e+05\n",
       "-7.1772e+04 -6.7965e+04 -3.7621e+04 -8.1885e+04\n",
       "-6.3621e+04 -2.1755e+04 -5.1290e+04 -1.6007e+04\n",
       "-3.9893e+04 -1.5448e+04  0.0000e+00 -4.1664e+02\n",
       "-6.0381e+04 -1.1610e+05 -5.7373e+04 -7.6412e+04\n",
       "-3.8626e+04 -5.1778e+04 -1.3409e+04 -4.2314e+04\n",
       "-9.2825e+04 -4.5682e+04  0.0000e+00 -3.7103e+04\n",
       "-1.0409e+04 -4.7254e+04 -4.1145e+04 -4.3198e+04\n",
       "-8.5307e+04  0.0000e+00 -5.5309e+04 -4.0791e+04\n",
       "-4.3016e+04 -8.8560e+04 -3.7039e+04 -1.1143e+05\n",
       "-3.1742e+04 -5.5171e+04  0.0000e+00 -2.1590e+04\n",
       "-3.8166e+04 -5.6894e+04 -2.1539e+04 -6.2108e+04\n",
       "-4.8160e+04 -2.6426e+04 -3.1990e+04 -6.7270e+03\n",
       "-1.0855e+05  0.0000e+00 -6.3846e+04 -4.4382e+04\n",
       "-2.1309e+04 -5.2057e+04 -2.1642e+03 -4.0036e+04\n",
       "-5.7147e+04 -3.6778e+04  0.0000e+00 -4.4618e+04\n",
       "-5.6465e+04 -3.0223e+03 -4.5754e+04 -3.3983e+04\n",
       "-7.0975e+03 -7.4108e+04 -2.1613e+04 -2.0904e+04\n",
       " 0.0000e+00 -1.2873e+05 -3.9452e+04 -5.4260e+04\n",
       "-1.0753e+05 -5.1645e+04 -6.2575e+03 -6.6555e+04\n",
       "-1.7219e+04 -7.4974e+04 -8.4289e+03 -2.5940e+04\n",
       "-8.7948e+04 -6.2094e+04 -1.9403e+04 -6.4346e+04\n",
       " 0.0000e+00 -5.9881e+04 -4.6375e+04 -2.6139e+04\n",
       "-6.3789e+04 -4.5686e+04 -9.0141e+03 -1.9980e+04\n",
       "-9.2540e+04 -3.9927e+03 -4.4660e+04 -5.2010e+04\n",
       "-3.8899e+04 -4.8920e+04 -3.5275e+03 -2.5508e+04\n",
       "-4.8805e+04 -4.5235e+04 -1.2480e+04 -3.9544e+04\n",
       "-5.4748e+04  0.0000e+00 -3.0004e+04 -3.4405e+04\n",
       "-2.3826e+03 -7.8655e+04 -2.0699e+04 -3.7471e+04\n",
       "-2.1546e+03 -6.0129e+04 -2.0057e+04 -4.6306e+04\n",
       " 0.0000e+00 -8.3335e+04 -6.0060e+04 -6.9309e+04\n",
       "-5.5900e+04 -2.0635e+04 -1.6632e+04  0.0000e+00\n",
       "-8.6863e+04 -6.2180e+04 -1.4313e+04 -7.3145e+04\n",
       "-9.7288e+04  0.0000e+00 -5.5623e+03 -1.7325e+04\n",
       "-6.0768e+04 -1.0342e+05 -6.5899e+04 -9.9336e+04\n",
       "-4.6894e+04 -8.4137e+04 -4.7565e+04 -5.8586e+04\n",
       "-8.4634e+04 -7.5303e+04  0.0000e+00 -7.0544e+04\n",
       "-7.1429e+04 -9.0155e+04 -7.8263e+04 -8.8082e+04\n",
       "-8.9158e+04  0.0000e+00 -3.8541e+04 -2.6011e+04\n",
       "-1.5205e+05 -9.1194e+04 -5.7800e+04 -1.0098e+05\n",
       "-1.0399e+05  0.0000e+00 -5.9520e+04 -5.2751e+04\n",
       "[torch.DoubleTensor of size 51x10]\n",
       "\n",
       "Columns 1 to 6\n",
       "-5.8853e+04 -5.3218e+04 -4.1532e+04  0.0000e+00 -6.1132e+04 -4.4480e+04\n",
       " 0.0000e+00 -1.7874e+05 -5.6580e+04 -1.2752e+05 -1.7991e+05 -8.9737e+04\n",
       "-5.6114e+04  0.0000e+00 -1.6150e+04 -5.5623e+03 -6.1405e+04 -6.7556e+04\n",
       "-2.1060e+04 -7.9776e+04  0.0000e+00 -4.9227e+04 -4.0361e+04 -7.5155e+04\n",
       "-7.5228e+04 -6.4905e+04 -5.2764e+04 -7.6761e+04  0.0000e+00 -5.4753e+04\n",
       " 0.0000e+00 -1.1282e+05 -2.9461e+04 -4.9643e+04 -9.4847e+04 -4.8027e+04\n",
       "-9.0283e+04 -7.5053e+04 -2.4483e+04 -6.6178e+04 -9.1207e+04 -6.4347e+04\n",
       "-1.2830e+05 -1.1720e+05  0.0000e+00 -8.0263e+04 -1.3737e+05 -1.2984e+05\n",
       "-2.5744e+04 -3.8469e+04 -3.3600e+03 -1.4337e+04 -2.1252e+04 -1.6280e+04\n",
       "-4.4696e+04 -5.2384e+04 -3.0046e+04 -3.0415e+04 -1.3120e+04 -6.4847e+04\n",
       "-1.5390e+05 -9.5797e+04  0.0000e+00 -5.5890e+04 -1.5189e+05 -1.3976e+05\n",
       "-3.9531e+04 -5.3938e+04 -1.8525e+04  0.0000e+00 -9.2744e+04 -3.4615e+04\n",
       "-8.7003e+04 -8.7456e+04 -3.6180e+04 -2.6629e+04  0.0000e+00 -8.2251e+04\n",
       "-4.8825e+04 -2.2808e+04 -2.8645e+04 -1.2320e+04 -2.0571e+04 -3.1062e+04\n",
       "-9.6977e+04 -7.0356e+04  0.0000e+00 -6.9186e+04 -7.7944e+04 -1.1712e+05\n",
       " 0.0000e+00 -8.3292e+04 -1.6741e+04 -4.9108e+04 -5.5560e+04 -3.7895e+04\n",
       "-5.0554e+04 -8.4075e+04 -1.1436e+04 -2.1095e+04 -8.2389e+04 -7.7611e+04\n",
       "-1.8206e+04 -4.3490e+04 -1.4521e+03  0.0000e+00 -5.5050e+04 -7.1946e+03\n",
       "-6.6985e+04 -6.7472e+04 -8.6971e+04 -5.0093e+04 -5.9527e+04 -6.1801e+04\n",
       " 0.0000e+00 -1.0377e+05 -3.3274e+04 -7.0392e+04 -1.0359e+05 -3.2568e+04\n",
       "-8.8757e+04 -3.0736e+02 -4.7914e+03 -4.6269e+03 -3.3754e+04 -2.5079e+04\n",
       "-5.7625e+04  0.0000e+00 -2.7688e+03 -3.3969e+04 -6.7470e+04 -6.2853e+04\n",
       "-2.0484e+04 -9.0711e+04 -2.9176e+04 -5.0530e+04  0.0000e+00 -6.2451e+04\n",
       "-8.8416e+04 -7.1969e+04 -4.8848e+04 -5.0389e+04 -8.2294e+04 -9.3861e+"
      ]
     },
     "execution_count": 7,
     "metadata": {},
     "output_type": "execute_result"
    },
    {
     "data": {
      "text/plain": [
       "04\n",
       "-1.3282e+04 -4.6478e+04 -1.1675e+04 -8.2917e+03 -2.5592e+04  0.0000e+00\n",
       "-7.4821e+04 -4.7322e+04 -2.3599e+04 -3.8764e+04 -3.5198e+04 -3.5085e+04\n",
       "-7.5151e+04 -5.0144e+04 -2.3711e+04  0.0000e+00 -5.1703e+04 -8.7868e+04\n",
       "-2.7762e+04 -6.0279e+04  0.0000e+00 -2.8596e+04 -2.6417e+04 -4.2681e+04\n",
       "-6.3486e+04 -9.2484e+04 -3.0435e+04 -8.4551e+04 -5.1070e+04 -6.3182e+04\n",
       "-6.9822e+04 -9.2142e+04 -3.7504e+04 -1.3670e+04 -9.8276e+04  0.0000e+00\n",
       "-3.5675e+04 -4.6161e+04 -1.4910e+04  0.0000e+00 -5.2823e+04 -1.0134e+04\n",
       "-4.5124e+04 -5.0471e+04 -3.9234e+04  0.0000e+00 -8.1470e+04 -2.9792e+04\n",
       "-3.5269e+04 -1.0545e+05 -2.5059e+03 -7.9425e+04 -2.3992e+04 -8.2670e+04\n",
       "-4.1046e+04 -9.7274e+04 -9.0665e+03  0.0000e+00 -4.7881e+04 -2.7669e+04\n",
       "-9.4657e+04 -1.0639e+05  0.0000e+00 -5.3128e+04 -6.8895e+04 -1.3829e+05\n",
       "-3.0388e+04 -5.6626e+04 -2.2901e+04 -2.1155e+04 -2.1579e+04  0.0000e+00\n",
       "-8.3383e+04  0.0000e+00 -2.5964e+04 -1.6489e+04 -5.5122e+04 -5.3726e+04\n",
       "-8.8465e+04 -3.7739e+04 -3.3788e+04 -3.6908e+04 -1.9227e+04 -6.2255e+04\n",
       "-7.0378e+04 -4.1630e+04  0.0000e+00 -3.6067e+04 -3.6988e+04 -5.1488e+04\n",
       "-3.2566e+04 -5.5226e+04  0.0000e+00 -3.7262e+04 -3.2050e+04 -2.2479e+04\n",
       "-3.6825e+04 -9.5592e+04 -6.6746e+03 -9.0971e+04 -5.5579e+04 -5.1656e+04\n",
       "-5.5134e+04 -6.0651e+04 -4.5119e+04 -2.4179e+04 -1.4203e+04 -2.2515e+04\n",
       " 0.0000e+00 -9.5686e+04 -2.3966e+04 -6.4230e+04 -1.1609e+05 -3.1359e+04\n",
       "-7.1446e+04 -8.4342e+04 -2.8171e+04 -3.8175e+04 -6.0470e+04 -4.3992e+04\n",
       "-9.2566e+04 -8.9177e+04  0.0000e+00 -7.5846e+04 -6.3015e+04 -1.0198e+05\n",
       " 0.0000e+00 -1.3475e+05 -1.5078e+04 -6.9991e+04 -9.7106e+04 -7.0354e+04\n",
       "-8.5310e+04 -7.9268e+04 -3.7182e+04 -6.8385e+04 -7.5205e+04 -5.7397e+04\n",
       " 0.0000e+00 -1.3016e+05 -6.2521e+04 -8.3563e+04 -1.1146e+05 -4.9068e+04\n",
       "-7.2576e+04 -8.1532e+04 -4.7296e+03 -4.2592e+04 -7.1505e+04 -9.2381e+04\n",
       "-1.1494e+05 -1.2836e+05 -6.3077e+04  0.0000e+00 -1.0319e+05 -6.6697e+04\n",
       "-1.1048e+05 -8.5545e+04 -6.4223e+04 -6.7033e+04 -6.8197e+04 -8.1744e+04\n",
       "\n",
       "Columns 7 to 10\n",
       "-4.3482e+04 -5.6550e+04 -3.4797e+04 -2.9404e+04\n",
       "-8.8672e+04 -1.3126e+05 -7.7211e+04 -1.3813e+05\n",
       "-4.6985e+04 -1.3445e+04 -1.7895e+04 -2.6842e+04\n",
       "-1.5522e+04 -9.8979e+03 -2.1021e+04 -1.7852e+04\n",
       "-5.2232e+04 -3.3802e+04 -3.7508e+04 -2.4992e+04\n",
       "-6.5966e+04 -6.8693e+04 -7.6834e+04 -5.9098e+04\n",
       "-8.6057e+04 -1.1044e+05  0.0000e+00 -1.0119e+05\n",
       "-1.0495e+05 -1.0146e+05 -8.4310e+04 -1.2141e+05\n",
       " 0.0000e+00 -3.2261e+04 -1.2537e+04 -1.9871e+04\n",
       "-3.8654e+04 -1.0008e+04 -2.7458e+04  0.0000e+00\n",
       "-8.6697e+04 -1.2887e+05 -7.6608e+04 -1.4811e+05\n",
       "-7.1772e+04 -6.7965e+04 -3.7621e+04 -8.1885e+04\n",
       "-6.3621e+04 -2.1755e+04 -5.1290e+04 -1.6007e+04\n",
       "-3.9893e+04 -1.5448e+04  0.0000e+00 -4.1664e+02\n",
       "-6.0381e+04 -1.1610e+05 -5.7373e+04 -7.6412e+04\n",
       "-3.8626e+04 -5.1778e+04 -1.3409e+04 -4.2314e+04\n",
       "-9.2825e+04 -4.5682e+04  0.0000e+00 -3.7103e+04\n",
       "-1.0409e+04 -4.7254e+04 -4.1145e+04 -4.3198e+04\n",
       "-8.5307e+04  0.0000e+00 -5.5309e+04 -4.0791e+04\n",
       "-4.3016e+04 -8.8560e+04 -3.7039e+04 -1.1143e+05\n",
       "-3.1742e+04 -5.5171e+04  0.0000e+00 -2.1590e+04\n",
       "-3.8166e+04 -5.6894e+04 -2.1539e+04 -6.2108e+04\n",
       "-4.8160e+04 -2.6426e+04 -3.1990e+04 -6.7270e+03\n",
       "-1.0855e+05  0.0000e+00 -6.3846e+04 -4.4382e+04\n",
       "-2.1309e+04 -5.2057e+04 -2.1642e+03 -4.0036e+04\n",
       "-5.7147e+04 -3.6778e+04  0.0000e+00 -4.4618e+04\n",
       "-5.6465e+04 -3.0223e+03 -4.5754e+04 -3.3983e+04\n",
       "-7.0975e+03 -7.4108e+04 -2.1613e+04 -2.0904e+04\n",
       " 0.0000e+00 -1.2873e+05 -3.9452e+04 -5.4260e+04\n",
       "-1.0753e+05 -5.1645e+04 -6.2575e+03 -6.6555e+04\n",
       "-1.7219e+04 -7.4974e+04 -8.4289e+03 -2.5940e+04\n",
       "-8.7948e+04 -6.2094e+04 -1.9403e+04 -6.4346e+04\n",
       " 0.0000e+00 -5.9881e+04 -4.6375e+04 -2.6139e+04\n",
       "-6.3789e+04 -4.5686e+04 -9.0141e+03 -1.9980e+04\n",
       "-9.2540e+04 -3.9927e+03 -4.4660e+04 -5.2010e+04\n",
       "-3.8899e+04 -4.8920e+04 -3.5275e+03 -2.5508e+04\n",
       "-4.8805e+04 -4.5235e+04 -1.2480e+04 -3.9544e+04\n",
       "-5.4748e+04  0.0000e+00 -3.0004e+04 -3.4405e+04\n",
       "-2.3826e+03 -7.8655e+04 -2.0699e+04 -3.7471e+04\n",
       "-2.1546e+03 -6.0129e+04 -2.0057e+04 -4.6306e+04\n",
       " 0.0000e+00 -8.3335e+04 -6.0060e+04 -6.9309e+04\n",
       "-5.5900e+04 -2.0635e+04 -1.6632e+04  0.0000e+00\n",
       "-8.6863e+04 -6.2180e+04 -1.4313e+04 -7.3145e+04\n",
       "-9.7288e+04  0.0000e+00 -5.5623e+03 -1.7325e+04\n",
       "-6.0768e+04 -1.0342e"
      ]
     },
     "execution_count": 7,
     "metadata": {},
     "output_type": "execute_result"
    },
    {
     "data": {
      "text/plain": [
       "+05 -6.5899e+04 -9.9336e+04\n",
       "-4.6894e+04 -8.4137e+04 -4.7565e+04 -5.8586e+04\n",
       "-8.4634e+04 -7.5303e+04  0.0000e+00 -7.0544e+04\n",
       "-7.1429e+04 -9.0155e+04 -7.8263e+04 -8.8082e+04\n",
       "-8.9158e+04  0.0000e+00 -3.8541e+04 -2.6011e+04\n",
       "-1.5205e+05 -9.1194e+04 -5.7800e+04 -1.0098e+05\n",
       "-1.0399e+05  0.0000e+00 -5.9520e+04 -5.2751e+04\n",
       "[torch.DoubleTensor of size 51x10]\n",
       "\n"
      ]
     },
     "execution_count": 7,
     "metadata": {},
     "output_type": "execute_result"
    },
    {
     "ename": "not enough memory",
     "evalue": "",
     "output_type": "error",
     "traceback": [
      "not enough memory"
     ]
    }
   ],
   "source": [
    "dofile('digitClassifier.lua')"
   ]
  },
  {
   "cell_type": "code",
   "execution_count": 8,
   "metadata": {
    "collapsed": false
   },
   "outputs": [
    {
     "data": {
      "text/plain": [
       "<mnist> loading only 8000 examples\t\n",
       "<mnist> done\t\n"
      ]
     },
     "execution_count": 8,
     "metadata": {},
     "output_type": "execute_result"
    },
    {
     "data": {
      "text/plain": [
       "--------------------------------\t\n",
       " loaded dataset \"train\"\t\n",
       "inputs\t 8000\n",
       " 1024\n",
       "[torch.LongStorage of size 2]\n",
       "\n",
       "targets\t 8000\n",
       "[torch.LongStorage of size 1]\n",
       "\n",
       "--------------------------------\t\n"
      ]
     },
     "execution_count": 8,
     "metadata": {},
     "output_type": "execute_result"
    },
    {
     "data": {
      "text/plain": [
       "<mnist> done\t\n"
      ]
     },
     "execution_count": 8,
     "metadata": {},
     "output_type": "execute_result"
    },
    {
     "data": {
      "text/plain": [
       "--------------------------------\t\n",
       " loaded dataset \"test\"\t\n",
       "inputs\t 10000\n",
       "  1024\n",
       "[torch.LongStorage of size 2]\n",
       "\n",
       "targets\t 10000\n",
       "[torch.LongStorage of size 1]\n",
       "\n",
       "--------------------------------\t\n",
       "10\t\n",
       "1\t\n"
      ]
     },
     "execution_count": 8,
     "metadata": {},
     "output_type": "execute_result"
    },
    {
     "data": {
      "text/plain": [
       "minibatches processed:     10, loss = 18637.686830\t\n"
      ]
     },
     "execution_count": 8,
     "metadata": {},
     "output_type": "execute_result"
    },
    {
     "data": {
      "text/plain": [
       "minibatches processed:     20, loss = 1197.890536\t\n"
      ]
     },
     "execution_count": 8,
     "metadata": {},
     "output_type": "execute_result"
    },
    {
     "data": {
      "text/plain": [
       "minibatches processed:     30, loss = 2673.040349\t\n"
      ]
     },
     "execution_count": 8,
     "metadata": {},
     "output_type": "execute_result"
    },
    {
     "data": {
      "text/plain": [
       "minibatches processed:     40, loss = 1580.095193\t\n"
      ]
     },
     "execution_count": 8,
     "metadata": {},
     "output_type": "execute_result"
    },
    {
     "data": {
      "text/plain": [
       "minibatches processed:     50, loss = 1544.178437\t\n"
      ]
     },
     "execution_count": 8,
     "metadata": {},
     "output_type": "execute_result"
    },
    {
     "data": {
      "text/plain": [
       "minibatches processed:     60, loss = 2725.252494\t\n"
      ]
     },
     "execution_count": 8,
     "metadata": {},
     "output_type": "execute_result"
    },
    {
     "data": {
      "text/plain": [
       "minibatches processed:     70, loss = 2562.405501\t\n"
      ]
     },
     "execution_count": 8,
     "metadata": {},
     "output_type": "execute_result"
    },
    {
     "data": {
      "text/plain": [
       "minibatches processed:     80, loss = 2999.016556\t\n"
      ]
     },
     "execution_count": 8,
     "metadata": {},
     "output_type": "execute_result"
    },
    {
     "data": {
      "text/plain": [
       "minibatches processed:     90, loss = 4000.508009\t\n"
      ]
     },
     "execution_count": 8,
     "metadata": {},
     "output_type": "execute_result"
    },
    {
     "data": {
      "text/plain": [
       "minibatches processed:    100, loss = 1640.099601\t\n"
      ]
     },
     "execution_count": 8,
     "metadata": {},
     "output_type": "execute_result"
    },
    {
     "data": {
      "text/plain": [
       "minibatches processed:    110, loss = 3591.793226\t\n"
      ]
     },
     "execution_count": 8,
     "metadata": {},
     "output_type": "execute_result"
    },
    {
     "data": {
      "text/plain": [
       "minibatches processed:    120, loss = 5104.355401\t\n"
      ]
     },
     "execution_count": 8,
     "metadata": {},
     "output_type": "execute_result"
    },
    {
     "data": {
      "text/plain": [
       "minibatches processed:    130, loss = 2025.724121\t\n"
      ]
     },
     "execution_count": 8,
     "metadata": {},
     "output_type": "execute_result"
    },
    {
     "data": {
      "text/plain": [
       "minibatches processed:    140, loss = 4129.725431\t\n"
      ]
     },
     "execution_count": 8,
     "metadata": {},
     "output_type": "execute_result"
    },
    {
     "data": {
      "text/plain": [
       "minibatches processed:    150, loss = 3083.249304\t\n"
      ]
     },
     "execution_count": 8,
     "metadata": {},
     "output_type": "execute_result"
    },
    {
     "data": {
      "text/plain": [
       "minibatches processed:    160, loss = 1778.064072\t\n"
      ]
     },
     "execution_count": 8,
     "metadata": {},
     "output_type": "execute_result"
    },
    {
     "data": {
      "text/plain": [
       "minibatches processed:    170, loss = 3469.608857\t\n"
      ]
     },
     "execution_count": 8,
     "metadata": {},
     "output_type": "execute_result"
    },
    {
     "data": {
      "text/plain": [
       "minibatches processed:    180, loss = 2821.958241\t\n"
      ]
     },
     "execution_count": 8,
     "metadata": {},
     "output_type": "execute_result"
    },
    {
     "data": {
      "text/plain": [
       "minibatches processed:    190, loss = 1301.971760\t\n"
      ]
     },
     "execution_count": 8,
     "metadata": {},
     "output_type": "execute_result"
    },
    {
     "data": {
      "text/plain": [
       "minibatches processed:    200, loss = 1954.507804\t\n"
      ]
     },
     "execution_count": 8,
     "metadata": {},
     "output_type": "execute_result"
    },
    {
     "data": {
      "text/plain": [
       "minibatches processed:    210, loss = 1520.214161\t\n"
      ]
     },
     "execution_count": 8,
     "metadata": {},
     "output_type": "execute_result"
    },
    {
     "data": {
      "text/plain": [
       "minibatches processed:    220, loss = 1619.686990\t\n"
      ]
     },
     "execution_count": 8,
     "metadata": {},
     "output_type": "execute_result"
    },
    {
     "data": {
      "text/plain": [
       "minibatches processed:    230, loss = 1542.321124\t\n"
      ]
     },
     "execution_count": 8,
     "metadata": {},
     "output_type": "execute_result"
    },
    {
     "data": {
      "text/plain": [
       "minibatches processed:    240, loss = 3552.770369\t\n"
      ]
     },
     "execution_count": 8,
     "metadata": {},
     "output_type": "execute_result"
    },
    {
     "data": {
      "text/plain": [
       "minibatches processed:    250, loss = 3273.120457\t\n"
      ]
     },
     "execution_count": 8,
     "metadata": {},
     "output_type": "execute_result"
    },
    {
     "data": {
      "text/plain": [
       "minibatches processed:    260, loss = 947.610213\t\n"
      ]
     },
     "execution_count": 8,
     "metadata": {},
     "output_type": "execute_result"
    },
    {
     "data": {
      "text/plain": [
       "minibatches processed:    270, loss = 1518.981850\t\n"
      ]
     },
     "execution_count": 8,
     "metadata": {},
     "output_type": "execute_result"
    },
    {
     "data": {
      "text/plain": [
       "minibatches processed:    280, loss = 5390.339943\t\n"
      ]
     },
     "execution_count": 8,
     "metadata": {},
     "output_type": "execute_result"
    },
    {
     "data": {
      "text/plain": [
       "minibatches processed:    290, loss = 2007.822824\t\n"
      ]
     },
     "execution_count": 8,
     "metadata": {},
     "output_type": "execute_result"
    },
    {
     "data": {
      "text/plain": [
       "minibatches processed:    300, loss = 2208.006614\t\n"
      ]
     },
     "execution_count": 8,
     "metadata": {},
     "output_type": "execute_result"
    },
    {
     "data": {
      "text/plain": [
       "minibatches processed:    310, loss = 1484.122360\t\n"
      ]
     },
     "execution_count": 8,
     "metadata": {},
     "output_type": "execute_result"
    },
    {
     "data": {
      "text/plain": [
       "minibatches processed:    320, loss = 891.493785\t\n"
      ]
     },
     "execution_count": 8,
     "metadata": {},
     "output_type": "execute_result"
    },
    {
     "data": {
      "text/plain": [
       "0\t\n",
       "0\t\n",
       "0\t\n",
       "0\t\n",
       "0\t\n",
       "0\t\n"
      ]
     },
     "execution_count": 8,
     "metadata": {},
     "output_type": "execute_result"
    },
    {
     "data": {
      "text/plain": [
       "0\t\n",
       "0\t\n",
       "0\t\n"
      ]
     },
     "execution_count": 8,
     "metadata": {},
     "output_type": "execute_result"
    },
    {
     "data": {
      "text/plain": [
       "0\t\n"
      ]
     },
     "execution_count": 8,
     "metadata": {},
     "output_type": "execute_result"
    },
    {
     "data": {
      "text/plain": [
       "0\t\n",
       "0\t\n",
       "0\t\n",
       "0\t\n"
      ]
     },
     "execution_count": 8,
     "metadata": {},
     "output_type": "execute_result"
    },
    {
     "data": {
      "text/plain": [
       "0\t\n",
       "0\t\n"
      ]
     },
     "execution_count": 8,
     "metadata": {},
     "output_type": "execute_result"
    },
    {
     "data": {
      "text/plain": [
       "0\t\n"
      ]
     },
     "execution_count": 8,
     "metadata": {},
     "output_type": "execute_result"
    },
    {
     "data": {
      "text/plain": [
       "0\t\n",
       "0\t\n"
      ]
     },
     "execution_count": 8,
     "metadata": {},
     "output_type": "execute_result"
    },
    {
     "data": {
      "text/plain": [
       "0\t\n",
       "0\t\n",
       "0\t\n"
      ]
     },
     "execution_count": 8,
     "metadata": {},
     "output_type": "execute_result"
    },
    {
     "data": {
      "text/plain": [
       "0\t\n",
       "0\t\n",
       "0\t\n",
       "0\t\n"
      ]
     },
     "execution_count": 8,
     "metadata": {},
     "output_type": "execute_result"
    },
    {
     "data": {
      "text/plain": [
       "0\t\n",
       "0\t\n",
       "0\t\n",
       "0\t\n",
       "0\t\n",
       "0\t\n",
       "\n"
      ]
     },
     "execution_count": 8,
     "metadata": {},
     "output_type": "execute_result"
    }
   ],
   "source": [
    "dofile('digitClassifier.lua')"
   ]
  },
  {
   "cell_type": "code",
   "execution_count": 9,
   "metadata": {
    "collapsed": false
   },
   "outputs": [
    {
     "data": {
      "text/plain": [
       "<mnist> loading only 8000 examples\t\n",
       "<mnist> done\t\n"
      ]
     },
     "execution_count": 9,
     "metadata": {},
     "output_type": "execute_result"
    },
    {
     "data": {
      "text/plain": [
       "--------------------------------\t\n",
       " loaded dataset \"train\"\t\n",
       "inputs\t 8000\n",
       " 1024\n",
       "[torch.LongStorage of size 2]\n",
       "\n",
       "targets\t 8000\n",
       "[torch.LongStorage of size 1]\n",
       "\n"
      ]
     },
     "execution_count": 9,
     "metadata": {},
     "output_type": "execute_result"
    },
    {
     "data": {
      "text/plain": [
       "--------------------------------\t\n"
      ]
     },
     "execution_count": 9,
     "metadata": {},
     "output_type": "execute_result"
    },
    {
     "data": {
      "text/plain": [
       "<mnist> done\t\n"
      ]
     },
     "execution_count": 9,
     "metadata": {},
     "output_type": "execute_result"
    },
    {
     "data": {
      "text/plain": [
       "--------------------------------\t\n",
       " loaded dataset \"test\"\t\n",
       "inputs\t 10000\n",
       "  1024\n",
       "[torch.LongStorage of size 2]\n",
       "\n",
       "targets\t 10000\n",
       "[torch.LongStorage of size 1]\n",
       "\n",
       "--------------------------------\t\n",
       "10\t\n",
       "1\t\n"
      ]
     },
     "execution_count": 9,
     "metadata": {},
     "output_type": "execute_result"
    },
    {
     "data": {
      "text/plain": [
       "minibatches processed:     10, loss = 18637.686830\t\n"
      ]
     },
     "execution_count": 9,
     "metadata": {},
     "output_type": "execute_result"
    },
    {
     "data": {
      "text/plain": [
       "minibatches processed:     20, loss = 1197.890536\t\n"
      ]
     },
     "execution_count": 9,
     "metadata": {},
     "output_type": "execute_result"
    },
    {
     "data": {
      "text/plain": [
       "minibatches processed:     30, loss = 2673.040349\t\n"
      ]
     },
     "execution_count": 9,
     "metadata": {},
     "output_type": "execute_result"
    },
    {
     "data": {
      "text/plain": [
       "minibatches processed:     40, loss = 1580.095193\t\n"
      ]
     },
     "execution_count": 9,
     "metadata": {},
     "output_type": "execute_result"
    },
    {
     "data": {
      "text/plain": [
       "minibatches processed:     50, loss = 1544.178437\t\n"
      ]
     },
     "execution_count": 9,
     "metadata": {},
     "output_type": "execute_result"
    },
    {
     "data": {
      "text/plain": [
       "minibatches processed:     60, loss = 2725.252494\t\n"
      ]
     },
     "execution_count": 9,
     "metadata": {},
     "output_type": "execute_result"
    },
    {
     "data": {
      "text/plain": [
       "minibatches processed:     70, loss = 2562.405501\t\n"
      ]
     },
     "execution_count": 9,
     "metadata": {},
     "output_type": "execute_result"
    },
    {
     "data": {
      "text/plain": [
       "minibatches processed:     80, loss = 2999.016556\t\n"
      ]
     },
     "execution_count": 9,
     "metadata": {},
     "output_type": "execute_result"
    },
    {
     "data": {
      "text/plain": [
       "minibatches processed:     90, loss = 4000.508009\t\n"
      ]
     },
     "execution_count": 9,
     "metadata": {},
     "output_type": "execute_result"
    },
    {
     "data": {
      "text/plain": [
       "minibatches processed:    100, loss = 1640.099601\t\n"
      ]
     },
     "execution_count": 9,
     "metadata": {},
     "output_type": "execute_result"
    },
    {
     "data": {
      "text/plain": [
       "minibatches processed:    110, loss = 3591.793226\t\n"
      ]
     },
     "execution_count": 9,
     "metadata": {},
     "output_type": "execute_result"
    },
    {
     "data": {
      "text/plain": [
       "minibatches processed:    120, loss = 5104.355401\t\n"
      ]
     },
     "execution_count": 9,
     "metadata": {},
     "output_type": "execute_result"
    },
    {
     "data": {
      "text/plain": [
       "minibatches processed:    130, loss = 2025.724121\t\n"
      ]
     },
     "execution_count": 9,
     "metadata": {},
     "output_type": "execute_result"
    },
    {
     "data": {
      "text/plain": [
       "minibatches processed:    140, loss = 4129.725431\t\n"
      ]
     },
     "execution_count": 9,
     "metadata": {},
     "output_type": "execute_result"
    },
    {
     "data": {
      "text/plain": [
       "minibatches processed:    150, loss = 3083.249304\t\n"
      ]
     },
     "execution_count": 9,
     "metadata": {},
     "output_type": "execute_result"
    },
    {
     "data": {
      "text/plain": [
       "minibatches processed:    160, loss = 1778.064072\t\n"
      ]
     },
     "execution_count": 9,
     "metadata": {},
     "output_type": "execute_result"
    },
    {
     "data": {
      "text/plain": [
       "minibatches processed:    170, loss = 3469.608857\t\n"
      ]
     },
     "execution_count": 9,
     "metadata": {},
     "output_type": "execute_result"
    },
    {
     "data": {
      "text/plain": [
       "minibatches processed:    180, loss = 2821.958241\t\n"
      ]
     },
     "execution_count": 9,
     "metadata": {},
     "output_type": "execute_result"
    },
    {
     "data": {
      "text/plain": [
       "minibatches processed:    190, loss = 1301.971760\t\n"
      ]
     },
     "execution_count": 9,
     "metadata": {},
     "output_type": "execute_result"
    },
    {
     "data": {
      "text/plain": [
       "minibatches processed:    200, loss = 1954.507804\t\n"
      ]
     },
     "execution_count": 9,
     "metadata": {},
     "output_type": "execute_result"
    },
    {
     "data": {
      "text/plain": [
       "minibatches processed:    210, loss = 1520.214161\t\n"
      ]
     },
     "execution_count": 9,
     "metadata": {},
     "output_type": "execute_result"
    },
    {
     "data": {
      "text/plain": [
       "minibatches processed:    220, loss = 1619.686990\t\n"
      ]
     },
     "execution_count": 9,
     "metadata": {},
     "output_type": "execute_result"
    },
    {
     "data": {
      "text/plain": [
       "minibatches processed:    230, loss = 1542.321124\t\n"
      ]
     },
     "execution_count": 9,
     "metadata": {},
     "output_type": "execute_result"
    },
    {
     "data": {
      "text/plain": [
       "minibatches processed:    240, loss = 3552.770369\t\n"
      ]
     },
     "execution_count": 9,
     "metadata": {},
     "output_type": "execute_result"
    },
    {
     "data": {
      "text/plain": [
       "minibatches processed:    250, loss = 3273.120457\t\n"
      ]
     },
     "execution_count": 9,
     "metadata": {},
     "output_type": "execute_result"
    },
    {
     "data": {
      "text/plain": [
       "minibatches processed:    260, loss = 947.610213\t\n"
      ]
     },
     "execution_count": 9,
     "metadata": {},
     "output_type": "execute_result"
    },
    {
     "data": {
      "text/plain": [
       "minibatches processed:    270, loss = 1518.981850\t\n"
      ]
     },
     "execution_count": 9,
     "metadata": {},
     "output_type": "execute_result"
    },
    {
     "data": {
      "text/plain": [
       "minibatches processed:    280, loss = 5390.339943\t\n"
      ]
     },
     "execution_count": 9,
     "metadata": {},
     "output_type": "execute_result"
    },
    {
     "data": {
      "text/plain": [
       "minibatches processed:    290, loss = 2007.822824\t\n"
      ]
     },
     "execution_count": 9,
     "metadata": {},
     "output_type": "execute_result"
    },
    {
     "data": {
      "text/plain": [
       "minibatches processed:    300, loss = 2208.006614\t\n"
      ]
     },
     "execution_count": 9,
     "metadata": {},
     "output_type": "execute_result"
    },
    {
     "data": {
      "text/plain": [
       "minibatches processed:    310, loss = 1484.122360\t\n"
      ]
     },
     "execution_count": 9,
     "metadata": {},
     "output_type": "execute_result"
    },
    {
     "data": {
      "text/plain": [
       "minibatches processed:    320, loss = 891.493785\t\n"
      ]
     },
     "execution_count": 9,
     "metadata": {},
     "output_type": "execute_result"
    },
    {
     "data": {
      "text/plain": [
       "0\t\n",
       "0\t\n",
       "0\t\n",
       "0\t\n",
       "0\t"
      ]
     },
     "execution_count": 9,
     "metadata": {},
     "output_type": "execute_result"
    },
    {
     "data": {
      "text/plain": [
       "\n",
       "0\t\n",
       "0\t\n",
       "0\t\n",
       "0\t\n",
       "0\t\n",
       "0\t\n"
      ]
     },
     "execution_count": 9,
     "metadata": {},
     "output_type": "execute_result"
    },
    {
     "data": {
      "text/plain": [
       "0\t\n",
       "0\t\n",
       "0\t\n",
       "0\t\n",
       "0\t\n",
       "0\t\n"
      ]
     },
     "execution_count": 9,
     "metadata": {},
     "output_type": "execute_result"
    },
    {
     "data": {
      "text/plain": [
       "0\t\n",
       "0\t\n",
       "0\t\n"
      ]
     },
     "execution_count": 9,
     "metadata": {},
     "output_type": "execute_result"
    },
    {
     "data": {
      "text/plain": [
       "0\t\n",
       "0\t\n",
       "0\t\n",
       "0\t\n",
       "0\t\n"
      ]
     },
     "execution_count": 9,
     "metadata": {},
     "output_type": "execute_result"
    },
    {
     "data": {
      "text/plain": [
       "0\t\n",
       "0\t\n",
       "0\t\n",
       "0\t\n",
       "0\t\n",
       "0\t\n",
       "0\t\n",
       "\n"
      ]
     },
     "execution_count": 9,
     "metadata": {},
     "output_type": "execute_result"
    }
   ],
   "source": [
    "dofile('digitClassifier.lua')"
   ]
  },
  {
   "cell_type": "code",
   "execution_count": 10,
   "metadata": {
    "collapsed": false
   },
   "outputs": [
    {
     "data": {
      "text/plain": [
       "<mnist> loading only 8000 examples\t\n",
       "<mnist> done\t\n"
      ]
     },
     "execution_count": 10,
     "metadata": {},
     "output_type": "execute_result"
    },
    {
     "data": {
      "text/plain": [
       "--------------------------------\t\n",
       " loaded dataset \"train\"\t\n",
       "inputs\t 8000\n",
       " 1024\n",
       "[torch.LongStorage of size 2]\n",
       "\n",
       "targets\t 8000\n",
       "[torch.LongStorage of size 1]\n",
       "\n",
       "--------------------------------\t\n"
      ]
     },
     "execution_count": 10,
     "metadata": {},
     "output_type": "execute_result"
    },
    {
     "data": {
      "text/plain": [
       "<mnist> done\t\n"
      ]
     },
     "execution_count": 10,
     "metadata": {},
     "output_type": "execute_result"
    },
    {
     "data": {
      "text/plain": [
       "--------------------------------\t\n",
       " loaded dataset \"test\"\t\n",
       "inputs\t 10000\n",
       "  1024\n",
       "[torch.LongStorage of size 2]\n",
       "\n",
       "targets\t 10000\n",
       "[torch.LongStorage of size 1]\n",
       "\n",
       "--------------------------------\t\n",
       "10\t\n",
       "1\t\n"
      ]
     },
     "execution_count": 10,
     "metadata": {},
     "output_type": "execute_result"
    },
    {
     "data": {
      "text/plain": [
       "minibatches processed:     10, loss = 18637.686830\t\n"
      ]
     },
     "execution_count": 10,
     "metadata": {},
     "output_type": "execute_result"
    },
    {
     "data": {
      "text/plain": [
       "minibatches processed:     20, loss = 1197.890536\t\n"
      ]
     },
     "execution_count": 10,
     "metadata": {},
     "output_type": "execute_result"
    },
    {
     "data": {
      "text/plain": [
       "minibatches processed:     30, loss = 2673.040349\t\n"
      ]
     },
     "execution_count": 10,
     "metadata": {},
     "output_type": "execute_result"
    },
    {
     "data": {
      "text/plain": [
       "minibatches processed:     40, loss = 1580.095193\t\n"
      ]
     },
     "execution_count": 10,
     "metadata": {},
     "output_type": "execute_result"
    },
    {
     "data": {
      "text/plain": [
       "minibatches processed:     50, loss = 1544.178437\t\n"
      ]
     },
     "execution_count": 10,
     "metadata": {},
     "output_type": "execute_result"
    },
    {
     "data": {
      "text/plain": [
       "minibatches processed:     60, loss = 2725.252494\t\n"
      ]
     },
     "execution_count": 10,
     "metadata": {},
     "output_type": "execute_result"
    },
    {
     "data": {
      "text/plain": [
       "minibatches processed:     70, loss = 2562.405501\t\n"
      ]
     },
     "execution_count": 10,
     "metadata": {},
     "output_type": "execute_result"
    },
    {
     "data": {
      "text/plain": [
       "minibatches processed:     80, loss = 2999.016556\t\n"
      ]
     },
     "execution_count": 10,
     "metadata": {},
     "output_type": "execute_result"
    },
    {
     "data": {
      "text/plain": [
       "minibatches processed:     90, loss = 4000.508009\t\n"
      ]
     },
     "execution_count": 10,
     "metadata": {},
     "output_type": "execute_result"
    },
    {
     "data": {
      "text/plain": [
       "minibatches processed:    100, loss = 1640.099601\t\n"
      ]
     },
     "execution_count": 10,
     "metadata": {},
     "output_type": "execute_result"
    },
    {
     "data": {
      "text/plain": [
       "minibatches processed:    110, loss = 3591.793226\t\n"
      ]
     },
     "execution_count": 10,
     "metadata": {},
     "output_type": "execute_result"
    },
    {
     "data": {
      "text/plain": [
       "minibatches processed:    120, loss = 5104.355401\t\n"
      ]
     },
     "execution_count": 10,
     "metadata": {},
     "output_type": "execute_result"
    },
    {
     "data": {
      "text/plain": [
       "minibatches processed:    130, loss = 2025.724121\t\n"
      ]
     },
     "execution_count": 10,
     "metadata": {},
     "output_type": "execute_result"
    },
    {
     "data": {
      "text/plain": [
       "minibatches processed:    140, loss = 4129.725431\t\n"
      ]
     },
     "execution_count": 10,
     "metadata": {},
     "output_type": "execute_result"
    },
    {
     "data": {
      "text/plain": [
       "minibatches processed:    150, loss = 3083.249304\t\n"
      ]
     },
     "execution_count": 10,
     "metadata": {},
     "output_type": "execute_result"
    },
    {
     "data": {
      "text/plain": [
       "minibatches processed:    160, loss = 1778.064072\t\n"
      ]
     },
     "execution_count": 10,
     "metadata": {},
     "output_type": "execute_result"
    },
    {
     "data": {
      "text/plain": [
       "minibatches processed:    170, loss = 3469.608857\t\n"
      ]
     },
     "execution_count": 10,
     "metadata": {},
     "output_type": "execute_result"
    },
    {
     "data": {
      "text/plain": [
       "minibatches processed:    180, loss = 2821.958241\t\n"
      ]
     },
     "execution_count": 10,
     "metadata": {},
     "output_type": "execute_result"
    },
    {
     "data": {
      "text/plain": [
       "minibatches processed:    190, loss = 1301.971760\t\n"
      ]
     },
     "execution_count": 10,
     "metadata": {},
     "output_type": "execute_result"
    },
    {
     "data": {
      "text/plain": [
       "minibatches processed:    200, loss = 1954.507804\t\n"
      ]
     },
     "execution_count": 10,
     "metadata": {},
     "output_type": "execute_result"
    },
    {
     "data": {
      "text/plain": [
       "minibatches processed:    210, loss = 1520.214161\t\n"
      ]
     },
     "execution_count": 10,
     "metadata": {},
     "output_type": "execute_result"
    },
    {
     "data": {
      "text/plain": [
       "minibatches processed:    220, loss = 1619.686990\t\n"
      ]
     },
     "execution_count": 10,
     "metadata": {},
     "output_type": "execute_result"
    },
    {
     "data": {
      "text/plain": [
       "minibatches processed:    230, loss = 1542.321124\t\n"
      ]
     },
     "execution_count": 10,
     "metadata": {},
     "output_type": "execute_result"
    },
    {
     "data": {
      "text/plain": [
       "minibatches processed:    240, loss = 3552.770369\t\n"
      ]
     },
     "execution_count": 10,
     "metadata": {},
     "output_type": "execute_result"
    },
    {
     "data": {
      "text/plain": [
       "minibatches processed:    250, loss = 3273.120457\t\n"
      ]
     },
     "execution_count": 10,
     "metadata": {},
     "output_type": "execute_result"
    },
    {
     "data": {
      "text/plain": [
       "minibatches processed:    260, loss = 947.610213\t\n"
      ]
     },
     "execution_count": 10,
     "metadata": {},
     "output_type": "execute_result"
    },
    {
     "data": {
      "text/plain": [
       "minibatches processed:    270, loss = 1518.981850\t\n"
      ]
     },
     "execution_count": 10,
     "metadata": {},
     "output_type": "execute_result"
    },
    {
     "data": {
      "text/plain": [
       "minibatches processed:    280, loss = 5390.339943\t\n"
      ]
     },
     "execution_count": 10,
     "metadata": {},
     "output_type": "execute_result"
    },
    {
     "data": {
      "text/plain": [
       "minibatches processed:    290, loss = 2007.822824\t\n"
      ]
     },
     "execution_count": 10,
     "metadata": {},
     "output_type": "execute_result"
    },
    {
     "data": {
      "text/plain": [
       "minibatches processed:    300, loss = 2208.006614\t\n"
      ]
     },
     "execution_count": 10,
     "metadata": {},
     "output_type": "execute_result"
    },
    {
     "data": {
      "text/plain": [
       "minibatches processed:    310, loss = 1484.122360\t\n"
      ]
     },
     "execution_count": 10,
     "metadata": {},
     "output_type": "execute_result"
    },
    {
     "data": {
      "text/plain": [
       "minibatches processed:    320, loss = 891.493785\t\n"
      ]
     },
     "execution_count": 10,
     "metadata": {},
     "output_type": "execute_result"
    },
    {
     "data": {
      "text/plain": [
       "0\t\n"
      ]
     },
     "execution_count": 10,
     "metadata": {},
     "output_type": "execute_result"
    },
    {
     "data": {
      "text/plain": [
       "0\t\n",
       "0\t\n",
       "0\t\n",
       "0\t\n",
       "0\t\n",
       "0\t\n",
       "0\t\n",
       "0\t\n",
       "0\t\n",
       "0\t\n",
       "0\t\n",
       "0\t\n",
       "0\t\n"
      ]
     },
     "execution_count": 10,
     "metadata": {},
     "output_type": "execute_result"
    },
    {
     "data": {
      "text/plain": [
       "0\t\n",
       "0\t\n",
       "0\t\n",
       "0\t\n",
       "0\t\n",
       "0\t\n",
       "0\t\n",
       "0\t\n"
      ]
     },
     "execution_count": 10,
     "metadata": {},
     "output_type": "execute_result"
    },
    {
     "data": {
      "text/plain": [
       "0\t\n",
       "0\t\n",
       "0\t\n",
       "0\t\n",
       "0\t\n"
      ]
     },
     "execution_count": 10,
     "metadata": {},
     "output_type": "execute_result"
    },
    {
     "data": {
      "text/plain": [
       "0\t\n"
      ]
     },
     "execution_count": 10,
     "metadata": {},
     "output_type": "execute_result"
    },
    {
     "data": {
      "text/plain": [
       "0\t\n",
       "0\t\n",
       "0\t\n",
       "0\t\n",
       "\n"
      ]
     },
     "execution_count": 10,
     "metadata": {},
     "output_type": "execute_result"
    }
   ],
   "source": [
    "dofile('digitClassifier.lua')"
   ]
  },
  {
   "cell_type": "code",
   "execution_count": 11,
   "metadata": {
    "collapsed": false
   },
   "outputs": [
    {
     "data": {
      "text/plain": [
       "<mnist> loading only 8000 examples\t\n",
       "<mnist> done\t\n"
      ]
     },
     "execution_count": 11,
     "metadata": {},
     "output_type": "execute_result"
    },
    {
     "data": {
      "text/plain": [
       "--------------------------------\t\n",
       " loaded dataset \"train\"\t\n",
       "inputs\t"
      ]
     },
     "execution_count": 11,
     "metadata": {},
     "output_type": "execute_result"
    },
    {
     "data": {
      "text/plain": [
       " 8000\n",
       " 1024\n",
       "[torch.LongStorage of size 2]\n",
       "\n",
       "targets\t 8000\n",
       "[torch.LongStorage of size 1]\n",
       "\n",
       "--------------------------------\t\n"
      ]
     },
     "execution_count": 11,
     "metadata": {},
     "output_type": "execute_result"
    },
    {
     "data": {
      "text/plain": [
       "<mnist> done\t\n"
      ]
     },
     "execution_count": 11,
     "metadata": {},
     "output_type": "execute_result"
    },
    {
     "data": {
      "text/plain": [
       "--------------------------------\t\n",
       " loaded dataset \"test\"\t\n",
       "inputs\t 10000\n",
       "  1024\n",
       "[torch.LongStorage of size 2]\n",
       "\n",
       "targets\t 10000\n",
       "[torch.LongStorage of size 1]\n",
       "\n",
       "--------------------------------\t\n",
       "10\t\n",
       "1\t\n"
      ]
     },
     "execution_count": 11,
     "metadata": {},
     "output_type": "execute_result"
    },
    {
     "data": {
      "text/plain": [
       "minibatches processed:     10, loss = 18637.686830\t\n"
      ]
     },
     "execution_count": 11,
     "metadata": {},
     "output_type": "execute_result"
    },
    {
     "data": {
      "text/plain": [
       "minibatches processed:     20, loss = 1197.890536\t\n"
      ]
     },
     "execution_count": 11,
     "metadata": {},
     "output_type": "execute_result"
    },
    {
     "data": {
      "text/plain": [
       "minibatches processed:     30, loss = 2673.040349\t\n"
      ]
     },
     "execution_count": 11,
     "metadata": {},
     "output_type": "execute_result"
    },
    {
     "data": {
      "text/plain": [
       "minibatches processed:     40, loss = 1580.095193\t\n"
      ]
     },
     "execution_count": 11,
     "metadata": {},
     "output_type": "execute_result"
    },
    {
     "data": {
      "text/plain": [
       "minibatches processed:     50, loss = 1544.178437\t\n"
      ]
     },
     "execution_count": 11,
     "metadata": {},
     "output_type": "execute_result"
    },
    {
     "data": {
      "text/plain": [
       "minibatches processed:     60, loss = 2725.252494\t\n"
      ]
     },
     "execution_count": 11,
     "metadata": {},
     "output_type": "execute_result"
    },
    {
     "data": {
      "text/plain": [
       "minibatches processed:     70, loss = 2562.405501\t\n"
      ]
     },
     "execution_count": 11,
     "metadata": {},
     "output_type": "execute_result"
    },
    {
     "data": {
      "text/plain": [
       "minibatches processed:     80, loss = 2999.016556\t\n"
      ]
     },
     "execution_count": 11,
     "metadata": {},
     "output_type": "execute_result"
    },
    {
     "data": {
      "text/plain": [
       "minibatches processed:     90, loss = 4000.508009\t\n"
      ]
     },
     "execution_count": 11,
     "metadata": {},
     "output_type": "execute_result"
    },
    {
     "data": {
      "text/plain": [
       "minibatches processed:    100, loss = 1640.099601\t\n"
      ]
     },
     "execution_count": 11,
     "metadata": {},
     "output_type": "execute_result"
    },
    {
     "data": {
      "text/plain": [
       "minibatches processed:    110, loss = 3591.793226\t\n"
      ]
     },
     "execution_count": 11,
     "metadata": {},
     "output_type": "execute_result"
    },
    {
     "data": {
      "text/plain": [
       "minibatches processed:    120, loss = 5104.355401\t\n"
      ]
     },
     "execution_count": 11,
     "metadata": {},
     "output_type": "execute_result"
    },
    {
     "data": {
      "text/plain": [
       "minibatches processed:    130, loss = 2025.724121\t\n"
      ]
     },
     "execution_count": 11,
     "metadata": {},
     "output_type": "execute_result"
    },
    {
     "data": {
      "text/plain": [
       "minibatches processed:    140, loss = 4129.725431\t\n"
      ]
     },
     "execution_count": 11,
     "metadata": {},
     "output_type": "execute_result"
    },
    {
     "data": {
      "text/plain": [
       "minibatches processed:    150, loss = 3083.249304\t\n"
      ]
     },
     "execution_count": 11,
     "metadata": {},
     "output_type": "execute_result"
    },
    {
     "data": {
      "text/plain": [
       "minibatches processed:    160, loss = 1778.064072\t"
      ]
     },
     "execution_count": 11,
     "metadata": {},
     "output_type": "execute_result"
    },
    {
     "data": {
      "text/plain": [
       "\n"
      ]
     },
     "execution_count": 11,
     "metadata": {},
     "output_type": "execute_result"
    },
    {
     "data": {
      "text/plain": [
       "minibatches processed:    170, loss = 3469.608857\t\n"
      ]
     },
     "execution_count": 11,
     "metadata": {},
     "output_type": "execute_result"
    },
    {
     "data": {
      "text/plain": [
       "minibatches processed:    180, loss = 2821.958241\t\n"
      ]
     },
     "execution_count": 11,
     "metadata": {},
     "output_type": "execute_result"
    },
    {
     "data": {
      "text/plain": [
       "minibatches processed:    190, loss = 1301.971760\t\n"
      ]
     },
     "execution_count": 11,
     "metadata": {},
     "output_type": "execute_result"
    },
    {
     "data": {
      "text/plain": [
       "minibatches processed:    200, loss = 1954.507804\t\n"
      ]
     },
     "execution_count": 11,
     "metadata": {},
     "output_type": "execute_result"
    },
    {
     "data": {
      "text/plain": [
       "minibatches processed:    210, loss = 1520.214161\t\n"
      ]
     },
     "execution_count": 11,
     "metadata": {},
     "output_type": "execute_result"
    },
    {
     "data": {
      "text/plain": [
       "minibatches processed:    220, loss = 1619.686990\t\n"
      ]
     },
     "execution_count": 11,
     "metadata": {},
     "output_type": "execute_result"
    },
    {
     "data": {
      "text/plain": [
       "minibatches processed:    230, loss = 1542.321124\t\n"
      ]
     },
     "execution_count": 11,
     "metadata": {},
     "output_type": "execute_result"
    },
    {
     "data": {
      "text/plain": [
       "minibatches processed:    240, loss = 3552.770369\t\n"
      ]
     },
     "execution_count": 11,
     "metadata": {},
     "output_type": "execute_result"
    },
    {
     "data": {
      "text/plain": [
       "minibatches processed:    250, loss = 3273.120457\t\n"
      ]
     },
     "execution_count": 11,
     "metadata": {},
     "output_type": "execute_result"
    },
    {
     "data": {
      "text/plain": [
       "minibatches processed:    260, loss = 947.610213\t\n"
      ]
     },
     "execution_count": 11,
     "metadata": {},
     "output_type": "execute_result"
    },
    {
     "data": {
      "text/plain": [
       "minibatches processed:    270, loss = 1518.981850\t\n"
      ]
     },
     "execution_count": 11,
     "metadata": {},
     "output_type": "execute_result"
    },
    {
     "data": {
      "text/plain": [
       "minibatches processed:    280, loss = 5390.339943\t\n"
      ]
     },
     "execution_count": 11,
     "metadata": {},
     "output_type": "execute_result"
    },
    {
     "data": {
      "text/plain": [
       "minibatches processed:    290, loss = 2007.822824\t\n"
      ]
     },
     "execution_count": 11,
     "metadata": {},
     "output_type": "execute_result"
    },
    {
     "data": {
      "text/plain": [
       "minibatches processed:    300, loss = 2208.006614\t\n"
      ]
     },
     "execution_count": 11,
     "metadata": {},
     "output_type": "execute_result"
    },
    {
     "data": {
      "text/plain": [
       "minibatches processed:    310, loss = 1484.122360\t\n"
      ]
     },
     "execution_count": 11,
     "metadata": {},
     "output_type": "execute_result"
    },
    {
     "data": {
      "text/plain": [
       "minibatches processed:    320, loss = 891.493785\t\n"
      ]
     },
     "execution_count": 11,
     "metadata": {},
     "output_type": "execute_result"
    },
    {
     "data": {
      "text/plain": [
       "0\t\n",
       "0\t\n",
       "0\t\n"
      ]
     },
     "execution_count": 11,
     "metadata": {},
     "output_type": "execute_result"
    },
    {
     "data": {
      "text/plain": [
       "0\t\n",
       "0\t\n"
      ]
     },
     "execution_count": 11,
     "metadata": {},
     "output_type": "execute_result"
    },
    {
     "data": {
      "text/plain": [
       "0\t\n",
       "0\t\n"
      ]
     },
     "execution_count": 11,
     "metadata": {},
     "output_type": "execute_result"
    },
    {
     "data": {
      "text/plain": [
       "0\t\n",
       "0\t\n"
      ]
     },
     "execution_count": 11,
     "metadata": {},
     "output_type": "execute_result"
    },
    {
     "data": {
      "text/plain": [
       "0\t\n",
       "0\t\n",
       "0\t\n"
      ]
     },
     "execution_count": 11,
     "metadata": {},
     "output_type": "execute_result"
    },
    {
     "data": {
      "text/plain": [
       "0\t\n",
       "0\t\n"
      ]
     },
     "execution_count": 11,
     "metadata": {},
     "output_type": "execute_result"
    },
    {
     "data": {
      "text/plain": [
       "0\t\n",
       "0\t\n",
       "0\t\n"
      ]
     },
     "execution_count": 11,
     "metadata": {},
     "output_type": "execute_result"
    },
    {
     "data": {
      "text/plain": [
       "0\t\n",
       "0\t\n"
      ]
     },
     "execution_count": 11,
     "metadata": {},
     "output_type": "execute_result"
    },
    {
     "data": {
      "text/plain": [
       "0\t\n",
       "0\t\n",
       "0\t\n",
       "0\t\n"
      ]
     },
     "execution_count": 11,
     "metadata": {},
     "output_type": "execute_result"
    },
    {
     "data": {
      "text/plain": [
       "0\t\n",
       "0\t\n",
       "0\t\n",
       "0\t\n",
       "0\t\n"
      ]
     },
     "execution_count": 11,
     "metadata": {},
     "output_type": "execute_result"
    },
    {
     "data": {
      "text/plain": [
       "0\t\n",
       "0\t\n",
       "0\t\n",
       "0\t\n",
       "\n"
      ]
     },
     "execution_count": 11,
     "metadata": {},
     "output_type": "execute_result"
    }
   ],
   "source": [
    "dofile('digitClassifier.lua')\n"
   ]
  },
  {
   "cell_type": "code",
   "execution_count": 12,
   "metadata": {
    "collapsed": false
   },
   "outputs": [
    {
     "data": {
      "text/plain": [
       "<mnist> loading only 8000 examples\t\n",
       "<mnist> done\t\n"
      ]
     },
     "execution_count": 12,
     "metadata": {},
     "output_type": "execute_result"
    },
    {
     "data": {
      "text/plain": [
       "--------------------------------\t\n",
       " loaded dataset \"train\"\t\n"
      ]
     },
     "execution_count": 12,
     "metadata": {},
     "output_type": "execute_result"
    },
    {
     "data": {
      "text/plain": [
       "inputs\t 8000\n",
       " 1024\n",
       "[torch.LongStorage of size 2]\n",
       "\n",
       "targets\t 8000\n",
       "[torch.LongStorage of size 1]\n",
       "\n",
       "--------------------------------\t\n"
      ]
     },
     "execution_count": 12,
     "metadata": {},
     "output_type": "execute_result"
    },
    {
     "data": {
      "text/plain": [
       "<mnist> done\t\n"
      ]
     },
     "execution_count": 12,
     "metadata": {},
     "output_type": "execute_result"
    },
    {
     "data": {
      "text/plain": [
       "--------------------------------\t\n",
       " loaded dataset \"test\"\t\n",
       "inputs\t 10000\n",
       "  1024\n",
       "[torch.LongStorage of size 2]\n",
       "\n",
       "targets\t 10000\n",
       "[torch.LongStorage of size 1]\n",
       "\n",
       "--------------------------------\t\n",
       "10\t\n",
       "1\t\n"
      ]
     },
     "execution_count": 12,
     "metadata": {},
     "output_type": "execute_result"
    },
    {
     "data": {
      "text/plain": [
       "minibatches processed:     10, loss = 18637.686830\t\n"
      ]
     },
     "execution_count": 12,
     "metadata": {},
     "output_type": "execute_result"
    },
    {
     "data": {
      "text/plain": [
       "minibatches processed:     20, loss = 1197.890536\t\n"
      ]
     },
     "execution_count": 12,
     "metadata": {},
     "output_type": "execute_result"
    },
    {
     "data": {
      "text/plain": [
       "minibatches processed:     30, loss = 2673.040349\t\n"
      ]
     },
     "execution_count": 12,
     "metadata": {},
     "output_type": "execute_result"
    },
    {
     "data": {
      "text/plain": [
       "minibatches processed:     40, loss = 1580.095193\t\n"
      ]
     },
     "execution_count": 12,
     "metadata": {},
     "output_type": "execute_result"
    },
    {
     "data": {
      "text/plain": [
       "minibatches processed:     50, loss = 1544.178437\t\n"
      ]
     },
     "execution_count": 12,
     "metadata": {},
     "output_type": "execute_result"
    },
    {
     "data": {
      "text/plain": [
       "minibatches processed:     60, loss = 2725.252494\t\n"
      ]
     },
     "execution_count": 12,
     "metadata": {},
     "output_type": "execute_result"
    },
    {
     "data": {
      "text/plain": [
       "minibatches processed:     70, loss = 2562.405501\t\n"
      ]
     },
     "execution_count": 12,
     "metadata": {},
     "output_type": "execute_result"
    },
    {
     "data": {
      "text/plain": [
       "minibatches processed:     80, loss = 2999.016556\t\n"
      ]
     },
     "execution_count": 12,
     "metadata": {},
     "output_type": "execute_result"
    },
    {
     "data": {
      "text/plain": [
       "minibatches processed:     90, loss = 4000.508009\t\n"
      ]
     },
     "execution_count": 12,
     "metadata": {},
     "output_type": "execute_result"
    },
    {
     "data": {
      "text/plain": [
       "minibatches processed:    100, loss = 1640.099601\t\n"
      ]
     },
     "execution_count": 12,
     "metadata": {},
     "output_type": "execute_result"
    },
    {
     "data": {
      "text/plain": [
       "minibatches processed:    110, loss = 3591.793226\t\n"
      ]
     },
     "execution_count": 12,
     "metadata": {},
     "output_type": "execute_result"
    },
    {
     "data": {
      "text/plain": [
       "minibatches processed:    120, loss = 5104.355401\t\n"
      ]
     },
     "execution_count": 12,
     "metadata": {},
     "output_type": "execute_result"
    },
    {
     "data": {
      "text/plain": [
       "minibatches processed:    130, loss = 2025.724121\t\n"
      ]
     },
     "execution_count": 12,
     "metadata": {},
     "output_type": "execute_result"
    },
    {
     "data": {
      "text/plain": [
       "minibatches processed:    140, loss = 4129.725431\t\n"
      ]
     },
     "execution_count": 12,
     "metadata": {},
     "output_type": "execute_result"
    },
    {
     "data": {
      "text/plain": [
       "minibatches processed:    150, loss = 3083.249304\t\n"
      ]
     },
     "execution_count": 12,
     "metadata": {},
     "output_type": "execute_result"
    },
    {
     "data": {
      "text/plain": [
       "minibatches processed:    160, loss = 1778.064072\t\n"
      ]
     },
     "execution_count": 12,
     "metadata": {},
     "output_type": "execute_result"
    },
    {
     "data": {
      "text/plain": [
       "minibatches processed:    170, loss = 3469.608857\t\n"
      ]
     },
     "execution_count": 12,
     "metadata": {},
     "output_type": "execute_result"
    },
    {
     "data": {
      "text/plain": [
       "minibatches processed:    180, loss = 2821.958241\t\n"
      ]
     },
     "execution_count": 12,
     "metadata": {},
     "output_type": "execute_result"
    },
    {
     "data": {
      "text/plain": [
       "minibatches processed:    190, loss = 1301.971760\t\n"
      ]
     },
     "execution_count": 12,
     "metadata": {},
     "output_type": "execute_result"
    },
    {
     "data": {
      "text/plain": [
       "minibatches processed:    200, loss = 1954.507804\t\n"
      ]
     },
     "execution_count": 12,
     "metadata": {},
     "output_type": "execute_result"
    },
    {
     "data": {
      "text/plain": [
       "minibatches processed:    210, loss = 1520.214161\t\n"
      ]
     },
     "execution_count": 12,
     "metadata": {},
     "output_type": "execute_result"
    },
    {
     "data": {
      "text/plain": [
       "minibatches processed:    220, loss = 1619.686990\t\n"
      ]
     },
     "execution_count": 12,
     "metadata": {},
     "output_type": "execute_result"
    },
    {
     "data": {
      "text/plain": [
       "minibatches processed:    230, loss = 1542.321124\t\n"
      ]
     },
     "execution_count": 12,
     "metadata": {},
     "output_type": "execute_result"
    },
    {
     "data": {
      "text/plain": [
       "minibatches processed:    240, loss = 3552.770369\t\n"
      ]
     },
     "execution_count": 12,
     "metadata": {},
     "output_type": "execute_result"
    },
    {
     "data": {
      "text/plain": [
       "minibatches processed:    250, loss = 3273.120457\t\n"
      ]
     },
     "execution_count": 12,
     "metadata": {},
     "output_type": "execute_result"
    },
    {
     "data": {
      "text/plain": [
       "minibatches processed:    260, loss = 947.610213\t\n"
      ]
     },
     "execution_count": 12,
     "metadata": {},
     "output_type": "execute_result"
    },
    {
     "data": {
      "text/plain": [
       "minibatches processed:    270, loss = 1518.981850\t\n"
      ]
     },
     "execution_count": 12,
     "metadata": {},
     "output_type": "execute_result"
    },
    {
     "data": {
      "text/plain": [
       "minibatches processed:    280, loss = 5390.339943\t\n"
      ]
     },
     "execution_count": 12,
     "metadata": {},
     "output_type": "execute_result"
    },
    {
     "data": {
      "text/plain": [
       "minibatches processed:    290, loss = 2007.822824\t\n"
      ]
     },
     "execution_count": 12,
     "metadata": {},
     "output_type": "execute_result"
    },
    {
     "data": {
      "text/plain": [
       "minibatches processed:    300, loss = 2208.006614\t\n"
      ]
     },
     "execution_count": 12,
     "metadata": {},
     "output_type": "execute_result"
    },
    {
     "data": {
      "text/plain": [
       "minibatches processed:    310, loss = 1484.122360\t\n"
      ]
     },
     "execution_count": 12,
     "metadata": {},
     "output_type": "execute_result"
    },
    {
     "data": {
      "text/plain": [
       "minibatches processed:    320, loss = 891.493785\t\n"
      ]
     },
     "execution_count": 12,
     "metadata": {},
     "output_type": "execute_result"
    },
    {
     "data": {
      "text/plain": [
       "\n"
      ]
     },
     "execution_count": 12,
     "metadata": {},
     "output_type": "execute_result"
    }
   ],
   "source": [
    "dofile('digitClassifier.lua')"
   ]
  },
  {
   "cell_type": "code",
   "execution_count": 13,
   "metadata": {
    "collapsed": false
   },
   "outputs": [
    {
     "data": {
      "text/plain": [
       "<mnist> loading only 8000 examples\t\n",
       "<mnist> done\t\n"
      ]
     },
     "execution_count": 13,
     "metadata": {},
     "output_type": "execute_result"
    },
    {
     "data": {
      "text/plain": [
       "--------------------------------\t\n",
       " loaded dataset \"train\"\t\n",
       "inputs\t"
      ]
     },
     "execution_count": 13,
     "metadata": {},
     "output_type": "execute_result"
    },
    {
     "data": {
      "text/plain": [
       " 8000\n",
       " 1024\n",
       "[torch.LongStorage of size 2]\n",
       "\n",
       "targets\t 8000\n",
       "[torch.LongStorage of size 1]\n",
       "\n",
       "--------------------------------\t\n"
      ]
     },
     "execution_count": 13,
     "metadata": {},
     "output_type": "execute_result"
    },
    {
     "data": {
      "text/plain": [
       "<mnist> done\t\n"
      ]
     },
     "execution_count": 13,
     "metadata": {},
     "output_type": "execute_result"
    },
    {
     "data": {
      "text/plain": [
       "--------------------------------\t\n",
       " loaded dataset \"test\"\t\n",
       "inputs\t 10000\n",
       "  1024\n",
       "[torch.LongStorage of size 2]\n",
       "\n",
       "targets\t 10000\n",
       "[torch.LongStorage of size 1]\n",
       "\n",
       "--------------------------------\t\n"
      ]
     },
     "execution_count": 13,
     "metadata": {},
     "output_type": "execute_result"
    },
    {
     "data": {
      "text/plain": [
       "10\t\n",
       "1\t\n"
      ]
     },
     "execution_count": 13,
     "metadata": {},
     "output_type": "execute_result"
    },
    {
     "data": {
      "text/plain": [
       "minibatches processed:     10, loss = 18637.686830\t\n"
      ]
     },
     "execution_count": 13,
     "metadata": {},
     "output_type": "execute_result"
    },
    {
     "data": {
      "text/plain": [
       "minibatches processed:     20, loss = 1197.890536\t\n"
      ]
     },
     "execution_count": 13,
     "metadata": {},
     "output_type": "execute_result"
    },
    {
     "data": {
      "text/plain": [
       "minibatches processed:     30, loss = 2673.040349\t\n"
      ]
     },
     "execution_count": 13,
     "metadata": {},
     "output_type": "execute_result"
    },
    {
     "data": {
      "text/plain": [
       "minibatches processed:     40, loss = 1580.095193\t\n"
      ]
     },
     "execution_count": 13,
     "metadata": {},
     "output_type": "execute_result"
    },
    {
     "data": {
      "text/plain": [
       "minibatches processed:     50, loss = 1544.178437\t\n"
      ]
     },
     "execution_count": 13,
     "metadata": {},
     "output_type": "execute_result"
    },
    {
     "data": {
      "text/plain": [
       "minibatches processed:     60, loss = 2725.252494\t\n"
      ]
     },
     "execution_count": 13,
     "metadata": {},
     "output_type": "execute_result"
    },
    {
     "data": {
      "text/plain": [
       "minibatches processed:     70, loss = 2562.405501\t\n"
      ]
     },
     "execution_count": 13,
     "metadata": {},
     "output_type": "execute_result"
    },
    {
     "data": {
      "text/plain": [
       "minibatches processed:     80, loss = 2999.016556\t\n"
      ]
     },
     "execution_count": 13,
     "metadata": {},
     "output_type": "execute_result"
    },
    {
     "data": {
      "text/plain": [
       "minibatches processed:     90, loss = 4000.508009\t\n"
      ]
     },
     "execution_count": 13,
     "metadata": {},
     "output_type": "execute_result"
    },
    {
     "data": {
      "text/plain": [
       "minibatches processed:    100, loss = 1640.099601\t\n"
      ]
     },
     "execution_count": 13,
     "metadata": {},
     "output_type": "execute_result"
    },
    {
     "data": {
      "text/plain": [
       "minibatches processed:    110, loss = 3591.793226\t\n"
      ]
     },
     "execution_count": 13,
     "metadata": {},
     "output_type": "execute_result"
    },
    {
     "data": {
      "text/plain": [
       "minibatches processed:    120, loss = 5104.355401\t\n"
      ]
     },
     "execution_count": 13,
     "metadata": {},
     "output_type": "execute_result"
    },
    {
     "data": {
      "text/plain": [
       "minibatches processed:    130, loss = 2025.724121\t\n"
      ]
     },
     "execution_count": 13,
     "metadata": {},
     "output_type": "execute_result"
    },
    {
     "data": {
      "text/plain": [
       "minibatches processed:    140, loss = 4129.725431\t\n"
      ]
     },
     "execution_count": 13,
     "metadata": {},
     "output_type": "execute_result"
    },
    {
     "data": {
      "text/plain": [
       "minibatches processed:    150, loss = 3083.249304\t\n"
      ]
     },
     "execution_count": 13,
     "metadata": {},
     "output_type": "execute_result"
    },
    {
     "data": {
      "text/plain": [
       "minibatches processed:    160, loss = 1778.064072\t\n"
      ]
     },
     "execution_count": 13,
     "metadata": {},
     "output_type": "execute_result"
    },
    {
     "data": {
      "text/plain": [
       "minibatches processed:    170, loss = 3469.608857\t\n"
      ]
     },
     "execution_count": 13,
     "metadata": {},
     "output_type": "execute_result"
    },
    {
     "data": {
      "text/plain": [
       "minibatches processed:    180, loss = 2821.958241\t\n"
      ]
     },
     "execution_count": 13,
     "metadata": {},
     "output_type": "execute_result"
    },
    {
     "data": {
      "text/plain": [
       "minibatches processed:    190, loss = 1301.971760\t\n"
      ]
     },
     "execution_count": 13,
     "metadata": {},
     "output_type": "execute_result"
    },
    {
     "data": {
      "text/plain": [
       "minibatches processed:    200, loss = 1954.507804\t\n"
      ]
     },
     "execution_count": 13,
     "metadata": {},
     "output_type": "execute_result"
    },
    {
     "data": {
      "text/plain": [
       "minibatches processed:    210, loss = 1520.214161\t\n"
      ]
     },
     "execution_count": 13,
     "metadata": {},
     "output_type": "execute_result"
    },
    {
     "data": {
      "text/plain": [
       "minibatches processed:    220, loss = 1619.686990\t\n"
      ]
     },
     "execution_count": 13,
     "metadata": {},
     "output_type": "execute_result"
    },
    {
     "data": {
      "text/plain": [
       "minibatches processed:    230, loss = 1542.321124\t\n"
      ]
     },
     "execution_count": 13,
     "metadata": {},
     "output_type": "execute_result"
    },
    {
     "data": {
      "text/plain": [
       "minibatches processed:    240, loss = 3552.770369\t\n"
      ]
     },
     "execution_count": 13,
     "metadata": {},
     "output_type": "execute_result"
    },
    {
     "data": {
      "text/plain": [
       "minibatches processed:    250, loss = 3273.120457\t\n"
      ]
     },
     "execution_count": 13,
     "metadata": {},
     "output_type": "execute_result"
    },
    {
     "data": {
      "text/plain": [
       "minibatches processed:    260, loss = 947.610213\t\n"
      ]
     },
     "execution_count": 13,
     "metadata": {},
     "output_type": "execute_result"
    },
    {
     "data": {
      "text/plain": [
       "minibatches processed:    270, loss = 1518.981850\t\n"
      ]
     },
     "execution_count": 13,
     "metadata": {},
     "output_type": "execute_result"
    },
    {
     "data": {
      "text/plain": [
       "minibatches processed:    280, loss = 5390.339943\t\n"
      ]
     },
     "execution_count": 13,
     "metadata": {},
     "output_type": "execute_result"
    },
    {
     "data": {
      "text/plain": [
       "minibatches processed:    290, loss = 2007.822824\t\n"
      ]
     },
     "execution_count": 13,
     "metadata": {},
     "output_type": "execute_result"
    },
    {
     "data": {
      "text/plain": [
       "minibatches processed:    300, loss = 2208.006614\t\n"
      ]
     },
     "execution_count": 13,
     "metadata": {},
     "output_type": "execute_result"
    },
    {
     "data": {
      "text/plain": [
       "minibatches processed:    310, loss = 1484.122360\t\n"
      ]
     },
     "execution_count": 13,
     "metadata": {},
     "output_type": "execute_result"
    },
    {
     "data": {
      "text/plain": [
       "minibatches processed:    320, loss = 891.493785\t\n"
      ]
     },
     "execution_count": 13,
     "metadata": {},
     "output_type": "execute_result"
    },
    {
     "data": {
      "text/plain": [
       "Columns 1 to 16\n",
       "   0    0    0    0    0    0    0    0    0    0    0    0    0    0    0    0\n",
       "   0    0    0    0    0    0    0    0    0    0    0    0    0    0    0    0\n",
       "\n",
       "Columns 17 to 32\n",
       "   0    0    0    0    0    0    0    0    0    0    0    0    0    0    0    0\n",
       "   0    0    0    0    0    0    0    0    0    0    0    0    0    0    0    0\n",
       "\n",
       "Columns 33 to 48\n",
       "   0    0    0    0    0    0    0    0    0    0    0    0    0    0    0    0\n",
       "   0    0    0    0    0    0    0    0    0    0    0    0    0    0    0    0\n",
       "\n",
       "Columns 49 to 64\n",
       "   0    0    0    0    0    0    0    0    0    0    0    0    0    0    0    0\n",
       "   0    0    0    0    0    0    0    0    0    0    0    0    0    0    0    0\n",
       "\n",
       "Columns 65 to 80\n",
       "   0    0    0    0    0    0    0    0    0    0    0    0    0    0    0    0\n",
       "   0    0    0    0    0    0    0    0    0    0    0    0    0    0    0    0\n",
       "\n",
       "Columns 81 to 96\n",
       "   0    0    0    0    0    0    0    0    0    0    0    0    0    0    0    0\n",
       "   0    0    0    0    0    0    0    0    0    0    0    0    0    0    0    0\n",
       "\n",
       "Columns 97 to 112\n",
       "   0    0    0    0    0    0    0    0    0    0    0    0    0    0    0    0\n",
       "   0    0    0    0    0    0    0    0    0    0    0    0    0    0    0    0\n",
       "\n",
       "Columns 113 to 128\n",
       "   0    0    0    0    0    0    0    0    0    0    0    0    0    0    0    0\n",
       "   0    0    0    0    0    0    0    0    0    0    0    0    0    0    0    0\n",
       "\n",
       "Columns 129 to 144\n",
       "   0    0    0    0    0    0    0    0    0    0    0    0    0    0    0    0\n",
       "   0    0    0    0    0    0    0    0    0    0    0    0    0    0    0    0\n",
       "\n",
       "Columns 145 to 160\n",
       "   0    0    0    0    0    0    0    0    0    0    0    0    0    0    0    0\n",
       "   0    0    0    0    0    0    0    0    0    0    0    0    0    0    0    0\n",
       "\n",
       "Columns 161 to 176\n",
       "   0    0    0    0    0    0    0    0    0    0    0    0    0    0    0    0\n",
       "   0    0    0    0    0    0    0    0    0    0    0    0    0    0    0    0\n",
       "\n",
       "Columns 177 to 192\n",
       "   0    0    0    0    0    0    0    0    0    0    0    0    0    0    0    0\n",
       "   0    0    0    0    0    0    0    0    0    0    0    0    0    0    0    0\n",
       "\n",
       "Columns 193 to 208\n",
       "   0    0    0    0    0    0    0    0    0   23  254  254  254  254  172   96\n",
       "   0    0    0    0    0    0    0    0    0    0    0    0    0    0    0   42\n",
       "\n",
       "Columns 209 to 224\n",
       "  15    0    0    0    0    0    0    0    0    0    0    0    0    0    0    0\n",
       " 154  255  165  114    0    0    0    0    0    0    0    0    0    0    0    0\n",
       "\n",
       "Columns 225 to 240\n",
       "   0    0    0    0    0    0    0    0    0   23  253  253  253  253  253  253\n",
       "   0    0    0    0    0    0    0    0    0    0    0    0    0    0   95  226\n",
       "\n",
       "Columns 241 to 256\n",
       " 139    0    0    0    0    0    0    0    0    0    0    0    0    0    0    0\n",
       " 253  253  253  253  234  178   13    0    0    0    0    0    0    0    0    0\n",
       "\n",
       "Columns 257 to 272\n",
       "   0    0    0    0    0    0    0    0    0   14  154  232  253  253  253  253\n",
       "   0    0    0    0    0    0    0    0    0    0    0    0    5   76  249  253\n",
       "\n",
       "Columns 273 to 288\n",
       " 249  108    0    0    0    0    0    0    0    0    0    0    0    0    0    0\n",
       " 253  253  253  253  253  253  218   46    0    0    0    0    0    0    0    0\n",
       "\n",
       "Columns 289 to 304\n",
       "   0    0    0    0    0    0    0    0    0    0    0    8   10   10   10  164\n",
       "   0    0    0    0    0    0    0    0    0    0    0    8  140  253  253  253\n",
       "\n",
       "Columns 305 to 320\n",
       " 254  193    4    0    0    0    0    0    0    0    0    0    0    0    0    0\n",
       " 253  253  253  253  253  253  253  172   17    0    0    0    0    0    0    0\n",
       "\n",
       "Columns 321 to 336\n",
       "   0    0    0    0    0    0    0    0    0    0    0    0    0    0    0  183\n",
       "   0    0    0    0    0    0    0    0    0    0    8  139  253  253  253  253\n",
       "\n",
       "Columns 337 to 352\n",
       " 254  253   44    0    0    0    0    0    0    0    0    0    0    0    0    0\n",
       " 253  253  253  233  236  253  253  253  173   13    0    0    0    0    0    0\n",
       "\n",
       "Columns 353 to 368\n",
       "   0    0    0    0    0    0    0    0    0    0    0    0    0    0  100  247\n",
       "   0    0    0    0    0    0    0    0    0   53  "
      ]
     },
     "execution_count": 13,
     "metadata": {},
     "output_type": "execute_result"
    },
    {
     "data": {
      "text/plain": [
       "173  253  253  253  253  253\n",
       "\n",
       "Columns 369 to 384\n",
       " 254  230   29    0    0    0    0    0    0    0    0    0    0    0    0    0\n",
       " 253  243  149   44  125  253  253  253  253  177    0    0    0    0    0    0\n",
       "\n",
       "Columns 385 to 400\n",
       "   0    0    0    0    0    0    0    0    0    0    0    0    6   99  248  253\n",
       "   0    0    0    0    0    0    0    0    0  213  253  253  253  253  253  253\n",
       "\n",
       "Columns 401 to 416\n",
       " 253  130    0    0    0    0    0    0    0    0    0    0    0    0    0    0\n",
       " 146   33    0    0   61  247  253  253  253  243   60    0    0    0    0    0\n",
       "\n",
       "Columns 417 to 432\n",
       "   0    0    0    0    0    0    0    0    0    0    0    0  122  253  253  253\n",
       "   0    0    0    0    0    0    0    0    0  213  253  253  253  253  253  154\n",
       "\n",
       "Columns 433 to 448\n",
       " 242  127   27    0    0    0    0    0    0    0    0    0    0    0    0    0\n",
       "  27    0    0    0    0   62  239  253  253  253  116    0    0    0    0    0\n",
       "\n",
       "Columns 449 to 464\n",
       "   0    0    0    0    0    0    0    0    0    0    0    0  170  253  253  253\n",
       "   0    0    0    0    0    0    0    0   35  227  253  253  253  136   27    3\n",
       "\n",
       "Columns 465 to 480\n",
       " 254  253  228   42    0    0    0    0    0    0    0    0    0    0    0    0\n",
       "   0    0    0    0    0    0  220  253  253  253  116    0    0    0    0    0\n",
       "\n",
       "Columns 481 to 496\n",
       "   0    0    0    0    0    0    0    0    0    0    0    0   69  210  253  253\n",
       "   0    0    0    0    0    0    0    0  133  253  253  253  204   23    0    0\n",
       "\n",
       "Columns 497 to 512\n",
       " 254  253  253  227   39    0    0    0    0    0    0    0    0    0    0    0\n",
       "   0    0    0    0    0    0  220  253  253  253  116    0    0    0    0    0\n",
       "\n",
       "Columns 513 to 528\n",
       "   0    0    0    0    0    0    0    0    0    0    0    0    0    0    0    0\n",
       "   0    0    0    0    0    0    0    0  234  253  253  253  103    0    0    0\n",
       "\n",
       "Columns 529 to 544\n",
       "  15  111  215  254  150    0    0    0    0    0    0    0    0    0    0    0\n",
       "   0    0    0    0    0    0  220  253  253  249   94    0    0    0    0    0\n",
       "\n",
       "Columns 545 to 560\n",
       "   0    0    0    0    0    0    0    0    0    0    0    0    0    0    0    0\n",
       "   0    0    0    0    0    0    0   13  236  253  253  249   91    0    0    0\n",
       "\n",
       "Columns 561 to 576\n",
       "   0    0   31  246  237   38    0    0    0    0    0    0    0    0    0    0\n",
       "   0    0    0    0    0    0  220  253  253  232    0    0    0    0    0    0\n",
       "\n",
       "Columns 577 to 592\n",
       "   0    0    0    0    0    0    0    0    0    0    0    0    0    0    0    0\n",
       "   0    0    0    0    0    0    0  118  253  253  253  219    0    0    0    0\n",
       "\n",
       "Columns 593 to 608\n",
       "   0    0    0  243  253  146    0    0    0    0    0    0    0    0    0    0\n",
       "   0    0    0    0    4  137  239  253  253  229    0    0    0    0    0    0\n",
       "\n",
       "Columns 609 to 624\n",
       "   0    0    0    0    0    0    0    0    0    0    0    0    0    0    0    0\n",
       "   0    0    0    0    0    0    0  118  253  253  253  219    0    0    0    0\n",
       "\n",
       "Columns 625 to 640\n",
       "   0    0    0  243  253  165    0    0    0    0    0    0    0    0    0    0\n",
       "   0    0    0    4  187  253  253  253  253   96    0    0    0    0    0    0\n",
       "\n",
       "Columns 641 to 656\n",
       "   0    0    0    0    0    0    0    0    0    0    0    0    0    0    0    0\n",
       "   0    0    0    0    0    0    0  118  253  253  253  233   42    0    0    0\n",
       "\n",
       "Columns 657 to 672\n",
       "   0    0    0  243  253  140    0    0    0    0    0    0    0    0    0    0\n",
       "   0   76  119  241  253  253  253  253  158    5    0    0    0    0    0    0\n",
       "\n",
       "Columns 673 to 688\n",
       "   0    0    0    0    0    0    0    0    0    0    0    0    0    0    0    0\n",
       "   0    0    0    0    0    0    0  118  253  253  253  253  233  220   86  131\n",
       "\n",
       "Columns 689 to 704\n",
       "   0    0  118  251  253   55    0    0    0    0    0    0    0    0    0    0\n",
       " 220  244  253  253  253  253  253  199   10    0    0    0    0    0    0    0\n",
       "\n",
       "Columns 705 to 720\n",
       "   0    0    0    0    0    0    0    0    0    0    0    9   60   12   12   12\n",
       "   0    0    0    0    0    0    0   25  204  253  253  253  253  253  253  253\n",
       "\n",
       "Columns 721 to 736\n",
       "  75  151  250  253  222   29    0    0    0    0    0    0    0    0    0    0\n",
       " 253  2"
      ]
     },
     "execution_count": 13,
     "metadata": {},
     "output_type": "execute_result"
    },
    {
     "data": {
      "text/plain": [
       "53  253  253  253  253  199   70    0    0    0    0    0    0    0    0\n",
       "\n",
       "Columns 737 to 752\n",
       "   0    0    0    0    0    0    0    0    0    0    0  199  253  253  253  253\n",
       "   0    0    0    0    0    0    0    0   29  225  253  253  253  253  253  253\n",
       "\n",
       "Columns 753 to 768\n",
       " 255  253  253  250   73    0    0    0    0    0    0    0    0    0    0    0\n",
       " 253  253  253  253  233   82   10    0    0    0    0    0    0    0    0    0\n",
       "\n",
       "Columns 769 to 784\n",
       "   0    0    0    0    0    0    0    0    0    0    0  165  253  253  253  253\n",
       "   0    0    0    0    0    0    0    0    0   81  199  246  253  253  253  253\n",
       "\n",
       "Columns 785 to 800\n",
       " 254  253  253  116    0    0    0    0    0    0    0    0    0    0    0    0\n",
       " 253  249  217   96   49    0    0    0    0    0    0    0    0    0    0    0\n",
       "\n",
       "Columns 801 to 816\n",
       "   0    0    0    0    0    0    0    0    0    0    0   12  133  162  253  157\n",
       "   0    0    0    0    0    0    0    0    0    0    0   79  124  253  253  130\n",
       "\n",
       "Columns 817 to 832\n",
       " 143  114   33    2    0    0    0    0    0    0    0    0    0    0    0    0\n",
       " 116   94    0    0    0    0    0    0    0    0    0    0    0    0    0    0\n",
       "\n",
       "Columns 833 to 848\n",
       "   0    0    0    0    0    0    0    0    0    0    0    0    0    0    0    0\n",
       "   0    0    0    0    0    0    0    0    0    0    0    0    0    0    0    0\n",
       "\n",
       "Columns 849 to 864\n",
       "   0    0    0    0    0    0    0    0    0    0    0    0    0    0    0    0\n",
       "   0    0    0    0    0    0    0    0    0    0    0    0    0    0    0    0\n",
       "\n",
       "Columns 865 to 880\n",
       "   0    0    0    0    0    0    0    0    0    0    0    0    0    0    0    0\n",
       "   0    0    0    0    0    0    0    0    0    0    0    0    0    0    0    0\n",
       "\n",
       "Columns 881 to 896\n",
       "   0    0    0    0    0    0    0    0    0    0    0    0    0    0    0    0\n",
       "   0    0    0    0    0    0    0    0    0    0    0    0    0    0    0    0\n",
       "\n",
       "Columns 897 to 912\n",
       "   0    0    0    0    0    0    0    0    0    0    0    0    0    0    0    0\n",
       "   0    0    0    0    0    0    0    0    0    0    0    0    0    0    0    0\n",
       "\n",
       "Columns 913 to 928\n",
       "   0    0    0    0    0    0    0    0    0    0    0    0    0    0    0    0\n",
       "   0    0    0    0    0    0    0    0    0    0    0    0    0    0    0    0\n",
       "\n",
       "Columns 929 to 944\n",
       "   0    0    0    0    0    0    0    0    0    0    0    0    0    0    0    0\n",
       "   0    0    0    0    0    0    0    0    0    0    0    0    0    0    0    0\n",
       "\n",
       "Columns 945 to 960\n",
       "   0    0    0    0    0    0    0    0    0    0    0    0    0    0    0    0\n",
       "   0    0    0    0    0    0    0    0    0    0    0    0    0    0    0    0\n",
       "\n",
       "Columns 961 to 976\n",
       "   0    0    0    0    0    0    0    0    0    0    0    0    0    0    0    0\n",
       "   0    0    0    0    0    0    0    0    0    0    0    0    0    0    0    0\n",
       "\n",
       "Columns 977 to 992\n",
       "   0    0    0    0    0    0    0    0    0    0    0    0    0    0    0    0\n",
       "   0    0    0    0    0    0    0    0    0    0    0    0    0    0    0    0\n",
       "\n",
       "Columns 993 to 1008\n",
       "   0    0    0    0    0    0    0    0    0    0    0    0    0    0    0    0\n",
       "   0    0    0    0    0    0    0    0    0    0    0    0    0    0    0    0\n",
       "\n",
       "Columns 1009 to 1024\n",
       "   0    0    0    0    0    0    0    0    0    0    0    0    0    0    0    0\n",
       "   0    0    0    0    0    0    0    0    0    0    0    0    0    0    0    0\n",
       "[torch.DoubleTensor of size 2x1024]\n",
       "\n",
       " 4\n",
       " 1\n",
       "[torch.LongTensor of size 2]\n",
       "\n",
       "\n"
      ]
     },
     "execution_count": 13,
     "metadata": {},
     "output_type": "execute_result"
    }
   ],
   "source": [
    "dofile('digitClassifier.lua')"
   ]
  },
  {
   "cell_type": "code",
   "execution_count": 14,
   "metadata": {
    "collapsed": false
   },
   "outputs": [
    {
     "ename": "digitClassifier.lua:261: ')' expected (to close '(' at line 239) near '<eof>'\nstack traceback:\n\t[C]: in function 'f'\n\t[string \"local f = function() return dofile('digitClas...\"]:1: in main chunk\n\t[C]: in function 'xpcall'\n\t/Users/eric/torch/install/share/lua/5.1/itorch/main.lua:209: in function </Users/eric/torch/install/share/lua/5.1/itorch/main.lua:173>\n\t/Users/eric/torch/install/share/lua/5.1/lzmq/poller.lua:75: in function 'poll'\n\t/Users/eric/torch/install/share/lua/5.1/lzmq/impl/loop.lua:307: in function 'poll'\n\t/Users/eric/torch/install/share/lua/5.1/lzmq/impl/loop.lua:325: in function 'sleep_ex'\n\t/Users/eric/torch/install/share/lua/5.1/lzmq/impl/loop.lua:370: in function 'start'\n\t/Users/eric/torch/install/share/lua/5.1/itorch/main.lua:381: in main chunk\n\t[C]: in function 'require'\n\t(command line):1: in main chunk\n\t[C]: at 0x01041c7bd0",
     "evalue": "",
     "output_type": "error",
     "traceback": [
      "digitClassifier.lua:261: ')' expected (to close '(' at line 239) near '<eof>'\nstack traceback:\n\t[C]: in function 'f'\n\t[string \"local f = function() return dofile('digitClas...\"]:1: in main chunk\n\t[C]: in function 'xpcall'\n\t/Users/eric/torch/install/share/lua/5.1/itorch/main.lua:209: in function </Users/eric/torch/install/share/lua/5.1/itorch/main.lua:173>\n\t/Users/eric/torch/install/share/lua/5.1/lzmq/poller.lua:75: in function 'poll'\n\t/Users/eric/torch/install/share/lua/5.1/lzmq/impl/loop.lua:307: in function 'poll'\n\t/Users/eric/torch/install/share/lua/5.1/lzmq/impl/loop.lua:325: in function 'sleep_ex'\n\t/Users/eric/torch/install/share/lua/5.1/lzmq/impl/loop.lua:370: in function 'start'\n\t/Users/eric/torch/install/share/lua/5.1/itorch/main.lua:381: in main chunk\n\t[C]: in function 'require'\n\t(command line):1: in main chunk\n\t[C]: at 0x01041c7bd0"
     ]
    }
   ],
   "source": [
    "dofile('digitClassifier.lua')"
   ]
  },
  {
   "cell_type": "code",
   "execution_count": 15,
   "metadata": {
    "collapsed": false
   },
   "outputs": [
    {
     "data": {
      "text/plain": [
       "<mnist> loading only 8000 examples\t\n",
       "<mnist> done\t\n"
      ]
     },
     "execution_count": 15,
     "metadata": {},
     "output_type": "execute_result"
    },
    {
     "data": {
      "text/plain": [
       "--------------------------------\t\n",
       " loaded dataset \"train\"\t\n",
       "inputs\t 8000\n",
       " 1024\n",
       "[torch.LongStorage of size 2]\n",
       "\n",
       "targets\t 8000\n",
       "[torch.LongStorage of size 1]\n",
       "\n",
       "--------------------------------\t\n"
      ]
     },
     "execution_count": 15,
     "metadata": {},
     "output_type": "execute_result"
    },
    {
     "data": {
      "text/plain": [
       "<mnist> done\t\n"
      ]
     },
     "execution_count": 15,
     "metadata": {},
     "output_type": "execute_result"
    },
    {
     "data": {
      "text/plain": [
       "--------------------------------\t\n",
       " loaded dataset \"test\"\t\n",
       "inputs\t 10000\n",
       "  1024\n",
       "[torch.LongStorage of size 2]\n",
       "\n",
       "targets\t 10000\n",
       "[torch.LongStorage of size 1]\n",
       "\n",
       "--------------------------------\t\n",
       "10\t\n",
       "1\t\n"
      ]
     },
     "execution_count": 15,
     "metadata": {},
     "output_type": "execute_result"
    },
    {
     "data": {
      "text/plain": [
       "minibatches processed:     10, loss = 18637.686830\t\n"
      ]
     },
     "execution_count": 15,
     "metadata": {},
     "output_type": "execute_result"
    },
    {
     "data": {
      "text/plain": [
       "minibatches processed:     20, loss = 1197.890536\t\n"
      ]
     },
     "execution_count": 15,
     "metadata": {},
     "output_type": "execute_result"
    },
    {
     "data": {
      "text/plain": [
       "minibatches processed:     30, loss = 2673.040349\t\n"
      ]
     },
     "execution_count": 15,
     "metadata": {},
     "output_type": "execute_result"
    },
    {
     "data": {
      "text/plain": [
       "minibatches processed:     40, loss = 1580.095193\t\n"
      ]
     },
     "execution_count": 15,
     "metadata": {},
     "output_type": "execute_result"
    },
    {
     "data": {
      "text/plain": [
       "minibatches processed:     50, loss = 1544.178437\t\n"
      ]
     },
     "execution_count": 15,
     "metadata": {},
     "output_type": "execute_result"
    },
    {
     "data": {
      "text/plain": [
       "minibatches processed:     60, loss = 2725.252494\t\n"
      ]
     },
     "execution_count": 15,
     "metadata": {},
     "output_type": "execute_result"
    },
    {
     "data": {
      "text/plain": [
       "minibatches processed:     70, loss = 2562.405501\t\n"
      ]
     },
     "execution_count": 15,
     "metadata": {},
     "output_type": "execute_result"
    },
    {
     "data": {
      "text/plain": [
       "minibatches processed:     80, loss = 2999.016556\t\n"
      ]
     },
     "execution_count": 15,
     "metadata": {},
     "output_type": "execute_result"
    },
    {
     "data": {
      "text/plain": [
       "minibatches processed:     90, loss = 4000.508009\t\n"
      ]
     },
     "execution_count": 15,
     "metadata": {},
     "output_type": "execute_result"
    },
    {
     "data": {
      "text/plain": [
       "minibatches processed:    100, loss = 1640.099601\t\n"
      ]
     },
     "execution_count": 15,
     "metadata": {},
     "output_type": "execute_result"
    },
    {
     "data": {
      "text/plain": [
       "minibatches processed:    110, loss = 3591.793226\t\n"
      ]
     },
     "execution_count": 15,
     "metadata": {},
     "output_type": "execute_result"
    },
    {
     "data": {
      "text/plain": [
       "minibatches processed:    120, loss = 5104.355401\t\n"
      ]
     },
     "execution_count": 15,
     "metadata": {},
     "output_type": "execute_result"
    },
    {
     "data": {
      "text/plain": [
       "minibatches processed:    130, loss = 2025.724121\t\n"
      ]
     },
     "execution_count": 15,
     "metadata": {},
     "output_type": "execute_result"
    },
    {
     "data": {
      "text/plain": [
       "minibatches processed:    140, loss = 4129.725431\t\n"
      ]
     },
     "execution_count": 15,
     "metadata": {},
     "output_type": "execute_result"
    },
    {
     "data": {
      "text/plain": [
       "minibatches processed:    150, loss = 3083.249304\t\n"
      ]
     },
     "execution_count": 15,
     "metadata": {},
     "output_type": "execute_result"
    },
    {
     "data": {
      "text/plain": [
       "minibatches processed:    160, loss = 1778.064072\t\n"
      ]
     },
     "execution_count": 15,
     "metadata": {},
     "output_type": "execute_result"
    },
    {
     "data": {
      "text/plain": [
       "minibatches processed:    170, loss = 3469.608857\t\n"
      ]
     },
     "execution_count": 15,
     "metadata": {},
     "output_type": "execute_result"
    },
    {
     "data": {
      "text/plain": [
       "minibatches processed:    180, loss = 2821.958241\t\n"
      ]
     },
     "execution_count": 15,
     "metadata": {},
     "output_type": "execute_result"
    },
    {
     "data": {
      "text/plain": [
       "minibatches processed:    190, loss = 1301.971760\t\n"
      ]
     },
     "execution_count": 15,
     "metadata": {},
     "output_type": "execute_result"
    },
    {
     "data": {
      "text/plain": [
       "minibatches processed:    200, loss = 1954.507804\t\n"
      ]
     },
     "execution_count": 15,
     "metadata": {},
     "output_type": "execute_result"
    },
    {
     "data": {
      "text/plain": [
       "minibatches processed:    210, loss = 1520.214161\t\n"
      ]
     },
     "execution_count": 15,
     "metadata": {},
     "output_type": "execute_result"
    },
    {
     "data": {
      "text/plain": [
       "minibatches processed:    220, loss = 1619.686990\t\n"
      ]
     },
     "execution_count": 15,
     "metadata": {},
     "output_type": "execute_result"
    },
    {
     "data": {
      "text/plain": [
       "minibatches processed:    230, loss = 1542.321124\t\n"
      ]
     },
     "execution_count": 15,
     "metadata": {},
     "output_type": "execute_result"
    },
    {
     "data": {
      "text/plain": [
       "minibatches processed:    240, loss = 3552.770369\t\n"
      ]
     },
     "execution_count": 15,
     "metadata": {},
     "output_type": "execute_result"
    },
    {
     "data": {
      "text/plain": [
       "minibatches processed:    250, loss = 3273.120457\t\n"
      ]
     },
     "execution_count": 15,
     "metadata": {},
     "output_type": "execute_result"
    },
    {
     "data": {
      "text/plain": [
       "minibatches processed:    260, loss = 947.610213\t\n"
      ]
     },
     "execution_count": 15,
     "metadata": {},
     "output_type": "execute_result"
    },
    {
     "data": {
      "text/plain": [
       "minibatches processed:    270, loss = 1518.981850\t\n"
      ]
     },
     "execution_count": 15,
     "metadata": {},
     "output_type": "execute_result"
    },
    {
     "data": {
      "text/plain": [
       "minibatches processed:    280, loss = 5390.339943\t\n"
      ]
     },
     "execution_count": 15,
     "metadata": {},
     "output_type": "execute_result"
    },
    {
     "data": {
      "text/plain": [
       "minibatches processed:    290, loss = 2007.822824\t\n"
      ]
     },
     "execution_count": 15,
     "metadata": {},
     "output_type": "execute_result"
    },
    {
     "data": {
      "text/plain": [
       "minibatches processed:    300, loss = 2208.006614\t\n"
      ]
     },
     "execution_count": 15,
     "metadata": {},
     "output_type": "execute_result"
    },
    {
     "data": {
      "text/plain": [
       "minibatches processed:    310, loss = 1484.122360\t\n"
      ]
     },
     "execution_count": 15,
     "metadata": {},
     "output_type": "execute_result"
    },
    {
     "data": {
      "text/plain": [
       "minibatches processed:    320, loss = 891.493785\t\n"
      ]
     },
     "execution_count": 15,
     "metadata": {},
     "output_type": "execute_result"
    },
    {
     "ename": "./dataset-mnist.lua:77: the class torch.DoubleTensor cannot be indexed\nstack traceback:\n\t[C]: in function '__newindex'\n\t./dataset-mnist.lua:77: in function '__index'\n\tdigitClassifier.lua:239: in main chunk\n\t[C]: in function 'f'\n\t[string \"local f = function() return dofile('digitClas...\"]:1: in main chunk\n\t[C]: in function 'xpcall'\n\t/Users/eric/torch/install/share/lua/5.1/itorch/main.lua:209: in function </Users/eric/torch/install/share/lua/5.1/itorch/main.lua:173>\n\t/Users/eric/torch/install/share/lua/5.1/lzmq/poller.lua:75: in function 'poll'\n\t/Users/eric/torch/install/share/lua/5.1/lzmq/impl/loop.lua:307: in function 'poll'\n\t/Users/eric/torch/install/share/lua/5.1/lzmq/impl/loop.lua:325: in function 'sleep_ex'\n\t/Users/eric/torch/install/share/lua/5.1/lzmq/impl/loop.lua:370: in function 'start'\n\t/Users/eric/torch/install/share/lua/5.1/itorch/main.lua:381: in main chunk\n\t[C]: in function 'require'\n\t(command line):1: in main chunk\n\t[C]: at 0x01041c7bd0",
     "evalue": "",
     "output_type": "error",
     "traceback": [
      "./dataset-mnist.lua:77: the class torch.DoubleTensor cannot be indexed\nstack traceback:\n\t[C]: in function '__newindex'\n\t./dataset-mnist.lua:77: in function '__index'\n\tdigitClassifier.lua:239: in main chunk\n\t[C]: in function 'f'\n\t[string \"local f = function() return dofile('digitClas...\"]:1: in main chunk\n\t[C]: in function 'xpcall'\n\t/Users/eric/torch/install/share/lua/5.1/itorch/main.lua:209: in function </Users/eric/torch/install/share/lua/5.1/itorch/main.lua:173>\n\t/Users/eric/torch/install/share/lua/5.1/lzmq/poller.lua:75: in function 'poll'\n\t/Users/eric/torch/install/share/lua/5.1/lzmq/impl/loop.lua:307: in function 'poll'\n\t/Users/eric/torch/install/share/lua/5.1/lzmq/impl/loop.lua:325: in function 'sleep_ex'\n\t/Users/eric/torch/install/share/lua/5.1/lzmq/impl/loop.lua:370: in function 'start'\n\t/Users/eric/torch/install/share/lua/5.1/itorch/main.lua:381: in main chunk\n\t[C]: in function 'require'\n\t(command line):1: in main chunk\n\t[C]: at 0x01041c7bd0"
     ]
    }
   ],
   "source": [
    "dofile('digitClassifier.lua')"
   ]
  },
  {
   "cell_type": "code",
   "execution_count": 16,
   "metadata": {
    "collapsed": false
   },
   "outputs": [
    {
     "data": {
      "text/plain": [
       "<mnist> loading only 8000 examples\t\n",
       "<mnist> done\t\n"
      ]
     },
     "execution_count": 16,
     "metadata": {},
     "output_type": "execute_result"
    },
    {
     "data": {
      "text/plain": [
       "--------------------------------\t\n",
       " loaded dataset \"train\"\t\n",
       "inputs\t 8000\n",
       " 1024\n",
       "[torch.LongStorage of size 2]\n",
       "\n",
       "targets\t 8000\n",
       "[torch.LongStorage of size 1]\n",
       "\n",
       "--------------------------------\t\n"
      ]
     },
     "execution_count": 16,
     "metadata": {},
     "output_type": "execute_result"
    },
    {
     "data": {
      "text/plain": [
       "<mnist> done\t\n"
      ]
     },
     "execution_count": 16,
     "metadata": {},
     "output_type": "execute_result"
    },
    {
     "data": {
      "text/plain": [
       "--------------------------------\t\n",
       " loaded dataset \"test\"\t\n",
       "inputs\t 10000\n",
       "  1024\n",
       "[torch.LongStorage of size 2]\n",
       "\n",
       "targets\t 10000\n",
       "[torch.LongStorage of size 1]\n",
       "\n",
       "--------------------------------\t\n",
       "10\t\n",
       "1\t\n"
      ]
     },
     "execution_count": 16,
     "metadata": {},
     "output_type": "execute_result"
    },
    {
     "data": {
      "text/plain": [
       "minibatches processed:     10, loss = 18637.686830\t\n"
      ]
     },
     "execution_count": 16,
     "metadata": {},
     "output_type": "execute_result"
    },
    {
     "data": {
      "text/plain": [
       "minibatches processed:     20, loss = 1197.890536\t\n"
      ]
     },
     "execution_count": 16,
     "metadata": {},
     "output_type": "execute_result"
    },
    {
     "data": {
      "text/plain": [
       "minibatches processed:     30, loss = 2673.040349\t\n"
      ]
     },
     "execution_count": 16,
     "metadata": {},
     "output_type": "execute_result"
    },
    {
     "data": {
      "text/plain": [
       "minibatches processed:     40, loss = 1580.095193\t\n"
      ]
     },
     "execution_count": 16,
     "metadata": {},
     "output_type": "execute_result"
    },
    {
     "data": {
      "text/plain": [
       "minibatches processed:     50, loss = 1544.178437\t\n"
      ]
     },
     "execution_count": 16,
     "metadata": {},
     "output_type": "execute_result"
    },
    {
     "data": {
      "text/plain": [
       "minibatches processed:     60, loss = 2725.252494\t\n"
      ]
     },
     "execution_count": 16,
     "metadata": {},
     "output_type": "execute_result"
    },
    {
     "data": {
      "text/plain": [
       "minibatches processed:     70, loss = 2562.405501\t\n"
      ]
     },
     "execution_count": 16,
     "metadata": {},
     "output_type": "execute_result"
    },
    {
     "data": {
      "text/plain": [
       "minibatches processed:     80, loss = 2999.016556\t\n"
      ]
     },
     "execution_count": 16,
     "metadata": {},
     "output_type": "execute_result"
    },
    {
     "data": {
      "text/plain": [
       "minibatches processed:     90, loss = 4000.508009\t\n"
      ]
     },
     "execution_count": 16,
     "metadata": {},
     "output_type": "execute_result"
    },
    {
     "data": {
      "text/plain": [
       "minibatches processed:    100, loss = 1640.099601\t\n"
      ]
     },
     "execution_count": 16,
     "metadata": {},
     "output_type": "execute_result"
    },
    {
     "data": {
      "text/plain": [
       "minibatches processed:    110, loss = 3591.793226\t\n"
      ]
     },
     "execution_count": 16,
     "metadata": {},
     "output_type": "execute_result"
    },
    {
     "data": {
      "text/plain": [
       "minibatches processed:    120, loss = 5104.355401\t\n"
      ]
     },
     "execution_count": 16,
     "metadata": {},
     "output_type": "execute_result"
    },
    {
     "data": {
      "text/plain": [
       "minibatches processed:    130, loss = 2025.724121\t\n"
      ]
     },
     "execution_count": 16,
     "metadata": {},
     "output_type": "execute_result"
    },
    {
     "data": {
      "text/plain": [
       "minibatches processed:    140, loss = 4129.725431\t\n"
      ]
     },
     "execution_count": 16,
     "metadata": {},
     "output_type": "execute_result"
    },
    {
     "data": {
      "text/plain": [
       "minibatches processed:    150, loss = 3083.249304\t\n"
      ]
     },
     "execution_count": 16,
     "metadata": {},
     "output_type": "execute_result"
    },
    {
     "data": {
      "text/plain": [
       "minibatches processed:    160, loss = 1778.064072\t\n"
      ]
     },
     "execution_count": 16,
     "metadata": {},
     "output_type": "execute_result"
    },
    {
     "data": {
      "text/plain": [
       "minibatches processed:    170, loss = 3469.608857\t\n"
      ]
     },
     "execution_count": 16,
     "metadata": {},
     "output_type": "execute_result"
    },
    {
     "data": {
      "text/plain": [
       "minibatches processed:    180, loss = 2821.958241\t\n"
      ]
     },
     "execution_count": 16,
     "metadata": {},
     "output_type": "execute_result"
    },
    {
     "data": {
      "text/plain": [
       "minibatches processed:    190, loss = 1301.971760\t\n"
      ]
     },
     "execution_count": 16,
     "metadata": {},
     "output_type": "execute_result"
    },
    {
     "data": {
      "text/plain": [
       "minibatches processed:    200, loss = 1954.507804\t\n"
      ]
     },
     "execution_count": 16,
     "metadata": {},
     "output_type": "execute_result"
    },
    {
     "data": {
      "text/plain": [
       "minibatches processed:    210, loss = 1520.214161\t\n"
      ]
     },
     "execution_count": 16,
     "metadata": {},
     "output_type": "execute_result"
    },
    {
     "data": {
      "text/plain": [
       "minibatches processed:    220, loss = 1619.686990\t\n"
      ]
     },
     "execution_count": 16,
     "metadata": {},
     "output_type": "execute_result"
    },
    {
     "data": {
      "text/plain": [
       "minibatches processed:    230, loss = 1542.321124\t\n"
      ]
     },
     "execution_count": 16,
     "metadata": {},
     "output_type": "execute_result"
    },
    {
     "data": {
      "text/plain": [
       "minibatches processed:    240, loss = 3552.770369\t\n"
      ]
     },
     "execution_count": 16,
     "metadata": {},
     "output_type": "execute_result"
    },
    {
     "data": {
      "text/plain": [
       "minibatches processed:    250, loss = 3273.120457\t\n"
      ]
     },
     "execution_count": 16,
     "metadata": {},
     "output_type": "execute_result"
    },
    {
     "data": {
      "text/plain": [
       "minibatches processed:    260, loss = 947.610213\t\n"
      ]
     },
     "execution_count": 16,
     "metadata": {},
     "output_type": "execute_result"
    },
    {
     "data": {
      "text/plain": [
       "minibatches processed:    270, loss = 1518.981850\t\n"
      ]
     },
     "execution_count": 16,
     "metadata": {},
     "output_type": "execute_result"
    },
    {
     "data": {
      "text/plain": [
       "minibatches processed:    280, loss = 5390.339943\t\n"
      ]
     },
     "execution_count": 16,
     "metadata": {},
     "output_type": "execute_result"
    },
    {
     "data": {
      "text/plain": [
       "minibatches processed:    290, loss = 2007.822824\t\n"
      ]
     },
     "execution_count": 16,
     "metadata": {},
     "output_type": "execute_result"
    },
    {
     "data": {
      "text/plain": [
       "minibatches processed:    300, loss = 2208.006614\t\n"
      ]
     },
     "execution_count": 16,
     "metadata": {},
     "output_type": "execute_result"
    },
    {
     "data": {
      "text/plain": [
       "minibatches processed:    310, loss = 1484.122360\t\n"
      ]
     },
     "execution_count": 16,
     "metadata": {},
     "output_type": "execute_result"
    },
    {
     "data": {
      "text/plain": [
       "minibatches processed:    320, loss = 891.493785\t"
      ]
     },
     "execution_count": 16,
     "metadata": {},
     "output_type": "execute_result"
    },
    {
     "data": {
      "text/plain": [
       "\n"
      ]
     },
     "execution_count": 16,
     "metadata": {},
     "output_type": "execute_result"
    },
    {
     "ename": "./dataset-mnist.lua:77: the class torch.DoubleTensor cannot be indexed\nstack traceback:\n\t[C]: in function '__newindex'\n\t./dataset-mnist.lua:77: in function '__index'\n\tdigitClassifier.lua:239: in main chunk\n\t[C]: in function 'f'\n\t[string \"local f = function() return dofile('digitClas...\"]:1: in main chunk\n\t[C]: in function 'xpcall'\n\t/Users/eric/torch/install/share/lua/5.1/itorch/main.lua:209: in function </Users/eric/torch/install/share/lua/5.1/itorch/main.lua:173>\n\t/Users/eric/torch/install/share/lua/5.1/lzmq/poller.lua:75: in function 'poll'\n\t/Users/eric/torch/install/share/lua/5.1/lzmq/impl/loop.lua:307: in function 'poll'\n\t/Users/eric/torch/install/share/lua/5.1/lzmq/impl/loop.lua:325: in function 'sleep_ex'\n\t/Users/eric/torch/install/share/lua/5.1/lzmq/impl/loop.lua:370: in function 'start'\n\t/Users/eric/torch/install/share/lua/5.1/itorch/main.lua:381: in main chunk\n\t[C]: in function 'require'\n\t(command line):1: in main chunk\n\t[C]: at 0x01041c7bd0",
     "evalue": "",
     "output_type": "error",
     "traceback": [
      "./dataset-mnist.lua:77: the class torch.DoubleTensor cannot be indexed\nstack traceback:\n\t[C]: in function '__newindex'\n\t./dataset-mnist.lua:77: in function '__index'\n\tdigitClassifier.lua:239: in main chunk\n\t[C]: in function 'f'\n\t[string \"local f = function() return dofile('digitClas...\"]:1: in main chunk\n\t[C]: in function 'xpcall'\n\t/Users/eric/torch/install/share/lua/5.1/itorch/main.lua:209: in function </Users/eric/torch/install/share/lua/5.1/itorch/main.lua:173>\n\t/Users/eric/torch/install/share/lua/5.1/lzmq/poller.lua:75: in function 'poll'\n\t/Users/eric/torch/install/share/lua/5.1/lzmq/impl/loop.lua:307: in function 'poll'\n\t/Users/eric/torch/install/share/lua/5.1/lzmq/impl/loop.lua:325: in function 'sleep_ex'\n\t/Users/eric/torch/install/share/lua/5.1/lzmq/impl/loop.lua:370: in function 'start'\n\t/Users/eric/torch/install/share/lua/5.1/itorch/main.lua:381: in main chunk\n\t[C]: in function 'require'\n\t(command line):1: in main chunk\n\t[C]: at 0x01041c7bd0"
     ]
    }
   ],
   "source": [
    "dofile('digitClassifier.lua')"
   ]
  },
  {
   "cell_type": "code",
   "execution_count": 17,
   "metadata": {
    "collapsed": false
   },
   "outputs": [
    {
     "data": {
      "text/plain": [
       "<mnist> loading only 8000 examples\t\n",
       "<mnist> done\t\n"
      ]
     },
     "execution_count": 17,
     "metadata": {},
     "output_type": "execute_result"
    },
    {
     "data": {
      "text/plain": [
       "--------------------------------\t\n",
       " loaded dataset \"train\"\t\n",
       "inputs\t"
      ]
     },
     "execution_count": 17,
     "metadata": {},
     "output_type": "execute_result"
    },
    {
     "data": {
      "text/plain": [
       " 8000\n",
       " 1024\n",
       "[torch.LongStorage of size 2]\n",
       "\n",
       "targets\t 8000\n",
       "[torch.LongStorage of size 1]\n",
       "\n",
       "--------------------------------\t\n"
      ]
     },
     "execution_count": 17,
     "metadata": {},
     "output_type": "execute_result"
    },
    {
     "data": {
      "text/plain": [
       "<mnist> done\t\n"
      ]
     },
     "execution_count": 17,
     "metadata": {},
     "output_type": "execute_result"
    },
    {
     "data": {
      "text/plain": [
       "--------------------------------\t\n",
       " loaded dataset \"test\"\t\n",
       "inputs\t 10000\n",
       "  1024\n",
       "[torch.LongStorage of size 2]\n",
       "\n",
       "targets\t 10000\n",
       "[torch.LongStorage of size 1]\n",
       "\n"
      ]
     },
     "execution_count": 17,
     "metadata": {},
     "output_type": "execute_result"
    },
    {
     "data": {
      "text/plain": [
       "--------------------------------\t\n",
       "10\t\n",
       "1\t\n"
      ]
     },
     "execution_count": 17,
     "metadata": {},
     "output_type": "execute_result"
    },
    {
     "data": {
      "text/plain": [
       "minibatches processed:     10, loss = 18637.686830\t\n"
      ]
     },
     "execution_count": 17,
     "metadata": {},
     "output_type": "execute_result"
    },
    {
     "data": {
      "text/plain": [
       "minibatches processed:     20, loss = 1197.890536\t\n"
      ]
     },
     "execution_count": 17,
     "metadata": {},
     "output_type": "execute_result"
    },
    {
     "data": {
      "text/plain": [
       "minibatches processed:     30, loss = 2673.040349\t\n"
      ]
     },
     "execution_count": 17,
     "metadata": {},
     "output_type": "execute_result"
    },
    {
     "data": {
      "text/plain": [
       "minibatches processed:     40, loss = 1580.095193\t\n"
      ]
     },
     "execution_count": 17,
     "metadata": {},
     "output_type": "execute_result"
    },
    {
     "data": {
      "text/plain": [
       "minibatches processed:     50, loss = 1544.178437\t\n"
      ]
     },
     "execution_count": 17,
     "metadata": {},
     "output_type": "execute_result"
    },
    {
     "data": {
      "text/plain": [
       "minibatches processed:     60, loss = 2725.252494\t"
      ]
     },
     "execution_count": 17,
     "metadata": {},
     "output_type": "execute_result"
    },
    {
     "data": {
      "text/plain": [
       "\n"
      ]
     },
     "execution_count": 17,
     "metadata": {},
     "output_type": "execute_result"
    },
    {
     "data": {
      "text/plain": [
       "minibatches processed:     70, loss = 2562.405501\t\n"
      ]
     },
     "execution_count": 17,
     "metadata": {},
     "output_type": "execute_result"
    },
    {
     "data": {
      "text/plain": [
       "minibatches processed:     80, loss = 2999.016556\t\n"
      ]
     },
     "execution_count": 17,
     "metadata": {},
     "output_type": "execute_result"
    },
    {
     "data": {
      "text/plain": [
       "minibatches processed:     90, loss = 4000.508009\t\n"
      ]
     },
     "execution_count": 17,
     "metadata": {},
     "output_type": "execute_result"
    },
    {
     "data": {
      "text/plain": [
       "minibatches processed:    100, loss = 1640.099601\t\n"
      ]
     },
     "execution_count": 17,
     "metadata": {},
     "output_type": "execute_result"
    },
    {
     "data": {
      "text/plain": [
       "minibatches processed:    110, loss = 3591.793226\t\n"
      ]
     },
     "execution_count": 17,
     "metadata": {},
     "output_type": "execute_result"
    },
    {
     "data": {
      "text/plain": [
       "minibatches processed:    120, loss = 5104.355401\t\n"
      ]
     },
     "execution_count": 17,
     "metadata": {},
     "output_type": "execute_result"
    },
    {
     "data": {
      "text/plain": [
       "minibatches processed:    130, loss = 2025.724121\t\n"
      ]
     },
     "execution_count": 17,
     "metadata": {},
     "output_type": "execute_result"
    },
    {
     "data": {
      "text/plain": [
       "minibatches processed:    140, loss = 4129.725431\t\n"
      ]
     },
     "execution_count": 17,
     "metadata": {},
     "output_type": "execute_result"
    },
    {
     "data": {
      "text/plain": [
       "minibatches processed:    150, loss = 3083.249304\t\n"
      ]
     },
     "execution_count": 17,
     "metadata": {},
     "output_type": "execute_result"
    },
    {
     "data": {
      "text/plain": [
       "minibatches processed:    160, loss = 1778.064072\t\n"
      ]
     },
     "execution_count": 17,
     "metadata": {},
     "output_type": "execute_result"
    },
    {
     "data": {
      "text/plain": [
       "minibatches processed:    170, loss = 3469.608857\t\n"
      ]
     },
     "execution_count": 17,
     "metadata": {},
     "output_type": "execute_result"
    },
    {
     "data": {
      "text/plain": [
       "minibatches processed:    180, loss = 2821.958241\t\n"
      ]
     },
     "execution_count": 17,
     "metadata": {},
     "output_type": "execute_result"
    },
    {
     "data": {
      "text/plain": [
       "minibatches processed:    190, loss = 1301.971760\t\n"
      ]
     },
     "execution_count": 17,
     "metadata": {},
     "output_type": "execute_result"
    },
    {
     "data": {
      "text/plain": [
       "minibatches processed:    200, loss = 1954.507804\t\n"
      ]
     },
     "execution_count": 17,
     "metadata": {},
     "output_type": "execute_result"
    },
    {
     "data": {
      "text/plain": [
       "minibatches processed:    210, loss = 1520.214161\t\n"
      ]
     },
     "execution_count": 17,
     "metadata": {},
     "output_type": "execute_result"
    },
    {
     "data": {
      "text/plain": [
       "minibatches processed:    220, loss = 1619.686990\t\n"
      ]
     },
     "execution_count": 17,
     "metadata": {},
     "output_type": "execute_result"
    },
    {
     "data": {
      "text/plain": [
       "minibatches processed:    230, loss = 1542.321124\t\n"
      ]
     },
     "execution_count": 17,
     "metadata": {},
     "output_type": "execute_result"
    },
    {
     "data": {
      "text/plain": [
       "minibatches processed:    240, loss = 3552.770369\t\n"
      ]
     },
     "execution_count": 17,
     "metadata": {},
     "output_type": "execute_result"
    },
    {
     "data": {
      "text/plain": [
       "minibatches processed:    250, loss = 3273.120457\t\n"
      ]
     },
     "execution_count": 17,
     "metadata": {},
     "output_type": "execute_result"
    },
    {
     "data": {
      "text/plain": [
       "minibatches processed:    260, loss = 947.610213\t\n"
      ]
     },
     "execution_count": 17,
     "metadata": {},
     "output_type": "execute_result"
    },
    {
     "data": {
      "text/plain": [
       "minibatches processed:    270, loss = 1518.981850\t\n"
      ]
     },
     "execution_count": 17,
     "metadata": {},
     "output_type": "execute_result"
    },
    {
     "data": {
      "text/plain": [
       "minibatches processed:    280, loss = 5390.339943\t\n"
      ]
     },
     "execution_count": 17,
     "metadata": {},
     "output_type": "execute_result"
    },
    {
     "data": {
      "text/plain": [
       "minibatches processed:    290, loss = 2007.822824\t\n"
      ]
     },
     "execution_count": 17,
     "metadata": {},
     "output_type": "execute_result"
    },
    {
     "data": {
      "text/plain": [
       "minibatches processed:    300, loss = 2208.006614\t\n"
      ]
     },
     "execution_count": 17,
     "metadata": {},
     "output_type": "execute_result"
    },
    {
     "data": {
      "text/plain": [
       "minibatches processed:    310, loss = 1484.122360\t\n"
      ]
     },
     "execution_count": 17,
     "metadata": {},
     "output_type": "execute_result"
    },
    {
     "data": {
      "text/plain": [
       "minibatches processed:    320, loss = 891.493785\t\n"
      ]
     },
     "execution_count": 17,
     "metadata": {},
     "output_type": "execute_result"
    },
    {
     "data": {
      "text/plain": [
       "\n"
      ]
     },
     "execution_count": 17,
     "metadata": {},
     "output_type": "execute_result"
    }
   ],
   "source": [
    "dofile('digitClassifier.lua')"
   ]
  },
  {
   "cell_type": "code",
   "execution_count": 18,
   "metadata": {
    "collapsed": false
   },
   "outputs": [
    {
     "data": {
      "text/plain": [
       "<mnist> loading only 8000 examples\t\n",
       "<mnist> done\t\n"
      ]
     },
     "execution_count": 18,
     "metadata": {},
     "output_type": "execute_result"
    },
    {
     "data": {
      "text/plain": [
       "--------------------------------\t\n",
       " loaded dataset \"train\"\t\n",
       "inputs\t 8000\n",
       " 1024\n",
       "[torch.LongStorage of size 2]\n",
       "\n",
       "targets\t 8000\n",
       "[torch.LongStorage of size 1]\n",
       "\n",
       "--------------------------------\t\n"
      ]
     },
     "execution_count": 18,
     "metadata": {},
     "output_type": "execute_result"
    },
    {
     "data": {
      "text/plain": [
       "<mnist> done\t\n"
      ]
     },
     "execution_count": 18,
     "metadata": {},
     "output_type": "execute_result"
    },
    {
     "data": {
      "text/plain": [
       "--------------------------------\t\n",
       " loaded dataset \"test\"\t\n",
       "inputs\t 10000\n",
       "  1024\n",
       "[torch.LongStorage of size 2]\n",
       "\n",
       "targets\t 10000\n",
       "[torch.LongStorage of size 1]\n",
       "\n",
       "--------------------------------\t\n",
       "10\t\n",
       "1\t\n"
      ]
     },
     "execution_count": 18,
     "metadata": {},
     "output_type": "execute_result"
    },
    {
     "data": {
      "text/plain": [
       "minibatches processed:     10, loss = 18637.686830\t\n"
      ]
     },
     "execution_count": 18,
     "metadata": {},
     "output_type": "execute_result"
    },
    {
     "data": {
      "text/plain": [
       "minibatches processed:     20, loss = 1197.890536\t\n"
      ]
     },
     "execution_count": 18,
     "metadata": {},
     "output_type": "execute_result"
    },
    {
     "data": {
      "text/plain": [
       "minibatches processed:     30, loss = 2673.040349\t\n"
      ]
     },
     "execution_count": 18,
     "metadata": {},
     "output_type": "execute_result"
    },
    {
     "data": {
      "text/plain": [
       "minibatches processed:     40, loss = 1580.095193\t\n"
      ]
     },
     "execution_count": 18,
     "metadata": {},
     "output_type": "execute_result"
    },
    {
     "data": {
      "text/plain": [
       "minibatches processed:     50, loss = 1544.178437\t\n"
      ]
     },
     "execution_count": 18,
     "metadata": {},
     "output_type": "execute_result"
    },
    {
     "data": {
      "text/plain": [
       "minibatches processed:     60, loss = 2725.252494\t\n"
      ]
     },
     "execution_count": 18,
     "metadata": {},
     "output_type": "execute_result"
    },
    {
     "data": {
      "text/plain": [
       "minibatches processed:     70, loss = 2562.405501\t\n"
      ]
     },
     "execution_count": 18,
     "metadata": {},
     "output_type": "execute_result"
    },
    {
     "data": {
      "text/plain": [
       "minibatches processed:     80, loss = 2999.016556\t\n"
      ]
     },
     "execution_count": 18,
     "metadata": {},
     "output_type": "execute_result"
    },
    {
     "data": {
      "text/plain": [
       "minibatches processed:     90, loss = 4000.508009\t\n"
      ]
     },
     "execution_count": 18,
     "metadata": {},
     "output_type": "execute_result"
    },
    {
     "data": {
      "text/plain": [
       "minibatches processed:    100, loss = 1640.099601\t\n"
      ]
     },
     "execution_count": 18,
     "metadata": {},
     "output_type": "execute_result"
    },
    {
     "data": {
      "text/plain": [
       "minibatches processed:    110, loss = 3591.793226\t\n"
      ]
     },
     "execution_count": 18,
     "metadata": {},
     "output_type": "execute_result"
    },
    {
     "data": {
      "text/plain": [
       "minibatches processed:    120, loss = 5104.355401\t\n"
      ]
     },
     "execution_count": 18,
     "metadata": {},
     "output_type": "execute_result"
    },
    {
     "data": {
      "text/plain": [
       "minibatches processed:    130, loss = 2025.724121\t\n"
      ]
     },
     "execution_count": 18,
     "metadata": {},
     "output_type": "execute_result"
    },
    {
     "data": {
      "text/plain": [
       "minibatches processed:    140, loss = 4129.725431\t\n"
      ]
     },
     "execution_count": 18,
     "metadata": {},
     "output_type": "execute_result"
    },
    {
     "data": {
      "text/plain": [
       "minibatches processed:    150, loss = 3083.249304\t\n"
      ]
     },
     "execution_count": 18,
     "metadata": {},
     "output_type": "execute_result"
    },
    {
     "data": {
      "text/plain": [
       "minibatches processed:    160, loss = 1778.064072\t\n"
      ]
     },
     "execution_count": 18,
     "metadata": {},
     "output_type": "execute_result"
    },
    {
     "data": {
      "text/plain": [
       "minibatches processed:    170, loss = 3469.608857\t\n"
      ]
     },
     "execution_count": 18,
     "metadata": {},
     "output_type": "execute_result"
    },
    {
     "data": {
      "text/plain": [
       "minibatches processed:    180, loss = 2821.958241\t\n"
      ]
     },
     "execution_count": 18,
     "metadata": {},
     "output_type": "execute_result"
    },
    {
     "data": {
      "text/plain": [
       "minibatches processed:    190, loss = 1301.971760\t\n"
      ]
     },
     "execution_count": 18,
     "metadata": {},
     "output_type": "execute_result"
    },
    {
     "data": {
      "text/plain": [
       "minibatches processed:    200, loss = 1954.507804\t\n"
      ]
     },
     "execution_count": 18,
     "metadata": {},
     "output_type": "execute_result"
    },
    {
     "data": {
      "text/plain": [
       "minibatches processed:    210, loss = 1520.214161\t\n"
      ]
     },
     "execution_count": 18,
     "metadata": {},
     "output_type": "execute_result"
    },
    {
     "data": {
      "text/plain": [
       "minibatches processed:    220, loss = 1619.686990\t\n"
      ]
     },
     "execution_count": 18,
     "metadata": {},
     "output_type": "execute_result"
    },
    {
     "data": {
      "text/plain": [
       "minibatches processed:    230, loss = 1542.321124\t\n"
      ]
     },
     "execution_count": 18,
     "metadata": {},
     "output_type": "execute_result"
    },
    {
     "data": {
      "text/plain": [
       "minibatches processed:    240, loss = 3552.770369\t\n"
      ]
     },
     "execution_count": 18,
     "metadata": {},
     "output_type": "execute_result"
    },
    {
     "data": {
      "text/plain": [
       "minibatches processed:    250, loss = 3273.120457\t\n"
      ]
     },
     "execution_count": 18,
     "metadata": {},
     "output_type": "execute_result"
    },
    {
     "data": {
      "text/plain": [
       "minibatches processed:    260, loss = 947.610213\t\n"
      ]
     },
     "execution_count": 18,
     "metadata": {},
     "output_type": "execute_result"
    },
    {
     "data": {
      "text/plain": [
       "minibatches processed:    270, loss = 1518.981850\t\n"
      ]
     },
     "execution_count": 18,
     "metadata": {},
     "output_type": "execute_result"
    },
    {
     "data": {
      "text/plain": [
       "minibatches processed:    280, loss = 5390.339943\t\n"
      ]
     },
     "execution_count": 18,
     "metadata": {},
     "output_type": "execute_result"
    },
    {
     "data": {
      "text/plain": [
       "minibatches processed:    290, loss = 2007.822824\t\n"
      ]
     },
     "execution_count": 18,
     "metadata": {},
     "output_type": "execute_result"
    },
    {
     "data": {
      "text/plain": [
       "minibatches processed:    300, loss = 2208.006614\t\n"
      ]
     },
     "execution_count": 18,
     "metadata": {},
     "output_type": "execute_result"
    },
    {
     "data": {
      "text/plain": [
       "minibatches processed:    310, loss = 1484.122360\t\n"
      ]
     },
     "execution_count": 18,
     "metadata": {},
     "output_type": "execute_result"
    },
    {
     "data": {
      "text/plain": [
       "minibatches processed:    320, loss = 891.493785\t\n"
      ]
     },
     "execution_count": 18,
     "metadata": {},
     "output_type": "execute_result"
    },
    {
     "ename": "./dataset-mnist.lua:77: the class torch.DoubleTensor cannot be indexed\nstack traceback:\n\t[C]: in function '__newindex'\n\t./dataset-mnist.lua:77: in function '__index'\n\tdigitClassifier.lua:239: in main chunk\n\t[C]: in function 'f'\n\t[string \"local f = function() return dofile('digitClas...\"]:1: in main chunk\n\t[C]: in function 'xpcall'\n\t/Users/eric/torch/install/share/lua/5.1/itorch/main.lua:209: in function </Users/eric/torch/install/share/lua/5.1/itorch/main.lua:173>\n\t/Users/eric/torch/install/share/lua/5.1/lzmq/poller.lua:75: in function 'poll'\n\t/Users/eric/torch/install/share/lua/5.1/lzmq/impl/loop.lua:307: in function 'poll'\n\t/Users/eric/torch/install/share/lua/5.1/lzmq/impl/loop.lua:325: in function 'sleep_ex'\n\t/Users/eric/torch/install/share/lua/5.1/lzmq/impl/loop.lua:370: in function 'start'\n\t/Users/eric/torch/install/share/lua/5.1/itorch/main.lua:381: in main chunk\n\t[C]: in function 'require'\n\t(command line):1: in main chunk\n\t[C]: at 0x01041c7bd0",
     "evalue": "",
     "output_type": "error",
     "traceback": [
      "./dataset-mnist.lua:77: the class torch.DoubleTensor cannot be indexed\nstack traceback:\n\t[C]: in function '__newindex'\n\t./dataset-mnist.lua:77: in function '__index'\n\tdigitClassifier.lua:239: in main chunk\n\t[C]: in function 'f'\n\t[string \"local f = function() return dofile('digitClas...\"]:1: in main chunk\n\t[C]: in function 'xpcall'\n\t/Users/eric/torch/install/share/lua/5.1/itorch/main.lua:209: in function </Users/eric/torch/install/share/lua/5.1/itorch/main.lua:173>\n\t/Users/eric/torch/install/share/lua/5.1/lzmq/poller.lua:75: in function 'poll'\n\t/Users/eric/torch/install/share/lua/5.1/lzmq/impl/loop.lua:307: in function 'poll'\n\t/Users/eric/torch/install/share/lua/5.1/lzmq/impl/loop.lua:325: in function 'sleep_ex'\n\t/Users/eric/torch/install/share/lua/5.1/lzmq/impl/loop.lua:370: in function 'start'\n\t/Users/eric/torch/install/share/lua/5.1/itorch/main.lua:381: in main chunk\n\t[C]: in function 'require'\n\t(command line):1: in main chunk\n\t[C]: at 0x01041c7bd0"
     ]
    }
   ],
   "source": [
    "dofile('digitClassifier.lua')"
   ]
  },
  {
   "cell_type": "code",
   "execution_count": 19,
   "metadata": {
    "collapsed": false
   },
   "outputs": [
    {
     "data": {
      "text/plain": [
       "<mnist> loading only 8000 examples\t\n",
       "<mnist> done\t\n"
      ]
     },
     "execution_count": 19,
     "metadata": {},
     "output_type": "execute_result"
    },
    {
     "data": {
      "text/plain": [
       "--------------------------------\t\n",
       " loaded dataset \"train\"\t\n",
       "inputs\t 8000\n",
       " 1024\n",
       "[torch.LongStorage of size 2]\n",
       "\n",
       "targets\t 8000\n",
       "[torch.LongStorage of size 1]\n",
       "\n",
       "--------------------------------\t\n"
      ]
     },
     "execution_count": 19,
     "metadata": {},
     "output_type": "execute_result"
    },
    {
     "data": {
      "text/plain": [
       "<mnist> done\t\n"
      ]
     },
     "execution_count": 19,
     "metadata": {},
     "output_type": "execute_result"
    },
    {
     "data": {
      "text/plain": [
       "--------------------------------\t\n",
       " loaded dataset \"test\"\t\n",
       "inputs\t 10000\n",
       "  1024\n",
       "[torch.LongStorage of size 2]\n",
       "\n",
       "targets\t 10000\n",
       "[torch.LongStorage of size 1]\n",
       "\n",
       "--------------------------------\t\n",
       "10\t\n",
       "1\t\n"
      ]
     },
     "execution_count": 19,
     "metadata": {},
     "output_type": "execute_result"
    },
    {
     "data": {
      "text/plain": [
       "minibatches processed:     10, loss = 18637.686830\t\n"
      ]
     },
     "execution_count": 19,
     "metadata": {},
     "output_type": "execute_result"
    },
    {
     "data": {
      "text/plain": [
       "minibatches processed:     20, loss = 1197.890536\t\n"
      ]
     },
     "execution_count": 19,
     "metadata": {},
     "output_type": "execute_result"
    },
    {
     "data": {
      "text/plain": [
       "minibatches processed:     30, loss = 2673.040349\t\n"
      ]
     },
     "execution_count": 19,
     "metadata": {},
     "output_type": "execute_result"
    },
    {
     "data": {
      "text/plain": [
       "minibatches processed:     40, loss = 1580.095193\t\n"
      ]
     },
     "execution_count": 19,
     "metadata": {},
     "output_type": "execute_result"
    },
    {
     "data": {
      "text/plain": [
       "minibatches processed:     50, loss = 1544.178437\t\n"
      ]
     },
     "execution_count": 19,
     "metadata": {},
     "output_type": "execute_result"
    },
    {
     "data": {
      "text/plain": [
       "minibatches processed:     60, loss = 2725.252494\t\n"
      ]
     },
     "execution_count": 19,
     "metadata": {},
     "output_type": "execute_result"
    },
    {
     "data": {
      "text/plain": [
       "minibatches processed:     70, loss = 2562.405501\t\n"
      ]
     },
     "execution_count": 19,
     "metadata": {},
     "output_type": "execute_result"
    },
    {
     "data": {
      "text/plain": [
       "minibatches processed:     80, loss = 2999.016556\t\n"
      ]
     },
     "execution_count": 19,
     "metadata": {},
     "output_type": "execute_result"
    },
    {
     "data": {
      "text/plain": [
       "minibatches processed:     90, loss = 4000.508009\t\n"
      ]
     },
     "execution_count": 19,
     "metadata": {},
     "output_type": "execute_result"
    },
    {
     "data": {
      "text/plain": [
       "minibatches processed:    100, loss = 1640.099601\t\n"
      ]
     },
     "execution_count": 19,
     "metadata": {},
     "output_type": "execute_result"
    },
    {
     "data": {
      "text/plain": [
       "minibatches processed:    110, loss = 3591.793226\t\n"
      ]
     },
     "execution_count": 19,
     "metadata": {},
     "output_type": "execute_result"
    },
    {
     "data": {
      "text/plain": [
       "minibatches processed:    120, loss = 5104.355401\t\n"
      ]
     },
     "execution_count": 19,
     "metadata": {},
     "output_type": "execute_result"
    },
    {
     "data": {
      "text/plain": [
       "minibatches processed:    130, loss = 2025.724121\t\n"
      ]
     },
     "execution_count": 19,
     "metadata": {},
     "output_type": "execute_result"
    },
    {
     "data": {
      "text/plain": [
       "minibatches processed:    140, loss = 4129.725431\t\n"
      ]
     },
     "execution_count": 19,
     "metadata": {},
     "output_type": "execute_result"
    },
    {
     "data": {
      "text/plain": [
       "minibatches processed:    150, loss = 3083.249304\t\n"
      ]
     },
     "execution_count": 19,
     "metadata": {},
     "output_type": "execute_result"
    },
    {
     "data": {
      "text/plain": [
       "minibatches processed:    160, loss = 1778.064072\t\n"
      ]
     },
     "execution_count": 19,
     "metadata": {},
     "output_type": "execute_result"
    },
    {
     "data": {
      "text/plain": [
       "minibatches processed:    170, loss = 3469.608857\t\n"
      ]
     },
     "execution_count": 19,
     "metadata": {},
     "output_type": "execute_result"
    },
    {
     "data": {
      "text/plain": [
       "minibatches processed:    180, loss = 2821.958241\t\n"
      ]
     },
     "execution_count": 19,
     "metadata": {},
     "output_type": "execute_result"
    },
    {
     "data": {
      "text/plain": [
       "minibatches processed:    190, loss = 1301.971760\t\n"
      ]
     },
     "execution_count": 19,
     "metadata": {},
     "output_type": "execute_result"
    },
    {
     "data": {
      "text/plain": [
       "minibatches processed:    200, loss = 1954.507804\t\n"
      ]
     },
     "execution_count": 19,
     "metadata": {},
     "output_type": "execute_result"
    },
    {
     "data": {
      "text/plain": [
       "minibatches processed:    210, loss = 1520.214161\t\n"
      ]
     },
     "execution_count": 19,
     "metadata": {},
     "output_type": "execute_result"
    },
    {
     "data": {
      "text/plain": [
       "minibatches processed:    220, loss = 1619.686990\t\n"
      ]
     },
     "execution_count": 19,
     "metadata": {},
     "output_type": "execute_result"
    },
    {
     "data": {
      "text/plain": [
       "minibatches processed:    230, loss = 1542.321124\t\n"
      ]
     },
     "execution_count": 19,
     "metadata": {},
     "output_type": "execute_result"
    },
    {
     "data": {
      "text/plain": [
       "minibatches processed:    240, loss = 3552.770369\t\n"
      ]
     },
     "execution_count": 19,
     "metadata": {},
     "output_type": "execute_result"
    },
    {
     "data": {
      "text/plain": [
       "minibatches processed:    250, loss = 3273.120457\t\n"
      ]
     },
     "execution_count": 19,
     "metadata": {},
     "output_type": "execute_result"
    },
    {
     "data": {
      "text/plain": [
       "minibatches processed:    260, loss = 947.610213\t\n"
      ]
     },
     "execution_count": 19,
     "metadata": {},
     "output_type": "execute_result"
    },
    {
     "data": {
      "text/plain": [
       "minibatches processed:    270, loss = 1518.981850\t\n"
      ]
     },
     "execution_count": 19,
     "metadata": {},
     "output_type": "execute_result"
    },
    {
     "data": {
      "text/plain": [
       "minibatches processed:    280, loss = 5390.339943\t\n"
      ]
     },
     "execution_count": 19,
     "metadata": {},
     "output_type": "execute_result"
    },
    {
     "data": {
      "text/plain": [
       "minibatches processed:    290, loss = 2007.822824\t\n"
      ]
     },
     "execution_count": 19,
     "metadata": {},
     "output_type": "execute_result"
    },
    {
     "data": {
      "text/plain": [
       "minibatches processed:    300, loss = 2208.006614\t\n"
      ]
     },
     "execution_count": 19,
     "metadata": {},
     "output_type": "execute_result"
    },
    {
     "data": {
      "text/plain": [
       "minibatches processed:    310, loss = 1484.122360\t\n"
      ]
     },
     "execution_count": 19,
     "metadata": {},
     "output_type": "execute_result"
    },
    {
     "data": {
      "text/plain": [
       "minibatches processed:    320, loss = 891.493785\t\n"
      ]
     },
     "execution_count": 19,
     "metadata": {},
     "output_type": "execute_result"
    },
    {
     "data": {
      "text/plain": [
       " 10000\n",
       "[torch.LongStorage of size 1]\n",
       "\n",
       "\n"
      ]
     },
     "execution_count": 19,
     "metadata": {},
     "output_type": "execute_result"
    }
   ],
   "source": [
    "dofile('digitClassifier.lua')"
   ]
  },
  {
   "cell_type": "code",
   "execution_count": 20,
   "metadata": {
    "collapsed": false
   },
   "outputs": [
    {
     "data": {
      "text/plain": [
       "<mnist> loading only 8000 examples\t\n",
       "<mnist> done\t\n"
      ]
     },
     "execution_count": 20,
     "metadata": {},
     "output_type": "execute_result"
    },
    {
     "data": {
      "text/plain": [
       "--------------------------------\t\n",
       " loaded dataset \"train\"\t\n",
       "inputs\t 8000\n",
       " 1024\n",
       "[torch.LongStorage of size 2]\n",
       "\n",
       "targets\t 8000\n",
       "[torch.LongStorage of size 1]\n",
       "\n",
       "--------------------------------\t\n"
      ]
     },
     "execution_count": 20,
     "metadata": {},
     "output_type": "execute_result"
    },
    {
     "data": {
      "text/plain": [
       "<mnist> done\t\n"
      ]
     },
     "execution_count": 20,
     "metadata": {},
     "output_type": "execute_result"
    },
    {
     "data": {
      "text/plain": [
       "--------------------------------\t\n",
       " loaded dataset \"test\"\t\n",
       "inputs\t 10000\n",
       "  1024\n",
       "[torch.LongStorage of size 2]\n",
       "\n",
       "targets\t"
      ]
     },
     "execution_count": 20,
     "metadata": {},
     "output_type": "execute_result"
    },
    {
     "data": {
      "text/plain": [
       " 10000\n",
       "[torch.LongStorage of size 1]\n",
       "\n",
       "--------------------------------\t\n",
       "10\t\n",
       "1\t\n"
      ]
     },
     "execution_count": 20,
     "metadata": {},
     "output_type": "execute_result"
    },
    {
     "data": {
      "text/plain": [
       "minibatches processed:     10, loss = 18637.686830\t\n"
      ]
     },
     "execution_count": 20,
     "metadata": {},
     "output_type": "execute_result"
    },
    {
     "data": {
      "text/plain": [
       "minibatches processed:     20, loss = 1197.890536\t\n"
      ]
     },
     "execution_count": 20,
     "metadata": {},
     "output_type": "execute_result"
    },
    {
     "data": {
      "text/plain": [
       "minibatches processed:     30, loss = 2673.040349\t\n"
      ]
     },
     "execution_count": 20,
     "metadata": {},
     "output_type": "execute_result"
    },
    {
     "data": {
      "text/plain": [
       "minibatches processed:     40, loss = 1580.095193\t\n"
      ]
     },
     "execution_count": 20,
     "metadata": {},
     "output_type": "execute_result"
    },
    {
     "data": {
      "text/plain": [
       "minibatches processed:     50, loss = 1544.178437\t\n"
      ]
     },
     "execution_count": 20,
     "metadata": {},
     "output_type": "execute_result"
    },
    {
     "data": {
      "text/plain": [
       "minibatches processed:     60, loss = 2725.252494\t\n"
      ]
     },
     "execution_count": 20,
     "metadata": {},
     "output_type": "execute_result"
    },
    {
     "data": {
      "text/plain": [
       "minibatches processed:     70, loss = 2562.405501\t\n"
      ]
     },
     "execution_count": 20,
     "metadata": {},
     "output_type": "execute_result"
    },
    {
     "data": {
      "text/plain": [
       "minibatches processed:     80, loss = 2999.016556\t\n"
      ]
     },
     "execution_count": 20,
     "metadata": {},
     "output_type": "execute_result"
    },
    {
     "data": {
      "text/plain": [
       "minibatches processed:     90, loss = 4000.508009\t\n"
      ]
     },
     "execution_count": 20,
     "metadata": {},
     "output_type": "execute_result"
    },
    {
     "data": {
      "text/plain": [
       "minibatches processed:    100, loss = 1640.099601\t\n"
      ]
     },
     "execution_count": 20,
     "metadata": {},
     "output_type": "execute_result"
    },
    {
     "data": {
      "text/plain": [
       "minibatches processed:    110, loss = 3591.793226\t\n"
      ]
     },
     "execution_count": 20,
     "metadata": {},
     "output_type": "execute_result"
    },
    {
     "data": {
      "text/plain": [
       "minibatches processed:    120, loss = 5104.355401\t\n"
      ]
     },
     "execution_count": 20,
     "metadata": {},
     "output_type": "execute_result"
    },
    {
     "data": {
      "text/plain": [
       "minibatches processed:    130, loss = 2025.724121\t\n"
      ]
     },
     "execution_count": 20,
     "metadata": {},
     "output_type": "execute_result"
    },
    {
     "data": {
      "text/plain": [
       "minibatches processed:    140, loss = 4129.725431\t\n"
      ]
     },
     "execution_count": 20,
     "metadata": {},
     "output_type": "execute_result"
    },
    {
     "data": {
      "text/plain": [
       "minibatches processed:    150, loss = 3083.249304\t\n"
      ]
     },
     "execution_count": 20,
     "metadata": {},
     "output_type": "execute_result"
    },
    {
     "data": {
      "text/plain": [
       "minibatches processed:    160, loss = 1778.064072\t\n"
      ]
     },
     "execution_count": 20,
     "metadata": {},
     "output_type": "execute_result"
    },
    {
     "data": {
      "text/plain": [
       "minibatches processed:    170, loss = 3469.608857\t\n"
      ]
     },
     "execution_count": 20,
     "metadata": {},
     "output_type": "execute_result"
    },
    {
     "data": {
      "text/plain": [
       "minibatches processed:    180, loss = 2821.958241\t\n"
      ]
     },
     "execution_count": 20,
     "metadata": {},
     "output_type": "execute_result"
    },
    {
     "data": {
      "text/plain": [
       "minibatches processed:    190, loss = 1301.971760\t\n"
      ]
     },
     "execution_count": 20,
     "metadata": {},
     "output_type": "execute_result"
    },
    {
     "data": {
      "text/plain": [
       "minibatches processed:    200, loss = 1954.507804\t\n"
      ]
     },
     "execution_count": 20,
     "metadata": {},
     "output_type": "execute_result"
    },
    {
     "data": {
      "text/plain": [
       "minibatches processed:    210, loss = 1520.214161\t\n"
      ]
     },
     "execution_count": 20,
     "metadata": {},
     "output_type": "execute_result"
    },
    {
     "data": {
      "text/plain": [
       "minibatches processed:    220, loss = 1619.686990\t\n"
      ]
     },
     "execution_count": 20,
     "metadata": {},
     "output_type": "execute_result"
    },
    {
     "data": {
      "text/plain": [
       "minibatches processed:    230, loss = 1542.321124\t\n"
      ]
     },
     "execution_count": 20,
     "metadata": {},
     "output_type": "execute_result"
    },
    {
     "data": {
      "text/plain": [
       "minibatches processed:    240, loss = 3552.770369\t\n"
      ]
     },
     "execution_count": 20,
     "metadata": {},
     "output_type": "execute_result"
    },
    {
     "data": {
      "text/plain": [
       "minibatches processed:    250, loss = 3273.120457\t\n"
      ]
     },
     "execution_count": 20,
     "metadata": {},
     "output_type": "execute_result"
    },
    {
     "data": {
      "text/plain": [
       "minibatches processed:    260, loss = 947.610213\t\n"
      ]
     },
     "execution_count": 20,
     "metadata": {},
     "output_type": "execute_result"
    },
    {
     "data": {
      "text/plain": [
       "minibatches processed:    270, loss = 1518.981850\t\n"
      ]
     },
     "execution_count": 20,
     "metadata": {},
     "output_type": "execute_result"
    },
    {
     "data": {
      "text/plain": [
       "minibatches processed:    280, loss = 5390.339943\t\n"
      ]
     },
     "execution_count": 20,
     "metadata": {},
     "output_type": "execute_result"
    },
    {
     "data": {
      "text/plain": [
       "minibatches processed:    290, loss = 2007.822824\t\n"
      ]
     },
     "execution_count": 20,
     "metadata": {},
     "output_type": "execute_result"
    },
    {
     "data": {
      "text/plain": [
       "minibatches processed:    300, loss = 2208.006614\t\n"
      ]
     },
     "execution_count": 20,
     "metadata": {},
     "output_type": "execute_result"
    },
    {
     "data": {
      "text/plain": [
       "minibatches processed:    310, loss = 1484.122360\t\n"
      ]
     },
     "execution_count": 20,
     "metadata": {},
     "output_type": "execute_result"
    },
    {
     "data": {
      "text/plain": [
       "minibatches processed:    320, loss = 891.493785\t\n"
      ]
     },
     "execution_count": 20,
     "metadata": {},
     "output_type": "execute_result"
    },
    {
     "data": {
      "text/plain": [
       " 4\n",
       " 1\n",
       "[torch.ByteTensor of size 2]\n",
       "\n",
       "\n"
      ]
     },
     "execution_count": 20,
     "metadata": {},
     "output_type": "execute_result"
    }
   ],
   "source": [
    "dofile('digitClassifier.lua')"
   ]
  },
  {
   "cell_type": "code",
   "execution_count": 21,
   "metadata": {
    "collapsed": false
   },
   "outputs": [
    {
     "data": {
      "text/plain": [
       "<mnist> loading only 8000 examples\t\n",
       "<mnist> done\t\n"
      ]
     },
     "execution_count": 21,
     "metadata": {},
     "output_type": "execute_result"
    },
    {
     "data": {
      "text/plain": [
       "--------------------------------\t\n",
       " loaded dataset \"train\"\t\n",
       "inputs\t 8000\n",
       " 1024\n",
       "[torch.LongStorage of size 2]\n",
       "\n",
       "targets\t 8000\n",
       "[torch.LongStorage of size 1]\n",
       "\n",
       "--------------------------------\t\n"
      ]
     },
     "execution_count": 21,
     "metadata": {},
     "output_type": "execute_result"
    },
    {
     "data": {
      "text/plain": [
       "<mnist> done\t\n"
      ]
     },
     "execution_count": 21,
     "metadata": {},
     "output_type": "execute_result"
    },
    {
     "data": {
      "text/plain": [
       "--------------------------------\t\n",
       " loaded dataset \"test\"\t\n",
       "inputs\t 10000\n",
       "  1024\n",
       "[torch.LongStorage of size 2]\n",
       "\n",
       "targets\t 10000\n",
       "[torch.LongStorage of size 1]\n",
       "\n",
       "--------------------------------\t\n",
       "10\t\n",
       "1\t\n"
      ]
     },
     "execution_count": 21,
     "metadata": {},
     "output_type": "execute_result"
    },
    {
     "data": {
      "text/plain": [
       "minibatches processed:     10, loss = 18637.686830\t\n"
      ]
     },
     "execution_count": 21,
     "metadata": {},
     "output_type": "execute_result"
    },
    {
     "data": {
      "text/plain": [
       "minibatches processed:     20, loss = 1197.890536\t\n"
      ]
     },
     "execution_count": 21,
     "metadata": {},
     "output_type": "execute_result"
    },
    {
     "data": {
      "text/plain": [
       "minibatches processed:     30, loss = 2673.040349\t\n"
      ]
     },
     "execution_count": 21,
     "metadata": {},
     "output_type": "execute_result"
    },
    {
     "data": {
      "text/plain": [
       "minibatches processed:     40, loss = 1580.095193\t\n"
      ]
     },
     "execution_count": 21,
     "metadata": {},
     "output_type": "execute_result"
    },
    {
     "data": {
      "text/plain": [
       "minibatches processed:     50, loss = 1544.178437\t\n"
      ]
     },
     "execution_count": 21,
     "metadata": {},
     "output_type": "execute_result"
    },
    {
     "data": {
      "text/plain": [
       "minibatches processed:     60, loss = 2725.252494\t\n"
      ]
     },
     "execution_count": 21,
     "metadata": {},
     "output_type": "execute_result"
    },
    {
     "data": {
      "text/plain": [
       "minibatches processed:     70, loss = 2562.405501\t\n"
      ]
     },
     "execution_count": 21,
     "metadata": {},
     "output_type": "execute_result"
    },
    {
     "data": {
      "text/plain": [
       "minibatches processed:     80, loss = 2999.016556\t\n"
      ]
     },
     "execution_count": 21,
     "metadata": {},
     "output_type": "execute_result"
    },
    {
     "data": {
      "text/plain": [
       "minibatches processed:     90, loss = 4000.508009\t\n"
      ]
     },
     "execution_count": 21,
     "metadata": {},
     "output_type": "execute_result"
    },
    {
     "data": {
      "text/plain": [
       "minibatches processed:    100, loss = 1640.099601\t\n"
      ]
     },
     "execution_count": 21,
     "metadata": {},
     "output_type": "execute_result"
    },
    {
     "data": {
      "text/plain": [
       "minibatches processed:    110, loss = 3591.793226\t\n"
      ]
     },
     "execution_count": 21,
     "metadata": {},
     "output_type": "execute_result"
    },
    {
     "data": {
      "text/plain": [
       "minibatches processed:    120, loss = 5104.355401\t\n"
      ]
     },
     "execution_count": 21,
     "metadata": {},
     "output_type": "execute_result"
    },
    {
     "data": {
      "text/plain": [
       "minibatches processed:    130, loss = 2025.724121\t\n"
      ]
     },
     "execution_count": 21,
     "metadata": {},
     "output_type": "execute_result"
    },
    {
     "data": {
      "text/plain": [
       "minibatches processed:    140, loss = 4129.725431\t\n"
      ]
     },
     "execution_count": 21,
     "metadata": {},
     "output_type": "execute_result"
    },
    {
     "data": {
      "text/plain": [
       "minibatches processed:    150, loss = 3083.249304\t\n"
      ]
     },
     "execution_count": 21,
     "metadata": {},
     "output_type": "execute_result"
    },
    {
     "data": {
      "text/plain": [
       "minibatches processed:    160, loss = 1778.064072\t\n"
      ]
     },
     "execution_count": 21,
     "metadata": {},
     "output_type": "execute_result"
    },
    {
     "data": {
      "text/plain": [
       "minibatches processed:    170, loss = 3469.608857\t\n"
      ]
     },
     "execution_count": 21,
     "metadata": {},
     "output_type": "execute_result"
    },
    {
     "data": {
      "text/plain": [
       "minibatches processed:    180, loss = 2821.958241\t\n"
      ]
     },
     "execution_count": 21,
     "metadata": {},
     "output_type": "execute_result"
    },
    {
     "data": {
      "text/plain": [
       "minibatches processed:    190, loss = 1301.971760\t\n"
      ]
     },
     "execution_count": 21,
     "metadata": {},
     "output_type": "execute_result"
    },
    {
     "data": {
      "text/plain": [
       "minibatches processed:    200, loss = 1954.507804\t\n"
      ]
     },
     "execution_count": 21,
     "metadata": {},
     "output_type": "execute_result"
    },
    {
     "data": {
      "text/plain": [
       "minibatches processed:    210, loss = 1520.214161\t\n"
      ]
     },
     "execution_count": 21,
     "metadata": {},
     "output_type": "execute_result"
    },
    {
     "data": {
      "text/plain": [
       "minibatches processed:    220, loss = 1619.686990\t\n"
      ]
     },
     "execution_count": 21,
     "metadata": {},
     "output_type": "execute_result"
    },
    {
     "data": {
      "text/plain": [
       "minibatches processed:    230, loss = 1542.321124\t\n"
      ]
     },
     "execution_count": 21,
     "metadata": {},
     "output_type": "execute_result"
    },
    {
     "data": {
      "text/plain": [
       "minibatches processed:    240, loss = 3552.770369\t\n"
      ]
     },
     "execution_count": 21,
     "metadata": {},
     "output_type": "execute_result"
    },
    {
     "data": {
      "text/plain": [
       "minibatches processed:    250, loss = 3273.120457\t\n"
      ]
     },
     "execution_count": 21,
     "metadata": {},
     "output_type": "execute_result"
    },
    {
     "data": {
      "text/plain": [
       "minibatches processed:    260, loss = 947.610213\t\n"
      ]
     },
     "execution_count": 21,
     "metadata": {},
     "output_type": "execute_result"
    },
    {
     "data": {
      "text/plain": [
       "minibatches processed:    270, loss = 1518.981850\t\n"
      ]
     },
     "execution_count": 21,
     "metadata": {},
     "output_type": "execute_result"
    },
    {
     "data": {
      "text/plain": [
       "minibatches processed:    280, loss = 5390.339943\t\n"
      ]
     },
     "execution_count": 21,
     "metadata": {},
     "output_type": "execute_result"
    },
    {
     "data": {
      "text/plain": [
       "minibatches processed:    290, loss = 2007.822824\t\n"
      ]
     },
     "execution_count": 21,
     "metadata": {},
     "output_type": "execute_result"
    },
    {
     "data": {
      "text/plain": [
       "minibatches processed:    300, loss = 2208.006614\t\n"
      ]
     },
     "execution_count": 21,
     "metadata": {},
     "output_type": "execute_result"
    },
    {
     "data": {
      "text/plain": [
       "minibatches processed:    310, loss = 1484.122360\t\n"
      ]
     },
     "execution_count": 21,
     "metadata": {},
     "output_type": "execute_result"
    },
    {
     "data": {
      "text/plain": [
       "minibatches processed:    320, loss = 891.493785\t\n"
      ]
     },
     "execution_count": 21,
     "metadata": {},
     "output_type": "execute_result"
    },
    {
     "ename": "digitClassifier.lua:240: attempt to call method 'foward' (a nil value)\nstack traceback:\n\tdigitClassifier.lua:240: in main chunk\n\t[C]: in function 'f'\n\t[string \"local f = function() return dofile('digitClas...\"]:1: in main chunk\n\t[C]: in function 'xpcall'\n\t/Users/eric/torch/install/share/lua/5.1/itorch/main.lua:209: in function </Users/eric/torch/install/share/lua/5.1/itorch/main.lua:173>\n\t/Users/eric/torch/install/share/lua/5.1/lzmq/poller.lua:75: in function 'poll'\n\t/Users/eric/torch/install/share/lua/5.1/lzmq/impl/loop.lua:307: in function 'poll'\n\t/Users/eric/torch/install/share/lua/5.1/lzmq/impl/loop.lua:325: in function 'sleep_ex'\n\t/Users/eric/torch/install/share/lua/5.1/lzmq/impl/loop.lua:370: in function 'start'\n\t/Users/eric/torch/install/share/lua/5.1/itorch/main.lua:381: in main chunk\n\t[C]: in function 'require'\n\t(command line):1: in main chunk\n\t[C]: at 0x01041c7bd0",
     "evalue": "",
     "output_type": "error",
     "traceback": [
      "digitClassifier.lua:240: attempt to call method 'foward' (a nil value)\nstack traceback:\n\tdigitClassifier.lua:240: in main chunk\n\t[C]: in function 'f'\n\t[string \"local f = function() return dofile('digitClas...\"]:1: in main chunk\n\t[C]: in function 'xpcall'\n\t/Users/eric/torch/install/share/lua/5.1/itorch/main.lua:209: in function </Users/eric/torch/install/share/lua/5.1/itorch/main.lua:173>\n\t/Users/eric/torch/install/share/lua/5.1/lzmq/poller.lua:75: in function 'poll'\n\t/Users/eric/torch/install/share/lua/5.1/lzmq/impl/loop.lua:307: in function 'poll'\n\t/Users/eric/torch/install/share/lua/5.1/lzmq/impl/loop.lua:325: in function 'sleep_ex'\n\t/Users/eric/torch/install/share/lua/5.1/lzmq/impl/loop.lua:370: in function 'start'\n\t/Users/eric/torch/install/share/lua/5.1/itorch/main.lua:381: in main chunk\n\t[C]: in function 'require'\n\t(command line):1: in main chunk\n\t[C]: at 0x01041c7bd0"
     ]
    }
   ],
   "source": [
    "dofile('digitClassifier.lua')"
   ]
  },
  {
   "cell_type": "code",
   "execution_count": 22,
   "metadata": {
    "collapsed": false
   },
   "outputs": [
    {
     "data": {
      "text/plain": [
       "<mnist> loading only 8000 examples\t\n",
       "<mnist> done\t\n"
      ]
     },
     "execution_count": 22,
     "metadata": {},
     "output_type": "execute_result"
    },
    {
     "data": {
      "text/plain": [
       "--------------------------------\t\n",
       " loaded dataset \"train\"\t\n",
       "inputs\t 8000\n",
       " 1024\n",
       "[torch.LongStorage of size 2]\n",
       "\n",
       "targets\t 8000\n",
       "[torch.LongStorage of size 1]\n",
       "\n",
       "--------------------------------\t\n"
      ]
     },
     "execution_count": 22,
     "metadata": {},
     "output_type": "execute_result"
    },
    {
     "data": {
      "text/plain": [
       "<mnist> done\t\n"
      ]
     },
     "execution_count": 22,
     "metadata": {},
     "output_type": "execute_result"
    },
    {
     "data": {
      "text/plain": [
       "--------------------------------\t\n",
       " loaded dataset \"test\"\t\n",
       "inputs\t 10000\n",
       "  1024\n",
       "[torch.LongStorage of size 2]\n",
       "\n",
       "targets\t 10000\n",
       "[torch.LongStorage of size 1]\n",
       "\n",
       "--------------------------------\t\n"
      ]
     },
     "execution_count": 22,
     "metadata": {},
     "output_type": "execute_result"
    },
    {
     "data": {
      "text/plain": [
       "10\t\n",
       "1\t\n"
      ]
     },
     "execution_count": 22,
     "metadata": {},
     "output_type": "execute_result"
    },
    {
     "data": {
      "text/plain": [
       "minibatches processed:     10, loss = 18637.686830\t\n"
      ]
     },
     "execution_count": 22,
     "metadata": {},
     "output_type": "execute_result"
    },
    {
     "data": {
      "text/plain": [
       "minibatches processed:     20, loss = 1197.890536\t\n"
      ]
     },
     "execution_count": 22,
     "metadata": {},
     "output_type": "execute_result"
    },
    {
     "data": {
      "text/plain": [
       "minibatches processed:     30, loss = 2673.040349\t\n"
      ]
     },
     "execution_count": 22,
     "metadata": {},
     "output_type": "execute_result"
    },
    {
     "data": {
      "text/plain": [
       "minibatches processed:     40, loss = 1580.095193\t\n"
      ]
     },
     "execution_count": 22,
     "metadata": {},
     "output_type": "execute_result"
    },
    {
     "data": {
      "text/plain": [
       "minibatches processed:     50, loss = 1544.178437\t\n"
      ]
     },
     "execution_count": 22,
     "metadata": {},
     "output_type": "execute_result"
    },
    {
     "data": {
      "text/plain": [
       "minibatches processed:     60, loss = 2725.252494\t\n"
      ]
     },
     "execution_count": 22,
     "metadata": {},
     "output_type": "execute_result"
    },
    {
     "data": {
      "text/plain": [
       "minibatches processed:     70, loss = 2562.405501\t\n"
      ]
     },
     "execution_count": 22,
     "metadata": {},
     "output_type": "execute_result"
    },
    {
     "data": {
      "text/plain": [
       "minibatches processed:     80, loss = 2999.016556\t\n"
      ]
     },
     "execution_count": 22,
     "metadata": {},
     "output_type": "execute_result"
    },
    {
     "data": {
      "text/plain": [
       "minibatches processed:     90, loss = 4000.508009\t\n"
      ]
     },
     "execution_count": 22,
     "metadata": {},
     "output_type": "execute_result"
    },
    {
     "data": {
      "text/plain": [
       "minibatches processed:    100, loss = 1640.099601\t\n"
      ]
     },
     "execution_count": 22,
     "metadata": {},
     "output_type": "execute_result"
    },
    {
     "data": {
      "text/plain": [
       "minibatches processed:    110, loss = 3591.793226\t\n"
      ]
     },
     "execution_count": 22,
     "metadata": {},
     "output_type": "execute_result"
    },
    {
     "data": {
      "text/plain": [
       "minibatches processed:    120, loss = 5104.355401\t\n"
      ]
     },
     "execution_count": 22,
     "metadata": {},
     "output_type": "execute_result"
    },
    {
     "data": {
      "text/plain": [
       "minibatches processed:    130, loss = 2025.724121\t\n"
      ]
     },
     "execution_count": 22,
     "metadata": {},
     "output_type": "execute_result"
    },
    {
     "data": {
      "text/plain": [
       "minibatches processed:    140, loss = 4129.725431\t\n"
      ]
     },
     "execution_count": 22,
     "metadata": {},
     "output_type": "execute_result"
    },
    {
     "data": {
      "text/plain": [
       "minibatches processed:    150, loss = 3083.249304\t\n"
      ]
     },
     "execution_count": 22,
     "metadata": {},
     "output_type": "execute_result"
    },
    {
     "data": {
      "text/plain": [
       "minibatches processed:    160, loss = 1778.064072\t\n"
      ]
     },
     "execution_count": 22,
     "metadata": {},
     "output_type": "execute_result"
    },
    {
     "data": {
      "text/plain": [
       "minibatches processed:    170, loss = 3469.608857\t\n"
      ]
     },
     "execution_count": 22,
     "metadata": {},
     "output_type": "execute_result"
    },
    {
     "data": {
      "text/plain": [
       "minibatches processed:    180, loss = 2821.958241\t\n"
      ]
     },
     "execution_count": 22,
     "metadata": {},
     "output_type": "execute_result"
    },
    {
     "data": {
      "text/plain": [
       "minibatches processed:    190, loss = 1301.971760\t\n"
      ]
     },
     "execution_count": 22,
     "metadata": {},
     "output_type": "execute_result"
    },
    {
     "data": {
      "text/plain": [
       "minibatches processed:    200, loss = 1954.507804\t\n"
      ]
     },
     "execution_count": 22,
     "metadata": {},
     "output_type": "execute_result"
    },
    {
     "data": {
      "text/plain": [
       "minibatches processed:    210, loss = 1520.214161\t\n"
      ]
     },
     "execution_count": 22,
     "metadata": {},
     "output_type": "execute_result"
    },
    {
     "data": {
      "text/plain": [
       "minibatches processed:    220, loss = 1619.686990\t\n"
      ]
     },
     "execution_count": 22,
     "metadata": {},
     "output_type": "execute_result"
    },
    {
     "data": {
      "text/plain": [
       "minibatches processed:    230, loss = 1542.321124\t\n"
      ]
     },
     "execution_count": 22,
     "metadata": {},
     "output_type": "execute_result"
    },
    {
     "data": {
      "text/plain": [
       "minibatches processed:    240, loss = 3552.770369\t\n"
      ]
     },
     "execution_count": 22,
     "metadata": {},
     "output_type": "execute_result"
    },
    {
     "data": {
      "text/plain": [
       "minibatches processed:    250, loss = 3273.120457\t\n"
      ]
     },
     "execution_count": 22,
     "metadata": {},
     "output_type": "execute_result"
    },
    {
     "data": {
      "text/plain": [
       "minibatches processed:    260, loss = 947.610213\t\n"
      ]
     },
     "execution_count": 22,
     "metadata": {},
     "output_type": "execute_result"
    },
    {
     "data": {
      "text/plain": [
       "minibatches processed:    270, loss = 1518.981850\t\n"
      ]
     },
     "execution_count": 22,
     "metadata": {},
     "output_type": "execute_result"
    },
    {
     "data": {
      "text/plain": [
       "minibatches processed:    280, loss = 5390.339943\t\n"
      ]
     },
     "execution_count": 22,
     "metadata": {},
     "output_type": "execute_result"
    },
    {
     "data": {
      "text/plain": [
       "minibatches processed:    290, loss = 2007.822824\t\n"
      ]
     },
     "execution_count": 22,
     "metadata": {},
     "output_type": "execute_result"
    },
    {
     "data": {
      "text/plain": [
       "minibatches processed:    300, loss = 2208.006614\t\n"
      ]
     },
     "execution_count": 22,
     "metadata": {},
     "output_type": "execute_result"
    },
    {
     "data": {
      "text/plain": [
       "minibatches processed:    310, loss = 1484.122360\t\n"
      ]
     },
     "execution_count": 22,
     "metadata": {},
     "output_type": "execute_result"
    },
    {
     "data": {
      "text/plain": [
       "minibatches processed:    320, loss = 891.493785\t\n"
      ]
     },
     "execution_count": 22,
     "metadata": {},
     "output_type": "execute_result"
    },
    {
     "data": {
      "text/plain": [
       "Columns 1 to 6\n",
       "-5.8853e+04 -5.3218e+04 -4.1532e+04  0.0000e+00 -6.1132e+04 -4.4480e+04\n",
       " 0.0000e+00 -1.7874e+05 -5.6580e+04 -1.2752e+05 -1.7991e+05 -8.9737e+04\n",
       "\n",
       "Columns 7 to 10\n",
       "-4.3482e+04 -5.6550e+04 -3.4797e+04 -2.9404e+04\n",
       "-8.8672e+04 -1.3126e+05 -7.7211e+04 -1.3813e+05\n",
       "[torch.DoubleTensor of size 2x10]\n",
       "\n",
       "\n"
      ]
     },
     "execution_count": 22,
     "metadata": {},
     "output_type": "execute_result"
    }
   ],
   "source": [
    "dofile('digitClassifier.lua')"
   ]
  },
  {
   "cell_type": "code",
   "execution_count": 23,
   "metadata": {
    "collapsed": false
   },
   "outputs": [
    {
     "data": {
      "text/plain": [
       "<mnist> loading only 8000 examples\t\n",
       "<mnist> done\t\n"
      ]
     },
     "execution_count": 23,
     "metadata": {},
     "output_type": "execute_result"
    },
    {
     "data": {
      "text/plain": [
       "--------------------------------\t\n",
       " loaded dataset \"train\"\t\n",
       "inputs\t 8000\n",
       " 1024\n",
       "[torch.LongStorage of size 2]\n",
       "\n",
       "targets\t 8000\n",
       "[torch.LongStorage of size 1]\n",
       "\n",
       "--------------------------------\t\n"
      ]
     },
     "execution_count": 23,
     "metadata": {},
     "output_type": "execute_result"
    },
    {
     "data": {
      "text/plain": [
       "<mnist> done\t\n"
      ]
     },
     "execution_count": 23,
     "metadata": {},
     "output_type": "execute_result"
    },
    {
     "data": {
      "text/plain": [
       "--------------------------------\t\n",
       " loaded dataset \"test\"\t\n",
       "inputs\t 10000\n",
       "  1024\n",
       "[torch.LongStorage of size 2]\n",
       "\n",
       "targets\t 10000\n",
       "[torch.LongStorage of size 1]\n",
       "\n",
       "--------------------------------\t\n",
       "10\t\n",
       "1\t\n"
      ]
     },
     "execution_count": 23,
     "metadata": {},
     "output_type": "execute_result"
    },
    {
     "data": {
      "text/plain": [
       "minibatches processed:     10, loss = 18637.686830\t\n"
      ]
     },
     "execution_count": 23,
     "metadata": {},
     "output_type": "execute_result"
    },
    {
     "data": {
      "text/plain": [
       "minibatches processed:     20, loss = 1197.890536\t\n"
      ]
     },
     "execution_count": 23,
     "metadata": {},
     "output_type": "execute_result"
    },
    {
     "data": {
      "text/plain": [
       "minibatches processed:     30, loss = 2673.040349\t\n"
      ]
     },
     "execution_count": 23,
     "metadata": {},
     "output_type": "execute_result"
    },
    {
     "data": {
      "text/plain": [
       "minibatches processed:     40, loss = 1580.095193\t\n"
      ]
     },
     "execution_count": 23,
     "metadata": {},
     "output_type": "execute_result"
    },
    {
     "data": {
      "text/plain": [
       "minibatches processed:     50, loss = 1544.178437\t\n"
      ]
     },
     "execution_count": 23,
     "metadata": {},
     "output_type": "execute_result"
    },
    {
     "data": {
      "text/plain": [
       "minibatches processed:     60, loss = 2725.252494\t\n"
      ]
     },
     "execution_count": 23,
     "metadata": {},
     "output_type": "execute_result"
    },
    {
     "data": {
      "text/plain": [
       "minibatches processed:     70, loss = 2562.405501\t\n"
      ]
     },
     "execution_count": 23,
     "metadata": {},
     "output_type": "execute_result"
    },
    {
     "data": {
      "text/plain": [
       "minibatches processed:     80, loss = 2999.016556\t\n"
      ]
     },
     "execution_count": 23,
     "metadata": {},
     "output_type": "execute_result"
    },
    {
     "data": {
      "text/plain": [
       "minibatches processed:     90, loss = 4000.508009\t\n"
      ]
     },
     "execution_count": 23,
     "metadata": {},
     "output_type": "execute_result"
    },
    {
     "data": {
      "text/plain": [
       "minibatches processed:    100, loss = 1640.099601\t\n"
      ]
     },
     "execution_count": 23,
     "metadata": {},
     "output_type": "execute_result"
    },
    {
     "data": {
      "text/plain": [
       "minibatches processed:    110, loss = 3591.793226\t\n"
      ]
     },
     "execution_count": 23,
     "metadata": {},
     "output_type": "execute_result"
    },
    {
     "data": {
      "text/plain": [
       "minibatches processed:    120, loss = 5104.355401\t\n"
      ]
     },
     "execution_count": 23,
     "metadata": {},
     "output_type": "execute_result"
    },
    {
     "data": {
      "text/plain": [
       "minibatches processed:    130, loss = 2025.724121\t\n"
      ]
     },
     "execution_count": 23,
     "metadata": {},
     "output_type": "execute_result"
    },
    {
     "data": {
      "text/plain": [
       "minibatches processed:    140, loss = 4129.725431\t\n"
      ]
     },
     "execution_count": 23,
     "metadata": {},
     "output_type": "execute_result"
    },
    {
     "data": {
      "text/plain": [
       "minibatches processed:    150, loss = 3083.249304\t\n"
      ]
     },
     "execution_count": 23,
     "metadata": {},
     "output_type": "execute_result"
    },
    {
     "data": {
      "text/plain": [
       "minibatches processed:    160, loss = 1778.064072\t\n"
      ]
     },
     "execution_count": 23,
     "metadata": {},
     "output_type": "execute_result"
    },
    {
     "data": {
      "text/plain": [
       "minibatches processed:    170, loss = 3469.608857\t\n"
      ]
     },
     "execution_count": 23,
     "metadata": {},
     "output_type": "execute_result"
    },
    {
     "data": {
      "text/plain": [
       "minibatches processed:    180, loss = 2821.958241\t\n"
      ]
     },
     "execution_count": 23,
     "metadata": {},
     "output_type": "execute_result"
    },
    {
     "data": {
      "text/plain": [
       "minibatches processed:    190, loss = 1301.971760\t\n"
      ]
     },
     "execution_count": 23,
     "metadata": {},
     "output_type": "execute_result"
    },
    {
     "data": {
      "text/plain": [
       "minibatches processed:    200, loss = 1954.507804\t\n"
      ]
     },
     "execution_count": 23,
     "metadata": {},
     "output_type": "execute_result"
    },
    {
     "data": {
      "text/plain": [
       "minibatches processed:    210, loss = 1520.214161\t\n"
      ]
     },
     "execution_count": 23,
     "metadata": {},
     "output_type": "execute_result"
    },
    {
     "data": {
      "text/plain": [
       "minibatches processed:    220, loss = 1619.686990\t\n"
      ]
     },
     "execution_count": 23,
     "metadata": {},
     "output_type": "execute_result"
    },
    {
     "data": {
      "text/plain": [
       "minibatches processed:    230, loss = 1542.321124\t\n"
      ]
     },
     "execution_count": 23,
     "metadata": {},
     "output_type": "execute_result"
    },
    {
     "data": {
      "text/plain": [
       "minibatches processed:    240, loss = 3552.770369\t\n"
      ]
     },
     "execution_count": 23,
     "metadata": {},
     "output_type": "execute_result"
    },
    {
     "data": {
      "text/plain": [
       "minibatches processed:    250, loss = 3273.120457\t\n"
      ]
     },
     "execution_count": 23,
     "metadata": {},
     "output_type": "execute_result"
    },
    {
     "data": {
      "text/plain": [
       "minibatches processed:    260, loss = 947.610213\t\n"
      ]
     },
     "execution_count": 23,
     "metadata": {},
     "output_type": "execute_result"
    },
    {
     "data": {
      "text/plain": [
       "minibatches processed:    270, loss = 1518.981850\t\n"
      ]
     },
     "execution_count": 23,
     "metadata": {},
     "output_type": "execute_result"
    },
    {
     "data": {
      "text/plain": [
       "minibatches processed:    280, loss = 5390.339943\t\n"
      ]
     },
     "execution_count": 23,
     "metadata": {},
     "output_type": "execute_result"
    },
    {
     "data": {
      "text/plain": [
       "minibatches processed:    290, loss = 2007.822824\t\n"
      ]
     },
     "execution_count": 23,
     "metadata": {},
     "output_type": "execute_result"
    },
    {
     "data": {
      "text/plain": [
       "minibatches processed:    300, loss = 2208.006614\t\n"
      ]
     },
     "execution_count": 23,
     "metadata": {},
     "output_type": "execute_result"
    },
    {
     "data": {
      "text/plain": [
       "minibatches processed:    310, loss = 1484.122360\t\n"
      ]
     },
     "execution_count": 23,
     "metadata": {},
     "output_type": "execute_result"
    },
    {
     "data": {
      "text/plain": [
       "minibatches processed:    320, loss = 891.493785\t\n"
      ]
     },
     "execution_count": 23,
     "metadata": {},
     "output_type": "execute_result"
    },
    {
     "data": {
      "text/plain": [
       "0\t\n",
       "\n"
      ]
     },
     "execution_count": 23,
     "metadata": {},
     "output_type": "execute_result"
    }
   ],
   "source": [
    "dofile('digitClassifier.lua')\n"
   ]
  },
  {
   "cell_type": "code",
   "execution_count": 24,
   "metadata": {
    "collapsed": false
   },
   "outputs": [
    {
     "data": {
      "text/plain": [
       "<mnist> loading only 8000 examples\t\n",
       "<mnist> done\t\n"
      ]
     },
     "execution_count": 24,
     "metadata": {},
     "output_type": "execute_result"
    },
    {
     "data": {
      "text/plain": [
       "--------------------------------\t\n",
       " loaded dataset \"train\"\t\n",
       "inputs\t 8000\n",
       " 1024\n",
       "[torch.LongStorage of size 2]\n",
       "\n",
       "targets\t 8000\n",
       "[torch.LongStorage of size 1]\n",
       "\n",
       "--------------------------------\t\n"
      ]
     },
     "execution_count": 24,
     "metadata": {},
     "output_type": "execute_result"
    },
    {
     "data": {
      "text/plain": [
       "<mnist> done\t\n"
      ]
     },
     "execution_count": 24,
     "metadata": {},
     "output_type": "execute_result"
    },
    {
     "data": {
      "text/plain": [
       "--------------------------------\t\n",
       " loaded dataset \"test\"\t\n",
       "inputs\t 10000\n",
       "  1024\n",
       "[torch.LongStorage of size 2]\n",
       "\n",
       "targets\t 10000\n",
       "[torch.LongStorage of size 1]\n",
       "\n",
       "--------------------------------\t\n",
       "10\t\n",
       "1\t\n"
      ]
     },
     "execution_count": 24,
     "metadata": {},
     "output_type": "execute_result"
    },
    {
     "data": {
      "text/plain": [
       "minibatches processed:     10, loss = 18637.686830\t\n"
      ]
     },
     "execution_count": 24,
     "metadata": {},
     "output_type": "execute_result"
    },
    {
     "data": {
      "text/plain": [
       "minibatches processed:     20, loss = 1197.890536\t\n"
      ]
     },
     "execution_count": 24,
     "metadata": {},
     "output_type": "execute_result"
    },
    {
     "data": {
      "text/plain": [
       "minibatches processed:     30, loss = 2673.040349\t\n"
      ]
     },
     "execution_count": 24,
     "metadata": {},
     "output_type": "execute_result"
    },
    {
     "data": {
      "text/plain": [
       "minibatches processed:     40, loss = 1580.095193\t\n"
      ]
     },
     "execution_count": 24,
     "metadata": {},
     "output_type": "execute_result"
    },
    {
     "data": {
      "text/plain": [
       "minibatches processed:     50, loss = 1544.178437\t\n"
      ]
     },
     "execution_count": 24,
     "metadata": {},
     "output_type": "execute_result"
    },
    {
     "data": {
      "text/plain": [
       "minibatches processed:     60, loss = 2725.252494\t\n"
      ]
     },
     "execution_count": 24,
     "metadata": {},
     "output_type": "execute_result"
    },
    {
     "data": {
      "text/plain": [
       "minibatches processed:     70, loss = 2562.405501\t\n"
      ]
     },
     "execution_count": 24,
     "metadata": {},
     "output_type": "execute_result"
    },
    {
     "data": {
      "text/plain": [
       "minibatches processed:     80, loss = 2999.016556\t\n"
      ]
     },
     "execution_count": 24,
     "metadata": {},
     "output_type": "execute_result"
    },
    {
     "data": {
      "text/plain": [
       "minibatches processed:     90, loss = 4000.508009\t\n"
      ]
     },
     "execution_count": 24,
     "metadata": {},
     "output_type": "execute_result"
    },
    {
     "data": {
      "text/plain": [
       "minibatches processed:    100, loss = 1640.099601\t\n"
      ]
     },
     "execution_count": 24,
     "metadata": {},
     "output_type": "execute_result"
    },
    {
     "data": {
      "text/plain": [
       "minibatches processed:    110, loss = 3591.793226\t\n"
      ]
     },
     "execution_count": 24,
     "metadata": {},
     "output_type": "execute_result"
    },
    {
     "data": {
      "text/plain": [
       "minibatches processed:    120, loss = 5104.355401\t\n"
      ]
     },
     "execution_count": 24,
     "metadata": {},
     "output_type": "execute_result"
    },
    {
     "data": {
      "text/plain": [
       "minibatches processed:    130, loss = 2025.724121\t\n"
      ]
     },
     "execution_count": 24,
     "metadata": {},
     "output_type": "execute_result"
    },
    {
     "data": {
      "text/plain": [
       "minibatches processed:    140, loss = 4129.725431\t\n"
      ]
     },
     "execution_count": 24,
     "metadata": {},
     "output_type": "execute_result"
    },
    {
     "data": {
      "text/plain": [
       "minibatches processed:    150, loss = 3083.249304\t\n"
      ]
     },
     "execution_count": 24,
     "metadata": {},
     "output_type": "execute_result"
    },
    {
     "data": {
      "text/plain": [
       "minibatches processed:    160, loss = 1778.064072\t\n"
      ]
     },
     "execution_count": 24,
     "metadata": {},
     "output_type": "execute_result"
    },
    {
     "data": {
      "text/plain": [
       "minibatches processed:    170, loss = 3469.608857\t\n"
      ]
     },
     "execution_count": 24,
     "metadata": {},
     "output_type": "execute_result"
    },
    {
     "data": {
      "text/plain": [
       "minibatches processed:    180, loss = 2821.958241\t\n"
      ]
     },
     "execution_count": 24,
     "metadata": {},
     "output_type": "execute_result"
    },
    {
     "data": {
      "text/plain": [
       "minibatches processed:    190, loss = 1301.971760\t\n"
      ]
     },
     "execution_count": 24,
     "metadata": {},
     "output_type": "execute_result"
    },
    {
     "data": {
      "text/plain": [
       "minibatches processed:    200, loss = 1954.507804\t\n"
      ]
     },
     "execution_count": 24,
     "metadata": {},
     "output_type": "execute_result"
    },
    {
     "data": {
      "text/plain": [
       "minibatches processed:    210, loss = 1520.214161\t\n"
      ]
     },
     "execution_count": 24,
     "metadata": {},
     "output_type": "execute_result"
    },
    {
     "data": {
      "text/plain": [
       "minibatches processed:    220, loss = 1619.686990\t\n"
      ]
     },
     "execution_count": 24,
     "metadata": {},
     "output_type": "execute_result"
    },
    {
     "data": {
      "text/plain": [
       "minibatches processed:    230, loss = 1542.321124\t\n"
      ]
     },
     "execution_count": 24,
     "metadata": {},
     "output_type": "execute_result"
    },
    {
     "data": {
      "text/plain": [
       "minibatches processed:    240, loss = 3552.770369\t\n"
      ]
     },
     "execution_count": 24,
     "metadata": {},
     "output_type": "execute_result"
    },
    {
     "data": {
      "text/plain": [
       "minibatches processed:    250, loss = 3273.120457\t\n"
      ]
     },
     "execution_count": 24,
     "metadata": {},
     "output_type": "execute_result"
    },
    {
     "data": {
      "text/plain": [
       "minibatches processed:    260, loss = 947.610213\t\n"
      ]
     },
     "execution_count": 24,
     "metadata": {},
     "output_type": "execute_result"
    },
    {
     "data": {
      "text/plain": [
       "minibatches processed:    270, loss = 1518.981850\t\n"
      ]
     },
     "execution_count": 24,
     "metadata": {},
     "output_type": "execute_result"
    },
    {
     "data": {
      "text/plain": [
       "minibatches processed:    280, loss = 5390.339943\t\n"
      ]
     },
     "execution_count": 24,
     "metadata": {},
     "output_type": "execute_result"
    },
    {
     "data": {
      "text/plain": [
       "minibatches processed:    290, loss = 2007.822824\t\n"
      ]
     },
     "execution_count": 24,
     "metadata": {},
     "output_type": "execute_result"
    },
    {
     "data": {
      "text/plain": [
       "minibatches processed:    300, loss = 2208.006614\t\n"
      ]
     },
     "execution_count": 24,
     "metadata": {},
     "output_type": "execute_result"
    },
    {
     "data": {
      "text/plain": [
       "minibatches processed:    310, loss = 1484.122360\t\n"
      ]
     },
     "execution_count": 24,
     "metadata": {},
     "output_type": "execute_result"
    },
    {
     "data": {
      "text/plain": [
       "minibatches processed:    320, loss = 891.493785\t\n"
      ]
     },
     "execution_count": 24,
     "metadata": {},
     "output_type": "execute_result"
    },
    {
     "data": {
      "text/plain": [
       "0\t\n",
       "\n"
      ]
     },
     "execution_count": 24,
     "metadata": {},
     "output_type": "execute_result"
    }
   ],
   "source": [
    "dofile('digitClassifier.lua')"
   ]
  },
  {
   "cell_type": "code",
   "execution_count": 25,
   "metadata": {
    "collapsed": false
   },
   "outputs": [
    {
     "data": {
      "text/plain": [
       "<mnist> loading only 8000 examples\t\n",
       "<mnist> done\t\n"
      ]
     },
     "execution_count": 25,
     "metadata": {},
     "output_type": "execute_result"
    },
    {
     "data": {
      "text/plain": [
       "--------------------------------\t\n",
       " loaded dataset \"train\"\t\n",
       "inputs\t 8000\n",
       " 1024\n",
       "[torch.LongStorage of size 2]\n",
       "\n",
       "targets\t 8000\n",
       "[torch.LongStorage of size 1]\n",
       "\n",
       "--------------------------------\t\n"
      ]
     },
     "execution_count": 25,
     "metadata": {},
     "output_type": "execute_result"
    },
    {
     "data": {
      "text/plain": [
       "<mnist> done\t\n"
      ]
     },
     "execution_count": 25,
     "metadata": {},
     "output_type": "execute_result"
    },
    {
     "data": {
      "text/plain": [
       "--------------------------------\t\n",
       " loaded dataset \"test\"\t\n",
       "inputs\t"
      ]
     },
     "execution_count": 25,
     "metadata": {},
     "output_type": "execute_result"
    },
    {
     "data": {
      "text/plain": [
       " 10000\n",
       "  1024\n",
       "[torch.LongStorage of size 2]\n",
       "\n",
       "targets\t 10000\n",
       "[torch.LongStorage of size 1]\n",
       "\n",
       "--------------------------------\t\n",
       "10\t\n",
       "1\t\n"
      ]
     },
     "execution_count": 25,
     "metadata": {},
     "output_type": "execute_result"
    },
    {
     "data": {
      "text/plain": [
       "minibatches processed:     10, loss = 18637.686830\t\n"
      ]
     },
     "execution_count": 25,
     "metadata": {},
     "output_type": "execute_result"
    },
    {
     "data": {
      "text/plain": [
       "minibatches processed:     20, loss = 1197.890536\t\n"
      ]
     },
     "execution_count": 25,
     "metadata": {},
     "output_type": "execute_result"
    },
    {
     "data": {
      "text/plain": [
       "minibatches processed:     30, loss = 2673.040349\t\n"
      ]
     },
     "execution_count": 25,
     "metadata": {},
     "output_type": "execute_result"
    },
    {
     "data": {
      "text/plain": [
       "minibatches processed:     40, loss = 1580.095193\t\n"
      ]
     },
     "execution_count": 25,
     "metadata": {},
     "output_type": "execute_result"
    },
    {
     "data": {
      "text/plain": [
       "minibatches processed:     50, loss = 1544.178437\t\n"
      ]
     },
     "execution_count": 25,
     "metadata": {},
     "output_type": "execute_result"
    },
    {
     "data": {
      "text/plain": [
       "minibatches processed:     60, loss = 2725.252494\t\n"
      ]
     },
     "execution_count": 25,
     "metadata": {},
     "output_type": "execute_result"
    },
    {
     "data": {
      "text/plain": [
       "minibatches processed:     70, loss = 2562.405501\t\n"
      ]
     },
     "execution_count": 25,
     "metadata": {},
     "output_type": "execute_result"
    },
    {
     "data": {
      "text/plain": [
       "minibatches processed:     80, loss = 2999.016556\t\n"
      ]
     },
     "execution_count": 25,
     "metadata": {},
     "output_type": "execute_result"
    },
    {
     "data": {
      "text/plain": [
       "minibatches processed:     90, loss = 4000.508009\t\n"
      ]
     },
     "execution_count": 25,
     "metadata": {},
     "output_type": "execute_result"
    },
    {
     "data": {
      "text/plain": [
       "minibatches processed:    100, loss = 1640.099601\t\n"
      ]
     },
     "execution_count": 25,
     "metadata": {},
     "output_type": "execute_result"
    },
    {
     "data": {
      "text/plain": [
       "minibatches processed:    110, loss = 3591.793226\t\n"
      ]
     },
     "execution_count": 25,
     "metadata": {},
     "output_type": "execute_result"
    },
    {
     "data": {
      "text/plain": [
       "minibatches processed:    120, loss = 5104.355401\t\n"
      ]
     },
     "execution_count": 25,
     "metadata": {},
     "output_type": "execute_result"
    },
    {
     "data": {
      "text/plain": [
       "minibatches processed:    130, loss = 2025.724121\t\n"
      ]
     },
     "execution_count": 25,
     "metadata": {},
     "output_type": "execute_result"
    },
    {
     "data": {
      "text/plain": [
       "minibatches processed:    140, loss = 4129.725431\t\n"
      ]
     },
     "execution_count": 25,
     "metadata": {},
     "output_type": "execute_result"
    },
    {
     "data": {
      "text/plain": [
       "minibatches processed:    150, loss = 3083.249304\t\n"
      ]
     },
     "execution_count": 25,
     "metadata": {},
     "output_type": "execute_result"
    },
    {
     "data": {
      "text/plain": [
       "minibatches processed:    160, loss = 1778.064072\t\n"
      ]
     },
     "execution_count": 25,
     "metadata": {},
     "output_type": "execute_result"
    },
    {
     "data": {
      "text/plain": [
       "minibatches processed:    170, loss = 3469.608857\t\n"
      ]
     },
     "execution_count": 25,
     "metadata": {},
     "output_type": "execute_result"
    },
    {
     "data": {
      "text/plain": [
       "minibatches processed:    180, loss = 2821.958241\t\n"
      ]
     },
     "execution_count": 25,
     "metadata": {},
     "output_type": "execute_result"
    },
    {
     "data": {
      "text/plain": [
       "minibatches processed:    190, loss = 1301.971760\t\n"
      ]
     },
     "execution_count": 25,
     "metadata": {},
     "output_type": "execute_result"
    },
    {
     "data": {
      "text/plain": [
       "minibatches processed:    200, loss = 1954.507804\t\n"
      ]
     },
     "execution_count": 25,
     "metadata": {},
     "output_type": "execute_result"
    },
    {
     "data": {
      "text/plain": [
       "minibatches processed:    210, loss = 1520.214161\t\n"
      ]
     },
     "execution_count": 25,
     "metadata": {},
     "output_type": "execute_result"
    },
    {
     "data": {
      "text/plain": [
       "minibatches processed:    220, loss = 1619.686990\t\n"
      ]
     },
     "execution_count": 25,
     "metadata": {},
     "output_type": "execute_result"
    },
    {
     "data": {
      "text/plain": [
       "minibatches processed:    230, loss = 1542.321124\t\n"
      ]
     },
     "execution_count": 25,
     "metadata": {},
     "output_type": "execute_result"
    },
    {
     "data": {
      "text/plain": [
       "minibatches processed:    240, loss = 3552.770369\t\n"
      ]
     },
     "execution_count": 25,
     "metadata": {},
     "output_type": "execute_result"
    },
    {
     "data": {
      "text/plain": [
       "minibatches processed:    250, loss = 3273.120457\t\n"
      ]
     },
     "execution_count": 25,
     "metadata": {},
     "output_type": "execute_result"
    },
    {
     "data": {
      "text/plain": [
       "minibatches processed:    260, loss = 947.610213\t\n"
      ]
     },
     "execution_count": 25,
     "metadata": {},
     "output_type": "execute_result"
    },
    {
     "data": {
      "text/plain": [
       "minibatches processed:    270, loss = 1518.981850\t\n"
      ]
     },
     "execution_count": 25,
     "metadata": {},
     "output_type": "execute_result"
    },
    {
     "data": {
      "text/plain": [
       "minibatches processed:    280, loss = 5390.339943\t\n"
      ]
     },
     "execution_count": 25,
     "metadata": {},
     "output_type": "execute_result"
    },
    {
     "data": {
      "text/plain": [
       "minibatches processed:    290, loss = 2007.822824\t\n"
      ]
     },
     "execution_count": 25,
     "metadata": {},
     "output_type": "execute_result"
    },
    {
     "data": {
      "text/plain": [
       "minibatches processed:    300, loss = 2208.006614\t\n"
      ]
     },
     "execution_count": 25,
     "metadata": {},
     "output_type": "execute_result"
    },
    {
     "data": {
      "text/plain": [
       "minibatches processed:    310, loss = 1484.122360\t\n"
      ]
     },
     "execution_count": 25,
     "metadata": {},
     "output_type": "execute_result"
    },
    {
     "data": {
      "text/plain": [
       "minibatches processed:    320, loss = 891.493785\t\n"
      ]
     },
     "execution_count": 25,
     "metadata": {},
     "output_type": "execute_result"
    },
    {
     "ename": "digitClassifier.lua:242: attempt to call global 'fval' (a nil value)\nstack traceback:\n\tdigitClassifier.lua:242: in main chunk\n\t[C]: in function 'f'\n\t[string \"local f = function() return dofile('digitClas...\"]:1: in main chunk\n\t[C]: in function 'xpcall'\n\t/Users/eric/torch/install/share/lua/5.1/itorch/main.lua:209: in function </Users/eric/torch/install/share/lua/5.1/itorch/main.lua:173>\n\t/Users/eric/torch/install/share/lua/5.1/lzmq/poller.lua:75: in function 'poll'\n\t/Users/eric/torch/install/share/lua/5.1/lzmq/impl/loop.lua:307: in function 'poll'\n\t/Users/eric/torch/install/share/lua/5.1/lzmq/impl/loop.lua:325: in function 'sleep_ex'\n\t/Users/eric/torch/install/share/lua/5.1/lzmq/impl/loop.lua:370: in function 'start'\n\t/Users/eric/torch/install/share/lua/5.1/itorch/main.lua:381: in main chunk\n\t[C]: in function 'require'\n\t(command line):1: in main chunk\n\t[C]: at 0x01041c7bd0",
     "evalue": "",
     "output_type": "error",
     "traceback": [
      "digitClassifier.lua:242: attempt to call global 'fval' (a nil value)\nstack traceback:\n\tdigitClassifier.lua:242: in main chunk\n\t[C]: in function 'f'\n\t[string \"local f = function() return dofile('digitClas...\"]:1: in main chunk\n\t[C]: in function 'xpcall'\n\t/Users/eric/torch/install/share/lua/5.1/itorch/main.lua:209: in function </Users/eric/torch/install/share/lua/5.1/itorch/main.lua:173>\n\t/Users/eric/torch/install/share/lua/5.1/lzmq/poller.lua:75: in function 'poll'\n\t/Users/eric/torch/install/share/lua/5.1/lzmq/impl/loop.lua:307: in function 'poll'\n\t/Users/eric/torch/install/share/lua/5.1/lzmq/impl/loop.lua:325: in function 'sleep_ex'\n\t/Users/eric/torch/install/share/lua/5.1/lzmq/impl/loop.lua:370: in function 'start'\n\t/Users/eric/torch/install/share/lua/5.1/itorch/main.lua:381: in main chunk\n\t[C]: in function 'require'\n\t(command line):1: in main chunk\n\t[C]: at 0x01041c7bd0"
     ]
    }
   ],
   "source": [
    "dofile('digitClassifier.lua')"
   ]
  },
  {
   "cell_type": "code",
   "execution_count": 26,
   "metadata": {
    "collapsed": false
   },
   "outputs": [
    {
     "data": {
      "text/plain": [
       "<mnist> loading only 8000 examples\t\n",
       "<mnist> done\t\n"
      ]
     },
     "execution_count": 26,
     "metadata": {},
     "output_type": "execute_result"
    },
    {
     "data": {
      "text/plain": [
       "--------------------------------\t\n",
       " loaded dataset \"train\"\t\n",
       "inputs\t 8000\n",
       " 1024\n",
       "[torch.LongStorage of size 2]\n",
       "\n",
       "targets\t 8000\n",
       "[torch.LongStorage of size 1]\n",
       "\n",
       "--------------------------------\t\n"
      ]
     },
     "execution_count": 26,
     "metadata": {},
     "output_type": "execute_result"
    },
    {
     "data": {
      "text/plain": [
       "<mnist> done\t\n"
      ]
     },
     "execution_count": 26,
     "metadata": {},
     "output_type": "execute_result"
    },
    {
     "data": {
      "text/plain": [
       "--------------------------------\t\n",
       " loaded dataset \"test\"\t\n",
       "inputs\t 10000\n",
       "  1024\n",
       "[torch.LongStorage of size 2]\n",
       "\n",
       "targets\t 10000\n",
       "[torch.LongStorage of size 1]\n",
       "\n",
       "--------------------------------\t\n",
       "10\t\n",
       "1\t\n"
      ]
     },
     "execution_count": 26,
     "metadata": {},
     "output_type": "execute_result"
    },
    {
     "data": {
      "text/plain": [
       "minibatches processed:     10, loss = 18637.686830\t\n"
      ]
     },
     "execution_count": 26,
     "metadata": {},
     "output_type": "execute_result"
    },
    {
     "data": {
      "text/plain": [
       "minibatches processed:     20, loss = 1197.890536\t\n"
      ]
     },
     "execution_count": 26,
     "metadata": {},
     "output_type": "execute_result"
    },
    {
     "data": {
      "text/plain": [
       "minibatches processed:     30, loss = 2673.040349\t\n"
      ]
     },
     "execution_count": 26,
     "metadata": {},
     "output_type": "execute_result"
    },
    {
     "data": {
      "text/plain": [
       "minibatches processed:     40, loss = 1580.095193\t\n"
      ]
     },
     "execution_count": 26,
     "metadata": {},
     "output_type": "execute_result"
    },
    {
     "data": {
      "text/plain": [
       "minibatches processed:     50, loss = 1544.178437\t\n"
      ]
     },
     "execution_count": 26,
     "metadata": {},
     "output_type": "execute_result"
    },
    {
     "data": {
      "text/plain": [
       "minibatches processed:     60, loss = 2725.252494\t\n"
      ]
     },
     "execution_count": 26,
     "metadata": {},
     "output_type": "execute_result"
    },
    {
     "data": {
      "text/plain": [
       "minibatches processed:     70, loss = 2562.405501\t\n"
      ]
     },
     "execution_count": 26,
     "metadata": {},
     "output_type": "execute_result"
    },
    {
     "data": {
      "text/plain": [
       "minibatches processed:     80, loss = 2999.016556\t\n"
      ]
     },
     "execution_count": 26,
     "metadata": {},
     "output_type": "execute_result"
    },
    {
     "data": {
      "text/plain": [
       "minibatches processed:     90, loss = 4000.508009\t\n"
      ]
     },
     "execution_count": 26,
     "metadata": {},
     "output_type": "execute_result"
    },
    {
     "data": {
      "text/plain": [
       "minibatches processed:    100, loss = 1640.099601\t\n"
      ]
     },
     "execution_count": 26,
     "metadata": {},
     "output_type": "execute_result"
    },
    {
     "data": {
      "text/plain": [
       "minibatches processed:    110, loss = 3591.793226\t\n"
      ]
     },
     "execution_count": 26,
     "metadata": {},
     "output_type": "execute_result"
    },
    {
     "data": {
      "text/plain": [
       "minibatches processed:    120, loss = 5104.355401\t\n"
      ]
     },
     "execution_count": 26,
     "metadata": {},
     "output_type": "execute_result"
    },
    {
     "data": {
      "text/plain": [
       "minibatches processed:    130, loss = 2025.724121\t\n"
      ]
     },
     "execution_count": 26,
     "metadata": {},
     "output_type": "execute_result"
    },
    {
     "data": {
      "text/plain": [
       "minibatches processed:    140, loss = 4129.725431\t\n"
      ]
     },
     "execution_count": 26,
     "metadata": {},
     "output_type": "execute_result"
    },
    {
     "data": {
      "text/plain": [
       "minibatches processed:    150, loss = 3083.249304\t\n"
      ]
     },
     "execution_count": 26,
     "metadata": {},
     "output_type": "execute_result"
    },
    {
     "data": {
      "text/plain": [
       "minibatches processed:    160, loss = 1778.064072\t\n"
      ]
     },
     "execution_count": 26,
     "metadata": {},
     "output_type": "execute_result"
    },
    {
     "data": {
      "text/plain": [
       "minibatches processed:    170, loss = 3469.608857\t\n"
      ]
     },
     "execution_count": 26,
     "metadata": {},
     "output_type": "execute_result"
    },
    {
     "data": {
      "text/plain": [
       "minibatches processed:    180, loss = 2821.958241\t\n"
      ]
     },
     "execution_count": 26,
     "metadata": {},
     "output_type": "execute_result"
    },
    {
     "data": {
      "text/plain": [
       "minibatches processed:    190, loss = 1301.971760\t\n"
      ]
     },
     "execution_count": 26,
     "metadata": {},
     "output_type": "execute_result"
    },
    {
     "data": {
      "text/plain": [
       "minibatches processed:    200, loss = 1954.507804\t\n"
      ]
     },
     "execution_count": 26,
     "metadata": {},
     "output_type": "execute_result"
    },
    {
     "data": {
      "text/plain": [
       "minibatches processed:    210, loss = 1520.214161\t\n"
      ]
     },
     "execution_count": 26,
     "metadata": {},
     "output_type": "execute_result"
    },
    {
     "data": {
      "text/plain": [
       "minibatches processed:    220, loss = 1619.686990\t\n"
      ]
     },
     "execution_count": 26,
     "metadata": {},
     "output_type": "execute_result"
    },
    {
     "data": {
      "text/plain": [
       "minibatches processed:    230, loss = 1542.321124\t\n"
      ]
     },
     "execution_count": 26,
     "metadata": {},
     "output_type": "execute_result"
    },
    {
     "data": {
      "text/plain": [
       "minibatches processed:    240, loss = 3552.770369\t\n"
      ]
     },
     "execution_count": 26,
     "metadata": {},
     "output_type": "execute_result"
    },
    {
     "data": {
      "text/plain": [
       "minibatches processed:    250, loss = 3273.120457\t\n"
      ]
     },
     "execution_count": 26,
     "metadata": {},
     "output_type": "execute_result"
    },
    {
     "data": {
      "text/plain": [
       "minibatches processed:    260, loss = 947.610213\t\n"
      ]
     },
     "execution_count": 26,
     "metadata": {},
     "output_type": "execute_result"
    },
    {
     "data": {
      "text/plain": [
       "minibatches processed:    270, loss = 1518.981850\t\n"
      ]
     },
     "execution_count": 26,
     "metadata": {},
     "output_type": "execute_result"
    },
    {
     "data": {
      "text/plain": [
       "minibatches processed:    280, loss = 5390.339943\t\n"
      ]
     },
     "execution_count": 26,
     "metadata": {},
     "output_type": "execute_result"
    },
    {
     "data": {
      "text/plain": [
       "minibatches processed:    290, loss = 2007.822824\t\n"
      ]
     },
     "execution_count": 26,
     "metadata": {},
     "output_type": "execute_result"
    },
    {
     "data": {
      "text/plain": [
       "minibatches processed:    300, loss = 2208.006614\t\n"
      ]
     },
     "execution_count": 26,
     "metadata": {},
     "output_type": "execute_result"
    },
    {
     "data": {
      "text/plain": [
       "minibatches processed:    310, loss = 1484.122360\t\n"
      ]
     },
     "execution_count": 26,
     "metadata": {},
     "output_type": "execute_result"
    },
    {
     "data": {
      "text/plain": [
       "minibatches processed:    320, loss = 891.493785\t\n"
      ]
     },
     "execution_count": 26,
     "metadata": {},
     "output_type": "execute_result"
    },
    {
     "data": {
      "text/plain": [
       "1145.3845035051\t"
      ]
     },
     "execution_count": 26,
     "metadata": {},
     "output_type": "execute_result"
    },
    {
     "ename": "not enough memory",
     "evalue": "",
     "output_type": "error",
     "traceback": [
      "not enough memory"
     ]
    }
   ],
   "source": [
    "dofile('digitClassifier.lua')"
   ]
  },
  {
   "cell_type": "code",
   "execution_count": 27,
   "metadata": {
    "collapsed": false
   },
   "outputs": [
    {
     "data": {
      "text/plain": [
       "<mnist> loading only 8000 examples\t\n",
       "<mnist> done\t\n"
      ]
     },
     "execution_count": 27,
     "metadata": {},
     "output_type": "execute_result"
    },
    {
     "data": {
      "text/plain": [
       "--------------------------------\t\n",
       " loaded dataset \"train\"\t\n",
       "inputs\t 8000\n",
       " 1024\n",
       "[torch.LongStorage of size 2]\n",
       "\n",
       "targets\t 8000\n",
       "[torch.LongStorage of size 1]\n",
       "\n",
       "--------------------------------\t\n"
      ]
     },
     "execution_count": 27,
     "metadata": {},
     "output_type": "execute_result"
    },
    {
     "data": {
      "text/plain": [
       "<mnist> done\t\n"
      ]
     },
     "execution_count": 27,
     "metadata": {},
     "output_type": "execute_result"
    },
    {
     "data": {
      "text/plain": [
       "--------------------------------\t\n",
       " loaded dataset \"test\"\t\n",
       "inputs\t 10000\n",
       "  1024\n",
       "[torch.LongStorage of size 2]\n",
       "\n",
       "targets\t 10000\n",
       "[torch.LongStorage of size 1]\n",
       "\n",
       "--------------------------------\t\n",
       "10\t\n",
       "1\t\n"
      ]
     },
     "execution_count": 27,
     "metadata": {},
     "output_type": "execute_result"
    },
    {
     "data": {
      "text/plain": [
       "minibatches processed:     10, loss = 18637.686830\t\n"
      ]
     },
     "execution_count": 27,
     "metadata": {},
     "output_type": "execute_result"
    },
    {
     "data": {
      "text/plain": [
       "minibatches processed:     20, loss = 1197.890536\t\n"
      ]
     },
     "execution_count": 27,
     "metadata": {},
     "output_type": "execute_result"
    },
    {
     "data": {
      "text/plain": [
       "minibatches processed:     30, loss = 2673.040349\t\n"
      ]
     },
     "execution_count": 27,
     "metadata": {},
     "output_type": "execute_result"
    },
    {
     "data": {
      "text/plain": [
       "minibatches processed:     40, loss = 1580.095193\t\n"
      ]
     },
     "execution_count": 27,
     "metadata": {},
     "output_type": "execute_result"
    },
    {
     "data": {
      "text/plain": [
       "minibatches processed:     50, loss = 1544.178437\t\n"
      ]
     },
     "execution_count": 27,
     "metadata": {},
     "output_type": "execute_result"
    },
    {
     "data": {
      "text/plain": [
       "minibatches processed:     60, loss = 2725.252494\t\n"
      ]
     },
     "execution_count": 27,
     "metadata": {},
     "output_type": "execute_result"
    },
    {
     "data": {
      "text/plain": [
       "minibatches processed:     70, loss = 2562.405501\t\n"
      ]
     },
     "execution_count": 27,
     "metadata": {},
     "output_type": "execute_result"
    },
    {
     "data": {
      "text/plain": [
       "minibatches processed:     80, loss = 2999.016556\t\n"
      ]
     },
     "execution_count": 27,
     "metadata": {},
     "output_type": "execute_result"
    },
    {
     "data": {
      "text/plain": [
       "minibatches processed:     90, loss = 4000.508009\t\n"
      ]
     },
     "execution_count": 27,
     "metadata": {},
     "output_type": "execute_result"
    },
    {
     "data": {
      "text/plain": [
       "minibatches processed:    100, loss = 1640.099601\t\n"
      ]
     },
     "execution_count": 27,
     "metadata": {},
     "output_type": "execute_result"
    },
    {
     "data": {
      "text/plain": [
       "minibatches processed:    110, loss = 3591.793226\t\n"
      ]
     },
     "execution_count": 27,
     "metadata": {},
     "output_type": "execute_result"
    },
    {
     "data": {
      "text/plain": [
       "minibatches processed:    120, loss = 5104.355401\t\n"
      ]
     },
     "execution_count": 27,
     "metadata": {},
     "output_type": "execute_result"
    },
    {
     "data": {
      "text/plain": [
       "minibatches processed:    130, loss = 2025.724121\t\n"
      ]
     },
     "execution_count": 27,
     "metadata": {},
     "output_type": "execute_result"
    },
    {
     "data": {
      "text/plain": [
       "minibatches processed:    140, loss = 4129.725431\t\n"
      ]
     },
     "execution_count": 27,
     "metadata": {},
     "output_type": "execute_result"
    },
    {
     "data": {
      "text/plain": [
       "minibatches processed:    150, loss = 3083.249304\t\n"
      ]
     },
     "execution_count": 27,
     "metadata": {},
     "output_type": "execute_result"
    },
    {
     "data": {
      "text/plain": [
       "minibatches processed:    160, loss = 1778.064072\t\n"
      ]
     },
     "execution_count": 27,
     "metadata": {},
     "output_type": "execute_result"
    },
    {
     "data": {
      "text/plain": [
       "minibatches processed:    170, loss = 3469.608857\t\n"
      ]
     },
     "execution_count": 27,
     "metadata": {},
     "output_type": "execute_result"
    },
    {
     "data": {
      "text/plain": [
       "minibatches processed:    180, loss = 2821.958241\t\n"
      ]
     },
     "execution_count": 27,
     "metadata": {},
     "output_type": "execute_result"
    },
    {
     "data": {
      "text/plain": [
       "minibatches processed:    190, loss = 1301.971760\t\n"
      ]
     },
     "execution_count": 27,
     "metadata": {},
     "output_type": "execute_result"
    },
    {
     "data": {
      "text/plain": [
       "minibatches processed:    200, loss = 1954.507804\t\n"
      ]
     },
     "execution_count": 27,
     "metadata": {},
     "output_type": "execute_result"
    },
    {
     "data": {
      "text/plain": [
       "minibatches processed:    210, loss = 1520.214161\t\n"
      ]
     },
     "execution_count": 27,
     "metadata": {},
     "output_type": "execute_result"
    },
    {
     "data": {
      "text/plain": [
       "minibatches processed:    220, loss = 1619.686990\t\n"
      ]
     },
     "execution_count": 27,
     "metadata": {},
     "output_type": "execute_result"
    },
    {
     "data": {
      "text/plain": [
       "minibatches processed:    230, loss = 1542.321124\t\n"
      ]
     },
     "execution_count": 27,
     "metadata": {},
     "output_type": "execute_result"
    },
    {
     "data": {
      "text/plain": [
       "minibatches processed:    240, loss = 3552.770369\t\n"
      ]
     },
     "execution_count": 27,
     "metadata": {},
     "output_type": "execute_result"
    },
    {
     "data": {
      "text/plain": [
       "minibatches processed:    250, loss = 3273.120457\t\n"
      ]
     },
     "execution_count": 27,
     "metadata": {},
     "output_type": "execute_result"
    },
    {
     "data": {
      "text/plain": [
       "minibatches processed:    260, loss = 947.610213\t\n"
      ]
     },
     "execution_count": 27,
     "metadata": {},
     "output_type": "execute_result"
    },
    {
     "data": {
      "text/plain": [
       "minibatches processed:    270, loss = 1518.981850\t\n"
      ]
     },
     "execution_count": 27,
     "metadata": {},
     "output_type": "execute_result"
    },
    {
     "data": {
      "text/plain": [
       "minibatches processed:    280, loss = 5390.339943\t\n"
      ]
     },
     "execution_count": 27,
     "metadata": {},
     "output_type": "execute_result"
    },
    {
     "data": {
      "text/plain": [
       "minibatches processed:    290, loss = 2007.822824\t\n"
      ]
     },
     "execution_count": 27,
     "metadata": {},
     "output_type": "execute_result"
    },
    {
     "data": {
      "text/plain": [
       "minibatches processed:    300, loss = 2208.006614\t\n"
      ]
     },
     "execution_count": 27,
     "metadata": {},
     "output_type": "execute_result"
    },
    {
     "data": {
      "text/plain": [
       "minibatches processed:    310, loss = 1484.122360\t\n"
      ]
     },
     "execution_count": 27,
     "metadata": {},
     "output_type": "execute_result"
    },
    {
     "data": {
      "text/plain": [
       "minibatches processed:    320, loss = 891.493785\t\n"
      ]
     },
     "execution_count": 27,
     "metadata": {},
     "output_type": "execute_result"
    },
    {
     "data": {
      "text/plain": [
       "0\t\n",
       "1145.3845035051\t"
      ]
     },
     "execution_count": 27,
     "metadata": {},
     "output_type": "execute_result"
    },
    {
     "ename": "not enough memory",
     "evalue": "",
     "output_type": "error",
     "traceback": [
      "not enough memory"
     ]
    }
   ],
   "source": [
    "dofile('digitClassifier.lua')"
   ]
  },
  {
   "cell_type": "code",
   "execution_count": 28,
   "metadata": {
    "collapsed": false
   },
   "outputs": [
    {
     "data": {
      "text/plain": [
       "<mnist> loading only 8000 examples\t\n"
      ]
     },
     "execution_count": 28,
     "metadata": {},
     "output_type": "execute_result"
    },
    {
     "data": {
      "text/plain": [
       "<mnist> done\t\n"
      ]
     },
     "execution_count": 28,
     "metadata": {},
     "output_type": "execute_result"
    },
    {
     "data": {
      "text/plain": [
       "--------------------------------\t\n",
       " loaded dataset \"train\"\t\n",
       "inputs\t 8000\n",
       " 1024\n",
       "[torch.LongStorage of size 2]\n",
       "\n",
       "targets\t 8000\n",
       "[torch.LongStorage of size 1]\n",
       "\n",
       "--------------------------------\t\n"
      ]
     },
     "execution_count": 28,
     "metadata": {},
     "output_type": "execute_result"
    },
    {
     "data": {
      "text/plain": [
       "<mnist> done\t\n"
      ]
     },
     "execution_count": 28,
     "metadata": {},
     "output_type": "execute_result"
    },
    {
     "data": {
      "text/plain": [
       "--------------------------------\t\n",
       " loaded dataset \"test\"\t\n",
       "inputs\t 10000\n",
       "  1024\n",
       "[torch.LongStorage of size 2]\n",
       "\n",
       "targets\t 10000\n",
       "[torch.LongStorage of size 1]\n",
       "\n",
       "--------------------------------\t\n",
       "10\t\n",
       "1\t\n"
      ]
     },
     "execution_count": 28,
     "metadata": {},
     "output_type": "execute_result"
    },
    {
     "data": {
      "text/plain": [
       "minibatches processed:     10, loss = 18637.686830\t\n"
      ]
     },
     "execution_count": 28,
     "metadata": {},
     "output_type": "execute_result"
    },
    {
     "data": {
      "text/plain": [
       "minibatches processed:     20, loss = 1197.890536\t\n"
      ]
     },
     "execution_count": 28,
     "metadata": {},
     "output_type": "execute_result"
    },
    {
     "data": {
      "text/plain": [
       "minibatches processed:     30, loss = 2673.040349\t\n"
      ]
     },
     "execution_count": 28,
     "metadata": {},
     "output_type": "execute_result"
    },
    {
     "data": {
      "text/plain": [
       "minibatches processed:     40, loss = 1580.095193\t\n"
      ]
     },
     "execution_count": 28,
     "metadata": {},
     "output_type": "execute_result"
    },
    {
     "data": {
      "text/plain": [
       "minibatches processed:     50, loss = 1544.178437\t\n"
      ]
     },
     "execution_count": 28,
     "metadata": {},
     "output_type": "execute_result"
    },
    {
     "data": {
      "text/plain": [
       "minibatches processed:     60, loss = 2725.252494\t"
      ]
     },
     "execution_count": 28,
     "metadata": {},
     "output_type": "execute_result"
    },
    {
     "data": {
      "text/plain": [
       "\n"
      ]
     },
     "execution_count": 28,
     "metadata": {},
     "output_type": "execute_result"
    },
    {
     "data": {
      "text/plain": [
       "minibatches processed:     70, loss = 2562.405501\t"
      ]
     },
     "execution_count": 28,
     "metadata": {},
     "output_type": "execute_result"
    },
    {
     "data": {
      "text/plain": [
       "\n"
      ]
     },
     "execution_count": 28,
     "metadata": {},
     "output_type": "execute_result"
    },
    {
     "data": {
      "text/plain": [
       "minibatches processed:     80, loss = 2999.016556\t\n"
      ]
     },
     "execution_count": 28,
     "metadata": {},
     "output_type": "execute_result"
    },
    {
     "data": {
      "text/plain": [
       "minibatches processed:     90, loss = 4000.508009\t\n"
      ]
     },
     "execution_count": 28,
     "metadata": {},
     "output_type": "execute_result"
    },
    {
     "data": {
      "text/plain": [
       "minibatches processed:    100, loss = 1640.099601\t\n"
      ]
     },
     "execution_count": 28,
     "metadata": {},
     "output_type": "execute_result"
    },
    {
     "data": {
      "text/plain": [
       "minibatches processed:    110, loss = 3591.793226\t\n"
      ]
     },
     "execution_count": 28,
     "metadata": {},
     "output_type": "execute_result"
    },
    {
     "data": {
      "text/plain": [
       "minibatches processed:    120, loss = 5104.355401\t\n"
      ]
     },
     "execution_count": 28,
     "metadata": {},
     "output_type": "execute_result"
    },
    {
     "data": {
      "text/plain": [
       "minibatches processed:    130, loss = 2025.724121\t\n"
      ]
     },
     "execution_count": 28,
     "metadata": {},
     "output_type": "execute_result"
    },
    {
     "data": {
      "text/plain": [
       "minibatches processed:    140, loss = 4129.725431\t\n"
      ]
     },
     "execution_count": 28,
     "metadata": {},
     "output_type": "execute_result"
    },
    {
     "data": {
      "text/plain": [
       "minibatches processed:    150, loss = 3083.249304\t\n"
      ]
     },
     "execution_count": 28,
     "metadata": {},
     "output_type": "execute_result"
    },
    {
     "data": {
      "text/plain": [
       "minibatches processed:    160, loss = 1778.064072\t\n"
      ]
     },
     "execution_count": 28,
     "metadata": {},
     "output_type": "execute_result"
    },
    {
     "data": {
      "text/plain": [
       "minibatches processed:    170, loss = 3469.608857\t\n"
      ]
     },
     "execution_count": 28,
     "metadata": {},
     "output_type": "execute_result"
    },
    {
     "data": {
      "text/plain": [
       "minibatches processed:    180, loss = 2821.958241\t\n"
      ]
     },
     "execution_count": 28,
     "metadata": {},
     "output_type": "execute_result"
    },
    {
     "data": {
      "text/plain": [
       "minibatches processed:    190, loss = 1301.971760\t\n"
      ]
     },
     "execution_count": 28,
     "metadata": {},
     "output_type": "execute_result"
    },
    {
     "data": {
      "text/plain": [
       "minibatches processed:    200, loss = 1954.507804\t\n"
      ]
     },
     "execution_count": 28,
     "metadata": {},
     "output_type": "execute_result"
    },
    {
     "data": {
      "text/plain": [
       "minibatches processed:    210, loss = 1520.214161\t\n"
      ]
     },
     "execution_count": 28,
     "metadata": {},
     "output_type": "execute_result"
    },
    {
     "data": {
      "text/plain": [
       "minibatches processed:    220, loss = 1619.686990\t\n"
      ]
     },
     "execution_count": 28,
     "metadata": {},
     "output_type": "execute_result"
    },
    {
     "data": {
      "text/plain": [
       "minibatches processed:    230, loss = 1542.321124\t\n"
      ]
     },
     "execution_count": 28,
     "metadata": {},
     "output_type": "execute_result"
    },
    {
     "data": {
      "text/plain": [
       "minibatches processed:    240, loss = 3552.770369\t\n"
      ]
     },
     "execution_count": 28,
     "metadata": {},
     "output_type": "execute_result"
    },
    {
     "data": {
      "text/plain": [
       "minibatches processed:    250, loss = 3273.120457\t\n"
      ]
     },
     "execution_count": 28,
     "metadata": {},
     "output_type": "execute_result"
    },
    {
     "data": {
      "text/plain": [
       "minibatches processed:    260, loss = 947.610213\t\n"
      ]
     },
     "execution_count": 28,
     "metadata": {},
     "output_type": "execute_result"
    },
    {
     "data": {
      "text/plain": [
       "minibatches processed:    270, loss = 1518.981850\t\n"
      ]
     },
     "execution_count": 28,
     "metadata": {},
     "output_type": "execute_result"
    },
    {
     "data": {
      "text/plain": [
       "minibatches processed:    280, loss = 5390.339943\t\n"
      ]
     },
     "execution_count": 28,
     "metadata": {},
     "output_type": "execute_result"
    },
    {
     "data": {
      "text/plain": [
       "minibatches processed:    290, loss = 2007.822824\t\n"
      ]
     },
     "execution_count": 28,
     "metadata": {},
     "output_type": "execute_result"
    },
    {
     "data": {
      "text/plain": [
       "minibatches processed:    300, loss = 2208.006614\t\n"
      ]
     },
     "execution_count": 28,
     "metadata": {},
     "output_type": "execute_result"
    },
    {
     "data": {
      "text/plain": [
       "minibatches processed:    310, loss = 1484.122360\t\n"
      ]
     },
     "execution_count": 28,
     "metadata": {},
     "output_type": "execute_result"
    },
    {
     "data": {
      "text/plain": [
       "minibatches processed:    320, loss = 891.493785\t\n"
      ]
     },
     "execution_count": 28,
     "metadata": {},
     "output_type": "execute_result"
    },
    {
     "data": {
      "text/plain": [
       "0\t\n",
       "\n"
      ]
     },
     "execution_count": 28,
     "metadata": {},
     "output_type": "execute_result"
    }
   ],
   "source": [
    "dofile('digitClassifier.lua')"
   ]
  },
  {
   "cell_type": "code",
   "execution_count": 29,
   "metadata": {
    "collapsed": false
   },
   "outputs": [
    {
     "data": {
      "text/plain": [
       "<mnist> loading only 8000 examples\t\n",
       "<mnist> done\t\n"
      ]
     },
     "execution_count": 29,
     "metadata": {},
     "output_type": "execute_result"
    },
    {
     "data": {
      "text/plain": [
       "--------------------------------\t\n",
       " loaded dataset \"train\"\t\n",
       "inputs\t 8000\n",
       " 1024\n",
       "[torch.LongStorage of size 2]\n",
       "\n",
       "targets\t 8000\n",
       "[torch.LongStorage of size 1]\n",
       "\n",
       "--------------------------------\t\n"
      ]
     },
     "execution_count": 29,
     "metadata": {},
     "output_type": "execute_result"
    },
    {
     "data": {
      "text/plain": [
       "<mnist> done\t\n"
      ]
     },
     "execution_count": 29,
     "metadata": {},
     "output_type": "execute_result"
    },
    {
     "data": {
      "text/plain": [
       "--------------------------------\t\n",
       " loaded dataset \"test\"\t\n",
       "inputs\t 10000\n",
       "  1024\n",
       "[torch.LongStorage of size 2]\n",
       "\n",
       "targets\t 10000\n",
       "[torch.LongStorage of size 1]\n",
       "\n",
       "--------------------------------\t\n",
       "10\t\n",
       "1\t\n"
      ]
     },
     "execution_count": 29,
     "metadata": {},
     "output_type": "execute_result"
    },
    {
     "data": {
      "text/plain": [
       "minibatches processed:     10, loss = 18637.686830\t\n"
      ]
     },
     "execution_count": 29,
     "metadata": {},
     "output_type": "execute_result"
    },
    {
     "data": {
      "text/plain": [
       "minibatches processed:     20, loss = 1197.890536\t\n"
      ]
     },
     "execution_count": 29,
     "metadata": {},
     "output_type": "execute_result"
    },
    {
     "data": {
      "text/plain": [
       "minibatches processed:     30, loss = 2673.040349\t\n"
      ]
     },
     "execution_count": 29,
     "metadata": {},
     "output_type": "execute_result"
    },
    {
     "data": {
      "text/plain": [
       "minibatches processed:     40, loss = 1580.095193\t\n"
      ]
     },
     "execution_count": 29,
     "metadata": {},
     "output_type": "execute_result"
    },
    {
     "data": {
      "text/plain": [
       "minibatches processed:     50, loss = 1544.178437\t\n"
      ]
     },
     "execution_count": 29,
     "metadata": {},
     "output_type": "execute_result"
    },
    {
     "data": {
      "text/plain": [
       "minibatches processed:     60, loss = 2725.252494\t\n"
      ]
     },
     "execution_count": 29,
     "metadata": {},
     "output_type": "execute_result"
    },
    {
     "data": {
      "text/plain": [
       "minibatches processed:     70, loss = 2562.405501\t\n"
      ]
     },
     "execution_count": 29,
     "metadata": {},
     "output_type": "execute_result"
    },
    {
     "data": {
      "text/plain": [
       "minibatches processed:     80, loss = 2999.016556\t\n"
      ]
     },
     "execution_count": 29,
     "metadata": {},
     "output_type": "execute_result"
    },
    {
     "data": {
      "text/plain": [
       "minibatches processed:     90, loss = 4000.508009\t\n"
      ]
     },
     "execution_count": 29,
     "metadata": {},
     "output_type": "execute_result"
    },
    {
     "data": {
      "text/plain": [
       "minibatches processed:    100, loss = 1640.099601\t\n"
      ]
     },
     "execution_count": 29,
     "metadata": {},
     "output_type": "execute_result"
    },
    {
     "data": {
      "text/plain": [
       "minibatches processed:    110, loss = 3591.793226\t\n"
      ]
     },
     "execution_count": 29,
     "metadata": {},
     "output_type": "execute_result"
    },
    {
     "data": {
      "text/plain": [
       "minibatches processed:    120, loss = 5104.355401\t\n"
      ]
     },
     "execution_count": 29,
     "metadata": {},
     "output_type": "execute_result"
    },
    {
     "data": {
      "text/plain": [
       "minibatches processed:    130, loss = 2025.724121\t\n"
      ]
     },
     "execution_count": 29,
     "metadata": {},
     "output_type": "execute_result"
    },
    {
     "data": {
      "text/plain": [
       "minibatches processed:    140, loss = 4129.725431\t\n"
      ]
     },
     "execution_count": 29,
     "metadata": {},
     "output_type": "execute_result"
    },
    {
     "data": {
      "text/plain": [
       "minibatches processed:    150, loss = 3083.249304\t\n"
      ]
     },
     "execution_count": 29,
     "metadata": {},
     "output_type": "execute_result"
    },
    {
     "data": {
      "text/plain": [
       "minibatches processed:    160, loss = 1778.064072\t\n"
      ]
     },
     "execution_count": 29,
     "metadata": {},
     "output_type": "execute_result"
    },
    {
     "data": {
      "text/plain": [
       "minibatches processed:    170, loss = 3469.608857\t\n"
      ]
     },
     "execution_count": 29,
     "metadata": {},
     "output_type": "execute_result"
    },
    {
     "data": {
      "text/plain": [
       "minibatches processed:    180, loss = 2821.958241\t\n"
      ]
     },
     "execution_count": 29,
     "metadata": {},
     "output_type": "execute_result"
    },
    {
     "data": {
      "text/plain": [
       "minibatches processed:    190, loss = 1301.971760\t\n"
      ]
     },
     "execution_count": 29,
     "metadata": {},
     "output_type": "execute_result"
    },
    {
     "data": {
      "text/plain": [
       "minibatches processed:    200, loss = 1954.507804\t\n"
      ]
     },
     "execution_count": 29,
     "metadata": {},
     "output_type": "execute_result"
    },
    {
     "data": {
      "text/plain": [
       "minibatches processed:    210, loss = 1520.214161\t\n"
      ]
     },
     "execution_count": 29,
     "metadata": {},
     "output_type": "execute_result"
    },
    {
     "data": {
      "text/plain": [
       "minibatches processed:    220, loss = 1619.686990\t\n"
      ]
     },
     "execution_count": 29,
     "metadata": {},
     "output_type": "execute_result"
    },
    {
     "data": {
      "text/plain": [
       "minibatches processed:    230, loss = 1542.321124\t\n"
      ]
     },
     "execution_count": 29,
     "metadata": {},
     "output_type": "execute_result"
    },
    {
     "data": {
      "text/plain": [
       "minibatches processed:    240, loss = 3552.770369\t\n"
      ]
     },
     "execution_count": 29,
     "metadata": {},
     "output_type": "execute_result"
    },
    {
     "data": {
      "text/plain": [
       "minibatches processed:    250, loss = 3273.120457\t\n"
      ]
     },
     "execution_count": 29,
     "metadata": {},
     "output_type": "execute_result"
    },
    {
     "data": {
      "text/plain": [
       "minibatches processed:    260, loss = 947.610213\t\n"
      ]
     },
     "execution_count": 29,
     "metadata": {},
     "output_type": "execute_result"
    },
    {
     "data": {
      "text/plain": [
       "minibatches processed:    270, loss = 1518.981850\t\n"
      ]
     },
     "execution_count": 29,
     "metadata": {},
     "output_type": "execute_result"
    },
    {
     "data": {
      "text/plain": [
       "minibatches processed:    280, loss = 5390.339943\t\n"
      ]
     },
     "execution_count": 29,
     "metadata": {},
     "output_type": "execute_result"
    },
    {
     "data": {
      "text/plain": [
       "minibatches processed:    290, loss = 2007.822824\t\n"
      ]
     },
     "execution_count": 29,
     "metadata": {},
     "output_type": "execute_result"
    },
    {
     "data": {
      "text/plain": [
       "minibatches processed:    300, loss = 2208.006614\t\n"
      ]
     },
     "execution_count": 29,
     "metadata": {},
     "output_type": "execute_result"
    },
    {
     "data": {
      "text/plain": [
       "minibatches processed:    310, loss = 1484.122360\t\n"
      ]
     },
     "execution_count": 29,
     "metadata": {},
     "output_type": "execute_result"
    },
    {
     "data": {
      "text/plain": [
       "minibatches processed:    320, loss = 891.493785\t\n"
      ]
     },
     "execution_count": 29,
     "metadata": {},
     "output_type": "execute_result"
    },
    {
     "data": {
      "text/plain": [
       "1145.3845035051\t"
      ]
     },
     "execution_count": 29,
     "metadata": {},
     "output_type": "execute_result"
    },
    {
     "ename": "not enough memory",
     "evalue": "",
     "output_type": "error",
     "traceback": [
      "not enough memory"
     ]
    }
   ],
   "source": [
    "dofile('digitClassifier.lua')"
   ]
  },
  {
   "cell_type": "code",
   "execution_count": 30,
   "metadata": {
    "collapsed": false
   },
   "outputs": [
    {
     "data": {
      "text/plain": [
       "<mnist> loading only 8000 examples\t\n",
       "<mnist> done\t\n"
      ]
     },
     "execution_count": 30,
     "metadata": {},
     "output_type": "execute_result"
    },
    {
     "data": {
      "text/plain": [
       "--------------------------------\t\n",
       " loaded dataset \"train\"\t\n",
       "inputs\t 8000\n",
       " 1024\n",
       "[torch.LongStorage of size 2]\n",
       "\n",
       "targets\t 8000\n",
       "[torch.LongStorage of size 1]\n",
       "\n",
       "--------------------------------\t\n"
      ]
     },
     "execution_count": 30,
     "metadata": {},
     "output_type": "execute_result"
    },
    {
     "data": {
      "text/plain": [
       "<mnist> done\t\n"
      ]
     },
     "execution_count": 30,
     "metadata": {},
     "output_type": "execute_result"
    },
    {
     "data": {
      "text/plain": [
       "--------------------------------\t\n",
       " loaded dataset \"test\"\t\n",
       "inputs\t 10000\n",
       "  1024\n",
       "[torch.LongStorage of size 2]\n",
       "\n",
       "targets\t 10000\n",
       "[torch.LongStorage of size 1]\n",
       "\n",
       "--------------------------------\t\n",
       "10\t\n",
       "1\t\n"
      ]
     },
     "execution_count": 30,
     "metadata": {},
     "output_type": "execute_result"
    },
    {
     "data": {
      "text/plain": [
       "minibatches processed:     10, loss = 18637.686830\t\n"
      ]
     },
     "execution_count": 30,
     "metadata": {},
     "output_type": "execute_result"
    },
    {
     "data": {
      "text/plain": [
       "minibatches processed:     20, loss = 1197.890536\t\n"
      ]
     },
     "execution_count": 30,
     "metadata": {},
     "output_type": "execute_result"
    },
    {
     "data": {
      "text/plain": [
       "minibatches processed:     30, loss = 2673.040349\t\n"
      ]
     },
     "execution_count": 30,
     "metadata": {},
     "output_type": "execute_result"
    },
    {
     "data": {
      "text/plain": [
       "minibatches processed:     40, loss = 1580.095193\t\n"
      ]
     },
     "execution_count": 30,
     "metadata": {},
     "output_type": "execute_result"
    },
    {
     "data": {
      "text/plain": [
       "minibatches processed:     50, loss = 1544.178437\t\n"
      ]
     },
     "execution_count": 30,
     "metadata": {},
     "output_type": "execute_result"
    },
    {
     "data": {
      "text/plain": [
       "minibatches processed:     60, loss = 2725.252494\t\n"
      ]
     },
     "execution_count": 30,
     "metadata": {},
     "output_type": "execute_result"
    },
    {
     "data": {
      "text/plain": [
       "minibatches processed:     70, loss = 2562.405501\t\n"
      ]
     },
     "execution_count": 30,
     "metadata": {},
     "output_type": "execute_result"
    },
    {
     "data": {
      "text/plain": [
       "minibatches processed:     80, loss = 2999.016556\t\n"
      ]
     },
     "execution_count": 30,
     "metadata": {},
     "output_type": "execute_result"
    },
    {
     "data": {
      "text/plain": [
       "minibatches processed:     90, loss = 4000.508009\t\n"
      ]
     },
     "execution_count": 30,
     "metadata": {},
     "output_type": "execute_result"
    },
    {
     "data": {
      "text/plain": [
       "minibatches processed:    100, loss = 1640.099601\t\n"
      ]
     },
     "execution_count": 30,
     "metadata": {},
     "output_type": "execute_result"
    },
    {
     "data": {
      "text/plain": [
       "minibatches processed:    110, loss = 3591.793226\t\n"
      ]
     },
     "execution_count": 30,
     "metadata": {},
     "output_type": "execute_result"
    },
    {
     "data": {
      "text/plain": [
       "minibatches processed:    120, loss = 5104.355401\t\n"
      ]
     },
     "execution_count": 30,
     "metadata": {},
     "output_type": "execute_result"
    },
    {
     "data": {
      "text/plain": [
       "minibatches processed:    130, loss = 2025.724121\t\n"
      ]
     },
     "execution_count": 30,
     "metadata": {},
     "output_type": "execute_result"
    },
    {
     "data": {
      "text/plain": [
       "minibatches processed:    140, loss = 4129.725431\t\n"
      ]
     },
     "execution_count": 30,
     "metadata": {},
     "output_type": "execute_result"
    },
    {
     "data": {
      "text/plain": [
       "minibatches processed:    150, loss = 3083.249304\t\n"
      ]
     },
     "execution_count": 30,
     "metadata": {},
     "output_type": "execute_result"
    },
    {
     "data": {
      "text/plain": [
       "minibatches processed:    160, loss = 1778.064072\t\n"
      ]
     },
     "execution_count": 30,
     "metadata": {},
     "output_type": "execute_result"
    },
    {
     "data": {
      "text/plain": [
       "minibatches processed:    170, loss = 3469.608857\t\n"
      ]
     },
     "execution_count": 30,
     "metadata": {},
     "output_type": "execute_result"
    },
    {
     "data": {
      "text/plain": [
       "minibatches processed:    180, loss = 2821.958241\t\n"
      ]
     },
     "execution_count": 30,
     "metadata": {},
     "output_type": "execute_result"
    },
    {
     "data": {
      "text/plain": [
       "minibatches processed:    190, loss = 1301.971760\t\n"
      ]
     },
     "execution_count": 30,
     "metadata": {},
     "output_type": "execute_result"
    },
    {
     "data": {
      "text/plain": [
       "minibatches processed:    200, loss = 1954.507804\t\n"
      ]
     },
     "execution_count": 30,
     "metadata": {},
     "output_type": "execute_result"
    },
    {
     "data": {
      "text/plain": [
       "minibatches processed:    210, loss = 1520.214161\t\n"
      ]
     },
     "execution_count": 30,
     "metadata": {},
     "output_type": "execute_result"
    },
    {
     "data": {
      "text/plain": [
       "minibatches processed:    220, loss = 1619.686990\t\n"
      ]
     },
     "execution_count": 30,
     "metadata": {},
     "output_type": "execute_result"
    },
    {
     "data": {
      "text/plain": [
       "minibatches processed:    230, loss = 1542.321124\t\n"
      ]
     },
     "execution_count": 30,
     "metadata": {},
     "output_type": "execute_result"
    },
    {
     "data": {
      "text/plain": [
       "minibatches processed:    240, loss = 3552.770369\t\n"
      ]
     },
     "execution_count": 30,
     "metadata": {},
     "output_type": "execute_result"
    },
    {
     "data": {
      "text/plain": [
       "minibatches processed:    250, loss = 3273.120457\t\n"
      ]
     },
     "execution_count": 30,
     "metadata": {},
     "output_type": "execute_result"
    },
    {
     "data": {
      "text/plain": [
       "minibatches processed:    260, loss = 947.610213\t\n"
      ]
     },
     "execution_count": 30,
     "metadata": {},
     "output_type": "execute_result"
    },
    {
     "data": {
      "text/plain": [
       "minibatches processed:    270, loss = 1518.981850\t\n"
      ]
     },
     "execution_count": 30,
     "metadata": {},
     "output_type": "execute_result"
    },
    {
     "data": {
      "text/plain": [
       "minibatches processed:    280, loss = 5390.339943\t\n"
      ]
     },
     "execution_count": 30,
     "metadata": {},
     "output_type": "execute_result"
    },
    {
     "data": {
      "text/plain": [
       "minibatches processed:    290, loss = 2007.822824\t\n"
      ]
     },
     "execution_count": 30,
     "metadata": {},
     "output_type": "execute_result"
    },
    {
     "data": {
      "text/plain": [
       "minibatches processed:    300, loss = 2208.006614\t\n"
      ]
     },
     "execution_count": 30,
     "metadata": {},
     "output_type": "execute_result"
    },
    {
     "data": {
      "text/plain": [
       "minibatches processed:    310, loss = 1484.122360\t\n"
      ]
     },
     "execution_count": 30,
     "metadata": {},
     "output_type": "execute_result"
    },
    {
     "data": {
      "text/plain": [
       "minibatches processed:    320, loss = 891.493785\t\n"
      ]
     },
     "execution_count": 30,
     "metadata": {},
     "output_type": "execute_result"
    },
    {
     "data": {
      "text/plain": [
       "0\t\n",
       "\n"
      ]
     },
     "execution_count": 30,
     "metadata": {},
     "output_type": "execute_result"
    }
   ],
   "source": [
    "dofile('digitClassifier.lua')"
   ]
  },
  {
   "cell_type": "code",
   "execution_count": null,
   "metadata": {
    "collapsed": false
   },
   "outputs": [
    {
     "data": {
      "text/plain": [
       "<mnist> loading only 8000 examples\t\n",
       "<mnist> done\t\n"
      ]
     },
     "execution_count": 31,
     "metadata": {},
     "output_type": "execute_result"
    },
    {
     "data": {
      "text/plain": [
       "--------------------------------\t\n",
       " loaded dataset \"train\"\t\n",
       "inputs\t"
      ]
     },
     "execution_count": 31,
     "metadata": {},
     "output_type": "execute_result"
    },
    {
     "data": {
      "text/plain": [
       " 8000\n",
       " 1024\n",
       "[torch.LongStorage of size 2]\n",
       "\n",
       "targets\t 8000\n",
       "[torch.LongStorage of size 1]\n",
       "\n",
       "--------------------------------\t\n"
      ]
     },
     "execution_count": 31,
     "metadata": {},
     "output_type": "execute_result"
    },
    {
     "data": {
      "text/plain": [
       "<mnist> done\t\n"
      ]
     },
     "execution_count": 31,
     "metadata": {},
     "output_type": "execute_result"
    },
    {
     "data": {
      "text/plain": [
       "--------------------------------\t\n",
       " loaded dataset \"test\"\t\n",
       "inputs\t 10000\n",
       "  1024\n",
       "[torch.LongStorage of size 2]\n",
       "\n",
       "targets\t 10000\n",
       "[torch.LongStorage of size 1]\n",
       "\n",
       "--------------------------------\t\n",
       "10\t\n",
       "1\t\n"
      ]
     },
     "execution_count": 31,
     "metadata": {},
     "output_type": "execute_result"
    },
    {
     "data": {
      "text/plain": [
       "minibatches processed:     10, loss = 19515.460770\t\n"
      ]
     },
     "execution_count": 31,
     "metadata": {},
     "output_type": "execute_result"
    },
    {
     "data": {
      "text/plain": [
       "minibatches processed:     20, loss = 4609.382780\t\n"
      ]
     },
     "execution_count": 31,
     "metadata": {},
     "output_type": "execute_result"
    },
    {
     "data": {
      "text/plain": [
       "minibatches processed:     30, loss = 1723.948079\t\n"
      ]
     },
     "execution_count": 31,
     "metadata": {},
     "output_type": "execute_result"
    },
    {
     "data": {
      "text/plain": [
       "minibatches processed:     40, loss = 36054.130211\t\n"
      ]
     },
     "execution_count": 31,
     "metadata": {},
     "output_type": "execute_result"
    },
    {
     "data": {
      "text/plain": [
       "minibatches processed:     50, loss = 28738.028348\t\n"
      ]
     },
     "execution_count": 31,
     "metadata": {},
     "output_type": "execute_result"
    },
    {
     "data": {
      "text/plain": [
       "minibatches processed:     60, loss = 34222.035611\t\n"
      ]
     },
     "execution_count": 31,
     "metadata": {},
     "output_type": "execute_result"
    },
    {
     "data": {
      "text/plain": [
       "minibatches processed:     70, loss = 15239.467230\t"
      ]
     },
     "execution_count": 31,
     "metadata": {},
     "output_type": "execute_result"
    },
    {
     "data": {
      "text/plain": [
       "\n"
      ]
     },
     "execution_count": 31,
     "metadata": {},
     "output_type": "execute_result"
    },
    {
     "data": {
      "text/plain": [
       "minibatches processed:     80, loss = 7750.742995\t\n"
      ]
     },
     "execution_count": 31,
     "metadata": {},
     "output_type": "execute_result"
    },
    {
     "data": {
      "text/plain": [
       "minibatches processed:     90, loss = 4561.528678\t\n"
      ]
     },
     "execution_count": 31,
     "metadata": {},
     "output_type": "execute_result"
    },
    {
     "data": {
      "text/plain": [
       "minibatches processed:    100, loss = 15162.008256\t\n"
      ]
     },
     "execution_count": 31,
     "metadata": {},
     "output_type": "execute_result"
    },
    {
     "data": {
      "text/plain": [
       "minibatches processed:    110, loss = 1719.867827\t\n"
      ]
     },
     "execution_count": 31,
     "metadata": {},
     "output_type": "execute_result"
    },
    {
     "data": {
      "text/plain": [
       "minibatches processed:    120, loss = 2372.193743\t\n"
      ]
     },
     "execution_count": 31,
     "metadata": {},
     "output_type": "execute_result"
    },
    {
     "data": {
      "text/plain": [
       "minibatches processed:    130, loss = 3864.464717\t\n"
      ]
     },
     "execution_count": 31,
     "metadata": {},
     "output_type": "execute_result"
    },
    {
     "data": {
      "text/plain": [
       "minibatches processed:    140, loss = 2570.045560\t\n"
      ]
     },
     "execution_count": 31,
     "metadata": {},
     "output_type": "execute_result"
    },
    {
     "data": {
      "text/plain": [
       "minibatches processed:    150, loss = 3176.841415\t\n"
      ]
     },
     "execution_count": 31,
     "metadata": {},
     "output_type": "execute_result"
    },
    {
     "data": {
      "text/plain": [
       "minibatches processed:    160, loss = 3418.788444\t\n"
      ]
     },
     "execution_count": 31,
     "metadata": {},
     "output_type": "execute_result"
    },
    {
     "data": {
      "text/plain": [
       "minibatches processed:    170, loss = 2116.058345\t\n"
      ]
     },
     "execution_count": 31,
     "metadata": {},
     "output_type": "execute_result"
    },
    {
     "data": {
      "text/plain": [
       "minibatches processed:    180, loss = 2017.455630\t\n"
      ]
     },
     "execution_count": 31,
     "metadata": {},
     "output_type": "execute_result"
    },
    {
     "data": {
      "text/plain": [
       "minibatches processed:    190, loss = 1363.331269\t\n"
      ]
     },
     "execution_count": 31,
     "metadata": {},
     "output_type": "execute_result"
    },
    {
     "data": {
      "text/plain": [
       "minibatches processed:    200, loss = 1990.005972\t\n"
      ]
     },
     "execution_count": 31,
     "metadata": {},
     "output_type": "execute_result"
    },
    {
     "data": {
      "text/plain": [
       "minibatches processed:    210, loss = 3613.742505\t\n"
      ]
     },
     "execution_count": 31,
     "metadata": {},
     "output_type": "execute_result"
    },
    {
     "data": {
      "text/plain": [
       "minibatches processed:    220, loss = 2563.204607\t\n"
      ]
     },
     "execution_count": 31,
     "metadata": {},
     "output_type": "execute_result"
    },
    {
     "data": {
      "text/plain": [
       "minibatches processed:    230, loss = 3122.424259\t\n"
      ]
     },
     "execution_count": 31,
     "metadata": {},
     "output_type": "execute_result"
    },
    {
     "data": {
      "text/plain": [
       "minibatches processed:    240, loss = 3399.531922\t\n"
      ]
     },
     "execution_count": 31,
     "metadata": {},
     "output_type": "execute_result"
    },
    {
     "data": {
      "text/plain": [
       "minibatches processed:    250, loss = 2103.367208\t\n"
      ]
     },
     "execution_count": 31,
     "metadata": {},
     "output_type": "execute_result"
    },
    {
     "data": {
      "text/plain": [
       "minibatches processed:    260, loss = 2002.803927\t\n"
      ]
     },
     "execution_count": 31,
     "metadata": {},
     "output_type": "execute_result"
    },
    {
     "data": {
      "text/plain": [
       "minibatches processed:    270, loss = 1346.441484\t\n"
      ]
     },
     "execution_count": 31,
     "metadata": {},
     "output_type": "execute_result"
    },
    {
     "data": {
      "text/plain": [
       "minibatches processed:    280, loss = 1977.914404\t\n"
      ]
     },
     "execution_count": 31,
     "metadata": {},
     "output_type": "execute_result"
    },
    {
     "data": {
      "text/plain": [
       "minibatches processed:    290, loss = 3612.052490\t\n"
      ]
     },
     "execution_count": 31,
     "metadata": {},
     "output_type": "execute_result"
    },
    {
     "data": {
      "text/plain": [
       "minibatches processed:    300, loss = 2562.955373\t\n"
      ]
     },
     "execution_count": 31,
     "metadata": {},
     "output_type": "execute_result"
    }
   ],
   "source": [
    "dofile('digitClassifier.lua')"
   ]
  },
  {
   "cell_type": "code",
   "execution_count": null,
   "metadata": {
    "collapsed": true
   },
   "outputs": [],
   "source": []
  }
 ],
 "metadata": {
  "kernelspec": {
   "display_name": "iTorch",
   "language": "lua",
   "name": "itorch"
  },
  "language_info": {
   "name": "lua",
   "version": "5.1"
  }
 },
 "nbformat": 4,
 "nbformat_minor": 0
}
